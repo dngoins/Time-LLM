{
  "cells": [
    {
      "cell_type": "markdown",
      "metadata": {
        "id": "view-in-github",
        "colab_type": "text"
      },
      "source": [
        "<a href=\"https://colab.research.google.com/github/dngoins/Time-LLM/blob/main/TimeLLM_ETTh1.ipynb\" target=\"_parent\"><img src=\"https://colab.research.google.com/assets/colab-badge.svg\" alt=\"Open In Colab\"/></a>"
      ]
    },
    {
      "cell_type": "code",
      "execution_count": null,
      "metadata": {
        "colab": {
          "base_uri": "https://localhost:8080/"
        },
        "id": "sO4ptni6iiZI",
        "outputId": "461b7ad7-d29d-459e-e173-62a0b1fdc5c8"
      },
      "outputs": [
        {
          "output_type": "stream",
          "name": "stdout",
          "text": [
            "Requirement already satisfied: pandas in /usr/local/lib/python3.11/dist-packages (2.2.2)\n",
            "Requirement already satisfied: scikit_learn in /usr/local/lib/python3.11/dist-packages (1.6.1)\n",
            "Requirement already satisfied: scipy in /usr/local/lib/python3.11/dist-packages (1.13.1)\n",
            "Requirement already satisfied: tqdm in /usr/local/lib/python3.11/dist-packages (4.67.1)\n",
            "Requirement already satisfied: numpy>=1.23.2 in /usr/local/lib/python3.11/dist-packages (from pandas) (1.26.4)\n",
            "Requirement already satisfied: python-dateutil>=2.8.2 in /usr/local/lib/python3.11/dist-packages (from pandas) (2.8.2)\n",
            "Requirement already satisfied: pytz>=2020.1 in /usr/local/lib/python3.11/dist-packages (from pandas) (2025.1)\n",
            "Requirement already satisfied: tzdata>=2022.7 in /usr/local/lib/python3.11/dist-packages (from pandas) (2025.1)\n",
            "Requirement already satisfied: joblib>=1.2.0 in /usr/local/lib/python3.11/dist-packages (from scikit_learn) (1.4.2)\n",
            "Requirement already satisfied: threadpoolctl>=3.1.0 in /usr/local/lib/python3.11/dist-packages (from scikit_learn) (3.5.0)\n",
            "Requirement already satisfied: six>=1.5 in /usr/local/lib/python3.11/dist-packages (from python-dateutil>=2.8.2->pandas) (1.17.0)\n",
            "Collecting mpi4py\n",
            "  Downloading mpi4py-4.0.3.tar.gz (466 kB)\n",
            "\u001b[2K     \u001b[90m━━━━━━━━━━━━━━━━━━━━━━━━━━━━━━━━━━━━━━━━\u001b[0m \u001b[32m466.3/466.3 kB\u001b[0m \u001b[31m25.7 MB/s\u001b[0m eta \u001b[36m0:00:00\u001b[0m\n",
            "\u001b[?25h  Installing build dependencies ... \u001b[?25l\u001b[?25hdone\n",
            "  Getting requirements to build wheel ... \u001b[?25l\u001b[?25hdone\n",
            "  Installing backend dependencies ... \u001b[?25l\u001b[?25hdone\n",
            "  Preparing metadata (pyproject.toml) ... \u001b[?25l\u001b[?25hdone\n",
            "Building wheels for collected packages: mpi4py\n",
            "  Building wheel for mpi4py (pyproject.toml) ... \u001b[?25l\u001b[?25hdone\n",
            "  Created wheel for mpi4py: filename=mpi4py-4.0.3-cp311-cp311-linux_x86_64.whl size=4458236 sha256=8de8a10fbb31cebdde3c1a3e20c133a3e21fe84de7177ceedc3a924d742ea4b8\n",
            "  Stored in directory: /root/.cache/pip/wheels/5c/56/17/bf6ba37aa971a191a8b9eaa188bf5ec855b8911c1c56fb1f84\n",
            "Successfully built mpi4py\n",
            "Installing collected packages: mpi4py\n",
            "Successfully installed mpi4py-4.0.3\n"
          ]
        }
      ],
      "source": [
        "# requires libuvc\n",
        "# pip3 install torch torchvision torchaudio --index-url https://download.pytorch.org/whl/cu126\n",
        "\n",
        "\n",
        " # use this instead\n",
        " #pip3 install torch==2.3.0 torchvision==0.18.0 torchaudio==2.3.0 --index-url https://download.pytorch.org/whl/cu118\n",
        "\n",
        "# first install pytorch with command above\n",
        "# this worked with python version 3.12.5\n",
        "\n",
        "# so far only working on a Linux box\n",
        "# use pip3 install -r requirements.txt to install all dependencies\n",
        "!pip3 install torch>=2.3.0 torchvision>=0.18.0 torchaudio>=2.3.0\n",
        "\n",
        "!pip3 install accelerate==0.28.0 einops>=0.7.0 matplotlib>=3.7.0 numpy\n",
        "!pip3 install pandas scikit_learn scipy tqdm\n",
        "!pip3 install peft>=0.4.0 transformers deepspeed\n",
        "!pip3 install sentencepiece>=0.2.0 setuptools\n",
        "!pip3 install mpi4py\n",
        "!pip install azure-storage-blob azure-identity\n"
      ]
    },
    {
      "cell_type": "code",
      "source": [
        "!pip install --upgrade accelerate"
      ],
      "metadata": {
        "colab": {
          "base_uri": "https://localhost:8080/"
        },
        "id": "pcqySE5cM6G9",
        "outputId": "a890cbd8-3913-4c72-c1c1-6597ef3f5069"
      },
      "execution_count": null,
      "outputs": [
        {
          "output_type": "stream",
          "name": "stdout",
          "text": [
            "Requirement already satisfied: accelerate in /usr/local/lib/python3.11/dist-packages (0.28.0)\n",
            "Collecting accelerate\n",
            "  Downloading accelerate-1.4.0-py3-none-any.whl.metadata (19 kB)\n",
            "Requirement already satisfied: numpy<3.0.0,>=1.17 in /usr/local/lib/python3.11/dist-packages (from accelerate) (1.26.4)\n",
            "Requirement already satisfied: packaging>=20.0 in /usr/local/lib/python3.11/dist-packages (from accelerate) (24.2)\n",
            "Requirement already satisfied: psutil in /usr/local/lib/python3.11/dist-packages (from accelerate) (5.9.5)\n",
            "Requirement already satisfied: pyyaml in /usr/local/lib/python3.11/dist-packages (from accelerate) (6.0.2)\n",
            "Requirement already satisfied: torch>=2.0.0 in /usr/local/lib/python3.11/dist-packages (from accelerate) (2.5.1+cu124)\n",
            "Requirement already satisfied: huggingface-hub>=0.21.0 in /usr/local/lib/python3.11/dist-packages (from accelerate) (0.28.1)\n",
            "Requirement already satisfied: safetensors>=0.4.3 in /usr/local/lib/python3.11/dist-packages (from accelerate) (0.5.3)\n",
            "Requirement already satisfied: filelock in /usr/local/lib/python3.11/dist-packages (from huggingface-hub>=0.21.0->accelerate) (3.17.0)\n",
            "Requirement already satisfied: fsspec>=2023.5.0 in /usr/local/lib/python3.11/dist-packages (from huggingface-hub>=0.21.0->accelerate) (2024.10.0)\n",
            "Requirement already satisfied: requests in /usr/local/lib/python3.11/dist-packages (from huggingface-hub>=0.21.0->accelerate) (2.32.3)\n",
            "Requirement already satisfied: tqdm>=4.42.1 in /usr/local/lib/python3.11/dist-packages (from huggingface-hub>=0.21.0->accelerate) (4.67.1)\n",
            "Requirement already satisfied: typing-extensions>=3.7.4.3 in /usr/local/lib/python3.11/dist-packages (from huggingface-hub>=0.21.0->accelerate) (4.12.2)\n",
            "Requirement already satisfied: networkx in /usr/local/lib/python3.11/dist-packages (from torch>=2.0.0->accelerate) (3.4.2)\n",
            "Requirement already satisfied: jinja2 in /usr/local/lib/python3.11/dist-packages (from torch>=2.0.0->accelerate) (3.1.5)\n",
            "Requirement already satisfied: nvidia-cuda-nvrtc-cu12==12.4.127 in /usr/local/lib/python3.11/dist-packages (from torch>=2.0.0->accelerate) (12.4.127)\n",
            "Requirement already satisfied: nvidia-cuda-runtime-cu12==12.4.127 in /usr/local/lib/python3.11/dist-packages (from torch>=2.0.0->accelerate) (12.4.127)\n",
            "Requirement already satisfied: nvidia-cuda-cupti-cu12==12.4.127 in /usr/local/lib/python3.11/dist-packages (from torch>=2.0.0->accelerate) (12.4.127)\n",
            "Requirement already satisfied: nvidia-cudnn-cu12==9.1.0.70 in /usr/local/lib/python3.11/dist-packages (from torch>=2.0.0->accelerate) (9.1.0.70)\n",
            "Requirement already satisfied: nvidia-cublas-cu12==12.4.5.8 in /usr/local/lib/python3.11/dist-packages (from torch>=2.0.0->accelerate) (12.4.5.8)\n",
            "Requirement already satisfied: nvidia-cufft-cu12==11.2.1.3 in /usr/local/lib/python3.11/dist-packages (from torch>=2.0.0->accelerate) (11.2.1.3)\n",
            "Requirement already satisfied: nvidia-curand-cu12==10.3.5.147 in /usr/local/lib/python3.11/dist-packages (from torch>=2.0.0->accelerate) (10.3.5.147)\n",
            "Requirement already satisfied: nvidia-cusolver-cu12==11.6.1.9 in /usr/local/lib/python3.11/dist-packages (from torch>=2.0.0->accelerate) (11.6.1.9)\n",
            "Requirement already satisfied: nvidia-cusparse-cu12==12.3.1.170 in /usr/local/lib/python3.11/dist-packages (from torch>=2.0.0->accelerate) (12.3.1.170)\n",
            "Requirement already satisfied: nvidia-nccl-cu12==2.21.5 in /usr/local/lib/python3.11/dist-packages (from torch>=2.0.0->accelerate) (2.21.5)\n",
            "Requirement already satisfied: nvidia-nvtx-cu12==12.4.127 in /usr/local/lib/python3.11/dist-packages (from torch>=2.0.0->accelerate) (12.4.127)\n",
            "Requirement already satisfied: nvidia-nvjitlink-cu12==12.4.127 in /usr/local/lib/python3.11/dist-packages (from torch>=2.0.0->accelerate) (12.4.127)\n",
            "Requirement already satisfied: triton==3.1.0 in /usr/local/lib/python3.11/dist-packages (from torch>=2.0.0->accelerate) (3.1.0)\n",
            "Requirement already satisfied: sympy==1.13.1 in /usr/local/lib/python3.11/dist-packages (from torch>=2.0.0->accelerate) (1.13.1)\n",
            "Requirement already satisfied: mpmath<1.4,>=1.1.0 in /usr/local/lib/python3.11/dist-packages (from sympy==1.13.1->torch>=2.0.0->accelerate) (1.3.0)\n",
            "Requirement already satisfied: MarkupSafe>=2.0 in /usr/local/lib/python3.11/dist-packages (from jinja2->torch>=2.0.0->accelerate) (3.0.2)\n",
            "Requirement already satisfied: charset-normalizer<4,>=2 in /usr/local/lib/python3.11/dist-packages (from requests->huggingface-hub>=0.21.0->accelerate) (3.4.1)\n",
            "Requirement already satisfied: idna<4,>=2.5 in /usr/local/lib/python3.11/dist-packages (from requests->huggingface-hub>=0.21.0->accelerate) (3.10)\n",
            "Requirement already satisfied: urllib3<3,>=1.21.1 in /usr/local/lib/python3.11/dist-packages (from requests->huggingface-hub>=0.21.0->accelerate) (2.3.0)\n",
            "Requirement already satisfied: certifi>=2017.4.17 in /usr/local/lib/python3.11/dist-packages (from requests->huggingface-hub>=0.21.0->accelerate) (2025.1.31)\n",
            "Downloading accelerate-1.4.0-py3-none-any.whl (342 kB)\n",
            "\u001b[2K   \u001b[90m━━━━━━━━━━━━━━━━━━━━━━━━━━━━━━━━━━━━━━━━\u001b[0m \u001b[32m342.1/342.1 kB\u001b[0m \u001b[31m21.6 MB/s\u001b[0m eta \u001b[36m0:00:00\u001b[0m\n",
            "\u001b[?25hInstalling collected packages: accelerate\n",
            "  Attempting uninstall: accelerate\n",
            "    Found existing installation: accelerate 0.28.0\n",
            "    Uninstalling accelerate-0.28.0:\n",
            "      Successfully uninstalled accelerate-0.28.0\n",
            "Successfully installed accelerate-1.4.0\n"
          ]
        }
      ]
    },
    {
      "cell_type": "code",
      "execution_count": null,
      "metadata": {
        "id": "9-gQF1msoAYk"
      },
      "outputs": [],
      "source": [
        "from google.colab import userdata\n",
        "\n",
        "# Set your Azure Storage connection string as a secret\n",
        "# This needs to be done in Colab's UI under \"Secrets\" tab\n",
        "#connection_string = \"\"\"DefaultEndpointsProtocol=https;AccountName=;AccountKey=;EndpointSuffix=core.windows.net\"\"\"\n",
        "\n",
        "userdata.set('AZURE_STORAGE_CONNECTION_STRING', connection_string)"
      ]
    },
    {
      "cell_type": "code",
      "execution_count": null,
      "metadata": {
        "id": "FpdvPOMujsDt"
      },
      "outputs": [],
      "source": [
        "\n",
        "# Array math\n",
        "import numpy as np\n",
        "\n",
        "# Iteration tracking\n",
        "from tqdm import tqdm\n",
        "\n",
        "# Type hinting\n",
        "from typing import Tuple\n",
        "\n",
        "# Os traversal\n",
        "import os\n",
        "\n",
        "import numpy as np\n",
        "import random\n",
        "\n",
        "import matplotlib\n",
        "import matplotlib.pyplot as plt\n",
        "import seaborn as sns\n",
        "from matplotlib.animation import FuncAnimation\n",
        "from google.colab import drive\n",
        "from google.colab import files\n",
        "import io\n",
        "from IPython.display import display, Image\n",
        "from datetime import datetime  # Import datetime module\n",
        "import time\n",
        "import pandas as pd\n",
        "\n",
        "import matplotlib.animation as animation\n",
        "from matplotlib.patches import FancyArrowPatch\n",
        "\n",
        "from sklearn.preprocessing import MinMaxScaler\n",
        "\n",
        "import argparse\n",
        "import torch\n",
        "from accelerate import Accelerator, DeepSpeedPlugin\n",
        "from accelerate import DistributedDataParallelKwargs\n",
        "from torch import nn, optim\n",
        "from torch.optim import lr_scheduler\n",
        "from tqdm import tqdm\n",
        "\n",
        "import json\n"
      ]
    },
    {
      "cell_type": "code",
      "execution_count": null,
      "metadata": {
        "colab": {
          "base_uri": "https://localhost:8080/"
        },
        "id": "1q6PyWetj1CB",
        "outputId": "99616e37-83d8-4950-b281-31845752a370"
      },
      "outputs": [
        {
          "output_type": "stream",
          "name": "stdout",
          "text": [
            "Drive already mounted at /content/gdrive; to attempt to forcibly remount, call drive.mount(\"/content/gdrive\", force_remount=True).\n",
            "/content/gdrive/MyDrive/TimeLLM\n"
          ]
        }
      ],
      "source": [
        "# Mounting G-Drive for saving files.\n",
        "drive.mount('/content/gdrive')\n",
        "timeLLM_path = '/content/gdrive/MyDrive/TimeLLM'\n",
        "\n",
        "%cd {timeLLM_path}\n"
      ]
    },
    {
      "cell_type": "code",
      "execution_count": null,
      "metadata": {
        "id": "swej4-X5TrgR"
      },
      "outputs": [],
      "source": [
        "from math import sqrt\n",
        "\n",
        "\n",
        "from accelerate import Accelerator, DeepSpeedPlugin\n",
        "from accelerate import DistributedDataParallelKwargs\n",
        "from torch import nn, optim\n",
        "from torch.optim import lr_scheduler\n",
        "from tqdm import tqdm\n",
        "\n",
        "import json\n",
        "import torch\n",
        "import torch.nn as nn\n",
        "\n",
        "from transformers import LlamaConfig, LlamaModel, LlamaTokenizer, GPT2Config, GPT2Model, GPT2Tokenizer, BertConfig, BertModel, BertTokenizer\n",
        "\n",
        "from layers.Embed import PatchEmbedding\n",
        "import transformers\n",
        "\n",
        "from layers.StandardNorm import Normalize\n",
        "\n",
        "from models import Autoformer, DLinear\n",
        "from transformers import LlamaTokenizer, LlamaModel\n",
        "\n",
        "from data_provider.data_factory import data_provider\n",
        "import time\n",
        "import random\n",
        "import numpy as np\n",
        "import os\n",
        "\n",
        "os.environ['CURL_CA_BUNDLE'] = ''\n",
        "os.environ[\"PYTORCH_CUDA_ALLOC_CONF\"] = \"max_split_size_mb:64\"\n",
        "\n",
        "from utils.tools import del_files, EarlyStopping, adjust_learning_rate, vali, load_content\n",
        "\n",
        "transformers.logging.set_verbosity_error()\n",
        "\n",
        "\n",
        "class FlattenHead(nn.Module):\n",
        "    def __init__(self, n_vars, nf, target_window, head_dropout=0):\n",
        "        super().__init__()\n",
        "        self.n_vars = n_vars\n",
        "        self.flatten = nn.Flatten(start_dim=-2)\n",
        "        self.linear = nn.Linear(nf, target_window)\n",
        "        self.dropout = nn.Dropout(head_dropout)\n",
        "\n",
        "    def forward(self, x):\n",
        "        x = self.flatten(x)\n",
        "        x = self.linear(x)\n",
        "        x = self.dropout(x)\n",
        "        return x\n",
        "\n",
        "\n",
        "class TimeLLM(nn.Module):\n",
        "\n",
        "    def __init__(self, configs, patch_len=16, stride=8):\n",
        "        super(TimeLLM, self).__init__()\n",
        "\n",
        "        print('TimeLLM init')\n",
        "        self.task_name = configs.task_name\n",
        "        self.pred_len = configs.pred_len\n",
        "        self.seq_len = configs.seq_len\n",
        "        self.d_ff = configs.d_ff\n",
        "        self.top_k = 5\n",
        "        self.d_llm = configs.llm_dim\n",
        "        self.patch_len = configs.patch_len\n",
        "        self.stride = configs.stride\n",
        "\n",
        "        if configs.llm_model == 'LLAMA':\n",
        "            # self.llama_config = LlamaConfig.from_pretrained('/mnt/alps/modelhub/pretrained_model/LLaMA/7B_hf/')\n",
        "            self.llama_config = LlamaConfig.from_pretrained('huggyllama/llama-7b')\n",
        "            self.llama_config.num_hidden_layers = configs.llm_layers\n",
        "            self.llama_config.output_attentions = True\n",
        "            self.llama_config.output_hidden_states = True\n",
        "\n",
        "            print('TimeLLM- LLAMA')\n",
        "            try:\n",
        "                # self.llm_model = LlamaModel.from_pretrained(\n",
        "                #     # \"/mnt/alps/modelhub/pretrained_model/LLaMA/7B_hf/\",\n",
        "                #     'huggyllama/llama-7b',\n",
        "                #     trust_remote_code=True,\n",
        "                #     local_files_only=True,\n",
        "                #     config=self.llama_config,\n",
        "                #     use_safetensors=False\n",
        "                #     # load_in_4bit=True\n",
        "                # )\n",
        "                self.llm_model = LlamaModel.from_pretrained(\n",
        "                    # \"/mnt/alps/modelhub/pretrained_model/LLaMA/7B_hf/\",\n",
        "                    'huggyllama/llama-7b',\n",
        "                    trust_remote_code=True,\n",
        "                    # local_files_only=True, # This line is causing the issue\n",
        "                    config=self.llama_config,\n",
        "                    use_safetensors=False\n",
        "                    # load_in_4bit=True\n",
        "                )\n",
        "                print('TimeLLM-model from pretrained')\n",
        "            except EnvironmentError:  # downloads model from HF is not already done\n",
        "                print(\"Local model files not found. Attempting to download...\")\n",
        "                self.llm_model = LlamaModel.from_pretrained(\n",
        "                    # \"/mnt/alps/modelhub/pretrained_model/LLaMA/7B_hf/\",\n",
        "                    'huggyllama/llama-7b',\n",
        "                    trust_remote_code=True,\n",
        "                    # local_files_only=True, # This line is causing the issue\n",
        "                    config=self.llama_config,\n",
        "                    use_safetensors=False\n",
        "                    # load_in_4bit=True\n",
        "                )\n",
        "            try:\n",
        "                self.tokenizer = LlamaTokenizer.from_pretrained(\n",
        "                    # \"/mnt/alps/modelhub/pretrained_model/LLaMA/7B_hf/tokenizer.model\",\n",
        "                    'huggyllama/llama-7b',\n",
        "                    trust_remote_code=True,\n",
        "                    local_files_only=True\n",
        "                )\n",
        "\n",
        "                print('TimeLLM-tokenizer from pretrained')\n",
        "            except EnvironmentError:  # downloads the tokenizer from HF if not already done\n",
        "                print(\"Local tokenizer files not found. Atempting to download them..\")\n",
        "                self.tokenizer = LlamaTokenizer.from_pretrained(\n",
        "                    # \"/mnt/alps/modelhub/pretrained_model/LLaMA/7B_hf/tokenizer.model\",\n",
        "                    'huggyllama/llama-7b',\n",
        "                    trust_remote_code=True,\n",
        "                    local_files_only=False\n",
        "                )\n",
        "        elif configs.llm_model == 'GPT2':\n",
        "            self.gpt2_config = GPT2Config.from_pretrained('openai-community/gpt2')\n",
        "\n",
        "            self.gpt2_config.num_hidden_layers = configs.llm_layers\n",
        "            self.gpt2_config.output_attentions = True\n",
        "            self.gpt2_config.output_hidden_states = True\n",
        "            print('TimeLLM- GPT2')\n",
        "            try:\n",
        "                self.llm_model = GPT2Model.from_pretrained(\n",
        "                    'openai-community/gpt2',\n",
        "                    config=self.gpt2_config,\n",
        "                    trust_remote_code=True,\n",
        "                    # local_files_only=True, # This line is causing the issue\n",
        "                    use_safetensors=False\n",
        "                    # load_in_4bit=True\n",
        "                )\n",
        "            except EnvironmentError:  # downloads model from HF is not already done\n",
        "                print(\"Local model files not found. Attempting to download...\")\n",
        "                self.llm_model = GPT2Model.from_pretrained(\n",
        "                    'openai-community/gpt2',\n",
        "                    config=self.gpt2_config,\n",
        "                    trust_remote_code=True,\n",
        "                    # local_files_only=True, # This line is causing the issue\n",
        "                    use_safetensors=False\n",
        "                    # load_in_4bit=True\n",
        "                )\n",
        "\n",
        "            try:\n",
        "                self.tokenizer = GPT2Tokenizer.from_pretrained(\n",
        "                    'openai-community/gpt2',\n",
        "                    trust_remote_code=True,\n",
        "                    local_files_only=True\n",
        "                )\n",
        "            except EnvironmentError:  # downloads the tokenizer from HF if not already done\n",
        "                print(\"Local tokenizer files not found. Atempting to download them..\")\n",
        "                self.tokenizer = GPT2Tokenizer.from_pretrained(\n",
        "                    'openai-community/gpt2',\n",
        "                    trust_remote_code=True,\n",
        "                    local_files_only=False\n",
        "                )\n",
        "        elif configs.llm_model == 'BERT':\n",
        "            self.bert_config = BertConfig.from_pretrained('google-bert/bert-base-uncased')\n",
        "\n",
        "            self.bert_config.num_hidden_layers = configs.llm_layers\n",
        "            self.bert_config.output_attentions = True\n",
        "            self.bert_config.output_hidden_states = True\n",
        "            print('TimeLLM- BERT')\n",
        "            try:\n",
        "                self.llm_model = BertModel.from_pretrained(\n",
        "                    'google-bert/bert-base-uncased',\n",
        "                    trust_remote_code=True,\n",
        "                    #local_files_only=True,\n",
        "                    config=self.bert_config,\n",
        "                    use_safetensors=False\n",
        "                    # load_in_4bit=True\n",
        "                )\n",
        "            except EnvironmentError:  # downloads model from HF is not already done\n",
        "                print(\"Local model files not found. Attempting to download...\")\n",
        "                self.llm_model = BertModel.from_pretrained(\n",
        "                    'google-bert/bert-base-uncased',\n",
        "                    trust_remote_code=True,\n",
        "                    local_files_only=False,\n",
        "                    config=self.bert_config,\n",
        "                    use_safetensors=False\n",
        "                    # load_in_4bit=True\n",
        "                )\n",
        "\n",
        "            try:\n",
        "                self.tokenizer = BertTokenizer.from_pretrained(\n",
        "                    'google-bert/bert-base-uncased',\n",
        "                    trust_remote_code=True,\n",
        "                    local_files_only=True\n",
        "                )\n",
        "            except EnvironmentError:  # downloads the tokenizer from HF if not already done\n",
        "                print(\"Local tokenizer files not found. Atempting to download them..\")\n",
        "                self.tokenizer = BertTokenizer.from_pretrained(\n",
        "                    'google-bert/bert-base-uncased',\n",
        "                    trust_remote_code=True,\n",
        "                    local_files_only=False\n",
        "                )\n",
        "        else:\n",
        "            raise Exception('LLM model is not defined')\n",
        "\n",
        "        print('TimeLLM- Tokenizer')\n",
        "        if self.tokenizer.eos_token:\n",
        "            self.tokenizer.pad_token = self.tokenizer.eos_token\n",
        "        else:\n",
        "            pad_token = '[PAD]'\n",
        "            self.tokenizer.add_special_tokens({'pad_token': pad_token})\n",
        "            self.tokenizer.pad_token = pad_token\n",
        "\n",
        "        for param in self.llm_model.parameters():\n",
        "            param.requires_grad = False\n",
        "\n",
        "        if configs.prompt_domain:\n",
        "            self.description = configs.content\n",
        "        else:\n",
        "            self.description = 'The Electricity Transformer Temperature (ETT) is a crucial indicator in the electric power long-term deployment.'\n",
        "\n",
        "        print(f'TimeLLM-description:\\n***************\\n{self.description}\\n***************\\n')\n",
        "        self.dropout = nn.Dropout(configs.dropout)\n",
        "\n",
        "        self.patch_embedding = PatchEmbedding(\n",
        "            configs.d_model, self.patch_len, self.stride, configs.dropout)\n",
        "\n",
        "        self.word_embeddings = self.llm_model.get_input_embeddings().weight\n",
        "        self.vocab_size = self.word_embeddings.shape[0]\n",
        "        self.num_tokens = 1000\n",
        "        self.mapping_layer = nn.Linear(self.vocab_size, self.num_tokens)\n",
        "\n",
        "        print('Reprogramming Layer')\n",
        "        self.reprogramming_layer = ReprogrammingLayer(configs.d_model, configs.n_heads, self.d_ff, self.d_llm)\n",
        "\n",
        "        self.patch_nums = int((configs.seq_len - self.patch_len) / self.stride + 2)\n",
        "        self.head_nf = self.d_ff * self.patch_nums\n",
        "\n",
        "        if self.task_name == 'long_term_forecast' or self.task_name == 'short_term_forecast':\n",
        "            self.output_projection = FlattenHead(configs.enc_in, self.head_nf, self.pred_len,\n",
        "                                                 head_dropout=configs.dropout)\n",
        "            print(f'TimeLLM-output_projection:\\n***************\\n{self.output_projection}\\n***************\\n')\n",
        "        else:\n",
        "            raise NotImplementedError\n",
        "\n",
        "        self.normalize_layers = Normalize(configs.enc_in, affine=False)\n",
        "\n",
        "    def forward(self, x_enc, x_mark_enc, x_dec, x_mark_dec, mask=None):\n",
        "        if self.task_name == 'long_term_forecast' or self.task_name == 'short_term_forecast':\n",
        "            dec_out = self.forecast(x_enc, x_mark_enc, x_dec, x_mark_dec)\n",
        "            return dec_out[:, -self.pred_len:, :]\n",
        "        return None\n",
        "\n",
        "    def forecast(self, x_enc, x_mark_enc, x_dec, x_mark_dec):\n",
        "\n",
        "        x_enc = self.normalize_layers(x_enc, 'norm')\n",
        "\n",
        "        B, T, N = x_enc.size()\n",
        "        x_enc = x_enc.permute(0, 2, 1).contiguous().reshape(B * N, T, 1)\n",
        "\n",
        "        min_values = torch.min(x_enc, dim=1)[0]\n",
        "        max_values = torch.max(x_enc, dim=1)[0]\n",
        "        medians = torch.median(x_enc, dim=1).values\n",
        "        lags = self.calcute_lags(x_enc)\n",
        "        trends = x_enc.diff(dim=1).sum(dim=1)\n",
        "\n",
        "        prompt = []\n",
        "        for b in range(x_enc.shape[0]):\n",
        "            min_values_str = str(min_values[b].tolist()[0])\n",
        "            max_values_str = str(max_values[b].tolist()[0])\n",
        "            median_values_str = str(medians[b].tolist()[0])\n",
        "            lags_values_str = str(lags[b].tolist())\n",
        "            prompt_ = (\n",
        "                f\"<|start_prompt|>Dataset description: {self.description}\"\n",
        "                f\"Task description: forecast the next {str(self.pred_len)} steps given the previous {str(self.seq_len)} steps information; \"\n",
        "                \"Input statistics: \"\n",
        "                f\"min value {min_values_str}, \"\n",
        "                f\"max value {max_values_str}, \"\n",
        "                f\"median value {median_values_str}, \"\n",
        "                f\"the trend of input is {'upward' if trends[b] > 0 else 'downward'}, \"\n",
        "                f\"top 5 lags are : {lags_values_str}<|<end_prompt>|>\"\n",
        "            )\n",
        "\n",
        "            prompt.append(prompt_)\n",
        "\n",
        "        x_enc = x_enc.reshape(B, N, T).permute(0, 2, 1).contiguous()\n",
        "        #print(f'*********\\nPrompt:\\n{prompt}\\n**************\\n')\n",
        "\n",
        "        prompt = self.tokenizer(prompt, return_tensors=\"pt\", padding=True, truncation=True, max_length=2048).input_ids\n",
        "\n",
        "        #print(f'*********\\nPrompt-Tokenized:\\n{prompt}\\n**************\\n')\n",
        "        prompt_embeddings = self.llm_model.get_input_embeddings()(prompt.to(x_enc.device))  # (batch, prompt_token, dim)\n",
        "\n",
        "        source_embeddings = self.mapping_layer(self.word_embeddings.permute(1, 0)).permute(1, 0)\n",
        "\n",
        "        x_enc = x_enc.permute(0, 2, 1).contiguous()\n",
        "        enc_out, n_vars = self.patch_embedding(x_enc.to(torch.bfloat16))\n",
        "        enc_out = self.reprogramming_layer(enc_out, source_embeddings, source_embeddings)\n",
        "        llama_enc_out = torch.cat([prompt_embeddings, enc_out], dim=1)\n",
        "        dec_out = self.llm_model(inputs_embeds=llama_enc_out).last_hidden_state\n",
        "        dec_out = dec_out[:, :, :self.d_ff]\n",
        "\n",
        "        dec_out = torch.reshape(\n",
        "            dec_out, (-1, n_vars, dec_out.shape[-2], dec_out.shape[-1]))\n",
        "        dec_out = dec_out.permute(0, 1, 3, 2).contiguous()\n",
        "\n",
        "        dec_out = self.output_projection(dec_out[:, :, :, -self.patch_nums:])\n",
        "        dec_out = dec_out.permute(0, 2, 1).contiguous()\n",
        "\n",
        "        dec_out = self.normalize_layers(dec_out, 'denorm')\n",
        "\n",
        "        return dec_out\n",
        "\n",
        "    def calcute_lags(self, x_enc):\n",
        "        q_fft = torch.fft.rfft(x_enc.permute(0, 2, 1).contiguous(), dim=-1)\n",
        "        k_fft = torch.fft.rfft(x_enc.permute(0, 2, 1).contiguous(), dim=-1)\n",
        "        res = q_fft * torch.conj(k_fft)\n",
        "        corr = torch.fft.irfft(res, dim=-1)\n",
        "        mean_value = torch.mean(corr, dim=1)\n",
        "        _, lags = torch.topk(mean_value, self.top_k, dim=-1)\n",
        "        return lags\n",
        "\n",
        "\n",
        "class ReprogrammingLayer(nn.Module):\n",
        "    def __init__(self, d_model, n_heads, d_keys=None, d_llm=None, attention_dropout=0.1):\n",
        "        super(ReprogrammingLayer, self).__init__()\n",
        "\n",
        "        d_keys = d_keys or (d_model // n_heads)\n",
        "\n",
        "        self.query_projection = nn.Linear(d_model, d_keys * n_heads)\n",
        "        self.key_projection = nn.Linear(d_llm, d_keys * n_heads)\n",
        "        self.value_projection = nn.Linear(d_llm, d_keys * n_heads)\n",
        "        self.out_projection = nn.Linear(d_keys * n_heads, d_llm)\n",
        "        self.n_heads = n_heads\n",
        "        self.dropout = nn.Dropout(attention_dropout)\n",
        "\n",
        "    def forward(self, target_embedding, source_embedding, value_embedding):\n",
        "        B, L, _ = target_embedding.shape\n",
        "        S, _ = source_embedding.shape\n",
        "        H = self.n_heads\n",
        "\n",
        "        target_embedding = self.query_projection(target_embedding).view(B, L, H, -1)\n",
        "        source_embedding = self.key_projection(source_embedding).view(S, H, -1)\n",
        "        value_embedding = self.value_projection(value_embedding).view(S, H, -1)\n",
        "\n",
        "        out = self.reprogramming(target_embedding, source_embedding, value_embedding)\n",
        "\n",
        "        out = out.reshape(B, L, -1)\n",
        "\n",
        "        return self.out_projection(out)\n",
        "\n",
        "    def reprogramming(self, target_embedding, source_embedding, value_embedding):\n",
        "        B, L, H, E = target_embedding.shape\n",
        "\n",
        "        scale = 1. / sqrt(E)\n",
        "\n",
        "        scores = torch.einsum(\"blhe,she->bhls\", target_embedding, source_embedding)\n",
        "\n",
        "        A = self.dropout(torch.softmax(scale * scores, dim=-1))\n",
        "        reprogramming_embedding = torch.einsum(\"bhls,she->blhe\", A, value_embedding)\n",
        "\n",
        "        return reprogramming_embedding\n"
      ]
    },
    {
      "cell_type": "code",
      "execution_count": null,
      "metadata": {
        "id": "E63apaZFAqjk"
      },
      "outputs": [],
      "source": [
        "def train(args):\n",
        "  for ii in range(args.itr):\n",
        "      # setting record of experiments\n",
        "      setting = '{}_{}_{}_{}_ft{}_sl{}_ll{}_pl{}_dm{}_nh{}_el{}_dl{}_df{}_fc{}_eb{}_{}_{}'.format(\n",
        "          args.task_name,\n",
        "          args.model_id,\n",
        "          args.model,\n",
        "          args.data,\n",
        "          args.features,\n",
        "          args.seq_len,\n",
        "          args.label_len,\n",
        "          args.pred_len,\n",
        "          args.d_model,\n",
        "          args.n_heads,\n",
        "          args.e_layers,\n",
        "          args.d_layers,\n",
        "          args.d_ff,\n",
        "          args.factor,\n",
        "          args.embed,\n",
        "          args.des, ii)\n",
        "\n",
        "\n",
        "      train_data, train_loader = data_provider(args, 'train')\n",
        "      vali_data, vali_loader = data_provider(args, 'val')\n",
        "      test_data, test_loader = data_provider(args, 'test')\n",
        "\n",
        "      if 'Autoformer' == args.model:\n",
        "          model = Autoformer.Model(args).float()\n",
        "      elif 'DLinear' == args.model:\n",
        "          model = DLinear.Model(args).float()\n",
        "      else:\n",
        "          model = TimeLLM(args).float()\n",
        "\n",
        "      path = os.path.join(args.checkpoints,\n",
        "                          setting + '-' + args.model_comment)  # unique checkpoint saving path\n",
        "      args.content = load_content(args)\n",
        "      if not os.path.exists(path) and accelerator.is_local_main_process:\n",
        "          os.makedirs(path)\n",
        "\n",
        "      time_now = time.time()\n",
        "\n",
        "      train_steps = len(train_loader)\n",
        "      early_stopping = EarlyStopping(accelerator=accelerator, patience=args.patience)\n",
        "\n",
        "      trained_parameters = []\n",
        "      for p in model.parameters():\n",
        "          if p.requires_grad is True:\n",
        "              trained_parameters.append(p)\n",
        "\n",
        "      model_optim = optim.Adam(trained_parameters, lr=args.learning_rate)\n",
        "\n",
        "      if args.lradj == 'COS':\n",
        "          scheduler = torch.optim.lr_scheduler.CosineAnnealingLR(model_optim, T_max=20, eta_min=1e-8)\n",
        "      else:\n",
        "          scheduler = lr_scheduler.OneCycleLR(optimizer=model_optim,\n",
        "                                              steps_per_epoch=train_steps,\n",
        "                                              pct_start=args.pct_start,\n",
        "                                              epochs=args.train_epochs,\n",
        "                                              max_lr=args.learning_rate)\n",
        "\n",
        "      criterion = nn.MSELoss()\n",
        "      mae_metric = nn.L1Loss()\n",
        "\n",
        "      train_loader, vali_loader, test_loader, model, model_optim, scheduler = accelerator.prepare(\n",
        "          train_loader, vali_loader, test_loader, model, model_optim, scheduler)\n",
        "\n",
        "      if args.use_amp:\n",
        "          scaler = torch.cuda.amp.GradScaler()\n",
        "\n",
        "      for epoch in range(args.train_epochs):\n",
        "          iter_count = 0\n",
        "          train_loss = []\n",
        "\n",
        "          model.train()\n",
        "          epoch_time = time.time()\n",
        "          for i, (batch_x, batch_y, batch_x_mark, batch_y_mark) in tqdm(enumerate(train_loader)):\n",
        "              iter_count += 1\n",
        "              model_optim.zero_grad()\n",
        "\n",
        "              batch_x = batch_x.float().to(accelerator.device)\n",
        "              batch_y = batch_y.float().to(accelerator.device)\n",
        "              batch_x_mark = batch_x_mark.float().to(accelerator.device)\n",
        "              batch_y_mark = batch_y_mark.float().to(accelerator.device)\n",
        "\n",
        "              # decoder input\n",
        "              dec_inp = torch.zeros_like(batch_y[:, -args.pred_len:, :]).float().to(\n",
        "                  accelerator.device)\n",
        "              dec_inp = torch.cat([batch_y[:, :args.label_len, :], dec_inp], dim=1).float().to(\n",
        "                  accelerator.device)\n",
        "\n",
        "              # encoder - decoder\n",
        "              if args.use_amp:\n",
        "                  with torch.cuda.amp.autocast():\n",
        "                      if args.output_attention:\n",
        "                          outputs = model(batch_x, batch_x_mark, dec_inp, batch_y_mark)[0]\n",
        "                      else:\n",
        "                          outputs = model(batch_x, batch_x_mark, dec_inp, batch_y_mark)\n",
        "\n",
        "                      f_dim = -1 if args.features == 'MS' else 0\n",
        "                      outputs = outputs[:, -args.pred_len:, f_dim:]\n",
        "                      batch_y = batch_y[:, -args.pred_len:, f_dim:].to(accelerator.device)\n",
        "                      loss = criterion(outputs, batch_y)\n",
        "                      train_loss.append(loss.item())\n",
        "              else:\n",
        "                  if args.output_attention:\n",
        "                      outputs = model(batch_x, batch_x_mark, dec_inp, batch_y_mark)[0]\n",
        "                  else:\n",
        "                      outputs = model(batch_x, batch_x_mark, dec_inp, batch_y_mark)\n",
        "\n",
        "                  f_dim = -1 if args.features == 'MS' else 0\n",
        "                  outputs = outputs[:, -args.pred_len:, f_dim:]\n",
        "                  batch_y = batch_y[:, -args.pred_len:, f_dim:]\n",
        "                  loss = criterion(outputs, batch_y)\n",
        "                  train_loss.append(loss.item())\n",
        "\n",
        "              if (i + 1) % 100 == 0:\n",
        "                  accelerator.print(\n",
        "                      \"\\titers: {0}, epoch: {1} | loss: {2:.7f}\".format(i + 1, epoch + 1, loss.item()))\n",
        "                  speed = (time.time() - time_now) / iter_count\n",
        "                  left_time = speed * ((args.train_epochs - epoch) * train_steps - i)\n",
        "                  accelerator.print('\\tspeed: {:.4f}s/iter; left time: {:.4f}s'.format(speed, left_time))\n",
        "                  iter_count = 0\n",
        "                  time_now = time.time()\n",
        "\n",
        "              if args.use_amp:\n",
        "                  scaler.scale(loss).backward()\n",
        "                  scaler.step(model_optim)\n",
        "                  scaler.update()\n",
        "              else:\n",
        "                  accelerator.backward(loss)\n",
        "                  model_optim.step()\n",
        "\n",
        "              if args.lradj == 'TST':\n",
        "                  adjust_learning_rate(accelerator, model_optim, scheduler, epoch + 1, args, printout=False)\n",
        "                  scheduler.step()\n",
        "\n",
        "          accelerator.print(\"Epoch: {} cost time: {}\".format(epoch + 1, time.time() - epoch_time))\n",
        "          train_loss = np.average(train_loss)\n",
        "          vali_loss, vali_mae_loss = vali(args, accelerator, model, vali_data, vali_loader, criterion, mae_metric)\n",
        "          test_loss, test_mae_loss = vali(args, accelerator, model, test_data, test_loader, criterion, mae_metric)\n",
        "          accelerator.print(\n",
        "              \"Epoch: {0} | Train Loss: {1:.7f} Vali Loss: {2:.7f} Test Loss: {3:.7f} MAE Loss: {4:.7f}\".format(\n",
        "                  epoch + 1, train_loss, vali_loss, test_loss, test_mae_loss))\n",
        "\n",
        "          drive.mount('/content/gdrive')\n",
        "          timeLLM_path = '/content/gdrive/MyDrive/TimeLLM'\n",
        "          %cd {timeLLM_path}\n",
        "\n",
        "          early_stopping(vali_loss, model, path)\n",
        "          if early_stopping.early_stop:\n",
        "              accelerator.print(\"Early stopping\")\n",
        "              break\n",
        "\n",
        "          if args.lradj != 'TST':\n",
        "              if args.lradj == 'COS':\n",
        "                  scheduler.step()\n",
        "                  accelerator.print(\"lr = {:.10f}\".format(model_optim.param_groups[0]['lr']))\n",
        "              else:\n",
        "                  if epoch == 0:\n",
        "                      args.learning_rate = model_optim.param_groups[0]['lr']\n",
        "                      accelerator.print(\"lr = {:.10f}\".format(model_optim.param_groups[0]['lr']))\n",
        "                  adjust_learning_rate(accelerator, model_optim, scheduler, epoch + 1, args, printout=True)\n",
        "\n",
        "          else:\n",
        "              accelerator.print('Updating learning rate to {}'.format(scheduler.get_last_lr()[0]))\n",
        "\n",
        "          # Mounting G-Drive for saving files.\n",
        "\n",
        "\n"
      ]
    },
    {
      "cell_type": "code",
      "execution_count": null,
      "metadata": {
        "id": "7nPjhJ1tJPlP"
      },
      "outputs": [],
      "source": [
        "\n",
        "parser = argparse.ArgumentParser(description='Time-LLM')\n",
        "\n",
        "fix_seed = 2025\n",
        "random.seed(fix_seed)\n",
        "torch.manual_seed(fix_seed)\n",
        "np.random.seed(fix_seed)\n",
        "\n",
        "# basic config\n",
        "parser.add_argument('-f', type=str, default='')\n",
        "parser.add_argument('--task_name', type=str, default='long_term_forecast',\n",
        "                    help='task name, options:[long_term_forecast, short_term_forecast, imputation, classification, anomaly_detection]')\n",
        "parser.add_argument('--is_training', type=int, default=1, help='status')\n",
        "parser.add_argument('--model_id', type=str, default='ETTh1_ETTh2_512_192', help='model id')\n",
        "parser.add_argument('--model_comment', type=str, default='TimeLLM-ETTh1', help='prefix when saving test results')\n",
        "parser.add_argument('--model', type=str, default='TimeLLM',\n",
        "                    help='model name, options: [Autoformer, DLinear]')\n",
        "parser.add_argument('--seed', type=int, default=2021, help='random seed')\n",
        "\n",
        "# data loader\n",
        "parser.add_argument('--data', type=str, default='ETTh2', help='dataset type')\n",
        "parser.add_argument('--data_pretrain', type=str, default='ETTh1', help='dataset type')\n",
        "parser.add_argument('--root_path', type=str, default='/content/gdrive/MyDrive/TimeLLM/dataset/ETT-small/', help='root path of the data file')\n",
        "parser.add_argument('--data_path', type=str, default='ETTh2.csv', help='data file')\n",
        "parser.add_argument('--data_path_pretrain', type=str, default='ETTh1.csv', help='data file')\n",
        "parser.add_argument('--features', type=str, default='M',\n",
        "                    help='forecasting task, options:[M, S, MS]; '\n",
        "                         'M:multivariate predict multivariate, S: univariate predict univariate, '\n",
        "                         'MS:multivariate predict univariate')\n",
        "parser.add_argument('--target', type=str, default='OT', help='target feature in S or MS task')\n",
        "parser.add_argument('--loader', type=str, default='modal', help='dataset type')\n",
        "parser.add_argument('--freq', type=str, default='h',\n",
        "                    help='freq for time features encoding, '\n",
        "                         'options:[s:secondly, t:minutely, h:hourly, d:daily, b:business days, w:weekly, m:monthly], '\n",
        "                         'you can also use more detailed freq like 15min or 3h')\n",
        "parser.add_argument('--checkpoints', type=str, default='/content/gdrive/MyDrive/TimeLLM/checkpoints', help='location of model checkpoints')\n",
        "\n",
        "# forecasting task\n",
        "parser.add_argument('--seq_len', type=int, default=512, help='input sequence length')\n",
        "parser.add_argument('--label_len', type=int, default=48, help='start token length')\n",
        "parser.add_argument('--pred_len', type=int, default=192, help='prediction sequence length')\n",
        "parser.add_argument('--seasonal_patterns', type=str, default='Monthly', help='subset for M4')\n",
        "\n",
        "# model define\n",
        "parser.add_argument('--enc_in', type=int, default=7, help='encoder input size')\n",
        "parser.add_argument('--dec_in', type=int, default=7, help='decoder input size')\n",
        "parser.add_argument('--c_out', type=int, default=7, help='output size')\n",
        "parser.add_argument('--d_model', type=int, default=32, help='dimension of model')\n",
        "parser.add_argument('--n_heads', type=int, default=8, help='num of heads')\n",
        "parser.add_argument('--e_layers', type=int, default=2, help='num of encoder layers')\n",
        "parser.add_argument('--d_layers', type=int, default=1, help='num of decoder layers')\n",
        "parser.add_argument('--d_ff', type=int, default=128, help='dimension of fcn')\n",
        "parser.add_argument('--moving_avg', type=int, default=25, help='window size of moving average')\n",
        "parser.add_argument('--factor', type=int, default=3, help='attn factor')\n",
        "parser.add_argument('--dropout', type=float, default=0.1, help='dropout')\n",
        "parser.add_argument('--embed', type=str, default='timeF',\n",
        "                    help='time features encoding, options:[timeF, fixed, learned]')\n",
        "parser.add_argument('--activation', type=str, default='gelu', help='activation')\n",
        "parser.add_argument('--output_attention', action='store_true', help='whether to output attention in encoder')\n",
        "parser.add_argument('--patch_len', type=int, default=16, help='patch length')\n",
        "parser.add_argument('--stride', type=int, default=8, help='stride')\n",
        "parser.add_argument('--prompt_domain', type=int, default=0, help='')\n",
        "parser.add_argument('--llm_model', type=str, default='GPT2', help='LLM model') # LLAMA, GPT2, BERT\n",
        "parser.add_argument('--llm_dim', type=int, default='768', help='LLM model dimension')# LLama7b:4096; GPT2-small:768; BERT-base:768\n",
        "\n",
        "\n",
        "# optimization\n",
        "parser.add_argument('--num_workers', type=int, default=10, help='data loader num workers')\n",
        "parser.add_argument('--itr', type=int, default=1, help='experiments times')\n",
        "parser.add_argument('--train_epochs', type=int, default=5, help='train epochs')\n",
        "parser.add_argument('--align_epochs', type=int, default=10, help='alignment epochs')\n",
        "parser.add_argument('--batch_size', type=int, default=16, help='batch size of train input data')\n",
        "parser.add_argument('--eval_batch_size', type=int, default=8, help='batch size of model evaluation')\n",
        "parser.add_argument('--patience', type=int, default=10, help='early stopping patience')\n",
        "parser.add_argument('--learning_rate', type=float, default=0.02, help='optimizer learning rate')\n",
        "parser.add_argument('--des', type=str, default='Exp', help='exp description')\n",
        "parser.add_argument('--loss', type=str, default='MSE', help='loss function')\n",
        "parser.add_argument('--lradj', type=str, default='type1', help='adjust learning rate')\n",
        "parser.add_argument('--pct_start', type=float, default=0.2, help='pct_start')\n",
        "parser.add_argument('--use_amp', action='store_true', help='use automatic mixed precision training', default=False)\n",
        "parser.add_argument('--llm_layers', type=int, default=32)\n",
        "parser.add_argument('--percent', type=int, default=100)\n",
        "parser.add_argument('--content', type=str, default='Description')\n",
        "\n",
        "\n"
      ]
    },
    {
      "cell_type": "code",
      "source": [
        "\n",
        "args = parser.parse_args()\n",
        "ddp_kwargs = DistributedDataParallelKwargs(find_unused_parameters=True)\n",
        "\n",
        "# Load the JSON file into a dictionary\n",
        "with open(os.path.join(timeLLM_path, 'ds_config_zero2.json'), 'r') as f:\n",
        "    hf_ds_config_dict = json.load(f)\n"
      ],
      "metadata": {
        "id": "CzXacUC0OnZg"
      },
      "execution_count": null,
      "outputs": []
    },
    {
      "cell_type": "code",
      "source": [
        "\n",
        "deepspeed_plugin = DeepSpeedPlugin(hf_ds_config= hf_ds_config_dict)\n",
        "accelerator = Accelerator(kwargs_handlers=[ddp_kwargs], deepspeed_plugin=deepspeed_plugin)\n"
      ],
      "metadata": {
        "colab": {
          "base_uri": "https://localhost:8080/",
          "height": 349
        },
        "id": "nh04VTEIDMdX",
        "outputId": "85cc6166-358c-420e-bc07-06d7effa981d"
      },
      "execution_count": null,
      "outputs": [
        {
          "output_type": "error",
          "ename": "NotImplementedError",
          "evalue": "You cannot pass in a `deepspeed_plugin` when creating a second `Accelerator`. Please make sure the first `Accelerator` is initialized with all the plugins you want to use.",
          "traceback": [
            "\u001b[0;31m---------------------------------------------------------------------------\u001b[0m",
            "\u001b[0;31mNotImplementedError\u001b[0m                       Traceback (most recent call last)",
            "\u001b[0;32m<ipython-input-30-636d9833d69a>\u001b[0m in \u001b[0;36m<cell line: 0>\u001b[0;34m()\u001b[0m\n\u001b[1;32m      1\u001b[0m \u001b[0mdeepspeed_plugin\u001b[0m \u001b[0;34m=\u001b[0m \u001b[0mDeepSpeedPlugin\u001b[0m\u001b[0;34m(\u001b[0m\u001b[0mhf_ds_config\u001b[0m\u001b[0;34m=\u001b[0m \u001b[0mhf_ds_config_dict\u001b[0m\u001b[0;34m)\u001b[0m\u001b[0;34m\u001b[0m\u001b[0;34m\u001b[0m\u001b[0m\n\u001b[0;32m----> 2\u001b[0;31m \u001b[0maccelerator\u001b[0m \u001b[0;34m=\u001b[0m \u001b[0mAccelerator\u001b[0m\u001b[0;34m(\u001b[0m\u001b[0mkwargs_handlers\u001b[0m\u001b[0;34m=\u001b[0m\u001b[0;34m[\u001b[0m\u001b[0mddp_kwargs\u001b[0m\u001b[0;34m]\u001b[0m\u001b[0;34m,\u001b[0m \u001b[0mdeepspeed_plugin\u001b[0m\u001b[0;34m=\u001b[0m\u001b[0mdeepspeed_plugin\u001b[0m\u001b[0;34m)\u001b[0m\u001b[0;34m\u001b[0m\u001b[0;34m\u001b[0m\u001b[0m\n\u001b[0m",
            "\u001b[0;32m/usr/local/lib/python3.11/dist-packages/accelerate/accelerator.py\u001b[0m in \u001b[0;36m__init__\u001b[0;34m(self, device_placement, split_batches, mixed_precision, gradient_accumulation_steps, cpu, dataloader_config, deepspeed_plugin, fsdp_plugin, torch_tp_plugin, megatron_lm_plugin, rng_types, log_with, project_dir, project_config, gradient_accumulation_plugin, step_scheduler_with_optimizer, kwargs_handlers, dynamo_backend, dynamo_plugin, deepspeed_plugins)\u001b[0m\n\u001b[1;32m    329\u001b[0m                 \u001b[0;32mand\u001b[0m \u001b[0mAcceleratorState\u001b[0m\u001b[0;34m(\u001b[0m\u001b[0;34m)\u001b[0m\u001b[0;34m.\u001b[0m\u001b[0mdeepspeed_plugins\u001b[0m \u001b[0;32mis\u001b[0m \u001b[0;32mnot\u001b[0m \u001b[0;32mNone\u001b[0m\u001b[0;34m\u001b[0m\u001b[0;34m\u001b[0m\u001b[0m\n\u001b[1;32m    330\u001b[0m             ):\n\u001b[0;32m--> 331\u001b[0;31m                 raise NotImplementedError(\n\u001b[0m\u001b[1;32m    332\u001b[0m                     \u001b[0;34m\"You cannot pass in a `deepspeed_plugin` when creating a second `Accelerator`. \"\u001b[0m\u001b[0;34m\u001b[0m\u001b[0;34m\u001b[0m\u001b[0m\n\u001b[1;32m    333\u001b[0m                     \u001b[0;34m\"Please make sure the first `Accelerator` is initialized with all the plugins you want to use.\"\u001b[0m\u001b[0;34m\u001b[0m\u001b[0;34m\u001b[0m\u001b[0m\n",
            "\u001b[0;31mNotImplementedError\u001b[0m: You cannot pass in a `deepspeed_plugin` when creating a second `Accelerator`. Please make sure the first `Accelerator` is initialized with all the plugins you want to use."
          ]
        }
      ]
    },
    {
      "cell_type": "code",
      "source": [
        "# Run it\n",
        "train(args)"
      ],
      "metadata": {
        "colab": {
          "base_uri": "https://localhost:8080/",
          "height": 1000,
          "referenced_widgets": [
            "d786efd816954f1b9e1a530da2678e25",
            "68b27d9c18d348aeb6ff741ad5e1b767",
            "3e84467fa8ed4c91b20964da0ec28039",
            "2cd70e4ac07d407e8ad90e99daf02147",
            "26cb02a33b82418a94c05dcdb7abc3de",
            "db0e2854a7b6451b8b6135e4404af646",
            "e8a9fa1a844d4efebc7081221a884764",
            "3795581106164b759f7c397ff05678ad",
            "6ff6d449eac3444cab3058d09319cdfd",
            "7fa1d363c03f475386ebffd38dc0f070",
            "5476d8483ac046c88b05d4b611ce7919",
            "bdc0962849984dba9980006aa30b6eb8",
            "52e5e2cec7c44317a340c6df4eb6047d",
            "adf1f73c59994a92bb5a1b74b4be64ad",
            "6820373a13ea4e41b21b703b742d8a1a",
            "2c3a6f71aa7840c1a1dc08f15de13cda",
            "e5ab18154c3646d58c8caa5337b5101c",
            "78ce2d9ae1104843867de21668453184",
            "afc21f8dd32f4312aa81b1d98e2cd760",
            "2a63af3d5e6b4d7eb6d23230d13cde54",
            "03eb73a1fb0347428db41f3f28626c56",
            "af3b0e75e346423593900a112aa97663",
            "4270c68cf45445709e8049ebd688ebe5",
            "3af63139c842461f8bafb389d3a1ed37",
            "eaa5bf76c0184da5ae15e23551f7ce75",
            "16ec27d3180e444db90f141a9859fb65",
            "f57e088f9fc64bb69e014af3448045b1",
            "9c933f50d4284ac5bff4fd894134eee9",
            "054429b5a4d44048a45334e498730858",
            "9b8939aa6326442f8de182d476b0c302",
            "abaf4f453fab4d70a7af57b9e0e6f5fd",
            "37ea6b372205418182652f59d8413789",
            "b3d18d1211644db1a3ded70a7871cd02",
            "100eb5ebe78343a6a606a7b05f251f56",
            "a21cc6acee1143d4bb1653ede1829ad8",
            "0891a021b99144a792de8bef7055af63",
            "769a52f08af74f8eb5f861039e3692e1",
            "9cba4c34d4b24568b0a0e0349aa08832",
            "db341b77b8e4475eb46714aa8b05aeff",
            "abd5b3ca50344cac8f93cf2dc0ea98ac",
            "83af844094704c1f8792223b736c1c68",
            "ca43cf27d8d34025b9488718e3b428ae",
            "90c95c5a94ba4d8cb72019c10c101e13",
            "76e22b2e557f40b1a78b11438a6118d6",
            "afeeeb8eb7d84b13808b91ebccdc9eb1",
            "a658b38fd01e4dd9b3ddb43db9b0a7ff",
            "b798ce14dd974bcc96979146dc5fc583",
            "12e9843811dd48b4b0d701e556feb118",
            "d6bc4eb0479f45ec86d04bf1cb2bc48c",
            "7ff8ea49520742f5ab9cea5796c05ee4",
            "422d6062e4f5446ba5d033d8c0f5d755",
            "fc74b7fff5fb4b98a1470c94ada39698",
            "80ffb9c139ed4c32a6a367169bc7cb74",
            "9daca4985a9e4bda9477ef8140183c27",
            "6a4a5c11f45947c7a0782892950a88c7",
            "0ef2267e3a61485e9138c5f2a2462c11",
            "88399087f32f477992b651a1ffc6bedc",
            "75ef2dce39c444e8be79e41119a108fa",
            "d1c3e6d0d4b94c688b73c6c4a1853f5e",
            "1f22177888e84bfea6f6258b17311c0b",
            "624667c9da104a9b837d93ffb45cd51c",
            "bdfdcda2cbca4724ba6035ee5fac3386",
            "dfb7c4e741cc41dcb7a299be90cb1674",
            "650546e81038459ab715809448f27283",
            "925fe89a0b3c49eaa69cc1cd37497907",
            "20908de7f66241ec8acfe2bfc59a9d0e"
          ]
        },
        "id": "XnvUQ9w34LFH",
        "outputId": "8246c318-6f15-4ad0-9581-48d691c64c10"
      },
      "execution_count": null,
      "outputs": [
        {
          "output_type": "stream",
          "name": "stdout",
          "text": [
            "TimeLLM init\n"
          ]
        },
        {
          "output_type": "display_data",
          "data": {
            "text/plain": [
              "config.json:   0%|          | 0.00/665 [00:00<?, ?B/s]"
            ],
            "application/vnd.jupyter.widget-view+json": {
              "version_major": 2,
              "version_minor": 0,
              "model_id": "d786efd816954f1b9e1a530da2678e25"
            }
          },
          "metadata": {}
        },
        {
          "output_type": "stream",
          "name": "stdout",
          "text": [
            "TimeLLM- GPT2\n"
          ]
        },
        {
          "output_type": "display_data",
          "data": {
            "text/plain": [
              "pytorch_model.bin:   0%|          | 0.00/548M [00:00<?, ?B/s]"
            ],
            "application/vnd.jupyter.widget-view+json": {
              "version_major": 2,
              "version_minor": 0,
              "model_id": "bdc0962849984dba9980006aa30b6eb8"
            }
          },
          "metadata": {}
        },
        {
          "output_type": "stream",
          "name": "stdout",
          "text": [
            "Local tokenizer files not found. Atempting to download them..\n"
          ]
        },
        {
          "output_type": "display_data",
          "data": {
            "text/plain": [
              "tokenizer_config.json:   0%|          | 0.00/26.0 [00:00<?, ?B/s]"
            ],
            "application/vnd.jupyter.widget-view+json": {
              "version_major": 2,
              "version_minor": 0,
              "model_id": "4270c68cf45445709e8049ebd688ebe5"
            }
          },
          "metadata": {}
        },
        {
          "output_type": "display_data",
          "data": {
            "text/plain": [
              "vocab.json:   0%|          | 0.00/1.04M [00:00<?, ?B/s]"
            ],
            "application/vnd.jupyter.widget-view+json": {
              "version_major": 2,
              "version_minor": 0,
              "model_id": "100eb5ebe78343a6a606a7b05f251f56"
            }
          },
          "metadata": {}
        },
        {
          "output_type": "display_data",
          "data": {
            "text/plain": [
              "merges.txt:   0%|          | 0.00/456k [00:00<?, ?B/s]"
            ],
            "application/vnd.jupyter.widget-view+json": {
              "version_major": 2,
              "version_minor": 0,
              "model_id": "afeeeb8eb7d84b13808b91ebccdc9eb1"
            }
          },
          "metadata": {}
        },
        {
          "output_type": "display_data",
          "data": {
            "text/plain": [
              "tokenizer.json:   0%|          | 0.00/1.36M [00:00<?, ?B/s]"
            ],
            "application/vnd.jupyter.widget-view+json": {
              "version_major": 2,
              "version_minor": 0,
              "model_id": "0ef2267e3a61485e9138c5f2a2462c11"
            }
          },
          "metadata": {}
        },
        {
          "output_type": "stream",
          "name": "stdout",
          "text": [
            "TimeLLM- Tokenizer\n",
            "TimeLLM-description:\n",
            "***************\n",
            "The Electricity Transformer Temperature (ETT) is a crucial indicator in the electric power long-term deployment.\n",
            "***************\n",
            "\n",
            "Reprogramming Layer\n",
            "TimeLLM-output_projection:\n",
            "***************\n",
            "FlattenHead(\n",
            "  (flatten): Flatten(start_dim=-2, end_dim=-1)\n",
            "  (linear): Linear(in_features=8192, out_features=192, bias=True)\n",
            "  (dropout): Dropout(p=0.1, inplace=False)\n",
            ")\n",
            "***************\n",
            "\n",
            "[2025-03-07 23:59:58,727] [INFO] [logging.py:128:log_dist] [Rank 0] DeepSpeed info: version=0.16.4, git-hash=unknown, git-branch=unknown\n",
            "[2025-03-07 23:59:58,727] [INFO] [config.py:734:__init__] Config mesh_device None world_size = 1\n",
            "[2025-03-07 23:59:59,036] [INFO] [logging.py:128:log_dist] [Rank 0] DeepSpeed Flops Profiler Enabled: False\n",
            "[2025-03-07 23:59:59,039] [INFO] [logging.py:128:log_dist] [Rank 0] Using client Optimizer as basic optimizer\n",
            "[2025-03-07 23:59:59,039] [INFO] [logging.py:128:log_dist] [Rank 0] Removing param_group that has no 'params' in the basic Optimizer\n",
            "[2025-03-07 23:59:59,042] [INFO] [logging.py:128:log_dist] [Rank 0] DeepSpeed Basic Optimizer = Adam\n",
            "[2025-03-07 23:59:59,042] [INFO] [utils.py:59:is_zero_supported_optimizer] Checking ZeRO support for optimizer=Adam type=<class 'torch.optim.adam.Adam'>\n",
            "[2025-03-07 23:59:59,043] [INFO] [logging.py:128:log_dist] [Rank 0] Creating torch.bfloat16 ZeRO stage 2 optimizer\n",
            "[2025-03-07 23:59:59,043] [INFO] [stage_1_and_2.py:149:__init__] Reduce bucket size 200000000\n",
            "[2025-03-07 23:59:59,044] [INFO] [stage_1_and_2.py:150:__init__] Allgather bucket size 200000000\n",
            "[2025-03-07 23:59:59,044] [INFO] [stage_1_and_2.py:151:__init__] CPU Offload: False\n",
            "[2025-03-07 23:59:59,045] [INFO] [stage_1_and_2.py:152:__init__] Round robin gradient partitioning: False\n",
            "[2025-03-07 23:59:59,496] [INFO] [utils.py:781:see_memory_usage] Before initializing optimizer states\n",
            "[2025-03-07 23:59:59,497] [INFO] [utils.py:782:see_memory_usage] MA 0.85 GB         Max_MA 1.5 GB         CA 1.52 GB         Max_CA 2 GB \n",
            "[2025-03-07 23:59:59,498] [INFO] [utils.py:789:see_memory_usage] CPU Virtual Memory:  used = 5.32 GB, percent = 6.4%\n",
            "[2025-03-07 23:59:59,867] [INFO] [utils.py:781:see_memory_usage] After initializing optimizer states\n",
            "[2025-03-07 23:59:59,869] [INFO] [utils.py:782:see_memory_usage] MA 0.85 GB         Max_MA 1.05 GB         CA 1.72 GB         Max_CA 2 GB \n",
            "[2025-03-07 23:59:59,869] [INFO] [utils.py:789:see_memory_usage] CPU Virtual Memory:  used = 5.3 GB, percent = 6.4%\n",
            "[2025-03-07 23:59:59,870] [INFO] [stage_1_and_2.py:550:__init__] optimizer state initialized\n",
            "[2025-03-08 00:00:00,186] [INFO] [utils.py:781:see_memory_usage] After initializing ZeRO optimizer\n",
            "[2025-03-08 00:00:00,187] [INFO] [utils.py:782:see_memory_usage] MA 0.85 GB         Max_MA 0.85 GB         CA 1.72 GB         Max_CA 2 GB \n",
            "[2025-03-08 00:00:00,188] [INFO] [utils.py:789:see_memory_usage] CPU Virtual Memory:  used = 5.31 GB, percent = 6.4%\n",
            "[2025-03-08 00:00:00,192] [INFO] [logging.py:128:log_dist] [Rank 0] DeepSpeed Final Optimizer = DeepSpeedZeroOptimizer\n",
            "[2025-03-08 00:00:00,193] [INFO] [logging.py:128:log_dist] [Rank 0] DeepSpeed using configured LR scheduler = None\n",
            "[2025-03-08 00:00:00,193] [INFO] [logging.py:128:log_dist] [Rank 0] DeepSpeed LR Scheduler = None\n",
            "[2025-03-08 00:00:00,194] [INFO] [logging.py:128:log_dist] [Rank 0] step=0, skipped=0, lr=[0.0007999999999999986], mom=[(0.95, 0.999)]\n",
            "[2025-03-08 00:00:00,196] [INFO] [config.py:1001:print] DeepSpeedEngine configuration:\n",
            "[2025-03-08 00:00:00,197] [INFO] [config.py:1005:print]   activation_checkpointing_config  {\n",
            "    \"partition_activations\": false, \n",
            "    \"contiguous_memory_optimization\": false, \n",
            "    \"cpu_checkpointing\": false, \n",
            "    \"number_checkpoints\": null, \n",
            "    \"synchronize_checkpoint_boundary\": false, \n",
            "    \"profile\": false\n",
            "}\n",
            "[2025-03-08 00:00:00,197] [INFO] [config.py:1005:print]   aio_config ................... {'block_size': 1048576, 'queue_depth': 8, 'intra_op_parallelism': 1, 'single_submit': False, 'overlap_events': True, 'use_gds': False}\n",
            "[2025-03-08 00:00:00,198] [INFO] [config.py:1005:print]   amp_enabled .................. False\n",
            "[2025-03-08 00:00:00,198] [INFO] [config.py:1005:print]   amp_params ................... False\n",
            "[2025-03-08 00:00:00,199] [INFO] [config.py:1005:print]   autotuning_config ............ {\n",
            "    \"enabled\": false, \n",
            "    \"start_step\": null, \n",
            "    \"end_step\": null, \n",
            "    \"metric_path\": null, \n",
            "    \"arg_mappings\": null, \n",
            "    \"metric\": \"throughput\", \n",
            "    \"model_info\": null, \n",
            "    \"results_dir\": \"autotuning_results\", \n",
            "    \"exps_dir\": \"autotuning_exps\", \n",
            "    \"overwrite\": true, \n",
            "    \"fast\": true, \n",
            "    \"start_profile_step\": 3, \n",
            "    \"end_profile_step\": 5, \n",
            "    \"tuner_type\": \"gridsearch\", \n",
            "    \"tuner_early_stopping\": 5, \n",
            "    \"tuner_num_trials\": 50, \n",
            "    \"model_info_path\": null, \n",
            "    \"mp_size\": 1, \n",
            "    \"max_train_batch_size\": null, \n",
            "    \"min_train_batch_size\": 1, \n",
            "    \"max_train_micro_batch_size_per_gpu\": 1.024000e+03, \n",
            "    \"min_train_micro_batch_size_per_gpu\": 1, \n",
            "    \"num_tuning_micro_batch_sizes\": 3\n",
            "}\n",
            "[2025-03-08 00:00:00,200] [INFO] [config.py:1005:print]   bfloat16_enabled ............. True\n",
            "[2025-03-08 00:00:00,200] [INFO] [config.py:1005:print]   bfloat16_immediate_grad_update  False\n",
            "[2025-03-08 00:00:00,201] [INFO] [config.py:1005:print]   checkpoint_parallel_write_pipeline  False\n",
            "[2025-03-08 00:00:00,201] [INFO] [config.py:1005:print]   checkpoint_tag_validation_enabled  True\n",
            "[2025-03-08 00:00:00,202] [INFO] [config.py:1005:print]   checkpoint_tag_validation_fail  False\n",
            "[2025-03-08 00:00:00,202] [INFO] [config.py:1005:print]   comms_config ................. <deepspeed.comm.config.DeepSpeedCommsConfig object at 0x7b73e23dad10>\n",
            "[2025-03-08 00:00:00,203] [INFO] [config.py:1005:print]   communication_data_type ...... None\n",
            "[2025-03-08 00:00:00,204] [INFO] [config.py:1005:print]   compression_config ........... {'weight_quantization': {'shared_parameters': {'enabled': False, 'quantizer_kernel': False, 'schedule_offset': 0, 'quantize_groups': 1, 'quantize_verbose': False, 'quantization_type': 'symmetric', 'quantize_weight_in_forward': False, 'rounding': 'nearest', 'fp16_mixed_quantize': False, 'quantize_change_ratio': 0.001}, 'different_groups': {}}, 'activation_quantization': {'shared_parameters': {'enabled': False, 'quantization_type': 'symmetric', 'range_calibration': 'dynamic', 'schedule_offset': 1000}, 'different_groups': {}}, 'sparse_pruning': {'shared_parameters': {'enabled': False, 'method': 'l1', 'schedule_offset': 1000}, 'different_groups': {}}, 'row_pruning': {'shared_parameters': {'enabled': False, 'method': 'l1', 'schedule_offset': 1000}, 'different_groups': {}}, 'head_pruning': {'shared_parameters': {'enabled': False, 'method': 'topk', 'schedule_offset': 1000}, 'different_groups': {}}, 'channel_pruning': {'shared_parameters': {'enabled': False, 'method': 'l1', 'schedule_offset': 1000}, 'different_groups': {}}, 'layer_reduction': {'enabled': False}}\n",
            "[2025-03-08 00:00:00,204] [INFO] [config.py:1005:print]   curriculum_enabled_legacy .... False\n",
            "[2025-03-08 00:00:00,205] [INFO] [config.py:1005:print]   curriculum_params_legacy ..... False\n",
            "[2025-03-08 00:00:00,205] [INFO] [config.py:1005:print]   data_efficiency_config ....... {'enabled': False, 'seed': 1234, 'data_sampling': {'enabled': False, 'num_epochs': 1000, 'num_workers': 0, 'curriculum_learning': {'enabled': False}}, 'data_routing': {'enabled': False, 'random_ltd': {'enabled': False, 'layer_token_lr_schedule': {'enabled': False}}}}\n",
            "[2025-03-08 00:00:00,206] [INFO] [config.py:1005:print]   data_efficiency_enabled ...... False\n",
            "[2025-03-08 00:00:00,206] [INFO] [config.py:1005:print]   dataloader_drop_last ......... False\n",
            "[2025-03-08 00:00:00,206] [INFO] [config.py:1005:print]   disable_allgather ............ False\n",
            "[2025-03-08 00:00:00,207] [INFO] [config.py:1005:print]   dump_state ................... False\n",
            "[2025-03-08 00:00:00,207] [INFO] [config.py:1005:print]   dynamic_loss_scale_args ...... None\n",
            "[2025-03-08 00:00:00,208] [INFO] [config.py:1005:print]   eigenvalue_enabled ........... False\n",
            "[2025-03-08 00:00:00,208] [INFO] [config.py:1005:print]   eigenvalue_gas_boundary_resolution  1\n",
            "[2025-03-08 00:00:00,209] [INFO] [config.py:1005:print]   eigenvalue_layer_name ........ bert.encoder.layer\n",
            "[2025-03-08 00:00:00,209] [INFO] [config.py:1005:print]   eigenvalue_layer_num ......... 0\n",
            "[2025-03-08 00:00:00,210] [INFO] [config.py:1005:print]   eigenvalue_max_iter .......... 100\n",
            "[2025-03-08 00:00:00,210] [INFO] [config.py:1005:print]   eigenvalue_stability ......... 1e-06\n",
            "[2025-03-08 00:00:00,211] [INFO] [config.py:1005:print]   eigenvalue_tol ............... 0.01\n",
            "[2025-03-08 00:00:00,211] [INFO] [config.py:1005:print]   eigenvalue_verbose ........... False\n",
            "[2025-03-08 00:00:00,211] [INFO] [config.py:1005:print]   elasticity_enabled ........... False\n",
            "[2025-03-08 00:00:00,212] [INFO] [config.py:1005:print]   flops_profiler_config ........ {\n",
            "    \"enabled\": false, \n",
            "    \"recompute_fwd_factor\": 0.0, \n",
            "    \"profile_step\": 1, \n",
            "    \"module_depth\": -1, \n",
            "    \"top_modules\": 1, \n",
            "    \"detailed\": true, \n",
            "    \"output_file\": null\n",
            "}\n",
            "[2025-03-08 00:00:00,212] [INFO] [config.py:1005:print]   fp16_auto_cast ............... None\n",
            "[2025-03-08 00:00:00,213] [INFO] [config.py:1005:print]   fp16_enabled ................. False\n",
            "[2025-03-08 00:00:00,213] [INFO] [config.py:1005:print]   fp16_master_weights_and_gradients  False\n",
            "[2025-03-08 00:00:00,214] [INFO] [config.py:1005:print]   global_rank .................. 0\n",
            "[2025-03-08 00:00:00,214] [INFO] [config.py:1005:print]   grad_accum_dtype ............. None\n",
            "[2025-03-08 00:00:00,215] [INFO] [config.py:1005:print]   gradient_accumulation_steps .. 1\n",
            "[2025-03-08 00:00:00,215] [INFO] [config.py:1005:print]   gradient_clipping ............ 0.0\n",
            "[2025-03-08 00:00:00,215] [INFO] [config.py:1005:print]   gradient_predivide_factor .... 1.0\n",
            "[2025-03-08 00:00:00,216] [INFO] [config.py:1005:print]   graph_harvesting ............. False\n",
            "[2025-03-08 00:00:00,216] [INFO] [config.py:1005:print]   hybrid_engine ................ enabled=False max_out_tokens=512 inference_tp_size=1 release_inference_cache=False pin_parameters=True tp_gather_partition_size=8\n",
            "[2025-03-08 00:00:00,217] [INFO] [config.py:1005:print]   initial_dynamic_scale ........ 1\n",
            "[2025-03-08 00:00:00,217] [INFO] [config.py:1005:print]   load_universal_checkpoint .... False\n",
            "[2025-03-08 00:00:00,218] [INFO] [config.py:1005:print]   loss_scale ................... 1.0\n",
            "[2025-03-08 00:00:00,218] [INFO] [config.py:1005:print]   memory_breakdown ............. False\n",
            "[2025-03-08 00:00:00,219] [INFO] [config.py:1005:print]   mics_hierarchial_params_gather  False\n",
            "[2025-03-08 00:00:00,219] [INFO] [config.py:1005:print]   mics_shard_size .............. -1\n",
            "[2025-03-08 00:00:00,220] [INFO] [config.py:1005:print]   monitor_config ............... tensorboard=TensorBoardConfig(enabled=False, output_path='', job_name='DeepSpeedJobName') comet=CometConfig(enabled=False, samples_log_interval=100, project=None, workspace=None, api_key=None, experiment_name=None, experiment_key=None, online=None, mode=None) wandb=WandbConfig(enabled=False, group=None, team=None, project='deepspeed') csv_monitor=CSVConfig(enabled=False, output_path='', job_name='DeepSpeedJobName')\n",
            "[2025-03-08 00:00:00,220] [INFO] [config.py:1005:print]   nebula_config ................ {\n",
            "    \"enabled\": false, \n",
            "    \"persistent_storage_path\": null, \n",
            "    \"persistent_time_interval\": 100, \n",
            "    \"num_of_version_in_retention\": 2, \n",
            "    \"enable_nebula_load\": true, \n",
            "    \"load_path\": null\n",
            "}\n",
            "[2025-03-08 00:00:00,221] [INFO] [config.py:1005:print]   optimizer_legacy_fusion ...... False\n",
            "[2025-03-08 00:00:00,221] [INFO] [config.py:1005:print]   optimizer_name ............... None\n",
            "[2025-03-08 00:00:00,221] [INFO] [config.py:1005:print]   optimizer_params ............. None\n",
            "[2025-03-08 00:00:00,222] [INFO] [config.py:1005:print]   pipeline ..................... {'stages': 'auto', 'partition': 'best', 'seed_layers': False, 'activation_checkpoint_interval': 0, 'pipe_partitioned': True, 'grad_partitioned': True}\n",
            "[2025-03-08 00:00:00,222] [INFO] [config.py:1005:print]   pld_enabled .................. False\n",
            "[2025-03-08 00:00:00,223] [INFO] [config.py:1005:print]   pld_params ................... False\n",
            "[2025-03-08 00:00:00,223] [INFO] [config.py:1005:print]   prescale_gradients ........... False\n",
            "[2025-03-08 00:00:00,224] [INFO] [config.py:1005:print]   scheduler_name ............... None\n",
            "[2025-03-08 00:00:00,224] [INFO] [config.py:1005:print]   scheduler_params ............. None\n",
            "[2025-03-08 00:00:00,225] [INFO] [config.py:1005:print]   seq_parallel_communication_data_type  torch.float32\n",
            "[2025-03-08 00:00:00,225] [INFO] [config.py:1005:print]   sparse_attention ............. None\n",
            "[2025-03-08 00:00:00,226] [INFO] [config.py:1005:print]   sparse_gradients_enabled ..... False\n",
            "[2025-03-08 00:00:00,226] [INFO] [config.py:1005:print]   steps_per_print .............. inf\n",
            "[2025-03-08 00:00:00,227] [INFO] [config.py:1005:print]   tensor_parallel_config ....... dtype=torch.float16 autotp_size=0 tensor_parallel=TPConfig(tp_size=1, tp_grain_size=1, mpu=None, tp_group=None) injection_policy_tuple=None keep_module_on_host=False replace_with_kernel_inject=False\n",
            "[2025-03-08 00:00:00,227] [INFO] [config.py:1005:print]   timers_config ................ enabled=True synchronized=True\n",
            "[2025-03-08 00:00:00,228] [INFO] [config.py:1005:print]   train_batch_size ............. 16\n",
            "[2025-03-08 00:00:00,228] [INFO] [config.py:1005:print]   train_micro_batch_size_per_gpu  16\n",
            "[2025-03-08 00:00:00,229] [INFO] [config.py:1005:print]   use_data_before_expert_parallel_  False\n",
            "[2025-03-08 00:00:00,229] [INFO] [config.py:1005:print]   use_node_local_storage ....... False\n",
            "[2025-03-08 00:00:00,230] [INFO] [config.py:1005:print]   wall_clock_breakdown ......... False\n",
            "[2025-03-08 00:00:00,230] [INFO] [config.py:1005:print]   weight_quantization_config ... None\n",
            "[2025-03-08 00:00:00,230] [INFO] [config.py:1005:print]   world_size ................... 1\n",
            "[2025-03-08 00:00:00,231] [INFO] [config.py:1005:print]   zero_allow_untested_optimizer  True\n",
            "[2025-03-08 00:00:00,231] [INFO] [config.py:1005:print]   zero_config .................. stage=2 contiguous_gradients=True reduce_scatter=True reduce_bucket_size=200000000 use_multi_rank_bucket_allreduce=True allgather_partitions=True allgather_bucket_size=200000000 overlap_comm=True load_from_fp32_weights=True elastic_checkpoint=False offload_param=None offload_optimizer=None sub_group_size=1000000000 cpu_offload_param=None cpu_offload_use_pin_memory=None cpu_offload=None prefetch_bucket_size=50000000 param_persistence_threshold=100000 model_persistence_threshold=9223372036854775807 max_live_parameters=1000000000 max_reuse_distance=1000000000 gather_16bit_weights_on_model_save=False module_granularity_threshold=0 use_all_reduce_for_fetch_params=False stage3_gather_fp16_weights_on_model_save=False ignore_unused_parameters=True legacy_stage1=False round_robin_gradients=False zero_hpz_partition_size=1 zero_quantized_weights=False zero_quantized_nontrainable_weights=False zero_quantized_gradients=False zeropp_loco_param=None mics_shard_size=-1 mics_hierarchical_params_gather=False memory_efficient_linear=True pipeline_loading_checkpoint=False override_module_apply=True log_trace_cache_warnings=False\n",
            "[2025-03-08 00:00:00,232] [INFO] [config.py:1005:print]   zero_enabled ................. True\n",
            "[2025-03-08 00:00:00,232] [INFO] [config.py:1005:print]   zero_force_ds_cpu_optimizer .. True\n",
            "[2025-03-08 00:00:00,233] [INFO] [config.py:1005:print]   zero_optimization_stage ...... 2\n",
            "[2025-03-08 00:00:00,233] [INFO] [config.py:991:print_user_config]   json = {\n",
            "    \"bf16\": {\n",
            "        \"enabled\": true, \n",
            "        \"auto_cast\": true\n",
            "    }, \n",
            "    \"zero_optimization\": {\n",
            "        \"stage\": 2, \n",
            "        \"allgather_partitions\": true, \n",
            "        \"allgather_bucket_size\": 2.000000e+08, \n",
            "        \"overlap_comm\": true, \n",
            "        \"reduce_scatter\": true, \n",
            "        \"reduce_bucket_size\": 2.000000e+08, \n",
            "        \"contiguous_gradients\": true, \n",
            "        \"sub_group_size\": 1.000000e+09\n",
            "    }, \n",
            "    \"gradient_accumulation_steps\": 1, \n",
            "    \"train_batch_size\": 16, \n",
            "    \"train_micro_batch_size_per_gpu\": 16, \n",
            "    \"steps_per_print\": inf, \n",
            "    \"wall_clock_breakdown\": false, \n",
            "    \"fp16\": {\n",
            "        \"enabled\": false\n",
            "    }, \n",
            "    \"zero_allow_untested_optimizer\": true\n",
            "}\n"
          ]
        },
        {
          "output_type": "stream",
          "name": "stderr",
          "text": [
            "101it [00:14,  8.80it/s]"
          ]
        },
        {
          "output_type": "stream",
          "name": "stdout",
          "text": [
            "\titers: 100, epoch: 1 | loss: 0.7934736\n",
            "\tspeed: 0.1537s/iter; left time: 2653.5609s\n"
          ]
        },
        {
          "output_type": "stream",
          "name": "stderr",
          "text": [
            "201it [00:25,  8.81it/s]"
          ]
        },
        {
          "output_type": "stream",
          "name": "stdout",
          "text": [
            "\titers: 200, epoch: 1 | loss: 0.8038885\n",
            "\tspeed: 0.1139s/iter; left time: 1955.4915s\n"
          ]
        },
        {
          "output_type": "stream",
          "name": "stderr",
          "text": [
            "301it [00:36,  8.75it/s]"
          ]
        },
        {
          "output_type": "stream",
          "name": "stdout",
          "text": [
            "\titers: 300, epoch: 1 | loss: 1.0708605\n",
            "\tspeed: 0.1146s/iter; left time: 1954.8903s\n"
          ]
        },
        {
          "output_type": "stream",
          "name": "stderr",
          "text": [
            "401it [00:48,  8.87it/s]"
          ]
        },
        {
          "output_type": "stream",
          "name": "stdout",
          "text": [
            "\titers: 400, epoch: 1 | loss: 1.5192878\n",
            "\tspeed: 0.1144s/iter; left time: 1939.7013s\n"
          ]
        },
        {
          "output_type": "stream",
          "name": "stderr",
          "text": [
            "501it [00:59,  8.81it/s]"
          ]
        },
        {
          "output_type": "stream",
          "name": "stdout",
          "text": [
            "\titers: 500, epoch: 1 | loss: 0.3403580\n",
            "\tspeed: 0.1141s/iter; left time: 1923.0250s\n"
          ]
        },
        {
          "output_type": "stream",
          "name": "stderr",
          "text": [
            "601it [01:11,  8.78it/s]"
          ]
        },
        {
          "output_type": "stream",
          "name": "stdout",
          "text": [
            "\titers: 600, epoch: 1 | loss: 0.1572212\n",
            "\tspeed: 0.1144s/iter; left time: 1917.2134s\n"
          ]
        },
        {
          "output_type": "stream",
          "name": "stderr",
          "text": [
            "701it [01:22,  8.86it/s]"
          ]
        },
        {
          "output_type": "stream",
          "name": "stdout",
          "text": [
            "\titers: 700, epoch: 1 | loss: 0.9573926\n",
            "\tspeed: 0.1137s/iter; left time: 1894.8794s\n"
          ]
        },
        {
          "output_type": "stream",
          "name": "stderr",
          "text": [
            "801it [01:33,  8.69it/s]"
          ]
        },
        {
          "output_type": "stream",
          "name": "stdout",
          "text": [
            "\titers: 800, epoch: 1 | loss: 0.0995695\n",
            "\tspeed: 0.1139s/iter; left time: 1886.6521s\n"
          ]
        },
        {
          "output_type": "stream",
          "name": "stderr",
          "text": [
            "901it [01:45,  8.92it/s]"
          ]
        },
        {
          "output_type": "stream",
          "name": "stdout",
          "text": [
            "\titers: 900, epoch: 1 | loss: 0.7516245\n",
            "\tspeed: 0.1138s/iter; left time: 1872.8340s\n"
          ]
        },
        {
          "output_type": "stream",
          "name": "stderr",
          "text": [
            "1001it [01:56,  8.67it/s]"
          ]
        },
        {
          "output_type": "stream",
          "name": "stdout",
          "text": [
            "\titers: 1000, epoch: 1 | loss: 1.1395887\n",
            "\tspeed: 0.1132s/iter; left time: 1852.1363s\n"
          ]
        },
        {
          "output_type": "stream",
          "name": "stderr",
          "text": [
            "1101it [02:07,  8.86it/s]"
          ]
        },
        {
          "output_type": "stream",
          "name": "stdout",
          "text": [
            "\titers: 1100, epoch: 1 | loss: 0.2318050\n",
            "\tspeed: 0.1134s/iter; left time: 1843.3819s\n"
          ]
        },
        {
          "output_type": "stream",
          "name": "stderr",
          "text": [
            "1201it [02:19,  8.64it/s]"
          ]
        },
        {
          "output_type": "stream",
          "name": "stdout",
          "text": [
            "\titers: 1200, epoch: 1 | loss: 0.9292936\n",
            "\tspeed: 0.1131s/iter; left time: 1827.2181s\n"
          ]
        },
        {
          "output_type": "stream",
          "name": "stderr",
          "text": [
            "1301it [02:30,  8.64it/s]"
          ]
        },
        {
          "output_type": "stream",
          "name": "stdout",
          "text": [
            "\titers: 1300, epoch: 1 | loss: 0.5333458\n",
            "\tspeed: 0.1141s/iter; left time: 1832.5187s\n"
          ]
        },
        {
          "output_type": "stream",
          "name": "stderr",
          "text": [
            "1401it [02:42,  8.93it/s]"
          ]
        },
        {
          "output_type": "stream",
          "name": "stdout",
          "text": [
            "\titers: 1400, epoch: 1 | loss: 0.5732118\n",
            "\tspeed: 0.1140s/iter; left time: 1819.8958s\n"
          ]
        },
        {
          "output_type": "stream",
          "name": "stderr",
          "text": [
            "1501it [02:53,  8.76it/s]"
          ]
        },
        {
          "output_type": "stream",
          "name": "stdout",
          "text": [
            "\titers: 1500, epoch: 1 | loss: 1.0419905\n",
            "\tspeed: 0.1145s/iter; left time: 1815.5756s\n"
          ]
        },
        {
          "output_type": "stream",
          "name": "stderr",
          "text": [
            "1601it [03:04,  8.46it/s]"
          ]
        },
        {
          "output_type": "stream",
          "name": "stdout",
          "text": [
            "\titers: 1600, epoch: 1 | loss: 0.3852838\n",
            "\tspeed: 0.1139s/iter; left time: 1795.3558s\n"
          ]
        },
        {
          "output_type": "stream",
          "name": "stderr",
          "text": [
            "1701it [03:16,  8.91it/s]"
          ]
        },
        {
          "output_type": "stream",
          "name": "stdout",
          "text": [
            "\titers: 1700, epoch: 1 | loss: 0.2717795\n",
            "\tspeed: 0.1141s/iter; left time: 1787.1574s\n"
          ]
        },
        {
          "output_type": "stream",
          "name": "stderr",
          "text": [
            "1801it [03:27,  8.87it/s]"
          ]
        },
        {
          "output_type": "stream",
          "name": "stdout",
          "text": [
            "\titers: 1800, epoch: 1 | loss: 0.3737734\n",
            "\tspeed: 0.1133s/iter; left time: 1763.6429s\n"
          ]
        },
        {
          "output_type": "stream",
          "name": "stderr",
          "text": [
            "1901it [03:39,  8.79it/s]"
          ]
        },
        {
          "output_type": "stream",
          "name": "stdout",
          "text": [
            "\titers: 1900, epoch: 1 | loss: 0.6696367\n",
            "\tspeed: 0.1139s/iter; left time: 1761.4052s\n"
          ]
        },
        {
          "output_type": "stream",
          "name": "stderr",
          "text": [
            "2001it [03:50,  8.86it/s]"
          ]
        },
        {
          "output_type": "stream",
          "name": "stdout",
          "text": [
            "\titers: 2000, epoch: 1 | loss: 0.6272310\n",
            "\tspeed: 0.1137s/iter; left time: 1746.8456s\n"
          ]
        },
        {
          "output_type": "stream",
          "name": "stderr",
          "text": [
            "2101it [04:01,  8.91it/s]"
          ]
        },
        {
          "output_type": "stream",
          "name": "stdout",
          "text": [
            "\titers: 2100, epoch: 1 | loss: 0.2828608\n",
            "\tspeed: 0.1131s/iter; left time: 1725.9115s\n"
          ]
        },
        {
          "output_type": "stream",
          "name": "stderr",
          "text": [
            "2201it [04:13,  8.78it/s]"
          ]
        },
        {
          "output_type": "stream",
          "name": "stdout",
          "text": [
            "\titers: 2200, epoch: 1 | loss: 0.6065879\n",
            "\tspeed: 0.1139s/iter; left time: 1726.9204s\n"
          ]
        },
        {
          "output_type": "stream",
          "name": "stderr",
          "text": [
            "2301it [04:24,  8.89it/s]"
          ]
        },
        {
          "output_type": "stream",
          "name": "stdout",
          "text": [
            "\titers: 2300, epoch: 1 | loss: 0.6118610\n",
            "\tspeed: 0.1137s/iter; left time: 1712.5404s\n"
          ]
        },
        {
          "output_type": "stream",
          "name": "stderr",
          "text": [
            "2401it [04:35,  8.70it/s]"
          ]
        },
        {
          "output_type": "stream",
          "name": "stdout",
          "text": [
            "\titers: 2400, epoch: 1 | loss: 1.3850454\n",
            "\tspeed: 0.1141s/iter; left time: 1706.4128s\n"
          ]
        },
        {
          "output_type": "stream",
          "name": "stderr",
          "text": [
            "2501it [04:47,  8.79it/s]"
          ]
        },
        {
          "output_type": "stream",
          "name": "stdout",
          "text": [
            "\titers: 2500, epoch: 1 | loss: 0.5625055\n",
            "\tspeed: 0.1137s/iter; left time: 1690.0794s\n"
          ]
        },
        {
          "output_type": "stream",
          "name": "stderr",
          "text": [
            "2601it [04:58,  8.60it/s]"
          ]
        },
        {
          "output_type": "stream",
          "name": "stdout",
          "text": [
            "\titers: 2600, epoch: 1 | loss: 0.8402246\n",
            "\tspeed: 0.1141s/iter; left time: 1684.3962s\n"
          ]
        },
        {
          "output_type": "stream",
          "name": "stderr",
          "text": [
            "2701it [05:10,  8.65it/s]"
          ]
        },
        {
          "output_type": "stream",
          "name": "stdout",
          "text": [
            "\titers: 2700, epoch: 1 | loss: 0.8257303\n",
            "\tspeed: 0.1142s/iter; left time: 1673.6045s\n"
          ]
        },
        {
          "output_type": "stream",
          "name": "stderr",
          "text": [
            "2801it [05:21,  8.95it/s]"
          ]
        },
        {
          "output_type": "stream",
          "name": "stdout",
          "text": [
            "\titers: 2800, epoch: 1 | loss: 0.8135042\n",
            "\tspeed: 0.1137s/iter; left time: 1654.9178s\n"
          ]
        },
        {
          "output_type": "stream",
          "name": "stderr",
          "text": [
            "2901it [05:32,  8.71it/s]"
          ]
        },
        {
          "output_type": "stream",
          "name": "stdout",
          "text": [
            "\titers: 2900, epoch: 1 | loss: 0.3120058\n",
            "\tspeed: 0.1137s/iter; left time: 1644.8419s\n"
          ]
        },
        {
          "output_type": "stream",
          "name": "stderr",
          "text": [
            "3001it [05:44,  8.88it/s]"
          ]
        },
        {
          "output_type": "stream",
          "name": "stdout",
          "text": [
            "\titers: 3000, epoch: 1 | loss: 0.4899327\n",
            "\tspeed: 0.1139s/iter; left time: 1635.2315s\n"
          ]
        },
        {
          "output_type": "stream",
          "name": "stderr",
          "text": [
            "3101it [05:55,  8.74it/s]"
          ]
        },
        {
          "output_type": "stream",
          "name": "stdout",
          "text": [
            "\titers: 3100, epoch: 1 | loss: 0.1586349\n",
            "\tspeed: 0.1135s/iter; left time: 1618.7608s\n"
          ]
        },
        {
          "output_type": "stream",
          "name": "stderr",
          "text": [
            "3201it [06:06,  8.79it/s]"
          ]
        },
        {
          "output_type": "stream",
          "name": "stdout",
          "text": [
            "\titers: 3200, epoch: 1 | loss: 0.1857958\n",
            "\tspeed: 0.1139s/iter; left time: 1612.9641s\n"
          ]
        },
        {
          "output_type": "stream",
          "name": "stderr",
          "text": [
            "3301it [06:18,  8.84it/s]"
          ]
        },
        {
          "output_type": "stream",
          "name": "stdout",
          "text": [
            "\titers: 3300, epoch: 1 | loss: 0.8567680\n",
            "\tspeed: 0.1134s/iter; left time: 1594.6944s\n"
          ]
        },
        {
          "output_type": "stream",
          "name": "stderr",
          "text": [
            "3401it [06:29,  8.85it/s]"
          ]
        },
        {
          "output_type": "stream",
          "name": "stdout",
          "text": [
            "\titers: 3400, epoch: 1 | loss: 0.3539213\n",
            "\tspeed: 0.1135s/iter; left time: 1584.5307s\n"
          ]
        },
        {
          "output_type": "stream",
          "name": "stderr",
          "text": [
            "3472it [06:37,  8.73it/s]\n"
          ]
        },
        {
          "output_type": "stream",
          "name": "stdout",
          "text": [
            "Epoch: 1 cost time: 397.8013274669647\n"
          ]
        },
        {
          "output_type": "stream",
          "name": "stderr",
          "text": [
            "1176it [01:10, 16.68it/s]\n",
            "1176it [01:08, 17.27it/s]\n"
          ]
        },
        {
          "output_type": "stream",
          "name": "stdout",
          "text": [
            "Epoch: 1 | Train Loss: 0.5983397 Vali Loss: 0.3382422 Test Loss: 0.3665692 MAE Loss: 0.3973213\n",
            "Drive already mounted at /content/gdrive; to attempt to forcibly remount, call drive.mount(\"/content/gdrive\", force_remount=True).\n",
            "/content/gdrive/MyDrive/TimeLLM\n",
            "lr = 0.0008000000\n",
            "Updating learning rate to 0.0007999999999999986\n"
          ]
        },
        {
          "output_type": "stream",
          "name": "stderr",
          "text": [
            "101it [00:11,  8.97it/s]"
          ]
        },
        {
          "output_type": "stream",
          "name": "stdout",
          "text": [
            "\titers: 100, epoch: 2 | loss: 0.6895038\n",
            "\tspeed: 1.6123s/iter; left time: 22231.8924s\n"
          ]
        },
        {
          "output_type": "stream",
          "name": "stderr",
          "text": [
            "201it [00:23,  8.91it/s]"
          ]
        },
        {
          "output_type": "stream",
          "name": "stdout",
          "text": [
            "\titers: 200, epoch: 2 | loss: 0.2987916\n",
            "\tspeed: 0.1141s/iter; left time: 1562.1955s\n"
          ]
        },
        {
          "output_type": "stream",
          "name": "stderr",
          "text": [
            "301it [00:34,  9.02it/s]"
          ]
        },
        {
          "output_type": "stream",
          "name": "stdout",
          "text": [
            "\titers: 300, epoch: 2 | loss: 0.3220042\n",
            "\tspeed: 0.1102s/iter; left time: 1498.1577s\n"
          ]
        },
        {
          "output_type": "stream",
          "name": "stderr",
          "text": [
            "401it [00:45,  9.11it/s]"
          ]
        },
        {
          "output_type": "stream",
          "name": "stdout",
          "text": [
            "\titers: 400, epoch: 2 | loss: 1.2770990\n",
            "\tspeed: 0.1107s/iter; left time: 1493.8373s\n"
          ]
        },
        {
          "output_type": "stream",
          "name": "stderr",
          "text": [
            "501it [00:56,  9.05it/s]"
          ]
        },
        {
          "output_type": "stream",
          "name": "stdout",
          "text": [
            "\titers: 500, epoch: 2 | loss: 0.3785120\n",
            "\tspeed: 0.1106s/iter; left time: 1480.6262s\n"
          ]
        },
        {
          "output_type": "stream",
          "name": "stderr",
          "text": [
            "601it [01:07,  9.07it/s]"
          ]
        },
        {
          "output_type": "stream",
          "name": "stdout",
          "text": [
            "\titers: 600, epoch: 2 | loss: 0.7365972\n",
            "\tspeed: 0.1100s/iter; left time: 1461.7682s\n"
          ]
        },
        {
          "output_type": "stream",
          "name": "stderr",
          "text": [
            "701it [01:18,  8.41it/s]"
          ]
        },
        {
          "output_type": "stream",
          "name": "stdout",
          "text": [
            "\titers: 700, epoch: 2 | loss: 0.9906070\n",
            "\tspeed: 0.1110s/iter; left time: 1463.4200s\n"
          ]
        },
        {
          "output_type": "stream",
          "name": "stderr",
          "text": [
            "801it [01:29,  9.18it/s]"
          ]
        },
        {
          "output_type": "stream",
          "name": "stdout",
          "text": [
            "\titers: 800, epoch: 2 | loss: 0.8513616\n",
            "\tspeed: 0.1100s/iter; left time: 1439.1499s\n"
          ]
        },
        {
          "output_type": "stream",
          "name": "stderr",
          "text": [
            "901it [01:40,  9.17it/s]"
          ]
        },
        {
          "output_type": "stream",
          "name": "stdout",
          "text": [
            "\titers: 900, epoch: 2 | loss: 0.8410290\n",
            "\tspeed: 0.1096s/iter; left time: 1423.3603s\n"
          ]
        },
        {
          "output_type": "stream",
          "name": "stderr",
          "text": [
            "1001it [01:51,  9.13it/s]"
          ]
        },
        {
          "output_type": "stream",
          "name": "stdout",
          "text": [
            "\titers: 1000, epoch: 2 | loss: 0.4019031\n",
            "\tspeed: 0.1098s/iter; left time: 1415.2713s\n"
          ]
        },
        {
          "output_type": "stream",
          "name": "stderr",
          "text": [
            "1101it [02:02,  9.12it/s]"
          ]
        },
        {
          "output_type": "stream",
          "name": "stdout",
          "text": [
            "\titers: 1100, epoch: 2 | loss: 1.0572510\n",
            "\tspeed: 0.1105s/iter; left time: 1413.3728s\n"
          ]
        },
        {
          "output_type": "stream",
          "name": "stderr",
          "text": [
            "1201it [02:13,  9.14it/s]"
          ]
        },
        {
          "output_type": "stream",
          "name": "stdout",
          "text": [
            "\titers: 1200, epoch: 2 | loss: 0.9082428\n",
            "\tspeed: 0.1099s/iter; left time: 1394.1188s\n"
          ]
        },
        {
          "output_type": "stream",
          "name": "stderr",
          "text": [
            "1301it [02:24,  9.09it/s]"
          ]
        },
        {
          "output_type": "stream",
          "name": "stdout",
          "text": [
            "\titers: 1300, epoch: 2 | loss: 0.7859170\n",
            "\tspeed: 0.1107s/iter; left time: 1393.0183s\n"
          ]
        },
        {
          "output_type": "stream",
          "name": "stderr",
          "text": [
            "1401it [02:35,  9.18it/s]"
          ]
        },
        {
          "output_type": "stream",
          "name": "stdout",
          "text": [
            "\titers: 1400, epoch: 2 | loss: 0.4231856\n",
            "\tspeed: 0.1100s/iter; left time: 1373.5713s\n"
          ]
        },
        {
          "output_type": "stream",
          "name": "stderr",
          "text": [
            "1501it [02:46,  8.94it/s]"
          ]
        },
        {
          "output_type": "stream",
          "name": "stdout",
          "text": [
            "\titers: 1500, epoch: 2 | loss: 0.2633456\n",
            "\tspeed: 0.1092s/iter; left time: 1353.4163s\n"
          ]
        },
        {
          "output_type": "stream",
          "name": "stderr",
          "text": [
            "1601it [02:57,  9.23it/s]"
          ]
        },
        {
          "output_type": "stream",
          "name": "stdout",
          "text": [
            "\titers: 1600, epoch: 2 | loss: 0.3813927\n",
            "\tspeed: 0.1105s/iter; left time: 1358.2419s\n"
          ]
        },
        {
          "output_type": "stream",
          "name": "stderr",
          "text": [
            "1701it [03:08,  8.68it/s]"
          ]
        },
        {
          "output_type": "stream",
          "name": "stdout",
          "text": [
            "\titers: 1700, epoch: 2 | loss: 1.2801819\n",
            "\tspeed: 0.1103s/iter; left time: 1344.4620s\n"
          ]
        },
        {
          "output_type": "stream",
          "name": "stderr",
          "text": [
            "1801it [03:19,  9.08it/s]"
          ]
        },
        {
          "output_type": "stream",
          "name": "stdout",
          "text": [
            "\titers: 1800, epoch: 2 | loss: 0.4085241\n",
            "\tspeed: 0.1094s/iter; left time: 1322.6954s\n"
          ]
        },
        {
          "output_type": "stream",
          "name": "stderr",
          "text": [
            "1901it [03:30,  9.20it/s]"
          ]
        },
        {
          "output_type": "stream",
          "name": "stdout",
          "text": [
            "\titers: 1900, epoch: 2 | loss: 0.2110593\n",
            "\tspeed: 0.1101s/iter; left time: 1319.5749s\n"
          ]
        },
        {
          "output_type": "stream",
          "name": "stderr",
          "text": [
            "2001it [03:41,  9.23it/s]"
          ]
        },
        {
          "output_type": "stream",
          "name": "stdout",
          "text": [
            "\titers: 2000, epoch: 2 | loss: 1.0771435\n",
            "\tspeed: 0.1103s/iter; left time: 1311.4224s\n"
          ]
        },
        {
          "output_type": "stream",
          "name": "stderr",
          "text": [
            "2101it [03:52,  9.06it/s]"
          ]
        },
        {
          "output_type": "stream",
          "name": "stdout",
          "text": [
            "\titers: 2100, epoch: 2 | loss: 0.5256037\n",
            "\tspeed: 0.1101s/iter; left time: 1297.9900s\n"
          ]
        },
        {
          "output_type": "stream",
          "name": "stderr",
          "text": [
            "2201it [04:03,  9.08it/s]"
          ]
        },
        {
          "output_type": "stream",
          "name": "stdout",
          "text": [
            "\titers: 2200, epoch: 2 | loss: 0.3846321\n",
            "\tspeed: 0.1112s/iter; left time: 1299.7799s\n"
          ]
        },
        {
          "output_type": "stream",
          "name": "stderr",
          "text": [
            "2301it [04:14,  9.24it/s]"
          ]
        },
        {
          "output_type": "stream",
          "name": "stdout",
          "text": [
            "\titers: 2300, epoch: 2 | loss: 0.3298784\n",
            "\tspeed: 0.1101s/iter; left time: 1275.9893s\n"
          ]
        },
        {
          "output_type": "stream",
          "name": "stderr",
          "text": [
            "2401it [04:25,  9.20it/s]"
          ]
        },
        {
          "output_type": "stream",
          "name": "stdout",
          "text": [
            "\titers: 2400, epoch: 2 | loss: 1.1016526\n",
            "\tspeed: 0.1104s/iter; left time: 1268.9112s\n"
          ]
        },
        {
          "output_type": "stream",
          "name": "stderr",
          "text": [
            "2501it [04:36,  8.99it/s]"
          ]
        },
        {
          "output_type": "stream",
          "name": "stdout",
          "text": [
            "\titers: 2500, epoch: 2 | loss: 0.8208404\n",
            "\tspeed: 0.1100s/iter; left time: 1252.7336s\n"
          ]
        },
        {
          "output_type": "stream",
          "name": "stderr",
          "text": [
            "2601it [04:47,  9.26it/s]"
          ]
        },
        {
          "output_type": "stream",
          "name": "stdout",
          "text": [
            "\titers: 2600, epoch: 2 | loss: 0.4101287\n",
            "\tspeed: 0.1099s/iter; left time: 1240.7338s\n"
          ]
        },
        {
          "output_type": "stream",
          "name": "stderr",
          "text": [
            "2701it [04:58,  8.88it/s]"
          ]
        },
        {
          "output_type": "stream",
          "name": "stdout",
          "text": [
            "\titers: 2700, epoch: 2 | loss: 0.2485989\n",
            "\tspeed: 0.1100s/iter; left time: 1231.3230s\n"
          ]
        },
        {
          "output_type": "stream",
          "name": "stderr",
          "text": [
            "2801it [05:09,  9.05it/s]"
          ]
        },
        {
          "output_type": "stream",
          "name": "stdout",
          "text": [
            "\titers: 2800, epoch: 2 | loss: 0.7517163\n",
            "\tspeed: 0.1105s/iter; left time: 1225.0359s\n"
          ]
        },
        {
          "output_type": "stream",
          "name": "stderr",
          "text": [
            "2901it [05:20,  9.18it/s]"
          ]
        },
        {
          "output_type": "stream",
          "name": "stdout",
          "text": [
            "\titers: 2900, epoch: 2 | loss: 0.3867924\n",
            "\tspeed: 0.1101s/iter; left time: 1209.6444s\n"
          ]
        },
        {
          "output_type": "stream",
          "name": "stderr",
          "text": [
            "3001it [05:31,  9.18it/s]"
          ]
        },
        {
          "output_type": "stream",
          "name": "stdout",
          "text": [
            "\titers: 3000, epoch: 2 | loss: 1.2365558\n",
            "\tspeed: 0.1097s/iter; left time: 1194.5188s\n"
          ]
        },
        {
          "output_type": "stream",
          "name": "stderr",
          "text": [
            "3101it [05:42,  9.09it/s]"
          ]
        },
        {
          "output_type": "stream",
          "name": "stdout",
          "text": [
            "\titers: 3100, epoch: 2 | loss: 1.0647606\n",
            "\tspeed: 0.1106s/iter; left time: 1192.8733s\n"
          ]
        },
        {
          "output_type": "stream",
          "name": "stderr",
          "text": [
            "3201it [05:53,  8.96it/s]"
          ]
        },
        {
          "output_type": "stream",
          "name": "stdout",
          "text": [
            "\titers: 3200, epoch: 2 | loss: 0.1629404\n",
            "\tspeed: 0.1102s/iter; left time: 1177.7624s\n"
          ]
        },
        {
          "output_type": "stream",
          "name": "stderr",
          "text": [
            "3301it [06:04,  9.19it/s]"
          ]
        },
        {
          "output_type": "stream",
          "name": "stdout",
          "text": [
            "\titers: 3300, epoch: 2 | loss: 0.3400703\n",
            "\tspeed: 0.1097s/iter; left time: 1162.0579s\n"
          ]
        },
        {
          "output_type": "stream",
          "name": "stderr",
          "text": [
            "3401it [06:15,  9.18it/s]"
          ]
        },
        {
          "output_type": "stream",
          "name": "stdout",
          "text": [
            "\titers: 3400, epoch: 2 | loss: 0.1767210\n",
            "\tspeed: 0.1101s/iter; left time: 1155.0618s\n"
          ]
        },
        {
          "output_type": "stream",
          "name": "stderr",
          "text": [
            "3472it [06:23,  9.05it/s]\n"
          ]
        },
        {
          "output_type": "stream",
          "name": "stdout",
          "text": [
            "Epoch: 2 cost time: 383.47190618515015\n"
          ]
        },
        {
          "output_type": "stream",
          "name": "stderr",
          "text": [
            "1176it [01:04, 18.35it/s]\n",
            "1176it [01:04, 18.36it/s]\n"
          ]
        },
        {
          "output_type": "stream",
          "name": "stdout",
          "text": [
            "Epoch: 2 | Train Loss: 0.5938417 Vali Loss: 0.3221757 Test Loss: 0.3648629 MAE Loss: 0.4005627\n",
            "Drive already mounted at /content/gdrive; to attempt to forcibly remount, call drive.mount(\"/content/gdrive\", force_remount=True).\n",
            "/content/gdrive/MyDrive/TimeLLM\n",
            "Updating learning rate to 0.0003999999999999993\n"
          ]
        },
        {
          "output_type": "stream",
          "name": "stderr",
          "text": [
            "101it [00:11,  8.76it/s]"
          ]
        },
        {
          "output_type": "stream",
          "name": "stdout",
          "text": [
            "\titers: 100, epoch: 3 | loss: 0.4116702\n",
            "\tspeed: 1.5042s/iter; left time: 15518.3951s\n"
          ]
        },
        {
          "output_type": "stream",
          "name": "stderr",
          "text": [
            "201it [00:23,  9.09it/s]"
          ]
        },
        {
          "output_type": "stream",
          "name": "stdout",
          "text": [
            "\titers: 200, epoch: 3 | loss: 0.2544158\n",
            "\tspeed: 0.1141s/iter; left time: 1165.7825s\n"
          ]
        },
        {
          "output_type": "stream",
          "name": "stderr",
          "text": [
            "301it [00:34,  9.27it/s]"
          ]
        },
        {
          "output_type": "stream",
          "name": "stdout",
          "text": [
            "\titers: 300, epoch: 3 | loss: 0.9317281\n",
            "\tspeed: 0.1104s/iter; left time: 1117.3521s\n"
          ]
        },
        {
          "output_type": "stream",
          "name": "stderr",
          "text": [
            "401it [00:45,  8.99it/s]"
          ]
        },
        {
          "output_type": "stream",
          "name": "stdout",
          "text": [
            "\titers: 400, epoch: 3 | loss: 0.8015023\n",
            "\tspeed: 0.1105s/iter; left time: 1106.4180s\n"
          ]
        },
        {
          "output_type": "stream",
          "name": "stderr",
          "text": [
            "501it [00:56,  9.02it/s]"
          ]
        },
        {
          "output_type": "stream",
          "name": "stdout",
          "text": [
            "\titers: 500, epoch: 3 | loss: 1.0423154\n",
            "\tspeed: 0.1111s/iter; left time: 1102.1333s\n"
          ]
        },
        {
          "output_type": "stream",
          "name": "stderr",
          "text": [
            "601it [01:07,  9.12it/s]"
          ]
        },
        {
          "output_type": "stream",
          "name": "stdout",
          "text": [
            "\titers: 600, epoch: 3 | loss: 0.8082733\n",
            "\tspeed: 0.1108s/iter; left time: 1087.6455s\n"
          ]
        },
        {
          "output_type": "stream",
          "name": "stderr",
          "text": [
            "701it [01:18,  8.88it/s]"
          ]
        },
        {
          "output_type": "stream",
          "name": "stdout",
          "text": [
            "\titers: 700, epoch: 3 | loss: 0.7096605\n",
            "\tspeed: 0.1107s/iter; left time: 1075.8193s\n"
          ]
        },
        {
          "output_type": "stream",
          "name": "stderr",
          "text": [
            "801it [01:29,  8.61it/s]"
          ]
        },
        {
          "output_type": "stream",
          "name": "stdout",
          "text": [
            "\titers: 800, epoch: 3 | loss: 0.8090146\n",
            "\tspeed: 0.1104s/iter; left time: 1061.7182s\n"
          ]
        },
        {
          "output_type": "stream",
          "name": "stderr",
          "text": [
            "901it [01:40,  9.21it/s]"
          ]
        },
        {
          "output_type": "stream",
          "name": "stdout",
          "text": [
            "\titers: 900, epoch: 3 | loss: 0.1958900\n",
            "\tspeed: 0.1101s/iter; left time: 1047.9504s\n"
          ]
        },
        {
          "output_type": "stream",
          "name": "stderr",
          "text": [
            "1001it [01:51,  9.22it/s]"
          ]
        },
        {
          "output_type": "stream",
          "name": "stdout",
          "text": [
            "\titers: 1000, epoch: 3 | loss: 0.5354178\n",
            "\tspeed: 0.1099s/iter; left time: 1034.8493s\n"
          ]
        },
        {
          "output_type": "stream",
          "name": "stderr",
          "text": [
            "1101it [02:02,  9.15it/s]"
          ]
        },
        {
          "output_type": "stream",
          "name": "stdout",
          "text": [
            "\titers: 1100, epoch: 3 | loss: 0.3976744\n",
            "\tspeed: 0.1096s/iter; left time: 1021.1715s\n"
          ]
        },
        {
          "output_type": "stream",
          "name": "stderr",
          "text": [
            "1201it [02:13,  9.20it/s]"
          ]
        },
        {
          "output_type": "stream",
          "name": "stdout",
          "text": [
            "\titers: 1200, epoch: 3 | loss: 0.9441349\n",
            "\tspeed: 0.1099s/iter; left time: 1012.4995s\n"
          ]
        },
        {
          "output_type": "stream",
          "name": "stderr",
          "text": [
            "1301it [02:24,  9.17it/s]"
          ]
        },
        {
          "output_type": "stream",
          "name": "stdout",
          "text": [
            "\titers: 1300, epoch: 3 | loss: 0.3380526\n",
            "\tspeed: 0.1101s/iter; left time: 1003.6783s\n"
          ]
        },
        {
          "output_type": "stream",
          "name": "stderr",
          "text": [
            "1401it [02:35,  8.88it/s]"
          ]
        },
        {
          "output_type": "stream",
          "name": "stdout",
          "text": [
            "\titers: 1400, epoch: 3 | loss: 0.9813610\n",
            "\tspeed: 0.1109s/iter; left time: 1000.0788s\n"
          ]
        },
        {
          "output_type": "stream",
          "name": "stderr",
          "text": [
            "1501it [02:46,  8.99it/s]"
          ]
        },
        {
          "output_type": "stream",
          "name": "stdout",
          "text": [
            "\titers: 1500, epoch: 3 | loss: 0.8839799\n",
            "\tspeed: 0.1101s/iter; left time: 981.7658s\n"
          ]
        },
        {
          "output_type": "stream",
          "name": "stderr",
          "text": [
            "1601it [02:57,  9.19it/s]"
          ]
        },
        {
          "output_type": "stream",
          "name": "stdout",
          "text": [
            "\titers: 1600, epoch: 3 | loss: 0.2530988\n",
            "\tspeed: 0.1102s/iter; left time: 971.6880s\n"
          ]
        },
        {
          "output_type": "stream",
          "name": "stderr",
          "text": [
            "1701it [03:08,  9.19it/s]"
          ]
        },
        {
          "output_type": "stream",
          "name": "stdout",
          "text": [
            "\titers: 1700, epoch: 3 | loss: 0.8595219\n",
            "\tspeed: 0.1102s/iter; left time: 961.0235s\n"
          ]
        },
        {
          "output_type": "stream",
          "name": "stderr",
          "text": [
            "1801it [03:19,  8.93it/s]"
          ]
        },
        {
          "output_type": "stream",
          "name": "stdout",
          "text": [
            "\titers: 1800, epoch: 3 | loss: 1.2800090\n",
            "\tspeed: 0.1100s/iter; left time: 948.1963s\n"
          ]
        },
        {
          "output_type": "stream",
          "name": "stderr",
          "text": [
            "1901it [03:30,  9.22it/s]"
          ]
        },
        {
          "output_type": "stream",
          "name": "stdout",
          "text": [
            "\titers: 1900, epoch: 3 | loss: 0.2383658\n",
            "\tspeed: 0.1099s/iter; left time: 935.9675s\n"
          ]
        },
        {
          "output_type": "stream",
          "name": "stderr",
          "text": [
            "2001it [03:41,  8.75it/s]"
          ]
        },
        {
          "output_type": "stream",
          "name": "stdout",
          "text": [
            "\titers: 2000, epoch: 3 | loss: 1.4747477\n",
            "\tspeed: 0.1096s/iter; left time: 922.2176s\n"
          ]
        },
        {
          "output_type": "stream",
          "name": "stderr",
          "text": [
            "2101it [03:52,  9.23it/s]"
          ]
        },
        {
          "output_type": "stream",
          "name": "stdout",
          "text": [
            "\titers: 2100, epoch: 3 | loss: 0.5809124\n",
            "\tspeed: 0.1096s/iter; left time: 911.2645s\n"
          ]
        },
        {
          "output_type": "stream",
          "name": "stderr",
          "text": [
            "2201it [04:03,  9.21it/s]"
          ]
        },
        {
          "output_type": "stream",
          "name": "stdout",
          "text": [
            "\titers: 2200, epoch: 3 | loss: 0.6998841\n",
            "\tspeed: 0.1103s/iter; left time: 906.3585s\n"
          ]
        },
        {
          "output_type": "stream",
          "name": "stderr",
          "text": [
            "2301it [04:14,  8.75it/s]"
          ]
        },
        {
          "output_type": "stream",
          "name": "stdout",
          "text": [
            "\titers: 2300, epoch: 3 | loss: 0.2452849\n",
            "\tspeed: 0.1113s/iter; left time: 903.6043s\n"
          ]
        },
        {
          "output_type": "stream",
          "name": "stderr",
          "text": [
            "2401it [04:25,  9.06it/s]"
          ]
        },
        {
          "output_type": "stream",
          "name": "stdout",
          "text": [
            "\titers: 2400, epoch: 3 | loss: 0.6362100\n",
            "\tspeed: 0.1105s/iter; left time: 886.1725s\n"
          ]
        },
        {
          "output_type": "stream",
          "name": "stderr",
          "text": [
            "2501it [04:36,  9.11it/s]"
          ]
        },
        {
          "output_type": "stream",
          "name": "stdout",
          "text": [
            "\titers: 2500, epoch: 3 | loss: 0.4060797\n",
            "\tspeed: 0.1110s/iter; left time: 878.8088s\n"
          ]
        },
        {
          "output_type": "stream",
          "name": "stderr",
          "text": [
            "2601it [04:47,  8.92it/s]"
          ]
        },
        {
          "output_type": "stream",
          "name": "stdout",
          "text": [
            "\titers: 2600, epoch: 3 | loss: 0.2006667\n",
            "\tspeed: 0.1105s/iter; left time: 863.6802s\n"
          ]
        },
        {
          "output_type": "stream",
          "name": "stderr",
          "text": [
            "2701it [04:59,  8.93it/s]"
          ]
        },
        {
          "output_type": "stream",
          "name": "stdout",
          "text": [
            "\titers: 2700, epoch: 3 | loss: 0.5567311\n",
            "\tspeed: 0.1109s/iter; left time: 855.5914s\n"
          ]
        },
        {
          "output_type": "stream",
          "name": "stderr",
          "text": [
            "2801it [05:10,  8.94it/s]"
          ]
        },
        {
          "output_type": "stream",
          "name": "stdout",
          "text": [
            "\titers: 2800, epoch: 3 | loss: 1.6347847\n",
            "\tspeed: 0.1111s/iter; left time: 846.4681s\n"
          ]
        },
        {
          "output_type": "stream",
          "name": "stderr",
          "text": [
            "2901it [05:21,  9.14it/s]"
          ]
        },
        {
          "output_type": "stream",
          "name": "stdout",
          "text": [
            "\titers: 2900, epoch: 3 | loss: 0.2978790\n",
            "\tspeed: 0.1099s/iter; left time: 825.9722s\n"
          ]
        },
        {
          "output_type": "stream",
          "name": "stderr",
          "text": [
            "3001it [05:32,  9.09it/s]"
          ]
        },
        {
          "output_type": "stream",
          "name": "stdout",
          "text": [
            "\titers: 3000, epoch: 3 | loss: 1.2043140\n",
            "\tspeed: 0.1097s/iter; left time: 813.3151s\n"
          ]
        },
        {
          "output_type": "stream",
          "name": "stderr",
          "text": [
            "3101it [05:43,  9.36it/s]"
          ]
        },
        {
          "output_type": "stream",
          "name": "stdout",
          "text": [
            "\titers: 3100, epoch: 3 | loss: 0.5444880\n",
            "\tspeed: 0.1106s/iter; left time: 809.4651s\n"
          ]
        },
        {
          "output_type": "stream",
          "name": "stderr",
          "text": [
            "3201it [05:54,  9.19it/s]"
          ]
        },
        {
          "output_type": "stream",
          "name": "stdout",
          "text": [
            "\titers: 3200, epoch: 3 | loss: 0.4162444\n",
            "\tspeed: 0.1103s/iter; left time: 795.7068s\n"
          ]
        },
        {
          "output_type": "stream",
          "name": "stderr",
          "text": [
            "3301it [06:05,  9.16it/s]"
          ]
        },
        {
          "output_type": "stream",
          "name": "stdout",
          "text": [
            "\titers: 3300, epoch: 3 | loss: 0.2011994\n",
            "\tspeed: 0.1108s/iter; left time: 788.4717s\n"
          ]
        },
        {
          "output_type": "stream",
          "name": "stderr",
          "text": [
            "3401it [06:16,  8.94it/s]"
          ]
        },
        {
          "output_type": "stream",
          "name": "stdout",
          "text": [
            "\titers: 3400, epoch: 3 | loss: 0.3523036\n",
            "\tspeed: 0.1103s/iter; left time: 774.2958s\n"
          ]
        },
        {
          "output_type": "stream",
          "name": "stderr",
          "text": [
            "3472it [06:24,  9.03it/s]\n"
          ]
        },
        {
          "output_type": "stream",
          "name": "stdout",
          "text": [
            "Epoch: 3 cost time: 384.40006971359253\n"
          ]
        },
        {
          "output_type": "stream",
          "name": "stderr",
          "text": [
            "1176it [01:04, 18.14it/s]\n",
            "1176it [01:04, 18.31it/s]\n"
          ]
        },
        {
          "output_type": "stream",
          "name": "stdout",
          "text": [
            "Epoch: 3 | Train Loss: 0.5582362 Vali Loss: 0.3153685 Test Loss: 0.3618698 MAE Loss: 0.3969457\n",
            "Drive already mounted at /content/gdrive; to attempt to forcibly remount, call drive.mount(\"/content/gdrive\", force_remount=True).\n",
            "/content/gdrive/MyDrive/TimeLLM\n",
            "Updating learning rate to 0.00019999999999999966\n"
          ]
        },
        {
          "output_type": "stream",
          "name": "stderr",
          "text": [
            "101it [00:11,  8.57it/s]"
          ]
        },
        {
          "output_type": "stream",
          "name": "stdout",
          "text": [
            "\titers: 100, epoch: 4 | loss: 0.2897473\n",
            "\tspeed: 1.5154s/iter; left time: 10373.0770s\n"
          ]
        },
        {
          "output_type": "stream",
          "name": "stderr",
          "text": [
            "201it [00:23,  9.07it/s]"
          ]
        },
        {
          "output_type": "stream",
          "name": "stdout",
          "text": [
            "\titers: 200, epoch: 4 | loss: 0.4207911\n",
            "\tspeed: 0.1158s/iter; left time: 780.7461s\n"
          ]
        },
        {
          "output_type": "stream",
          "name": "stderr",
          "text": [
            "301it [00:34,  9.21it/s]"
          ]
        },
        {
          "output_type": "stream",
          "name": "stdout",
          "text": [
            "\titers: 300, epoch: 4 | loss: 0.3379707\n",
            "\tspeed: 0.1105s/iter; left time: 734.3855s\n"
          ]
        },
        {
          "output_type": "stream",
          "name": "stderr",
          "text": [
            "401it [00:45,  9.17it/s]"
          ]
        },
        {
          "output_type": "stream",
          "name": "stdout",
          "text": [
            "\titers: 400, epoch: 4 | loss: 0.7651343\n",
            "\tspeed: 0.1102s/iter; left time: 721.1389s\n"
          ]
        },
        {
          "output_type": "stream",
          "name": "stderr",
          "text": [
            "501it [00:56,  9.02it/s]"
          ]
        },
        {
          "output_type": "stream",
          "name": "stdout",
          "text": [
            "\titers: 500, epoch: 4 | loss: 1.1410096\n",
            "\tspeed: 0.1097s/iter; left time: 706.7437s\n"
          ]
        },
        {
          "output_type": "stream",
          "name": "stderr",
          "text": [
            "601it [01:07,  9.14it/s]"
          ]
        },
        {
          "output_type": "stream",
          "name": "stdout",
          "text": [
            "\titers: 600, epoch: 4 | loss: 0.4181627\n",
            "\tspeed: 0.1104s/iter; left time: 700.3950s\n"
          ]
        },
        {
          "output_type": "stream",
          "name": "stderr",
          "text": [
            "701it [01:18,  9.22it/s]"
          ]
        },
        {
          "output_type": "stream",
          "name": "stdout",
          "text": [
            "\titers: 700, epoch: 4 | loss: 0.4209170\n",
            "\tspeed: 0.1098s/iter; left time: 685.8159s\n"
          ]
        },
        {
          "output_type": "stream",
          "name": "stderr",
          "text": [
            "801it [01:29,  9.14it/s]"
          ]
        },
        {
          "output_type": "stream",
          "name": "stdout",
          "text": [
            "\titers: 800, epoch: 4 | loss: 0.3809155\n",
            "\tspeed: 0.1101s/iter; left time: 676.7827s\n"
          ]
        },
        {
          "output_type": "stream",
          "name": "stderr",
          "text": [
            "901it [01:40,  9.01it/s]"
          ]
        },
        {
          "output_type": "stream",
          "name": "stdout",
          "text": [
            "\titers: 900, epoch: 4 | loss: 0.2923763\n",
            "\tspeed: 0.1100s/iter; left time: 664.8940s\n"
          ]
        },
        {
          "output_type": "stream",
          "name": "stderr",
          "text": [
            "1001it [01:51,  9.01it/s]"
          ]
        },
        {
          "output_type": "stream",
          "name": "stdout",
          "text": [
            "\titers: 1000, epoch: 4 | loss: 1.3883462\n",
            "\tspeed: 0.1095s/iter; left time: 650.9360s\n"
          ]
        },
        {
          "output_type": "stream",
          "name": "stderr",
          "text": [
            "1101it [02:02,  9.00it/s]"
          ]
        },
        {
          "output_type": "stream",
          "name": "stdout",
          "text": [
            "\titers: 1100, epoch: 4 | loss: 0.3677275\n",
            "\tspeed: 0.1107s/iter; left time: 647.2668s\n"
          ]
        },
        {
          "output_type": "stream",
          "name": "stderr",
          "text": [
            "1201it [02:13,  9.15it/s]"
          ]
        },
        {
          "output_type": "stream",
          "name": "stdout",
          "text": [
            "\titers: 1200, epoch: 4 | loss: 0.4526308\n",
            "\tspeed: 0.1099s/iter; left time: 631.2361s\n"
          ]
        },
        {
          "output_type": "stream",
          "name": "stderr",
          "text": [
            "1301it [02:24,  9.15it/s]"
          ]
        },
        {
          "output_type": "stream",
          "name": "stdout",
          "text": [
            "\titers: 1300, epoch: 4 | loss: 0.6084365\n",
            "\tspeed: 0.1102s/iter; left time: 621.9748s\n"
          ]
        },
        {
          "output_type": "stream",
          "name": "stderr",
          "text": [
            "1401it [02:35,  9.07it/s]"
          ]
        },
        {
          "output_type": "stream",
          "name": "stdout",
          "text": [
            "\titers: 1400, epoch: 4 | loss: 0.2872346\n",
            "\tspeed: 0.1104s/iter; left time: 612.0195s\n"
          ]
        },
        {
          "output_type": "stream",
          "name": "stderr",
          "text": [
            "1501it [02:46,  9.08it/s]"
          ]
        },
        {
          "output_type": "stream",
          "name": "stdout",
          "text": [
            "\titers: 1500, epoch: 4 | loss: 0.2959887\n",
            "\tspeed: 0.1104s/iter; left time: 600.9035s\n"
          ]
        },
        {
          "output_type": "stream",
          "name": "stderr",
          "text": [
            "1601it [02:57,  9.06it/s]"
          ]
        },
        {
          "output_type": "stream",
          "name": "stdout",
          "text": [
            "\titers: 1600, epoch: 4 | loss: 0.7412874\n",
            "\tspeed: 0.1098s/iter; left time: 587.1419s\n"
          ]
        },
        {
          "output_type": "stream",
          "name": "stderr",
          "text": [
            "1701it [03:08,  8.97it/s]"
          ]
        },
        {
          "output_type": "stream",
          "name": "stdout",
          "text": [
            "\titers: 1700, epoch: 4 | loss: 0.8218859\n",
            "\tspeed: 0.1109s/iter; left time: 581.5386s\n"
          ]
        },
        {
          "output_type": "stream",
          "name": "stderr",
          "text": [
            "1801it [03:19,  9.09it/s]"
          ]
        },
        {
          "output_type": "stream",
          "name": "stdout",
          "text": [
            "\titers: 1800, epoch: 4 | loss: 0.2701827\n",
            "\tspeed: 0.1095s/iter; left time: 563.4640s\n"
          ]
        },
        {
          "output_type": "stream",
          "name": "stderr",
          "text": [
            "1901it [03:30,  8.99it/s]"
          ]
        },
        {
          "output_type": "stream",
          "name": "stdout",
          "text": [
            "\titers: 1900, epoch: 4 | loss: 0.6457148\n",
            "\tspeed: 0.1102s/iter; left time: 555.7591s\n"
          ]
        },
        {
          "output_type": "stream",
          "name": "stderr",
          "text": [
            "2001it [03:41,  9.11it/s]"
          ]
        },
        {
          "output_type": "stream",
          "name": "stdout",
          "text": [
            "\titers: 2000, epoch: 4 | loss: 0.4403098\n",
            "\tspeed: 0.1097s/iter; left time: 542.6567s\n"
          ]
        },
        {
          "output_type": "stream",
          "name": "stderr",
          "text": [
            "2101it [03:52,  9.00it/s]"
          ]
        },
        {
          "output_type": "stream",
          "name": "stdout",
          "text": [
            "\titers: 2100, epoch: 4 | loss: 1.3348968\n",
            "\tspeed: 0.1099s/iter; left time: 532.6325s\n"
          ]
        },
        {
          "output_type": "stream",
          "name": "stderr",
          "text": [
            "2201it [04:03,  9.21it/s]"
          ]
        },
        {
          "output_type": "stream",
          "name": "stdout",
          "text": [
            "\titers: 2200, epoch: 4 | loss: 0.1804542\n",
            "\tspeed: 0.1104s/iter; left time: 523.8717s\n"
          ]
        },
        {
          "output_type": "stream",
          "name": "stderr",
          "text": [
            "2301it [04:14,  9.11it/s]"
          ]
        },
        {
          "output_type": "stream",
          "name": "stdout",
          "text": [
            "\titers: 2300, epoch: 4 | loss: 0.7844467\n",
            "\tspeed: 0.1101s/iter; left time: 511.2343s\n"
          ]
        },
        {
          "output_type": "stream",
          "name": "stderr",
          "text": [
            "2401it [04:25,  9.15it/s]"
          ]
        },
        {
          "output_type": "stream",
          "name": "stdout",
          "text": [
            "\titers: 2400, epoch: 4 | loss: 0.1885700\n",
            "\tspeed: 0.1095s/iter; left time: 497.8103s\n"
          ]
        },
        {
          "output_type": "stream",
          "name": "stderr",
          "text": [
            "2501it [04:36,  9.13it/s]"
          ]
        },
        {
          "output_type": "stream",
          "name": "stdout",
          "text": [
            "\titers: 2500, epoch: 4 | loss: 0.1884660\n",
            "\tspeed: 0.1103s/iter; left time: 490.2447s\n"
          ]
        },
        {
          "output_type": "stream",
          "name": "stderr",
          "text": [
            "2601it [04:47,  8.86it/s]"
          ]
        },
        {
          "output_type": "stream",
          "name": "stdout",
          "text": [
            "\titers: 2600, epoch: 4 | loss: 0.5355238\n",
            "\tspeed: 0.1110s/iter; left time: 482.3156s\n"
          ]
        },
        {
          "output_type": "stream",
          "name": "stderr",
          "text": [
            "2701it [04:58,  9.20it/s]"
          ]
        },
        {
          "output_type": "stream",
          "name": "stdout",
          "text": [
            "\titers: 2700, epoch: 4 | loss: 0.3204296\n",
            "\tspeed: 0.1105s/iter; left time: 468.9503s\n"
          ]
        },
        {
          "output_type": "stream",
          "name": "stderr",
          "text": [
            "2801it [05:09,  9.03it/s]"
          ]
        },
        {
          "output_type": "stream",
          "name": "stdout",
          "text": [
            "\titers: 2800, epoch: 4 | loss: 0.5748523\n",
            "\tspeed: 0.1111s/iter; left time: 460.7029s\n"
          ]
        },
        {
          "output_type": "stream",
          "name": "stderr",
          "text": [
            "2901it [05:20,  9.03it/s]"
          ]
        },
        {
          "output_type": "stream",
          "name": "stdout",
          "text": [
            "\titers: 2900, epoch: 4 | loss: 0.3445352\n",
            "\tspeed: 0.1110s/iter; left time: 448.9141s\n"
          ]
        },
        {
          "output_type": "stream",
          "name": "stderr",
          "text": [
            "3001it [05:32,  8.93it/s]"
          ]
        },
        {
          "output_type": "stream",
          "name": "stdout",
          "text": [
            "\titers: 3000, epoch: 4 | loss: 0.3687631\n",
            "\tspeed: 0.1111s/iter; left time: 438.3286s\n"
          ]
        },
        {
          "output_type": "stream",
          "name": "stderr",
          "text": [
            "3101it [05:43,  8.96it/s]"
          ]
        },
        {
          "output_type": "stream",
          "name": "stdout",
          "text": [
            "\titers: 3100, epoch: 4 | loss: 0.3164248\n",
            "\tspeed: 0.1109s/iter; left time: 426.5381s\n"
          ]
        },
        {
          "output_type": "stream",
          "name": "stderr",
          "text": [
            "3201it [05:54,  9.00it/s]"
          ]
        },
        {
          "output_type": "stream",
          "name": "stdout",
          "text": [
            "\titers: 3200, epoch: 4 | loss: 0.4983508\n",
            "\tspeed: 0.1104s/iter; left time: 413.5296s\n"
          ]
        },
        {
          "output_type": "stream",
          "name": "stderr",
          "text": [
            "3301it [06:05,  9.11it/s]"
          ]
        },
        {
          "output_type": "stream",
          "name": "stdout",
          "text": [
            "\titers: 3300, epoch: 4 | loss: 1.0599130\n",
            "\tspeed: 0.1110s/iter; left time: 404.4891s\n"
          ]
        },
        {
          "output_type": "stream",
          "name": "stderr",
          "text": [
            "3401it [06:16,  9.10it/s]"
          ]
        },
        {
          "output_type": "stream",
          "name": "stdout",
          "text": [
            "\titers: 3400, epoch: 4 | loss: 0.9677050\n",
            "\tspeed: 0.1105s/iter; left time: 391.6951s\n"
          ]
        },
        {
          "output_type": "stream",
          "name": "stderr",
          "text": [
            "3472it [06:24,  9.04it/s]\n"
          ]
        },
        {
          "output_type": "stream",
          "name": "stdout",
          "text": [
            "Epoch: 4 cost time: 384.22379088401794\n"
          ]
        },
        {
          "output_type": "stream",
          "name": "stderr",
          "text": [
            "1176it [01:04, 18.29it/s]\n",
            "1176it [01:04, 18.30it/s]\n"
          ]
        },
        {
          "output_type": "stream",
          "name": "stdout",
          "text": [
            "Epoch: 4 | Train Loss: 0.5462493 Vali Loss: 0.3045364 Test Loss: 0.3629916 MAE Loss: 0.3967114\n",
            "Drive already mounted at /content/gdrive; to attempt to forcibly remount, call drive.mount(\"/content/gdrive\", force_remount=True).\n",
            "/content/gdrive/MyDrive/TimeLLM\n",
            "Updating learning rate to 9.999999999999983e-05\n"
          ]
        },
        {
          "output_type": "stream",
          "name": "stderr",
          "text": [
            "101it [00:11,  8.38it/s]"
          ]
        },
        {
          "output_type": "stream",
          "name": "stdout",
          "text": [
            "\titers: 100, epoch: 5 | loss: 0.3431663\n",
            "\tspeed: 1.5070s/iter; left time: 5082.9465s\n"
          ]
        },
        {
          "output_type": "stream",
          "name": "stderr",
          "text": [
            "201it [00:23,  9.04it/s]"
          ]
        },
        {
          "output_type": "stream",
          "name": "stdout",
          "text": [
            "\titers: 200, epoch: 5 | loss: 0.7959411\n",
            "\tspeed: 0.1157s/iter; left time: 378.6931s\n"
          ]
        },
        {
          "output_type": "stream",
          "name": "stderr",
          "text": [
            "301it [00:34,  9.10it/s]"
          ]
        },
        {
          "output_type": "stream",
          "name": "stdout",
          "text": [
            "\titers: 300, epoch: 5 | loss: 0.5880048\n",
            "\tspeed: 0.1104s/iter; left time: 350.2121s\n"
          ]
        },
        {
          "output_type": "stream",
          "name": "stderr",
          "text": [
            "401it [00:45,  9.17it/s]"
          ]
        },
        {
          "output_type": "stream",
          "name": "stdout",
          "text": [
            "\titers: 400, epoch: 5 | loss: 1.7490041\n",
            "\tspeed: 0.1103s/iter; left time: 339.0874s\n"
          ]
        },
        {
          "output_type": "stream",
          "name": "stderr",
          "text": [
            "501it [00:56,  9.13it/s]"
          ]
        },
        {
          "output_type": "stream",
          "name": "stdout",
          "text": [
            "\titers: 500, epoch: 5 | loss: 0.2516125\n",
            "\tspeed: 0.1101s/iter; left time: 327.3346s\n"
          ]
        },
        {
          "output_type": "stream",
          "name": "stderr",
          "text": [
            "601it [01:07,  9.06it/s]"
          ]
        },
        {
          "output_type": "stream",
          "name": "stdout",
          "text": [
            "\titers: 600, epoch: 5 | loss: 0.3712731\n",
            "\tspeed: 0.1103s/iter; left time: 316.7509s\n"
          ]
        },
        {
          "output_type": "stream",
          "name": "stderr",
          "text": [
            "701it [01:18,  9.05it/s]"
          ]
        },
        {
          "output_type": "stream",
          "name": "stdout",
          "text": [
            "\titers: 700, epoch: 5 | loss: 0.8413194\n",
            "\tspeed: 0.1112s/iter; left time: 308.3490s\n"
          ]
        },
        {
          "output_type": "stream",
          "name": "stderr",
          "text": [
            "801it [01:29,  9.14it/s]"
          ]
        },
        {
          "output_type": "stream",
          "name": "stdout",
          "text": [
            "\titers: 800, epoch: 5 | loss: 0.3939743\n",
            "\tspeed: 0.1108s/iter; left time: 296.1357s\n"
          ]
        },
        {
          "output_type": "stream",
          "name": "stderr",
          "text": [
            "901it [01:40,  8.98it/s]"
          ]
        },
        {
          "output_type": "stream",
          "name": "stdout",
          "text": [
            "\titers: 900, epoch: 5 | loss: 0.6451160\n",
            "\tspeed: 0.1103s/iter; left time: 283.7140s\n"
          ]
        },
        {
          "output_type": "stream",
          "name": "stderr",
          "text": [
            "1001it [01:51,  9.25it/s]"
          ]
        },
        {
          "output_type": "stream",
          "name": "stdout",
          "text": [
            "\titers: 1000, epoch: 5 | loss: 0.4387490\n",
            "\tspeed: 0.1103s/iter; left time: 272.6587s\n"
          ]
        },
        {
          "output_type": "stream",
          "name": "stderr",
          "text": [
            "1101it [02:02,  9.07it/s]"
          ]
        },
        {
          "output_type": "stream",
          "name": "stdout",
          "text": [
            "\titers: 1100, epoch: 5 | loss: 0.1681557\n",
            "\tspeed: 0.1103s/iter; left time: 261.6856s\n"
          ]
        },
        {
          "output_type": "stream",
          "name": "stderr",
          "text": [
            "1201it [02:13,  9.04it/s]"
          ]
        },
        {
          "output_type": "stream",
          "name": "stdout",
          "text": [
            "\titers: 1200, epoch: 5 | loss: 0.7172260\n",
            "\tspeed: 0.1100s/iter; left time: 250.0285s\n"
          ]
        },
        {
          "output_type": "stream",
          "name": "stderr",
          "text": [
            "1301it [02:24,  8.93it/s]"
          ]
        },
        {
          "output_type": "stream",
          "name": "stdout",
          "text": [
            "\titers: 1300, epoch: 5 | loss: 0.8422307\n",
            "\tspeed: 0.1102s/iter; left time: 239.4219s\n"
          ]
        },
        {
          "output_type": "stream",
          "name": "stderr",
          "text": [
            "1401it [02:35,  9.20it/s]"
          ]
        },
        {
          "output_type": "stream",
          "name": "stdout",
          "text": [
            "\titers: 1400, epoch: 5 | loss: 0.2898099\n",
            "\tspeed: 0.1107s/iter; left time: 229.3971s\n"
          ]
        },
        {
          "output_type": "stream",
          "name": "stderr",
          "text": [
            "1501it [02:46,  9.22it/s]"
          ]
        },
        {
          "output_type": "stream",
          "name": "stdout",
          "text": [
            "\titers: 1500, epoch: 5 | loss: 0.6333221\n",
            "\tspeed: 0.1098s/iter; left time: 216.7179s\n"
          ]
        },
        {
          "output_type": "stream",
          "name": "stderr",
          "text": [
            "1601it [02:57,  9.03it/s]"
          ]
        },
        {
          "output_type": "stream",
          "name": "stdout",
          "text": [
            "\titers: 1600, epoch: 5 | loss: 0.5744892\n",
            "\tspeed: 0.1104s/iter; left time: 206.8016s\n"
          ]
        },
        {
          "output_type": "stream",
          "name": "stderr",
          "text": [
            "1701it [03:08,  9.11it/s]"
          ]
        },
        {
          "output_type": "stream",
          "name": "stdout",
          "text": [
            "\titers: 1700, epoch: 5 | loss: 0.9833633\n",
            "\tspeed: 0.1106s/iter; left time: 196.0298s\n"
          ]
        },
        {
          "output_type": "stream",
          "name": "stderr",
          "text": [
            "1801it [03:19,  9.15it/s]"
          ]
        },
        {
          "output_type": "stream",
          "name": "stdout",
          "text": [
            "\titers: 1800, epoch: 5 | loss: 0.2161575\n",
            "\tspeed: 0.1099s/iter; left time: 183.8392s\n"
          ]
        },
        {
          "output_type": "stream",
          "name": "stderr",
          "text": [
            "1901it [03:30,  8.98it/s]"
          ]
        },
        {
          "output_type": "stream",
          "name": "stdout",
          "text": [
            "\titers: 1900, epoch: 5 | loss: 0.6373197\n",
            "\tspeed: 0.1098s/iter; left time: 172.7191s\n"
          ]
        },
        {
          "output_type": "stream",
          "name": "stderr",
          "text": [
            "2001it [03:41,  9.13it/s]"
          ]
        },
        {
          "output_type": "stream",
          "name": "stdout",
          "text": [
            "\titers: 2000, epoch: 5 | loss: 0.9032134\n",
            "\tspeed: 0.1111s/iter; left time: 163.6731s\n"
          ]
        },
        {
          "output_type": "stream",
          "name": "stderr",
          "text": [
            "2101it [03:53,  9.08it/s]"
          ]
        },
        {
          "output_type": "stream",
          "name": "stdout",
          "text": [
            "\titers: 2100, epoch: 5 | loss: 0.3113223\n",
            "\tspeed: 0.1104s/iter; left time: 151.6049s\n"
          ]
        },
        {
          "output_type": "stream",
          "name": "stderr",
          "text": [
            "2201it [04:04,  8.81it/s]"
          ]
        },
        {
          "output_type": "stream",
          "name": "stdout",
          "text": [
            "\titers: 2200, epoch: 5 | loss: 0.3098580\n",
            "\tspeed: 0.1097s/iter; left time: 139.6414s\n"
          ]
        },
        {
          "output_type": "stream",
          "name": "stderr",
          "text": [
            "2301it [04:15,  8.86it/s]"
          ]
        },
        {
          "output_type": "stream",
          "name": "stdout",
          "text": [
            "\titers: 2300, epoch: 5 | loss: 0.3308949\n",
            "\tspeed: 0.1103s/iter; left time: 129.3779s\n"
          ]
        },
        {
          "output_type": "stream",
          "name": "stderr",
          "text": [
            "2401it [04:26,  9.17it/s]"
          ]
        },
        {
          "output_type": "stream",
          "name": "stdout",
          "text": [
            "\titers: 2400, epoch: 5 | loss: 1.3488077\n",
            "\tspeed: 0.1104s/iter; left time: 118.4196s\n"
          ]
        },
        {
          "output_type": "stream",
          "name": "stderr",
          "text": [
            "2501it [04:37,  9.01it/s]"
          ]
        },
        {
          "output_type": "stream",
          "name": "stdout",
          "text": [
            "\titers: 2500, epoch: 5 | loss: 0.9028336\n",
            "\tspeed: 0.1101s/iter; left time: 107.1695s\n"
          ]
        },
        {
          "output_type": "stream",
          "name": "stderr",
          "text": [
            "2601it [04:48,  9.19it/s]"
          ]
        },
        {
          "output_type": "stream",
          "name": "stdout",
          "text": [
            "\titers: 2600, epoch: 5 | loss: 0.3193273\n",
            "\tspeed: 0.1107s/iter; left time: 96.6027s\n"
          ]
        },
        {
          "output_type": "stream",
          "name": "stderr",
          "text": [
            "2701it [04:59,  9.12it/s]"
          ]
        },
        {
          "output_type": "stream",
          "name": "stdout",
          "text": [
            "\titers: 2700, epoch: 5 | loss: 0.4166091\n",
            "\tspeed: 0.1103s/iter; left time: 85.2280s\n"
          ]
        },
        {
          "output_type": "stream",
          "name": "stderr",
          "text": [
            "2801it [05:10,  9.28it/s]"
          ]
        },
        {
          "output_type": "stream",
          "name": "stdout",
          "text": [
            "\titers: 2800, epoch: 5 | loss: 0.2323612\n",
            "\tspeed: 0.1099s/iter; left time: 73.9440s\n"
          ]
        },
        {
          "output_type": "stream",
          "name": "stderr",
          "text": [
            "2901it [05:21,  9.07it/s]"
          ]
        },
        {
          "output_type": "stream",
          "name": "stdout",
          "text": [
            "\titers: 2900, epoch: 5 | loss: 0.1910554\n",
            "\tspeed: 0.1098s/iter; left time: 62.9408s\n"
          ]
        },
        {
          "output_type": "stream",
          "name": "stderr",
          "text": [
            "3001it [05:32,  9.00it/s]"
          ]
        },
        {
          "output_type": "stream",
          "name": "stdout",
          "text": [
            "\titers: 3000, epoch: 5 | loss: 0.6764411\n",
            "\tspeed: 0.1099s/iter; left time: 51.9855s\n"
          ]
        },
        {
          "output_type": "stream",
          "name": "stderr",
          "text": [
            "3101it [05:43,  8.99it/s]"
          ]
        },
        {
          "output_type": "stream",
          "name": "stdout",
          "text": [
            "\titers: 3100, epoch: 5 | loss: 0.4864645\n",
            "\tspeed: 0.1111s/iter; left time: 41.4509s\n"
          ]
        },
        {
          "output_type": "stream",
          "name": "stderr",
          "text": [
            "3201it [05:54,  8.72it/s]"
          ]
        },
        {
          "output_type": "stream",
          "name": "stdout",
          "text": [
            "\titers: 3200, epoch: 5 | loss: 1.4585056\n",
            "\tspeed: 0.1114s/iter; left time: 30.4207s\n"
          ]
        },
        {
          "output_type": "stream",
          "name": "stderr",
          "text": [
            "3301it [06:05,  8.94it/s]"
          ]
        },
        {
          "output_type": "stream",
          "name": "stdout",
          "text": [
            "\titers: 3300, epoch: 5 | loss: 0.4889144\n",
            "\tspeed: 0.1103s/iter; left time: 19.0845s\n"
          ]
        },
        {
          "output_type": "stream",
          "name": "stderr",
          "text": [
            "3401it [06:16,  9.19it/s]"
          ]
        },
        {
          "output_type": "stream",
          "name": "stdout",
          "text": [
            "\titers: 3400, epoch: 5 | loss: 0.4954333\n",
            "\tspeed: 0.1099s/iter; left time: 8.0233s\n"
          ]
        },
        {
          "output_type": "stream",
          "name": "stderr",
          "text": [
            "3472it [06:24,  9.03it/s]\n"
          ]
        },
        {
          "output_type": "stream",
          "name": "stdout",
          "text": [
            "Epoch: 5 cost time: 384.44406914711\n"
          ]
        },
        {
          "output_type": "stream",
          "name": "stderr",
          "text": [
            "1176it [01:04, 18.24it/s]\n",
            "1176it [01:05, 18.03it/s]\n"
          ]
        },
        {
          "output_type": "stream",
          "name": "stdout",
          "text": [
            "Epoch: 5 | Train Loss: 0.5345886 Vali Loss: 0.3197497 Test Loss: 0.3750786 MAE Loss: 0.3989279\n",
            "Drive already mounted at /content/gdrive; to attempt to forcibly remount, call drive.mount(\"/content/gdrive\", force_remount=True).\n",
            "/content/gdrive/MyDrive/TimeLLM\n",
            "EarlyStopping counter: 1 out of 10\n",
            "Updating learning rate to 4.9999999999999914e-05\n"
          ]
        }
      ]
    },
    {
      "cell_type": "code",
      "execution_count": null,
      "metadata": {
        "id": "0wunJET7nXmq"
      },
      "outputs": [],
      "source": [
        "\n",
        "parser = argparse.ArgumentParser(description='Time-LLM')\n",
        "\n",
        "fix_seed = 2021\n",
        "random.seed(fix_seed)\n",
        "torch.manual_seed(fix_seed)\n",
        "np.random.seed(fix_seed)\n",
        "\n",
        "# basic config\n",
        "parser.add_argument('-f', type=str, default='')\n",
        "parser.add_argument('--task_name', type=str, default='long_term_forecast',\n",
        "                    help='task name, options:[long_term_forecast, short_term_forecast, imputation, classification, anomaly_detection]')\n",
        "parser.add_argument('--is_training', type=int, default=1, help='status')\n",
        "parser.add_argument('--model_id', type=str, default='ETTh1_512_96', help='model id')\n",
        "parser.add_argument('--model_comment', type=str, default='TimeLLM-ETTh1', help='prefix when saving test results')\n",
        "parser.add_argument('--model', type=str, default='TimeLLM',\n",
        "                    help='model name, options: [Autoformer, DLinear]')\n",
        "parser.add_argument('--seed', type=int, default=2021, help='random seed')\n",
        "\n",
        "# data loader\n",
        "parser.add_argument('--data', type=str, default='ETTh1', help='dataset type')\n",
        "parser.add_argument('--root_path', type=str, default='/content/gdrive/MyDrive/TimeLLM/dataset/ETT-small/', help='root path of the data file')\n",
        "parser.add_argument('--data_path', type=str, default='ETTh1.csv', help='data file')\n",
        "parser.add_argument('--features', type=str, default='M',\n",
        "                    help='forecasting task, options:[M, S, MS]; '\n",
        "                         'M:multivariate predict multivariate, S: univariate predict univariate, '\n",
        "                         'MS:multivariate predict univariate')\n",
        "parser.add_argument('--target', type=str, default='OT', help='target feature in S or MS task')\n",
        "parser.add_argument('--loader', type=str, default='modal', help='dataset type')\n",
        "parser.add_argument('--freq', type=str, default='h',\n",
        "                    help='freq for time features encoding, '\n",
        "                         'options:[s:secondly, t:minutely, h:hourly, d:daily, b:business days, w:weekly, m:monthly], '\n",
        "                         'you can also use more detailed freq like 15min or 3h')\n",
        "parser.add_argument('--checkpoints', type=str, default='/content/gdrive/MyDrive/TimeLLM/checkpoints', help='location of model checkpoints')\n",
        "\n",
        "# forecasting task\n",
        "parser.add_argument('--seq_len', type=int, default=512, help='input sequence length')\n",
        "parser.add_argument('--label_len', type=int, default=48, help='start token length')\n",
        "parser.add_argument('--pred_len', type=int, default=96, help='prediction sequence length')\n",
        "parser.add_argument('--seasonal_patterns', type=str, default='Monthly', help='subset for M4')\n",
        "\n",
        "# model define\n",
        "parser.add_argument('--enc_in', type=int, default=7, help='encoder input size')\n",
        "parser.add_argument('--dec_in', type=int, default=7, help='decoder input size')\n",
        "parser.add_argument('--c_out', type=int, default=7, help='output size')\n",
        "parser.add_argument('--d_model', type=int, default=32, help='dimension of model')\n",
        "parser.add_argument('--n_heads', type=int, default=8, help='num of heads')\n",
        "parser.add_argument('--e_layers', type=int, default=2, help='num of encoder layers')\n",
        "parser.add_argument('--d_layers', type=int, default=1, help='num of decoder layers')\n",
        "parser.add_argument('--d_ff', type=int, default=128, help='dimension of fcn')\n",
        "parser.add_argument('--moving_avg', type=int, default=25, help='window size of moving average')\n",
        "parser.add_argument('--factor', type=int, default=3, help='attn factor')\n",
        "parser.add_argument('--dropout', type=float, default=0.1, help='dropout')\n",
        "parser.add_argument('--embed', type=str, default='timeF',\n",
        "                    help='time features encoding, options:[timeF, fixed, learned]')\n",
        "parser.add_argument('--activation', type=str, default='gelu', help='activation')\n",
        "parser.add_argument('--output_attention', action='store_true', help='whether to output attention in encoder')\n",
        "parser.add_argument('--patch_len', type=int, default=16, help='patch length')\n",
        "parser.add_argument('--stride', type=int, default=8, help='stride')\n",
        "parser.add_argument('--prompt_domain', type=int, default=0, help='')\n",
        "parser.add_argument('--llm_model', type=str, default='GPT2', help='LLM model') # LLAMA, GPT2, BERT\n",
        "parser.add_argument('--llm_dim', type=int, default='768', help='LLM model dimension')# LLama7b:4096; GPT2-small:768; BERT-base:768\n",
        "\n",
        "\n",
        "# optimization\n",
        "parser.add_argument('--num_workers', type=int, default=10, help='data loader num workers')\n",
        "parser.add_argument('--itr', type=int, default=1, help='experiments times')\n",
        "parser.add_argument('--train_epochs', type=int, default=5, help='train epochs')\n",
        "parser.add_argument('--align_epochs', type=int, default=10, help='alignment epochs')\n",
        "parser.add_argument('--batch_size', type=int, default=8, help='batch size of train input data')\n",
        "parser.add_argument('--eval_batch_size', type=int, default=8, help='batch size of model evaluation')\n",
        "parser.add_argument('--patience', type=int, default=10, help='early stopping patience')\n",
        "parser.add_argument('--learning_rate', type=float, default=0.01, help='optimizer learning rate')\n",
        "parser.add_argument('--des', type=str, default='Exp', help='exp description')\n",
        "parser.add_argument('--loss', type=str, default='MSE', help='loss function')\n",
        "parser.add_argument('--lradj', type=str, default='type1', help='adjust learning rate')\n",
        "parser.add_argument('--pct_start', type=float, default=0.2, help='pct_start')\n",
        "parser.add_argument('--use_amp', action='store_true', help='use automatic mixed precision training', default=False)\n",
        "parser.add_argument('--llm_layers', type=int, default=32)\n",
        "parser.add_argument('--percent', type=int, default=100)\n",
        "parser.add_argument('--content', type=str, default='The Electricity Transformer Temperature (ETT) is a crucial indicator in the electric power long-term deployment.')\n",
        "\n",
        "\n",
        "args = parser.parse_args()\n",
        "ddp_kwargs = DistributedDataParallelKwargs(find_unused_parameters=True)\n",
        "\n",
        "# Load the JSON file into a dictionary\n",
        "with open(os.path.join(timeLLM_path, 'ds_config_zero2.json'), 'r') as f:\n",
        "    hf_ds_config_dict = json.load(f)\n",
        "\n",
        "#print(hf_ds_config_dict)\n",
        "#deepspeed_plugin = DeepSpeedPlugin(hf_ds_config_dict)\n",
        "#accelerator = Accelerator(kwargs_handlers=[ddp_kwargs], deepspeed_plugin=deepspeed_plugin)\n",
        "\n",
        "#accelerator.prepare()\n"
      ]
    },
    {
      "cell_type": "code",
      "source": [
        "accelerator = Accelerator(kwargs_handlers=[ddp_kwargs])\n"
      ],
      "metadata": {
        "id": "0sXUUu5yO0ri"
      },
      "execution_count": null,
      "outputs": []
    },
    {
      "cell_type": "code",
      "source": [
        "\n",
        "# Run it\n",
        "train(args)"
      ],
      "metadata": {
        "colab": {
          "base_uri": "https://localhost:8080/"
        },
        "id": "q1H_wVM3NUns",
        "outputId": "745d9e91-60b5-49a8-da3b-64a5b297692d"
      },
      "execution_count": null,
      "outputs": [
        {
          "output_type": "stream",
          "name": "stdout",
          "text": [
            "TimeLLM init\n",
            "TimeLLM- GPT2\n",
            "TimeLLM- Tokenizer\n",
            "TimeLLM-description:\n",
            "***************\n",
            "The Electricity Transformer Temperature (ETT) is a crucial indicator in the electric power long-term deployment.\n",
            "***************\n",
            "\n",
            "Reprogramming Layer\n",
            "TimeLLM-output_projection:\n",
            "***************\n",
            "FlattenHead(\n",
            "  (flatten): Flatten(start_dim=-2, end_dim=-1)\n",
            "  (linear): Linear(in_features=8192, out_features=96, bias=True)\n",
            "  (dropout): Dropout(p=0.1, inplace=False)\n",
            ")\n",
            "***************\n",
            "\n",
            "[2025-03-08 00:52:15,666] [INFO] [logging.py:128:log_dist] [Rank 0] DeepSpeed info: version=0.16.4, git-hash=unknown, git-branch=unknown\n",
            "[2025-03-08 00:52:15,667] [INFO] [config.py:734:__init__] Config mesh_device None world_size = 1\n",
            "[2025-03-08 00:52:15,974] [INFO] [logging.py:128:log_dist] [Rank 0] DeepSpeed Flops Profiler Enabled: False\n",
            "[2025-03-08 00:52:15,976] [INFO] [logging.py:128:log_dist] [Rank 0] Using client Optimizer as basic optimizer\n",
            "[2025-03-08 00:52:15,976] [INFO] [logging.py:128:log_dist] [Rank 0] Removing param_group that has no 'params' in the basic Optimizer\n",
            "[2025-03-08 00:52:15,978] [INFO] [logging.py:128:log_dist] [Rank 0] DeepSpeed Basic Optimizer = Adam\n",
            "[2025-03-08 00:52:15,979] [INFO] [utils.py:59:is_zero_supported_optimizer] Checking ZeRO support for optimizer=Adam type=<class 'torch.optim.adam.Adam'>\n",
            "[2025-03-08 00:52:15,980] [INFO] [logging.py:128:log_dist] [Rank 0] Creating torch.bfloat16 ZeRO stage 2 optimizer\n",
            "[2025-03-08 00:52:15,980] [INFO] [stage_1_and_2.py:149:__init__] Reduce bucket size 200000000\n",
            "[2025-03-08 00:52:15,981] [INFO] [stage_1_and_2.py:150:__init__] Allgather bucket size 200000000\n",
            "[2025-03-08 00:52:15,981] [INFO] [stage_1_and_2.py:151:__init__] CPU Offload: False\n",
            "[2025-03-08 00:52:15,982] [INFO] [stage_1_and_2.py:152:__init__] Round robin gradient partitioning: False\n",
            "[2025-03-08 00:52:16,432] [INFO] [utils.py:781:see_memory_usage] Before initializing optimizer states\n",
            "[2025-03-08 00:52:16,434] [INFO] [utils.py:782:see_memory_usage] MA 3.66 GB         Max_MA 5.95 GB         CA 6.19 GB         Max_CA 6 GB \n",
            "[2025-03-08 00:52:16,435] [INFO] [utils.py:789:see_memory_usage] CPU Virtual Memory:  used = 6.13 GB, percent = 7.3%\n",
            "[2025-03-08 00:52:16,746] [INFO] [utils.py:781:see_memory_usage] After initializing optimizer states\n",
            "[2025-03-08 00:52:16,747] [INFO] [utils.py:782:see_memory_usage] MA 3.66 GB         Max_MA 3.86 GB         CA 6.39 GB         Max_CA 6 GB \n",
            "[2025-03-08 00:52:16,748] [INFO] [utils.py:789:see_memory_usage] CPU Virtual Memory:  used = 6.12 GB, percent = 7.3%\n",
            "[2025-03-08 00:52:16,749] [INFO] [stage_1_and_2.py:550:__init__] optimizer state initialized\n",
            "[2025-03-08 00:52:17,071] [INFO] [utils.py:781:see_memory_usage] After initializing ZeRO optimizer\n",
            "[2025-03-08 00:52:17,073] [INFO] [utils.py:782:see_memory_usage] MA 3.66 GB         Max_MA 3.66 GB         CA 6.39 GB         Max_CA 6 GB \n",
            "[2025-03-08 00:52:17,075] [INFO] [utils.py:789:see_memory_usage] CPU Virtual Memory:  used = 6.11 GB, percent = 7.3%\n",
            "[2025-03-08 00:52:17,077] [INFO] [logging.py:128:log_dist] [Rank 0] DeepSpeed Final Optimizer = DeepSpeedZeroOptimizer\n",
            "[2025-03-08 00:52:17,078] [INFO] [logging.py:128:log_dist] [Rank 0] DeepSpeed using configured LR scheduler = None\n",
            "[2025-03-08 00:52:17,078] [INFO] [logging.py:128:log_dist] [Rank 0] DeepSpeed LR Scheduler = None\n",
            "[2025-03-08 00:52:17,079] [INFO] [logging.py:128:log_dist] [Rank 0] step=0, skipped=0, lr=[0.0003999999999999993], mom=[(0.95, 0.999)]\n",
            "[2025-03-08 00:52:17,081] [INFO] [config.py:1001:print] DeepSpeedEngine configuration:\n",
            "[2025-03-08 00:52:17,081] [INFO] [config.py:1005:print]   activation_checkpointing_config  {\n",
            "    \"partition_activations\": false, \n",
            "    \"contiguous_memory_optimization\": false, \n",
            "    \"cpu_checkpointing\": false, \n",
            "    \"number_checkpoints\": null, \n",
            "    \"synchronize_checkpoint_boundary\": false, \n",
            "    \"profile\": false\n",
            "}\n",
            "[2025-03-08 00:52:17,082] [INFO] [config.py:1005:print]   aio_config ................... {'block_size': 1048576, 'queue_depth': 8, 'intra_op_parallelism': 1, 'single_submit': False, 'overlap_events': True, 'use_gds': False}\n",
            "[2025-03-08 00:52:17,082] [INFO] [config.py:1005:print]   amp_enabled .................. False\n",
            "[2025-03-08 00:52:17,083] [INFO] [config.py:1005:print]   amp_params ................... False\n",
            "[2025-03-08 00:52:17,083] [INFO] [config.py:1005:print]   autotuning_config ............ {\n",
            "    \"enabled\": false, \n",
            "    \"start_step\": null, \n",
            "    \"end_step\": null, \n",
            "    \"metric_path\": null, \n",
            "    \"arg_mappings\": null, \n",
            "    \"metric\": \"throughput\", \n",
            "    \"model_info\": null, \n",
            "    \"results_dir\": \"autotuning_results\", \n",
            "    \"exps_dir\": \"autotuning_exps\", \n",
            "    \"overwrite\": true, \n",
            "    \"fast\": true, \n",
            "    \"start_profile_step\": 3, \n",
            "    \"end_profile_step\": 5, \n",
            "    \"tuner_type\": \"gridsearch\", \n",
            "    \"tuner_early_stopping\": 5, \n",
            "    \"tuner_num_trials\": 50, \n",
            "    \"model_info_path\": null, \n",
            "    \"mp_size\": 1, \n",
            "    \"max_train_batch_size\": null, \n",
            "    \"min_train_batch_size\": 1, \n",
            "    \"max_train_micro_batch_size_per_gpu\": 1.024000e+03, \n",
            "    \"min_train_micro_batch_size_per_gpu\": 1, \n",
            "    \"num_tuning_micro_batch_sizes\": 3\n",
            "}\n",
            "[2025-03-08 00:52:17,084] [INFO] [config.py:1005:print]   bfloat16_enabled ............. True\n",
            "[2025-03-08 00:52:17,084] [INFO] [config.py:1005:print]   bfloat16_immediate_grad_update  False\n",
            "[2025-03-08 00:52:17,085] [INFO] [config.py:1005:print]   checkpoint_parallel_write_pipeline  False\n",
            "[2025-03-08 00:52:17,086] [INFO] [config.py:1005:print]   checkpoint_tag_validation_enabled  True\n",
            "[2025-03-08 00:52:17,086] [INFO] [config.py:1005:print]   checkpoint_tag_validation_fail  False\n",
            "[2025-03-08 00:52:17,087] [INFO] [config.py:1005:print]   comms_config ................. <deepspeed.comm.config.DeepSpeedCommsConfig object at 0x7b73b4f76510>\n",
            "[2025-03-08 00:52:17,087] [INFO] [config.py:1005:print]   communication_data_type ...... None\n",
            "[2025-03-08 00:52:17,088] [INFO] [config.py:1005:print]   compression_config ........... {'weight_quantization': {'shared_parameters': {'enabled': False, 'quantizer_kernel': False, 'schedule_offset': 0, 'quantize_groups': 1, 'quantize_verbose': False, 'quantization_type': 'symmetric', 'quantize_weight_in_forward': False, 'rounding': 'nearest', 'fp16_mixed_quantize': False, 'quantize_change_ratio': 0.001}, 'different_groups': {}}, 'activation_quantization': {'shared_parameters': {'enabled': False, 'quantization_type': 'symmetric', 'range_calibration': 'dynamic', 'schedule_offset': 1000}, 'different_groups': {}}, 'sparse_pruning': {'shared_parameters': {'enabled': False, 'method': 'l1', 'schedule_offset': 1000}, 'different_groups': {}}, 'row_pruning': {'shared_parameters': {'enabled': False, 'method': 'l1', 'schedule_offset': 1000}, 'different_groups': {}}, 'head_pruning': {'shared_parameters': {'enabled': False, 'method': 'topk', 'schedule_offset': 1000}, 'different_groups': {}}, 'channel_pruning': {'shared_parameters': {'enabled': False, 'method': 'l1', 'schedule_offset': 1000}, 'different_groups': {}}, 'layer_reduction': {'enabled': False}}\n",
            "[2025-03-08 00:52:17,088] [INFO] [config.py:1005:print]   curriculum_enabled_legacy .... False\n",
            "[2025-03-08 00:52:17,089] [INFO] [config.py:1005:print]   curriculum_params_legacy ..... False\n",
            "[2025-03-08 00:52:17,090] [INFO] [config.py:1005:print]   data_efficiency_config ....... {'enabled': False, 'seed': 1234, 'data_sampling': {'enabled': False, 'num_epochs': 1000, 'num_workers': 0, 'curriculum_learning': {'enabled': False}}, 'data_routing': {'enabled': False, 'random_ltd': {'enabled': False, 'layer_token_lr_schedule': {'enabled': False}}}}\n",
            "[2025-03-08 00:52:17,090] [INFO] [config.py:1005:print]   data_efficiency_enabled ...... False\n",
            "[2025-03-08 00:52:17,091] [INFO] [config.py:1005:print]   dataloader_drop_last ......... False\n",
            "[2025-03-08 00:52:17,091] [INFO] [config.py:1005:print]   disable_allgather ............ False\n",
            "[2025-03-08 00:52:17,092] [INFO] [config.py:1005:print]   dump_state ................... False\n",
            "[2025-03-08 00:52:17,092] [INFO] [config.py:1005:print]   dynamic_loss_scale_args ...... None\n",
            "[2025-03-08 00:52:17,092] [INFO] [config.py:1005:print]   eigenvalue_enabled ........... False\n",
            "[2025-03-08 00:52:17,093] [INFO] [config.py:1005:print]   eigenvalue_gas_boundary_resolution  1\n",
            "[2025-03-08 00:52:17,093] [INFO] [config.py:1005:print]   eigenvalue_layer_name ........ bert.encoder.layer\n",
            "[2025-03-08 00:52:17,094] [INFO] [config.py:1005:print]   eigenvalue_layer_num ......... 0\n",
            "[2025-03-08 00:52:17,094] [INFO] [config.py:1005:print]   eigenvalue_max_iter .......... 100\n",
            "[2025-03-08 00:52:17,095] [INFO] [config.py:1005:print]   eigenvalue_stability ......... 1e-06\n",
            "[2025-03-08 00:52:17,095] [INFO] [config.py:1005:print]   eigenvalue_tol ............... 0.01\n",
            "[2025-03-08 00:52:17,095] [INFO] [config.py:1005:print]   eigenvalue_verbose ........... False\n",
            "[2025-03-08 00:52:17,096] [INFO] [config.py:1005:print]   elasticity_enabled ........... False\n",
            "[2025-03-08 00:52:17,096] [INFO] [config.py:1005:print]   flops_profiler_config ........ {\n",
            "    \"enabled\": false, \n",
            "    \"recompute_fwd_factor\": 0.0, \n",
            "    \"profile_step\": 1, \n",
            "    \"module_depth\": -1, \n",
            "    \"top_modules\": 1, \n",
            "    \"detailed\": true, \n",
            "    \"output_file\": null\n",
            "}\n",
            "[2025-03-08 00:52:17,097] [INFO] [config.py:1005:print]   fp16_auto_cast ............... None\n",
            "[2025-03-08 00:52:17,097] [INFO] [config.py:1005:print]   fp16_enabled ................. False\n",
            "[2025-03-08 00:52:17,097] [INFO] [config.py:1005:print]   fp16_master_weights_and_gradients  False\n",
            "[2025-03-08 00:52:17,098] [INFO] [config.py:1005:print]   global_rank .................. 0\n",
            "[2025-03-08 00:52:17,098] [INFO] [config.py:1005:print]   grad_accum_dtype ............. None\n",
            "[2025-03-08 00:52:17,099] [INFO] [config.py:1005:print]   gradient_accumulation_steps .. 1\n",
            "[2025-03-08 00:52:17,099] [INFO] [config.py:1005:print]   gradient_clipping ............ 0.0\n",
            "[2025-03-08 00:52:17,099] [INFO] [config.py:1005:print]   gradient_predivide_factor .... 1.0\n",
            "[2025-03-08 00:52:17,100] [INFO] [config.py:1005:print]   graph_harvesting ............. False\n",
            "[2025-03-08 00:52:17,100] [INFO] [config.py:1005:print]   hybrid_engine ................ enabled=False max_out_tokens=512 inference_tp_size=1 release_inference_cache=False pin_parameters=True tp_gather_partition_size=8\n",
            "[2025-03-08 00:52:17,100] [INFO] [config.py:1005:print]   initial_dynamic_scale ........ 1\n",
            "[2025-03-08 00:52:17,101] [INFO] [config.py:1005:print]   load_universal_checkpoint .... False\n",
            "[2025-03-08 00:52:17,102] [INFO] [config.py:1005:print]   loss_scale ................... 1.0\n",
            "[2025-03-08 00:52:17,102] [INFO] [config.py:1005:print]   memory_breakdown ............. False\n",
            "[2025-03-08 00:52:17,102] [INFO] [config.py:1005:print]   mics_hierarchial_params_gather  False\n",
            "[2025-03-08 00:52:17,103] [INFO] [config.py:1005:print]   mics_shard_size .............. -1\n",
            "[2025-03-08 00:52:17,103] [INFO] [config.py:1005:print]   monitor_config ............... tensorboard=TensorBoardConfig(enabled=False, output_path='', job_name='DeepSpeedJobName') comet=CometConfig(enabled=False, samples_log_interval=100, project=None, workspace=None, api_key=None, experiment_name=None, experiment_key=None, online=None, mode=None) wandb=WandbConfig(enabled=False, group=None, team=None, project='deepspeed') csv_monitor=CSVConfig(enabled=False, output_path='', job_name='DeepSpeedJobName')\n",
            "[2025-03-08 00:52:17,104] [INFO] [config.py:1005:print]   nebula_config ................ {\n",
            "    \"enabled\": false, \n",
            "    \"persistent_storage_path\": null, \n",
            "    \"persistent_time_interval\": 100, \n",
            "    \"num_of_version_in_retention\": 2, \n",
            "    \"enable_nebula_load\": true, \n",
            "    \"load_path\": null\n",
            "}\n",
            "[2025-03-08 00:52:17,104] [INFO] [config.py:1005:print]   optimizer_legacy_fusion ...... False\n",
            "[2025-03-08 00:52:17,108] [INFO] [config.py:1005:print]   optimizer_name ............... None\n",
            "[2025-03-08 00:52:17,108] [INFO] [config.py:1005:print]   optimizer_params ............. None\n",
            "[2025-03-08 00:52:17,108] [INFO] [config.py:1005:print]   pipeline ..................... {'stages': 'auto', 'partition': 'best', 'seed_layers': False, 'activation_checkpoint_interval': 0, 'pipe_partitioned': True, 'grad_partitioned': True}\n",
            "[2025-03-08 00:52:17,109] [INFO] [config.py:1005:print]   pld_enabled .................. False\n",
            "[2025-03-08 00:52:17,109] [INFO] [config.py:1005:print]   pld_params ................... False\n",
            "[2025-03-08 00:52:17,110] [INFO] [config.py:1005:print]   prescale_gradients ........... False\n",
            "[2025-03-08 00:52:17,110] [INFO] [config.py:1005:print]   scheduler_name ............... None\n",
            "[2025-03-08 00:52:17,110] [INFO] [config.py:1005:print]   scheduler_params ............. None\n",
            "[2025-03-08 00:52:17,111] [INFO] [config.py:1005:print]   seq_parallel_communication_data_type  torch.float32\n",
            "[2025-03-08 00:52:17,111] [INFO] [config.py:1005:print]   sparse_attention ............. None\n",
            "[2025-03-08 00:52:17,112] [INFO] [config.py:1005:print]   sparse_gradients_enabled ..... False\n",
            "[2025-03-08 00:52:17,112] [INFO] [config.py:1005:print]   steps_per_print .............. inf\n",
            "[2025-03-08 00:52:17,113] [INFO] [config.py:1005:print]   tensor_parallel_config ....... dtype=torch.float16 autotp_size=0 tensor_parallel=TPConfig(tp_size=1, tp_grain_size=1, mpu=None, tp_group=None) injection_policy_tuple=None keep_module_on_host=False replace_with_kernel_inject=False\n",
            "[2025-03-08 00:52:17,113] [INFO] [config.py:1005:print]   timers_config ................ enabled=True synchronized=True\n",
            "[2025-03-08 00:52:17,113] [INFO] [config.py:1005:print]   train_batch_size ............. 16\n",
            "[2025-03-08 00:52:17,114] [INFO] [config.py:1005:print]   train_micro_batch_size_per_gpu  16\n",
            "[2025-03-08 00:52:17,114] [INFO] [config.py:1005:print]   use_data_before_expert_parallel_  False\n",
            "[2025-03-08 00:52:17,115] [INFO] [config.py:1005:print]   use_node_local_storage ....... False\n",
            "[2025-03-08 00:52:17,115] [INFO] [config.py:1005:print]   wall_clock_breakdown ......... False\n",
            "[2025-03-08 00:52:17,116] [INFO] [config.py:1005:print]   weight_quantization_config ... None\n",
            "[2025-03-08 00:52:17,116] [INFO] [config.py:1005:print]   world_size ................... 1\n",
            "[2025-03-08 00:52:17,116] [INFO] [config.py:1005:print]   zero_allow_untested_optimizer  True\n",
            "[2025-03-08 00:52:17,117] [INFO] [config.py:1005:print]   zero_config .................. stage=2 contiguous_gradients=True reduce_scatter=True reduce_bucket_size=200000000 use_multi_rank_bucket_allreduce=True allgather_partitions=True allgather_bucket_size=200000000 overlap_comm=True load_from_fp32_weights=True elastic_checkpoint=False offload_param=None offload_optimizer=None sub_group_size=1000000000 cpu_offload_param=None cpu_offload_use_pin_memory=None cpu_offload=None prefetch_bucket_size=50000000 param_persistence_threshold=100000 model_persistence_threshold=9223372036854775807 max_live_parameters=1000000000 max_reuse_distance=1000000000 gather_16bit_weights_on_model_save=False module_granularity_threshold=0 use_all_reduce_for_fetch_params=False stage3_gather_fp16_weights_on_model_save=False ignore_unused_parameters=True legacy_stage1=False round_robin_gradients=False zero_hpz_partition_size=1 zero_quantized_weights=False zero_quantized_nontrainable_weights=False zero_quantized_gradients=False zeropp_loco_param=None mics_shard_size=-1 mics_hierarchical_params_gather=False memory_efficient_linear=True pipeline_loading_checkpoint=False override_module_apply=True log_trace_cache_warnings=False\n",
            "[2025-03-08 00:52:17,117] [INFO] [config.py:1005:print]   zero_enabled ................. True\n",
            "[2025-03-08 00:52:17,118] [INFO] [config.py:1005:print]   zero_force_ds_cpu_optimizer .. True\n",
            "[2025-03-08 00:52:17,118] [INFO] [config.py:1005:print]   zero_optimization_stage ...... 2\n",
            "[2025-03-08 00:52:17,119] [INFO] [config.py:991:print_user_config]   json = {\n",
            "    \"bf16\": {\n",
            "        \"enabled\": true, \n",
            "        \"auto_cast\": true\n",
            "    }, \n",
            "    \"zero_optimization\": {\n",
            "        \"stage\": 2, \n",
            "        \"allgather_partitions\": true, \n",
            "        \"allgather_bucket_size\": 2.000000e+08, \n",
            "        \"overlap_comm\": true, \n",
            "        \"reduce_scatter\": true, \n",
            "        \"reduce_bucket_size\": 2.000000e+08, \n",
            "        \"contiguous_gradients\": true, \n",
            "        \"sub_group_size\": 1.000000e+09\n",
            "    }, \n",
            "    \"gradient_accumulation_steps\": 1, \n",
            "    \"train_batch_size\": 16, \n",
            "    \"train_micro_batch_size_per_gpu\": 16, \n",
            "    \"steps_per_print\": inf, \n",
            "    \"wall_clock_breakdown\": false, \n",
            "    \"fp16\": {\n",
            "        \"enabled\": false\n",
            "    }, \n",
            "    \"zero_allow_untested_optimizer\": true\n",
            "}\n"
          ]
        },
        {
          "output_type": "stream",
          "name": "stderr",
          "text": [
            "101it [00:11,  9.55it/s]"
          ]
        },
        {
          "output_type": "stream",
          "name": "stdout",
          "text": [
            "\titers: 100, epoch: 1 | loss: 0.3383160\n",
            "\tspeed: 0.1263s/iter; left time: 4426.3104s\n"
          ]
        },
        {
          "output_type": "stream",
          "name": "stderr",
          "text": [
            "201it [00:21,  9.56it/s]"
          ]
        },
        {
          "output_type": "stream",
          "name": "stdout",
          "text": [
            "\titers: 200, epoch: 1 | loss: 0.4683796\n",
            "\tspeed: 0.1046s/iter; left time: 3654.4802s\n"
          ]
        },
        {
          "output_type": "stream",
          "name": "stderr",
          "text": [
            "301it [00:32,  9.76it/s]"
          ]
        },
        {
          "output_type": "stream",
          "name": "stdout",
          "text": [
            "\titers: 300, epoch: 1 | loss: 0.7587053\n",
            "\tspeed: 0.1068s/iter; left time: 3722.2626s\n"
          ]
        },
        {
          "output_type": "stream",
          "name": "stderr",
          "text": [
            "401it [00:42,  9.56it/s]"
          ]
        },
        {
          "output_type": "stream",
          "name": "stdout",
          "text": [
            "\titers: 400, epoch: 1 | loss: 0.5865263\n",
            "\tspeed: 0.1037s/iter; left time: 3601.4723s\n"
          ]
        },
        {
          "output_type": "stream",
          "name": "stderr",
          "text": [
            "501it [00:53,  9.73it/s]"
          ]
        },
        {
          "output_type": "stream",
          "name": "stdout",
          "text": [
            "\titers: 500, epoch: 1 | loss: 0.4325036\n",
            "\tspeed: 0.1033s/iter; left time: 3577.4015s\n"
          ]
        },
        {
          "output_type": "stream",
          "name": "stderr",
          "text": [
            "601it [01:03,  9.61it/s]"
          ]
        },
        {
          "output_type": "stream",
          "name": "stdout",
          "text": [
            "\titers: 600, epoch: 1 | loss: 0.3048423\n",
            "\tspeed: 0.1054s/iter; left time: 3639.8828s\n"
          ]
        },
        {
          "output_type": "stream",
          "name": "stderr",
          "text": [
            "701it [01:14,  9.40it/s]"
          ]
        },
        {
          "output_type": "stream",
          "name": "stdout",
          "text": [
            "\titers: 700, epoch: 1 | loss: 0.3202499\n",
            "\tspeed: 0.1051s/iter; left time: 3619.1699s\n"
          ]
        },
        {
          "output_type": "stream",
          "name": "stderr",
          "text": [
            "801it [01:24,  9.67it/s]"
          ]
        },
        {
          "output_type": "stream",
          "name": "stdout",
          "text": [
            "\titers: 800, epoch: 1 | loss: 0.2430836\n",
            "\tspeed: 0.1048s/iter; left time: 3599.6847s\n"
          ]
        },
        {
          "output_type": "stream",
          "name": "stderr",
          "text": [
            "901it [01:35,  9.53it/s]"
          ]
        },
        {
          "output_type": "stream",
          "name": "stdout",
          "text": [
            "\titers: 900, epoch: 1 | loss: 0.5275502\n",
            "\tspeed: 0.1053s/iter; left time: 3607.2720s\n"
          ]
        },
        {
          "output_type": "stream",
          "name": "stderr",
          "text": [
            "1001it [01:45,  9.60it/s]"
          ]
        },
        {
          "output_type": "stream",
          "name": "stdout",
          "text": [
            "\titers: 1000, epoch: 1 | loss: 0.3072359\n",
            "\tspeed: 0.1042s/iter; left time: 3557.1602s\n"
          ]
        },
        {
          "output_type": "stream",
          "name": "stderr",
          "text": [
            "1101it [01:56,  9.64it/s]"
          ]
        },
        {
          "output_type": "stream",
          "name": "stdout",
          "text": [
            "\titers: 1100, epoch: 1 | loss: 0.5801927\n",
            "\tspeed: 0.1053s/iter; left time: 3583.7405s\n"
          ]
        },
        {
          "output_type": "stream",
          "name": "stderr",
          "text": [
            "1201it [02:06,  9.41it/s]"
          ]
        },
        {
          "output_type": "stream",
          "name": "stdout",
          "text": [
            "\titers: 1200, epoch: 1 | loss: 0.2801362\n",
            "\tspeed: 0.1047s/iter; left time: 3553.3587s\n"
          ]
        },
        {
          "output_type": "stream",
          "name": "stderr",
          "text": [
            "1301it [02:17,  9.34it/s]"
          ]
        },
        {
          "output_type": "stream",
          "name": "stdout",
          "text": [
            "\titers: 1300, epoch: 1 | loss: 0.4607434\n",
            "\tspeed: 0.1043s/iter; left time: 3529.2194s\n"
          ]
        },
        {
          "output_type": "stream",
          "name": "stderr",
          "text": [
            "1401it [02:27,  9.83it/s]"
          ]
        },
        {
          "output_type": "stream",
          "name": "stdout",
          "text": [
            "\titers: 1400, epoch: 1 | loss: 1.1400096\n",
            "\tspeed: 0.1044s/iter; left time: 3521.2044s\n"
          ]
        },
        {
          "output_type": "stream",
          "name": "stderr",
          "text": [
            "1501it [02:38,  9.71it/s]"
          ]
        },
        {
          "output_type": "stream",
          "name": "stdout",
          "text": [
            "\titers: 1500, epoch: 1 | loss: 0.2887403\n",
            "\tspeed: 0.1054s/iter; left time: 3544.1309s\n"
          ]
        },
        {
          "output_type": "stream",
          "name": "stderr",
          "text": [
            "1601it [02:48,  9.42it/s]"
          ]
        },
        {
          "output_type": "stream",
          "name": "stdout",
          "text": [
            "\titers: 1600, epoch: 1 | loss: 0.4922745\n",
            "\tspeed: 0.1046s/iter; left time: 3508.2360s\n"
          ]
        },
        {
          "output_type": "stream",
          "name": "stderr",
          "text": [
            "1701it [02:58,  9.84it/s]"
          ]
        },
        {
          "output_type": "stream",
          "name": "stdout",
          "text": [
            "\titers: 1700, epoch: 1 | loss: 0.3342789\n",
            "\tspeed: 0.1046s/iter; left time: 3497.6548s\n"
          ]
        },
        {
          "output_type": "stream",
          "name": "stderr",
          "text": [
            "1801it [03:09,  9.37it/s]"
          ]
        },
        {
          "output_type": "stream",
          "name": "stdout",
          "text": [
            "\titers: 1800, epoch: 1 | loss: 0.6481120\n",
            "\tspeed: 0.1044s/iter; left time: 3481.1495s\n"
          ]
        },
        {
          "output_type": "stream",
          "name": "stderr",
          "text": [
            "1901it [03:19,  9.51it/s]"
          ]
        },
        {
          "output_type": "stream",
          "name": "stdout",
          "text": [
            "\titers: 1900, epoch: 1 | loss: 0.4265443\n",
            "\tspeed: 0.1044s/iter; left time: 3469.4292s\n"
          ]
        },
        {
          "output_type": "stream",
          "name": "stderr",
          "text": [
            "2001it [03:30,  9.44it/s]"
          ]
        },
        {
          "output_type": "stream",
          "name": "stdout",
          "text": [
            "\titers: 2000, epoch: 1 | loss: 0.3781762\n",
            "\tspeed: 0.1051s/iter; left time: 3484.2413s\n"
          ]
        },
        {
          "output_type": "stream",
          "name": "stderr",
          "text": [
            "2101it [03:40,  9.77it/s]"
          ]
        },
        {
          "output_type": "stream",
          "name": "stdout",
          "text": [
            "\titers: 2100, epoch: 1 | loss: 0.4337642\n",
            "\tspeed: 0.1061s/iter; left time: 3504.3859s\n"
          ]
        },
        {
          "output_type": "stream",
          "name": "stderr",
          "text": [
            "2201it [03:51,  9.46it/s]"
          ]
        },
        {
          "output_type": "stream",
          "name": "stdout",
          "text": [
            "\titers: 2200, epoch: 1 | loss: 0.6016721\n",
            "\tspeed: 0.1055s/iter; left time: 3476.3789s\n"
          ]
        },
        {
          "output_type": "stream",
          "name": "stderr",
          "text": [
            "2301it [04:02,  9.62it/s]"
          ]
        },
        {
          "output_type": "stream",
          "name": "stdout",
          "text": [
            "\titers: 2300, epoch: 1 | loss: 0.1833282\n",
            "\tspeed: 0.1053s/iter; left time: 3457.0064s\n"
          ]
        },
        {
          "output_type": "stream",
          "name": "stderr",
          "text": [
            "2401it [04:12,  9.69it/s]"
          ]
        },
        {
          "output_type": "stream",
          "name": "stdout",
          "text": [
            "\titers: 2400, epoch: 1 | loss: 0.5879998\n",
            "\tspeed: 0.1056s/iter; left time: 3458.2604s\n"
          ]
        },
        {
          "output_type": "stream",
          "name": "stderr",
          "text": [
            "2501it [04:23,  9.51it/s]"
          ]
        },
        {
          "output_type": "stream",
          "name": "stdout",
          "text": [
            "\titers: 2500, epoch: 1 | loss: 0.4744411\n",
            "\tspeed: 0.1049s/iter; left time: 3424.8813s\n"
          ]
        },
        {
          "output_type": "stream",
          "name": "stderr",
          "text": [
            "2601it [04:33,  9.45it/s]"
          ]
        },
        {
          "output_type": "stream",
          "name": "stdout",
          "text": [
            "\titers: 2600, epoch: 1 | loss: 0.8608456\n",
            "\tspeed: 0.1055s/iter; left time: 3434.3192s\n"
          ]
        },
        {
          "output_type": "stream",
          "name": "stderr",
          "text": [
            "2701it [04:44,  9.52it/s]"
          ]
        },
        {
          "output_type": "stream",
          "name": "stdout",
          "text": [
            "\titers: 2700, epoch: 1 | loss: 0.5753959\n",
            "\tspeed: 0.1049s/iter; left time: 3401.5612s\n"
          ]
        },
        {
          "output_type": "stream",
          "name": "stderr",
          "text": [
            "2801it [04:54,  9.58it/s]"
          ]
        },
        {
          "output_type": "stream",
          "name": "stdout",
          "text": [
            "\titers: 2800, epoch: 1 | loss: 0.7952277\n",
            "\tspeed: 0.1057s/iter; left time: 3419.8274s\n"
          ]
        },
        {
          "output_type": "stream",
          "name": "stderr",
          "text": [
            "2901it [05:05,  9.62it/s]"
          ]
        },
        {
          "output_type": "stream",
          "name": "stdout",
          "text": [
            "\titers: 2900, epoch: 1 | loss: 0.4655830\n",
            "\tspeed: 0.1054s/iter; left time: 3398.6987s\n"
          ]
        },
        {
          "output_type": "stream",
          "name": "stderr",
          "text": [
            "3001it [05:15,  9.69it/s]"
          ]
        },
        {
          "output_type": "stream",
          "name": "stdout",
          "text": [
            "\titers: 3000, epoch: 1 | loss: 0.3293299\n",
            "\tspeed: 0.1050s/iter; left time: 3373.2493s\n"
          ]
        },
        {
          "output_type": "stream",
          "name": "stderr",
          "text": [
            "3101it [05:26,  9.67it/s]"
          ]
        },
        {
          "output_type": "stream",
          "name": "stdout",
          "text": [
            "\titers: 3100, epoch: 1 | loss: 0.7209486\n",
            "\tspeed: 0.1044s/iter; left time: 3346.3027s\n"
          ]
        },
        {
          "output_type": "stream",
          "name": "stderr",
          "text": [
            "3201it [05:36,  9.62it/s]"
          ]
        },
        {
          "output_type": "stream",
          "name": "stdout",
          "text": [
            "\titers: 3200, epoch: 1 | loss: 0.4878535\n",
            "\tspeed: 0.1047s/iter; left time: 3343.9769s\n"
          ]
        },
        {
          "output_type": "stream",
          "name": "stderr",
          "text": [
            "3301it [05:47,  9.64it/s]"
          ]
        },
        {
          "output_type": "stream",
          "name": "stdout",
          "text": [
            "\titers: 3300, epoch: 1 | loss: 0.7048521\n",
            "\tspeed: 0.1045s/iter; left time: 3328.0679s\n"
          ]
        },
        {
          "output_type": "stream",
          "name": "stderr",
          "text": [
            "3401it [05:57,  9.59it/s]"
          ]
        },
        {
          "output_type": "stream",
          "name": "stdout",
          "text": [
            "\titers: 3400, epoch: 1 | loss: 0.4959161\n",
            "\tspeed: 0.1049s/iter; left time: 3329.1171s\n"
          ]
        },
        {
          "output_type": "stream",
          "name": "stderr",
          "text": [
            "3501it [06:08,  9.47it/s]"
          ]
        },
        {
          "output_type": "stream",
          "name": "stdout",
          "text": [
            "\titers: 3500, epoch: 1 | loss: 0.4820281\n",
            "\tspeed: 0.1047s/iter; left time: 3313.0442s\n"
          ]
        },
        {
          "output_type": "stream",
          "name": "stderr",
          "text": [
            "3601it [06:18,  9.71it/s]"
          ]
        },
        {
          "output_type": "stream",
          "name": "stdout",
          "text": [
            "\titers: 3600, epoch: 1 | loss: 0.2355829\n",
            "\tspeed: 0.1049s/iter; left time: 3307.7444s\n"
          ]
        },
        {
          "output_type": "stream",
          "name": "stderr",
          "text": [
            "3701it [06:29,  9.59it/s]"
          ]
        },
        {
          "output_type": "stream",
          "name": "stdout",
          "text": [
            "\titers: 3700, epoch: 1 | loss: 0.3188829\n",
            "\tspeed: 0.1050s/iter; left time: 3301.4036s\n"
          ]
        },
        {
          "output_type": "stream",
          "name": "stderr",
          "text": [
            "3801it [06:39,  9.38it/s]"
          ]
        },
        {
          "output_type": "stream",
          "name": "stdout",
          "text": [
            "\titers: 3800, epoch: 1 | loss: 0.6808605\n",
            "\tspeed: 0.1052s/iter; left time: 3298.1689s\n"
          ]
        },
        {
          "output_type": "stream",
          "name": "stderr",
          "text": [
            "3901it [06:50,  9.33it/s]"
          ]
        },
        {
          "output_type": "stream",
          "name": "stdout",
          "text": [
            "\titers: 3900, epoch: 1 | loss: 0.2997468\n",
            "\tspeed: 0.1049s/iter; left time: 3276.1988s\n"
          ]
        },
        {
          "output_type": "stream",
          "name": "stderr",
          "text": [
            "4001it [07:00,  9.43it/s]"
          ]
        },
        {
          "output_type": "stream",
          "name": "stdout",
          "text": [
            "\titers: 4000, epoch: 1 | loss: 0.4200466\n",
            "\tspeed: 0.1053s/iter; left time: 3278.7508s\n"
          ]
        },
        {
          "output_type": "stream",
          "name": "stderr",
          "text": [
            "4101it [07:11,  9.68it/s]"
          ]
        },
        {
          "output_type": "stream",
          "name": "stdout",
          "text": [
            "\titers: 4100, epoch: 1 | loss: 0.3091057\n",
            "\tspeed: 0.1048s/iter; left time: 3252.8940s\n"
          ]
        },
        {
          "output_type": "stream",
          "name": "stderr",
          "text": [
            "4201it [07:21,  9.54it/s]"
          ]
        },
        {
          "output_type": "stream",
          "name": "stdout",
          "text": [
            "\titers: 4200, epoch: 1 | loss: 0.3234108\n",
            "\tspeed: 0.1043s/iter; left time: 3225.8425s\n"
          ]
        },
        {
          "output_type": "stream",
          "name": "stderr",
          "text": [
            "4301it [07:31,  9.63it/s]"
          ]
        },
        {
          "output_type": "stream",
          "name": "stdout",
          "text": [
            "\titers: 4300, epoch: 1 | loss: 0.3772314\n",
            "\tspeed: 0.1045s/iter; left time: 3222.6094s\n"
          ]
        },
        {
          "output_type": "stream",
          "name": "stderr",
          "text": [
            "4401it [07:42,  9.71it/s]"
          ]
        },
        {
          "output_type": "stream",
          "name": "stdout",
          "text": [
            "\titers: 4400, epoch: 1 | loss: 0.4559461\n",
            "\tspeed: 0.1047s/iter; left time: 3218.1778s\n"
          ]
        },
        {
          "output_type": "stream",
          "name": "stderr",
          "text": [
            "4501it [07:52,  9.52it/s]"
          ]
        },
        {
          "output_type": "stream",
          "name": "stdout",
          "text": [
            "\titers: 4500, epoch: 1 | loss: 0.3571806\n",
            "\tspeed: 0.1047s/iter; left time: 3206.6927s\n"
          ]
        },
        {
          "output_type": "stream",
          "name": "stderr",
          "text": [
            "4601it [08:03,  9.44it/s]"
          ]
        },
        {
          "output_type": "stream",
          "name": "stdout",
          "text": [
            "\titers: 4600, epoch: 1 | loss: 0.4113600\n",
            "\tspeed: 0.1050s/iter; left time: 3206.4202s\n"
          ]
        },
        {
          "output_type": "stream",
          "name": "stderr",
          "text": [
            "4701it [08:13,  9.47it/s]"
          ]
        },
        {
          "output_type": "stream",
          "name": "stdout",
          "text": [
            "\titers: 4700, epoch: 1 | loss: 0.3214194\n",
            "\tspeed: 0.1049s/iter; left time: 3194.4332s\n"
          ]
        },
        {
          "output_type": "stream",
          "name": "stderr",
          "text": [
            "4801it [08:24,  9.69it/s]"
          ]
        },
        {
          "output_type": "stream",
          "name": "stdout",
          "text": [
            "\titers: 4800, epoch: 1 | loss: 0.3325425\n",
            "\tspeed: 0.1045s/iter; left time: 3169.6238s\n"
          ]
        },
        {
          "output_type": "stream",
          "name": "stderr",
          "text": [
            "4901it [08:34,  9.59it/s]"
          ]
        },
        {
          "output_type": "stream",
          "name": "stdout",
          "text": [
            "\titers: 4900, epoch: 1 | loss: 0.3193458\n",
            "\tspeed: 0.1043s/iter; left time: 3152.8513s\n"
          ]
        },
        {
          "output_type": "stream",
          "name": "stderr",
          "text": [
            "5001it [08:45,  9.57it/s]"
          ]
        },
        {
          "output_type": "stream",
          "name": "stdout",
          "text": [
            "\titers: 5000, epoch: 1 | loss: 0.5066697\n",
            "\tspeed: 0.1062s/iter; left time: 3202.1240s\n"
          ]
        },
        {
          "output_type": "stream",
          "name": "stderr",
          "text": [
            "5101it [08:55,  9.63it/s]"
          ]
        },
        {
          "output_type": "stream",
          "name": "stdout",
          "text": [
            "\titers: 5100, epoch: 1 | loss: 0.3339513\n",
            "\tspeed: 0.1052s/iter; left time: 3161.0689s\n"
          ]
        },
        {
          "output_type": "stream",
          "name": "stderr",
          "text": [
            "5201it [09:06,  9.59it/s]"
          ]
        },
        {
          "output_type": "stream",
          "name": "stdout",
          "text": [
            "\titers: 5200, epoch: 1 | loss: 0.5407227\n",
            "\tspeed: 0.1054s/iter; left time: 3155.2997s\n"
          ]
        },
        {
          "output_type": "stream",
          "name": "stderr",
          "text": [
            "5301it [09:16,  9.63it/s]"
          ]
        },
        {
          "output_type": "stream",
          "name": "stdout",
          "text": [
            "\titers: 5300, epoch: 1 | loss: 0.3652553\n",
            "\tspeed: 0.1054s/iter; left time: 3144.2488s\n"
          ]
        },
        {
          "output_type": "stream",
          "name": "stderr",
          "text": [
            "5401it [09:27,  9.32it/s]"
          ]
        },
        {
          "output_type": "stream",
          "name": "stdout",
          "text": [
            "\titers: 5400, epoch: 1 | loss: 0.3573094\n",
            "\tspeed: 0.1050s/iter; left time: 3122.8718s\n"
          ]
        },
        {
          "output_type": "stream",
          "name": "stderr",
          "text": [
            "5501it [09:37,  9.58it/s]"
          ]
        },
        {
          "output_type": "stream",
          "name": "stdout",
          "text": [
            "\titers: 5500, epoch: 1 | loss: 0.2837208\n",
            "\tspeed: 0.1052s/iter; left time: 3116.9353s\n"
          ]
        },
        {
          "output_type": "stream",
          "name": "stderr",
          "text": [
            "5601it [09:48,  9.78it/s]"
          ]
        },
        {
          "output_type": "stream",
          "name": "stdout",
          "text": [
            "\titers: 5600, epoch: 1 | loss: 0.3651031\n",
            "\tspeed: 0.1051s/iter; left time: 3104.0113s\n"
          ]
        },
        {
          "output_type": "stream",
          "name": "stderr",
          "text": [
            "5701it [09:58,  9.61it/s]"
          ]
        },
        {
          "output_type": "stream",
          "name": "stdout",
          "text": [
            "\titers: 5700, epoch: 1 | loss: 0.2394617\n",
            "\tspeed: 0.1040s/iter; left time: 3063.2786s\n"
          ]
        },
        {
          "output_type": "stream",
          "name": "stderr",
          "text": [
            "5801it [10:09,  9.48it/s]"
          ]
        },
        {
          "output_type": "stream",
          "name": "stdout",
          "text": [
            "\titers: 5800, epoch: 1 | loss: 0.4191192\n",
            "\tspeed: 0.1045s/iter; left time: 3065.3949s\n"
          ]
        },
        {
          "output_type": "stream",
          "name": "stderr",
          "text": [
            "5901it [10:19,  9.66it/s]"
          ]
        },
        {
          "output_type": "stream",
          "name": "stdout",
          "text": [
            "\titers: 5900, epoch: 1 | loss: 0.2662216\n",
            "\tspeed: 0.1043s/iter; left time: 3049.3080s\n"
          ]
        },
        {
          "output_type": "stream",
          "name": "stderr",
          "text": [
            "6001it [10:30,  9.57it/s]"
          ]
        },
        {
          "output_type": "stream",
          "name": "stdout",
          "text": [
            "\titers: 6000, epoch: 1 | loss: 0.5461227\n",
            "\tspeed: 0.1043s/iter; left time: 3038.6937s\n"
          ]
        },
        {
          "output_type": "stream",
          "name": "stderr",
          "text": [
            "6101it [10:40,  9.14it/s]"
          ]
        },
        {
          "output_type": "stream",
          "name": "stdout",
          "text": [
            "\titers: 6100, epoch: 1 | loss: 0.4466429\n",
            "\tspeed: 0.1045s/iter; left time: 3036.1870s\n"
          ]
        },
        {
          "output_type": "stream",
          "name": "stderr",
          "text": [
            "6201it [10:51,  9.42it/s]"
          ]
        },
        {
          "output_type": "stream",
          "name": "stdout",
          "text": [
            "\titers: 6200, epoch: 1 | loss: 0.5939565\n",
            "\tspeed: 0.1058s/iter; left time: 3060.7015s\n"
          ]
        },
        {
          "output_type": "stream",
          "name": "stderr",
          "text": [
            "6301it [11:01,  9.73it/s]"
          ]
        },
        {
          "output_type": "stream",
          "name": "stdout",
          "text": [
            "\titers: 6300, epoch: 1 | loss: 0.5358650\n",
            "\tspeed: 0.1045s/iter; left time: 3013.9251s\n"
          ]
        },
        {
          "output_type": "stream",
          "name": "stderr",
          "text": [
            "6401it [11:12,  9.51it/s]"
          ]
        },
        {
          "output_type": "stream",
          "name": "stdout",
          "text": [
            "\titers: 6400, epoch: 1 | loss: 0.4656120\n",
            "\tspeed: 0.1050s/iter; left time: 3016.5108s\n"
          ]
        },
        {
          "output_type": "stream",
          "name": "stderr",
          "text": [
            "6501it [11:22,  9.23it/s]"
          ]
        },
        {
          "output_type": "stream",
          "name": "stdout",
          "text": [
            "\titers: 6500, epoch: 1 | loss: 0.5785979\n",
            "\tspeed: 0.1054s/iter; left time: 3020.0976s\n"
          ]
        },
        {
          "output_type": "stream",
          "name": "stderr",
          "text": [
            "6601it [11:33,  9.59it/s]"
          ]
        },
        {
          "output_type": "stream",
          "name": "stdout",
          "text": [
            "\titers: 6600, epoch: 1 | loss: 0.3580389\n",
            "\tspeed: 0.1050s/iter; left time: 2995.8581s\n"
          ]
        },
        {
          "output_type": "stream",
          "name": "stderr",
          "text": [
            "6701it [11:43,  9.14it/s]"
          ]
        },
        {
          "output_type": "stream",
          "name": "stdout",
          "text": [
            "\titers: 6700, epoch: 1 | loss: 0.3785370\n",
            "\tspeed: 0.1045s/iter; left time: 2972.1508s\n"
          ]
        },
        {
          "output_type": "stream",
          "name": "stderr",
          "text": [
            "6801it [11:54,  9.54it/s]"
          ]
        },
        {
          "output_type": "stream",
          "name": "stdout",
          "text": [
            "\titers: 6800, epoch: 1 | loss: 0.2663691\n",
            "\tspeed: 0.1048s/iter; left time: 2969.8365s\n"
          ]
        },
        {
          "output_type": "stream",
          "name": "stderr",
          "text": [
            "6901it [12:04,  9.68it/s]"
          ]
        },
        {
          "output_type": "stream",
          "name": "stdout",
          "text": [
            "\titers: 6900, epoch: 1 | loss: 0.3307364\n",
            "\tspeed: 0.1050s/iter; left time: 2965.3583s\n"
          ]
        },
        {
          "output_type": "stream",
          "name": "stderr",
          "text": [
            "7001it [12:15,  9.35it/s]"
          ]
        },
        {
          "output_type": "stream",
          "name": "stdout",
          "text": [
            "\titers: 7000, epoch: 1 | loss: 0.1752125\n",
            "\tspeed: 0.1043s/iter; left time: 2936.3346s\n"
          ]
        },
        {
          "output_type": "stream",
          "name": "stderr",
          "text": [
            "7028it [12:17,  9.52it/s]\n"
          ]
        },
        {
          "output_type": "stream",
          "name": "stdout",
          "text": [
            "Epoch: 1 cost time: 738.0000360012054\n"
          ]
        },
        {
          "output_type": "stream",
          "name": "stderr",
          "text": [
            "2436it [02:00, 20.20it/s]\n",
            "2436it [02:00, 20.19it/s]\n"
          ]
        },
        {
          "output_type": "stream",
          "name": "stdout",
          "text": [
            "Epoch: 1 | Train Loss: 0.4442226 Vali Loss: 0.8084330 Test Loss: 0.4252855 MAE Loss: 0.4425802\n",
            "Drive already mounted at /content/gdrive; to attempt to forcibly remount, call drive.mount(\"/content/gdrive\", force_remount=True).\n",
            "/content/gdrive/MyDrive/TimeLLM\n",
            "lr = 0.0004000000\n",
            "Updating learning rate to 0.0003999999999999993\n"
          ]
        },
        {
          "output_type": "stream",
          "name": "stderr",
          "text": [
            "101it [00:10,  9.15it/s]"
          ]
        },
        {
          "output_type": "stream",
          "name": "stdout",
          "text": [
            "\titers: 100, epoch: 2 | loss: 0.7794880\n",
            "\tspeed: 2.5886s/iter; left time: 72514.5530s\n"
          ]
        },
        {
          "output_type": "stream",
          "name": "stderr",
          "text": [
            "201it [00:21,  9.12it/s]"
          ]
        },
        {
          "output_type": "stream",
          "name": "stdout",
          "text": [
            "\titers: 200, epoch: 2 | loss: 0.3701460\n",
            "\tspeed: 0.1082s/iter; left time: 3021.0893s\n"
          ]
        },
        {
          "output_type": "stream",
          "name": "stderr",
          "text": [
            "301it [00:32,  9.81it/s]"
          ]
        },
        {
          "output_type": "stream",
          "name": "stdout",
          "text": [
            "\titers: 300, epoch: 2 | loss: 0.3218546\n",
            "\tspeed: 0.1049s/iter; left time: 2918.6565s\n"
          ]
        },
        {
          "output_type": "stream",
          "name": "stderr",
          "text": [
            "400it [00:42,  9.95it/s]"
          ]
        },
        {
          "output_type": "stream",
          "name": "stdout",
          "text": [
            "\titers: 400, epoch: 2 | loss: 0.4646234\n",
            "\tspeed: 0.1030s/iter; left time: 2854.4534s\n"
          ]
        },
        {
          "output_type": "stream",
          "name": "stderr",
          "text": [
            "501it [00:52,  9.84it/s]"
          ]
        },
        {
          "output_type": "stream",
          "name": "stdout",
          "text": [
            "\titers: 500, epoch: 2 | loss: 0.4558873\n",
            "\tspeed: 0.1025s/iter; left time: 2830.7476s\n"
          ]
        },
        {
          "output_type": "stream",
          "name": "stderr",
          "text": [
            "601it [01:03,  9.76it/s]"
          ]
        },
        {
          "output_type": "stream",
          "name": "stdout",
          "text": [
            "\titers: 600, epoch: 2 | loss: 0.2165226\n",
            "\tspeed: 0.1034s/iter; left time: 2844.9144s\n"
          ]
        },
        {
          "output_type": "stream",
          "name": "stderr",
          "text": [
            "701it [01:13,  9.68it/s]"
          ]
        },
        {
          "output_type": "stream",
          "name": "stdout",
          "text": [
            "\titers: 700, epoch: 2 | loss: 0.3227107\n",
            "\tspeed: 0.1027s/iter; left time: 2814.0176s\n"
          ]
        },
        {
          "output_type": "stream",
          "name": "stderr",
          "text": [
            "801it [01:23,  9.90it/s]"
          ]
        },
        {
          "output_type": "stream",
          "name": "stdout",
          "text": [
            "\titers: 800, epoch: 2 | loss: 0.8580445\n",
            "\tspeed: 0.1025s/iter; left time: 2800.2071s\n"
          ]
        },
        {
          "output_type": "stream",
          "name": "stderr",
          "text": [
            "901it [01:33,  9.66it/s]"
          ]
        },
        {
          "output_type": "stream",
          "name": "stdout",
          "text": [
            "\titers: 900, epoch: 2 | loss: 0.3559616\n",
            "\tspeed: 0.1029s/iter; left time: 2800.8404s\n"
          ]
        },
        {
          "output_type": "stream",
          "name": "stderr",
          "text": [
            "1001it [01:44,  9.85it/s]"
          ]
        },
        {
          "output_type": "stream",
          "name": "stdout",
          "text": [
            "\titers: 1000, epoch: 2 | loss: 0.7567422\n",
            "\tspeed: 0.1031s/iter; left time: 2794.8381s\n"
          ]
        },
        {
          "output_type": "stream",
          "name": "stderr",
          "text": [
            "1101it [01:54,  9.86it/s]"
          ]
        },
        {
          "output_type": "stream",
          "name": "stdout",
          "text": [
            "\titers: 1100, epoch: 2 | loss: 0.2667657\n",
            "\tspeed: 0.1026s/iter; left time: 2770.3108s\n"
          ]
        },
        {
          "output_type": "stream",
          "name": "stderr",
          "text": [
            "1201it [02:04,  9.83it/s]"
          ]
        },
        {
          "output_type": "stream",
          "name": "stdout",
          "text": [
            "\titers: 1200, epoch: 2 | loss: 0.4295673\n",
            "\tspeed: 0.1034s/iter; left time: 2782.4841s\n"
          ]
        },
        {
          "output_type": "stream",
          "name": "stderr",
          "text": [
            "1301it [02:15,  9.49it/s]"
          ]
        },
        {
          "output_type": "stream",
          "name": "stdout",
          "text": [
            "\titers: 1300, epoch: 2 | loss: 0.5777230\n",
            "\tspeed: 0.1027s/iter; left time: 2754.9318s\n"
          ]
        },
        {
          "output_type": "stream",
          "name": "stderr",
          "text": [
            "1401it [02:25,  9.56it/s]"
          ]
        },
        {
          "output_type": "stream",
          "name": "stdout",
          "text": [
            "\titers: 1400, epoch: 2 | loss: 0.2221722\n",
            "\tspeed: 0.1031s/iter; left time: 2754.7577s\n"
          ]
        },
        {
          "output_type": "stream",
          "name": "stderr",
          "text": [
            "1500it [02:35,  9.91it/s]"
          ]
        },
        {
          "output_type": "stream",
          "name": "stdout",
          "text": [
            "\titers: 1500, epoch: 2 | loss: 0.3660414\n",
            "\tspeed: 0.1025s/iter; left time: 2727.6767s\n"
          ]
        },
        {
          "output_type": "stream",
          "name": "stderr",
          "text": [
            "1601it [02:45,  9.84it/s]"
          ]
        },
        {
          "output_type": "stream",
          "name": "stdout",
          "text": [
            "\titers: 1600, epoch: 2 | loss: 0.4375494\n",
            "\tspeed: 0.1026s/iter; left time: 2720.0130s\n"
          ]
        },
        {
          "output_type": "stream",
          "name": "stderr",
          "text": [
            "1700it [02:56,  9.72it/s]"
          ]
        },
        {
          "output_type": "stream",
          "name": "stdout",
          "text": [
            "\titers: 1700, epoch: 2 | loss: 0.3926797\n",
            "\tspeed: 0.1033s/iter; left time: 2728.6536s\n"
          ]
        },
        {
          "output_type": "stream",
          "name": "stderr",
          "text": [
            "1801it [03:06,  9.86it/s]"
          ]
        },
        {
          "output_type": "stream",
          "name": "stdout",
          "text": [
            "\titers: 1800, epoch: 2 | loss: 0.4769483\n",
            "\tspeed: 0.1032s/iter; left time: 2716.7698s\n"
          ]
        },
        {
          "output_type": "stream",
          "name": "stderr",
          "text": [
            "1901it [03:16,  9.36it/s]"
          ]
        },
        {
          "output_type": "stream",
          "name": "stdout",
          "text": [
            "\titers: 1900, epoch: 2 | loss: 0.3387584\n",
            "\tspeed: 0.1024s/iter; left time: 2685.4050s\n"
          ]
        },
        {
          "output_type": "stream",
          "name": "stderr",
          "text": [
            "2001it [03:27,  9.41it/s]"
          ]
        },
        {
          "output_type": "stream",
          "name": "stdout",
          "text": [
            "\titers: 2000, epoch: 2 | loss: 0.3235671\n",
            "\tspeed: 0.1031s/iter; left time: 2691.6984s\n"
          ]
        },
        {
          "output_type": "stream",
          "name": "stderr",
          "text": [
            "2101it [03:37,  9.81it/s]"
          ]
        },
        {
          "output_type": "stream",
          "name": "stdout",
          "text": [
            "\titers: 2100, epoch: 2 | loss: 0.3820496\n",
            "\tspeed: 0.1028s/iter; left time: 2674.7720s\n"
          ]
        },
        {
          "output_type": "stream",
          "name": "stderr",
          "text": [
            "2201it [03:47,  9.76it/s]"
          ]
        },
        {
          "output_type": "stream",
          "name": "stdout",
          "text": [
            "\titers: 2200, epoch: 2 | loss: 0.5313864\n",
            "\tspeed: 0.1026s/iter; left time: 2658.1954s\n"
          ]
        },
        {
          "output_type": "stream",
          "name": "stderr",
          "text": [
            "2301it [03:57,  9.74it/s]"
          ]
        },
        {
          "output_type": "stream",
          "name": "stdout",
          "text": [
            "\titers: 2300, epoch: 2 | loss: 0.1927956\n",
            "\tspeed: 0.1026s/iter; left time: 2647.1324s\n"
          ]
        },
        {
          "output_type": "stream",
          "name": "stderr",
          "text": [
            "2401it [04:08,  9.92it/s]"
          ]
        },
        {
          "output_type": "stream",
          "name": "stdout",
          "text": [
            "\titers: 2400, epoch: 2 | loss: 0.3302994\n",
            "\tspeed: 0.1034s/iter; left time: 2658.5165s\n"
          ]
        },
        {
          "output_type": "stream",
          "name": "stderr",
          "text": [
            "2500it [04:18,  9.64it/s]"
          ]
        },
        {
          "output_type": "stream",
          "name": "stdout",
          "text": [
            "\titers: 2500, epoch: 2 | loss: 0.3650993\n",
            "\tspeed: 0.1026s/iter; left time: 2627.6460s\n"
          ]
        },
        {
          "output_type": "stream",
          "name": "stderr",
          "text": [
            "2601it [04:28,  9.76it/s]"
          ]
        },
        {
          "output_type": "stream",
          "name": "stdout",
          "text": [
            "\titers: 2600, epoch: 2 | loss: 0.2176138\n",
            "\tspeed: 0.1025s/iter; left time: 2614.9788s\n"
          ]
        },
        {
          "output_type": "stream",
          "name": "stderr",
          "text": [
            "2701it [04:39,  9.58it/s]"
          ]
        },
        {
          "output_type": "stream",
          "name": "stdout",
          "text": [
            "\titers: 2700, epoch: 2 | loss: 0.2295563\n",
            "\tspeed: 0.1025s/iter; left time: 2606.0966s\n"
          ]
        },
        {
          "output_type": "stream",
          "name": "stderr",
          "text": [
            "2801it [04:49,  9.88it/s]"
          ]
        },
        {
          "output_type": "stream",
          "name": "stdout",
          "text": [
            "\titers: 2800, epoch: 2 | loss: 1.2493793\n",
            "\tspeed: 0.1024s/iter; left time: 2592.5624s\n"
          ]
        },
        {
          "output_type": "stream",
          "name": "stderr",
          "text": [
            "2900it [04:59,  9.88it/s]"
          ]
        },
        {
          "output_type": "stream",
          "name": "stdout",
          "text": [
            "\titers: 2900, epoch: 2 | loss: 0.4269124\n",
            "\tspeed: 0.1030s/iter; left time: 2597.5731s\n"
          ]
        },
        {
          "output_type": "stream",
          "name": "stderr",
          "text": [
            "3001it [05:09,  9.84it/s]"
          ]
        },
        {
          "output_type": "stream",
          "name": "stdout",
          "text": [
            "\titers: 3000, epoch: 2 | loss: 0.2307412\n",
            "\tspeed: 0.1030s/iter; left time: 2586.7683s\n"
          ]
        },
        {
          "output_type": "stream",
          "name": "stderr",
          "text": [
            "3101it [05:20,  9.65it/s]"
          ]
        },
        {
          "output_type": "stream",
          "name": "stdout",
          "text": [
            "\titers: 3100, epoch: 2 | loss: 0.4712981\n",
            "\tspeed: 0.1025s/iter; left time: 2564.7332s\n"
          ]
        },
        {
          "output_type": "stream",
          "name": "stderr",
          "text": [
            "3201it [05:30,  9.72it/s]"
          ]
        },
        {
          "output_type": "stream",
          "name": "stdout",
          "text": [
            "\titers: 3200, epoch: 2 | loss: 0.5046670\n",
            "\tspeed: 0.1019s/iter; left time: 2539.5223s\n"
          ]
        },
        {
          "output_type": "stream",
          "name": "stderr",
          "text": [
            "3301it [05:40,  9.72it/s]"
          ]
        },
        {
          "output_type": "stream",
          "name": "stdout",
          "text": [
            "\titers: 3300, epoch: 2 | loss: 0.3417220\n",
            "\tspeed: 0.1020s/iter; left time: 2532.1023s\n"
          ]
        },
        {
          "output_type": "stream",
          "name": "stderr",
          "text": [
            "3401it [05:50,  9.83it/s]"
          ]
        },
        {
          "output_type": "stream",
          "name": "stdout",
          "text": [
            "\titers: 3400, epoch: 2 | loss: 0.3073538\n",
            "\tspeed: 0.1025s/iter; left time: 2533.5637s\n"
          ]
        },
        {
          "output_type": "stream",
          "name": "stderr",
          "text": [
            "3501it [06:01,  9.84it/s]"
          ]
        },
        {
          "output_type": "stream",
          "name": "stdout",
          "text": [
            "\titers: 3500, epoch: 2 | loss: 0.4609959\n",
            "\tspeed: 0.1027s/iter; left time: 2527.2613s\n"
          ]
        },
        {
          "output_type": "stream",
          "name": "stderr",
          "text": [
            "3601it [06:11,  9.68it/s]"
          ]
        },
        {
          "output_type": "stream",
          "name": "stdout",
          "text": [
            "\titers: 3600, epoch: 2 | loss: 1.4828851\n",
            "\tspeed: 0.1029s/iter; left time: 2521.4337s\n"
          ]
        },
        {
          "output_type": "stream",
          "name": "stderr",
          "text": [
            "3701it [06:21,  9.91it/s]"
          ]
        },
        {
          "output_type": "stream",
          "name": "stdout",
          "text": [
            "\titers: 3700, epoch: 2 | loss: 0.3432981\n",
            "\tspeed: 0.1024s/iter; left time: 2500.8497s\n"
          ]
        },
        {
          "output_type": "stream",
          "name": "stderr",
          "text": [
            "3801it [06:31,  9.55it/s]"
          ]
        },
        {
          "output_type": "stream",
          "name": "stdout",
          "text": [
            "\titers: 3800, epoch: 2 | loss: 0.2362202\n",
            "\tspeed: 0.1030s/iter; left time: 2504.2295s\n"
          ]
        },
        {
          "output_type": "stream",
          "name": "stderr",
          "text": [
            "3901it [06:42,  9.79it/s]"
          ]
        },
        {
          "output_type": "stream",
          "name": "stdout",
          "text": [
            "\titers: 3900, epoch: 2 | loss: 0.3579867\n",
            "\tspeed: 0.1026s/iter; left time: 2484.9409s\n"
          ]
        },
        {
          "output_type": "stream",
          "name": "stderr",
          "text": [
            "4000it [06:52,  9.85it/s]"
          ]
        },
        {
          "output_type": "stream",
          "name": "stdout",
          "text": [
            "\titers: 4000, epoch: 2 | loss: 0.3261401\n",
            "\tspeed: 0.1026s/iter; left time: 2475.1501s\n"
          ]
        },
        {
          "output_type": "stream",
          "name": "stderr",
          "text": [
            "4101it [07:02,  9.82it/s]"
          ]
        },
        {
          "output_type": "stream",
          "name": "stdout",
          "text": [
            "\titers: 4100, epoch: 2 | loss: 0.1928222\n",
            "\tspeed: 0.1023s/iter; left time: 2456.6553s\n"
          ]
        },
        {
          "output_type": "stream",
          "name": "stderr",
          "text": [
            "4201it [07:12,  9.87it/s]"
          ]
        },
        {
          "output_type": "stream",
          "name": "stdout",
          "text": [
            "\titers: 4200, epoch: 2 | loss: 0.5506840\n",
            "\tspeed: 0.1028s/iter; left time: 2457.7442s\n"
          ]
        },
        {
          "output_type": "stream",
          "name": "stderr",
          "text": [
            "4301it [07:23,  9.73it/s]"
          ]
        },
        {
          "output_type": "stream",
          "name": "stdout",
          "text": [
            "\titers: 4300, epoch: 2 | loss: 0.3031228\n",
            "\tspeed: 0.1026s/iter; left time: 2444.0997s\n"
          ]
        },
        {
          "output_type": "stream",
          "name": "stderr",
          "text": [
            "4401it [07:33,  9.57it/s]"
          ]
        },
        {
          "output_type": "stream",
          "name": "stdout",
          "text": [
            "\titers: 4400, epoch: 2 | loss: 0.4190803\n",
            "\tspeed: 0.1030s/iter; left time: 2443.0460s\n"
          ]
        },
        {
          "output_type": "stream",
          "name": "stderr",
          "text": [
            "4501it [07:43,  9.84it/s]"
          ]
        },
        {
          "output_type": "stream",
          "name": "stdout",
          "text": [
            "\titers: 4500, epoch: 2 | loss: 0.2782030\n",
            "\tspeed: 0.1026s/iter; left time: 2421.7280s\n"
          ]
        },
        {
          "output_type": "stream",
          "name": "stderr",
          "text": [
            "4601it [07:54,  9.89it/s]"
          ]
        },
        {
          "output_type": "stream",
          "name": "stdout",
          "text": [
            "\titers: 4600, epoch: 2 | loss: 0.4008527\n",
            "\tspeed: 0.1025s/iter; left time: 2409.7782s\n"
          ]
        },
        {
          "output_type": "stream",
          "name": "stderr",
          "text": [
            "4700it [08:04,  9.66it/s]"
          ]
        },
        {
          "output_type": "stream",
          "name": "stdout",
          "text": [
            "\titers: 4700, epoch: 2 | loss: 0.3481477\n",
            "\tspeed: 0.1028s/iter; left time: 2407.2189s\n"
          ]
        },
        {
          "output_type": "stream",
          "name": "stderr",
          "text": [
            "4801it [08:14,  9.73it/s]"
          ]
        },
        {
          "output_type": "stream",
          "name": "stdout",
          "text": [
            "\titers: 4800, epoch: 2 | loss: 0.4975446\n",
            "\tspeed: 0.1023s/iter; left time: 2385.6340s\n"
          ]
        },
        {
          "output_type": "stream",
          "name": "stderr",
          "text": [
            "4901it [08:24,  9.55it/s]"
          ]
        },
        {
          "output_type": "stream",
          "name": "stdout",
          "text": [
            "\titers: 4900, epoch: 2 | loss: 0.4321414\n",
            "\tspeed: 0.1025s/iter; left time: 2379.4110s\n"
          ]
        },
        {
          "output_type": "stream",
          "name": "stderr",
          "text": [
            "5001it [08:35,  9.44it/s]"
          ]
        },
        {
          "output_type": "stream",
          "name": "stdout",
          "text": [
            "\titers: 5000, epoch: 2 | loss: 0.6086265\n",
            "\tspeed: 0.1037s/iter; left time: 2396.0387s\n"
          ]
        },
        {
          "output_type": "stream",
          "name": "stderr",
          "text": [
            "5101it [08:45,  9.81it/s]"
          ]
        },
        {
          "output_type": "stream",
          "name": "stdout",
          "text": [
            "\titers: 5100, epoch: 2 | loss: 0.5867956\n",
            "\tspeed: 0.1022s/iter; left time: 2351.9733s\n"
          ]
        },
        {
          "output_type": "stream",
          "name": "stderr",
          "text": [
            "5201it [08:55,  9.68it/s]"
          ]
        },
        {
          "output_type": "stream",
          "name": "stdout",
          "text": [
            "\titers: 5200, epoch: 2 | loss: 0.4204656\n",
            "\tspeed: 0.1031s/iter; left time: 2361.4045s\n"
          ]
        },
        {
          "output_type": "stream",
          "name": "stderr",
          "text": [
            "5301it [09:06,  9.58it/s]"
          ]
        },
        {
          "output_type": "stream",
          "name": "stdout",
          "text": [
            "\titers: 5300, epoch: 2 | loss: 0.3967438\n",
            "\tspeed: 0.1033s/iter; left time: 2357.1636s\n"
          ]
        },
        {
          "output_type": "stream",
          "name": "stderr",
          "text": [
            "5401it [09:16,  9.61it/s]"
          ]
        },
        {
          "output_type": "stream",
          "name": "stdout",
          "text": [
            "\titers: 5400, epoch: 2 | loss: 0.5112336\n",
            "\tspeed: 0.1035s/iter; left time: 2351.4796s\n"
          ]
        },
        {
          "output_type": "stream",
          "name": "stderr",
          "text": [
            "5501it [09:26,  9.94it/s]"
          ]
        },
        {
          "output_type": "stream",
          "name": "stdout",
          "text": [
            "\titers: 5500, epoch: 2 | loss: 0.3272898\n",
            "\tspeed: 0.1027s/iter; left time: 2321.2256s\n"
          ]
        },
        {
          "output_type": "stream",
          "name": "stderr",
          "text": [
            "5601it [09:36,  9.63it/s]"
          ]
        },
        {
          "output_type": "stream",
          "name": "stdout",
          "text": [
            "\titers: 5600, epoch: 2 | loss: 0.3258042\n",
            "\tspeed: 0.1032s/iter; left time: 2323.5812s\n"
          ]
        },
        {
          "output_type": "stream",
          "name": "stderr",
          "text": [
            "5701it [09:47,  9.81it/s]"
          ]
        },
        {
          "output_type": "stream",
          "name": "stdout",
          "text": [
            "\titers: 5700, epoch: 2 | loss: 0.3309962\n",
            "\tspeed: 0.1019s/iter; left time: 2284.0707s\n"
          ]
        },
        {
          "output_type": "stream",
          "name": "stderr",
          "text": [
            "5801it [09:57,  9.76it/s]"
          ]
        },
        {
          "output_type": "stream",
          "name": "stdout",
          "text": [
            "\titers: 5800, epoch: 2 | loss: 0.4192160\n",
            "\tspeed: 0.1025s/iter; left time: 2286.1546s\n"
          ]
        },
        {
          "output_type": "stream",
          "name": "stderr",
          "text": [
            "5901it [10:07,  9.82it/s]"
          ]
        },
        {
          "output_type": "stream",
          "name": "stdout",
          "text": [
            "\titers: 5900, epoch: 2 | loss: 0.3546714\n",
            "\tspeed: 0.1021s/iter; left time: 2268.3316s\n"
          ]
        },
        {
          "output_type": "stream",
          "name": "stderr",
          "text": [
            "6001it [10:17,  9.68it/s]"
          ]
        },
        {
          "output_type": "stream",
          "name": "stdout",
          "text": [
            "\titers: 6000, epoch: 2 | loss: 0.5487189\n",
            "\tspeed: 0.1030s/iter; left time: 2276.7535s\n"
          ]
        },
        {
          "output_type": "stream",
          "name": "stderr",
          "text": [
            "6101it [10:28,  9.83it/s]"
          ]
        },
        {
          "output_type": "stream",
          "name": "stdout",
          "text": [
            "\titers: 6100, epoch: 2 | loss: 0.4158382\n",
            "\tspeed: 0.1033s/iter; left time: 2273.7632s\n"
          ]
        },
        {
          "output_type": "stream",
          "name": "stderr",
          "text": [
            "6201it [10:38,  9.62it/s]"
          ]
        },
        {
          "output_type": "stream",
          "name": "stdout",
          "text": [
            "\titers: 6200, epoch: 2 | loss: 0.2803882\n",
            "\tspeed: 0.1023s/iter; left time: 2240.9474s\n"
          ]
        },
        {
          "output_type": "stream",
          "name": "stderr",
          "text": [
            "6301it [10:48,  9.71it/s]"
          ]
        },
        {
          "output_type": "stream",
          "name": "stdout",
          "text": [
            "\titers: 6300, epoch: 2 | loss: 0.5732114\n",
            "\tspeed: 0.1027s/iter; left time: 2240.5434s\n"
          ]
        },
        {
          "output_type": "stream",
          "name": "stderr",
          "text": [
            "6401it [10:58,  9.83it/s]"
          ]
        },
        {
          "output_type": "stream",
          "name": "stdout",
          "text": [
            "\titers: 6400, epoch: 2 | loss: 0.2936867\n",
            "\tspeed: 0.1026s/iter; left time: 2228.4298s\n"
          ]
        },
        {
          "output_type": "stream",
          "name": "stderr",
          "text": [
            "6501it [11:09,  9.65it/s]"
          ]
        },
        {
          "output_type": "stream",
          "name": "stdout",
          "text": [
            "\titers: 6500, epoch: 2 | loss: 0.3020344\n",
            "\tspeed: 0.1026s/iter; left time: 2218.3658s\n"
          ]
        },
        {
          "output_type": "stream",
          "name": "stderr",
          "text": [
            "6601it [11:19,  9.72it/s]"
          ]
        },
        {
          "output_type": "stream",
          "name": "stdout",
          "text": [
            "\titers: 6600, epoch: 2 | loss: 0.4152111\n",
            "\tspeed: 0.1027s/iter; left time: 2209.5497s\n"
          ]
        },
        {
          "output_type": "stream",
          "name": "stderr",
          "text": [
            "6701it [11:29,  9.89it/s]"
          ]
        },
        {
          "output_type": "stream",
          "name": "stdout",
          "text": [
            "\titers: 6700, epoch: 2 | loss: 0.6145283\n",
            "\tspeed: 0.1024s/iter; left time: 2193.3845s\n"
          ]
        },
        {
          "output_type": "stream",
          "name": "stderr",
          "text": [
            "6801it [11:39,  9.39it/s]"
          ]
        },
        {
          "output_type": "stream",
          "name": "stdout",
          "text": [
            "\titers: 6800, epoch: 2 | loss: 0.1413193\n",
            "\tspeed: 0.1021s/iter; left time: 2176.9663s\n"
          ]
        },
        {
          "output_type": "stream",
          "name": "stderr",
          "text": [
            "6901it [11:50,  9.60it/s]"
          ]
        },
        {
          "output_type": "stream",
          "name": "stdout",
          "text": [
            "\titers: 6900, epoch: 2 | loss: 0.2544698\n",
            "\tspeed: 0.1025s/iter; left time: 2174.2938s\n"
          ]
        },
        {
          "output_type": "stream",
          "name": "stderr",
          "text": [
            "7001it [12:00,  9.82it/s]"
          ]
        },
        {
          "output_type": "stream",
          "name": "stdout",
          "text": [
            "\titers: 7000, epoch: 2 | loss: 0.3786182\n",
            "\tspeed: 0.1021s/iter; left time: 2156.6578s\n"
          ]
        },
        {
          "output_type": "stream",
          "name": "stderr",
          "text": [
            "7028it [12:03,  9.72it/s]\n"
          ]
        },
        {
          "output_type": "stream",
          "name": "stdout",
          "text": [
            "Epoch: 2 cost time: 723.4048871994019\n"
          ]
        },
        {
          "output_type": "stream",
          "name": "stderr",
          "text": [
            "2436it [01:56, 20.94it/s]\n",
            "2436it [01:56, 20.96it/s]\n"
          ]
        },
        {
          "output_type": "stream",
          "name": "stdout",
          "text": [
            "Epoch: 2 | Train Loss: 0.4213312 Vali Loss: 0.7958818 Test Loss: 0.4268542 MAE Loss: 0.4405837\n",
            "Drive already mounted at /content/gdrive; to attempt to forcibly remount, call drive.mount(\"/content/gdrive\", force_remount=True).\n",
            "/content/gdrive/MyDrive/TimeLLM\n",
            "Updating learning rate to 0.00019999999999999966\n"
          ]
        },
        {
          "output_type": "stream",
          "name": "stderr",
          "text": [
            "101it [00:11,  9.24it/s]"
          ]
        },
        {
          "output_type": "stream",
          "name": "stdout",
          "text": [
            "\titers: 100, epoch: 3 | loss: 0.5945696\n",
            "\tspeed: 2.4910s/iter; left time: 52273.8755s\n"
          ]
        },
        {
          "output_type": "stream",
          "name": "stderr",
          "text": [
            "201it [00:21,  9.37it/s]"
          ]
        },
        {
          "output_type": "stream",
          "name": "stdout",
          "text": [
            "\titers: 200, epoch: 3 | loss: 0.7902431\n",
            "\tspeed: 0.1074s/iter; left time: 2243.7971s\n"
          ]
        },
        {
          "output_type": "stream",
          "name": "stderr",
          "text": [
            "301it [00:32,  9.55it/s]"
          ]
        },
        {
          "output_type": "stream",
          "name": "stdout",
          "text": [
            "\titers: 300, epoch: 3 | loss: 0.4587439\n",
            "\tspeed: 0.1032s/iter; left time: 2145.6356s\n"
          ]
        },
        {
          "output_type": "stream",
          "name": "stderr",
          "text": [
            "401it [00:42,  9.82it/s]"
          ]
        },
        {
          "output_type": "stream",
          "name": "stdout",
          "text": [
            "\titers: 400, epoch: 3 | loss: 0.3366973\n",
            "\tspeed: 0.1046s/iter; left time: 2163.1047s\n"
          ]
        },
        {
          "output_type": "stream",
          "name": "stderr",
          "text": [
            "501it [00:52,  9.74it/s]"
          ]
        },
        {
          "output_type": "stream",
          "name": "stdout",
          "text": [
            "\titers: 500, epoch: 3 | loss: 0.4715791\n",
            "\tspeed: 0.1024s/iter; left time: 2107.0290s\n"
          ]
        },
        {
          "output_type": "stream",
          "name": "stderr",
          "text": [
            "601it [01:03,  9.85it/s]"
          ]
        },
        {
          "output_type": "stream",
          "name": "stdout",
          "text": [
            "\titers: 600, epoch: 3 | loss: 0.3128630\n",
            "\tspeed: 0.1030s/iter; left time: 2109.6298s\n"
          ]
        },
        {
          "output_type": "stream",
          "name": "stderr",
          "text": [
            "700it [01:13,  9.76it/s]"
          ]
        },
        {
          "output_type": "stream",
          "name": "stdout",
          "text": [
            "\titers: 700, epoch: 3 | loss: 0.2241506\n",
            "\tspeed: 0.1025s/iter; left time: 2088.8317s\n"
          ]
        },
        {
          "output_type": "stream",
          "name": "stderr",
          "text": [
            "801it [01:23,  9.70it/s]"
          ]
        },
        {
          "output_type": "stream",
          "name": "stdout",
          "text": [
            "\titers: 800, epoch: 3 | loss: 0.3639302\n",
            "\tspeed: 0.1024s/iter; left time: 2076.7304s\n"
          ]
        },
        {
          "output_type": "stream",
          "name": "stderr",
          "text": [
            "901it [01:33,  9.66it/s]"
          ]
        },
        {
          "output_type": "stream",
          "name": "stdout",
          "text": [
            "\titers: 900, epoch: 3 | loss: 1.0802742\n",
            "\tspeed: 0.1018s/iter; left time: 2055.2447s\n"
          ]
        },
        {
          "output_type": "stream",
          "name": "stderr",
          "text": [
            "1001it [01:44,  9.47it/s]"
          ]
        },
        {
          "output_type": "stream",
          "name": "stdout",
          "text": [
            "\titers: 1000, epoch: 3 | loss: 0.2944146\n",
            "\tspeed: 0.1025s/iter; left time: 2059.0809s\n"
          ]
        },
        {
          "output_type": "stream",
          "name": "stderr",
          "text": [
            "1101it [01:54,  9.78it/s]"
          ]
        },
        {
          "output_type": "stream",
          "name": "stdout",
          "text": [
            "\titers: 1100, epoch: 3 | loss: 0.6145785\n",
            "\tspeed: 0.1027s/iter; left time: 2052.4000s\n"
          ]
        },
        {
          "output_type": "stream",
          "name": "stderr",
          "text": [
            "1200it [02:04,  9.75it/s]"
          ]
        },
        {
          "output_type": "stream",
          "name": "stdout",
          "text": [
            "\titers: 1200, epoch: 3 | loss: 0.1908383\n",
            "\tspeed: 0.1024s/iter; left time: 2035.6805s\n"
          ]
        },
        {
          "output_type": "stream",
          "name": "stderr",
          "text": [
            "1301it [02:14,  9.96it/s]"
          ]
        },
        {
          "output_type": "stream",
          "name": "stdout",
          "text": [
            "\titers: 1300, epoch: 3 | loss: 0.3975398\n",
            "\tspeed: 0.1029s/iter; left time: 2035.3074s\n"
          ]
        },
        {
          "output_type": "stream",
          "name": "stderr",
          "text": [
            "1400it [02:24,  9.32it/s]"
          ]
        },
        {
          "output_type": "stream",
          "name": "stdout",
          "text": [
            "\titers: 1400, epoch: 3 | loss: 0.5950636\n",
            "\tspeed: 0.1023s/iter; left time: 2014.6959s\n"
          ]
        },
        {
          "output_type": "stream",
          "name": "stderr",
          "text": [
            "1501it [02:35,  9.67it/s]"
          ]
        },
        {
          "output_type": "stream",
          "name": "stdout",
          "text": [
            "\titers: 1500, epoch: 3 | loss: 0.3340547\n",
            "\tspeed: 0.1026s/iter; left time: 2008.6291s\n"
          ]
        },
        {
          "output_type": "stream",
          "name": "stderr",
          "text": [
            "1600it [02:45,  9.88it/s]"
          ]
        },
        {
          "output_type": "stream",
          "name": "stdout",
          "text": [
            "\titers: 1600, epoch: 3 | loss: 0.3052632\n",
            "\tspeed: 0.1026s/iter; left time: 1999.3436s\n"
          ]
        },
        {
          "output_type": "stream",
          "name": "stderr",
          "text": [
            "1700it [02:55,  9.82it/s]"
          ]
        },
        {
          "output_type": "stream",
          "name": "stdout",
          "text": [
            "\titers: 1700, epoch: 3 | loss: 0.3111688\n",
            "\tspeed: 0.1029s/iter; left time: 1995.4310s\n"
          ]
        },
        {
          "output_type": "stream",
          "name": "stderr",
          "text": [
            "1801it [03:06,  9.97it/s]"
          ]
        },
        {
          "output_type": "stream",
          "name": "stdout",
          "text": [
            "\titers: 1800, epoch: 3 | loss: 0.3168681\n",
            "\tspeed: 0.1024s/iter; left time: 1974.1727s\n"
          ]
        },
        {
          "output_type": "stream",
          "name": "stderr",
          "text": [
            "1900it [03:16, 10.07it/s]"
          ]
        },
        {
          "output_type": "stream",
          "name": "stdout",
          "text": [
            "\titers: 1900, epoch: 3 | loss: 0.2158915\n",
            "\tspeed: 0.1025s/iter; left time: 1966.5278s\n"
          ]
        },
        {
          "output_type": "stream",
          "name": "stderr",
          "text": [
            "2001it [03:26,  9.85it/s]"
          ]
        },
        {
          "output_type": "stream",
          "name": "stdout",
          "text": [
            "\titers: 2000, epoch: 3 | loss: 0.3685698\n",
            "\tspeed: 0.1032s/iter; left time: 1969.7914s\n"
          ]
        },
        {
          "output_type": "stream",
          "name": "stderr",
          "text": [
            "2101it [03:36,  9.47it/s]"
          ]
        },
        {
          "output_type": "stream",
          "name": "stdout",
          "text": [
            "\titers: 2100, epoch: 3 | loss: 0.3283405\n",
            "\tspeed: 0.1030s/iter; left time: 1955.4970s\n"
          ]
        },
        {
          "output_type": "stream",
          "name": "stderr",
          "text": [
            "2201it [03:47,  9.73it/s]"
          ]
        },
        {
          "output_type": "stream",
          "name": "stdout",
          "text": [
            "\titers: 2200, epoch: 3 | loss: 0.3301246\n",
            "\tspeed: 0.1026s/iter; left time: 1936.8398s\n"
          ]
        },
        {
          "output_type": "stream",
          "name": "stderr",
          "text": [
            "2301it [03:57,  9.67it/s]"
          ]
        },
        {
          "output_type": "stream",
          "name": "stdout",
          "text": [
            "\titers: 2300, epoch: 3 | loss: 0.4003162\n",
            "\tspeed: 0.1026s/iter; left time: 1927.7120s\n"
          ]
        },
        {
          "output_type": "stream",
          "name": "stderr",
          "text": [
            "2401it [04:07,  9.71it/s]"
          ]
        },
        {
          "output_type": "stream",
          "name": "stdout",
          "text": [
            "\titers: 2400, epoch: 3 | loss: 0.4488675\n",
            "\tspeed: 0.1028s/iter; left time: 1921.4692s\n"
          ]
        },
        {
          "output_type": "stream",
          "name": "stderr",
          "text": [
            "2500it [04:17, 10.01it/s]"
          ]
        },
        {
          "output_type": "stream",
          "name": "stdout",
          "text": [
            "\titers: 2500, epoch: 3 | loss: 0.2981919\n",
            "\tspeed: 0.1021s/iter; left time: 1897.3290s\n"
          ]
        },
        {
          "output_type": "stream",
          "name": "stderr",
          "text": [
            "2601it [04:28,  9.86it/s]"
          ]
        },
        {
          "output_type": "stream",
          "name": "stdout",
          "text": [
            "\titers: 2600, epoch: 3 | loss: 0.4324057\n",
            "\tspeed: 0.1036s/iter; left time: 1915.0859s\n"
          ]
        },
        {
          "output_type": "stream",
          "name": "stderr",
          "text": [
            "2700it [04:38,  9.49it/s]"
          ]
        },
        {
          "output_type": "stream",
          "name": "stdout",
          "text": [
            "\titers: 2700, epoch: 3 | loss: 0.2400876\n",
            "\tspeed: 0.1031s/iter; left time: 1895.4689s\n"
          ]
        },
        {
          "output_type": "stream",
          "name": "stderr",
          "text": [
            "2800it [04:48,  9.64it/s]"
          ]
        },
        {
          "output_type": "stream",
          "name": "stdout",
          "text": [
            "\titers: 2800, epoch: 3 | loss: 0.4457547\n",
            "\tspeed: 0.1027s/iter; left time: 1877.1305s\n"
          ]
        },
        {
          "output_type": "stream",
          "name": "stderr",
          "text": [
            "2901it [04:59,  9.69it/s]"
          ]
        },
        {
          "output_type": "stream",
          "name": "stdout",
          "text": [
            "\titers: 2900, epoch: 3 | loss: 0.8138863\n",
            "\tspeed: 0.1025s/iter; left time: 1863.7116s\n"
          ]
        },
        {
          "output_type": "stream",
          "name": "stderr",
          "text": [
            "3001it [05:09,  9.50it/s]"
          ]
        },
        {
          "output_type": "stream",
          "name": "stdout",
          "text": [
            "\titers: 3000, epoch: 3 | loss: 0.3843277\n",
            "\tspeed: 0.1039s/iter; left time: 1878.3027s\n"
          ]
        },
        {
          "output_type": "stream",
          "name": "stderr",
          "text": [
            "3101it [05:19,  9.57it/s]"
          ]
        },
        {
          "output_type": "stream",
          "name": "stdout",
          "text": [
            "\titers: 3100, epoch: 3 | loss: 0.7261537\n",
            "\tspeed: 0.1035s/iter; left time: 1860.7998s\n"
          ]
        },
        {
          "output_type": "stream",
          "name": "stderr",
          "text": [
            "3200it [05:30,  9.85it/s]"
          ]
        },
        {
          "output_type": "stream",
          "name": "stdout",
          "text": [
            "\titers: 3200, epoch: 3 | loss: 0.5779431\n",
            "\tspeed: 0.1032s/iter; left time: 1846.1481s\n"
          ]
        },
        {
          "output_type": "stream",
          "name": "stderr",
          "text": [
            "3301it [05:40,  9.77it/s]"
          ]
        },
        {
          "output_type": "stream",
          "name": "stdout",
          "text": [
            "\titers: 3300, epoch: 3 | loss: 0.2798578\n",
            "\tspeed: 0.1028s/iter; left time: 1828.9884s\n"
          ]
        },
        {
          "output_type": "stream",
          "name": "stderr",
          "text": [
            "3401it [05:50,  9.59it/s]"
          ]
        },
        {
          "output_type": "stream",
          "name": "stdout",
          "text": [
            "\titers: 3400, epoch: 3 | loss: 0.4936905\n",
            "\tspeed: 0.1018s/iter; left time: 1800.5700s\n"
          ]
        },
        {
          "output_type": "stream",
          "name": "stderr",
          "text": [
            "3500it [06:00,  9.89it/s]"
          ]
        },
        {
          "output_type": "stream",
          "name": "stdout",
          "text": [
            "\titers: 3500, epoch: 3 | loss: 0.3942372\n",
            "\tspeed: 0.1028s/iter; left time: 1808.1479s\n"
          ]
        },
        {
          "output_type": "stream",
          "name": "stderr",
          "text": [
            "3600it [06:11,  9.89it/s]"
          ]
        },
        {
          "output_type": "stream",
          "name": "stdout",
          "text": [
            "\titers: 3600, epoch: 3 | loss: 0.3910995\n",
            "\tspeed: 0.1021s/iter; left time: 1784.7400s\n"
          ]
        },
        {
          "output_type": "stream",
          "name": "stderr",
          "text": [
            "3701it [06:21,  9.97it/s]"
          ]
        },
        {
          "output_type": "stream",
          "name": "stdout",
          "text": [
            "\titers: 3700, epoch: 3 | loss: 0.5727501\n",
            "\tspeed: 0.1019s/iter; left time: 1771.9537s\n"
          ]
        },
        {
          "output_type": "stream",
          "name": "stderr",
          "text": [
            "3800it [06:31,  9.86it/s]"
          ]
        },
        {
          "output_type": "stream",
          "name": "stdout",
          "text": [
            "\titers: 3800, epoch: 3 | loss: 0.4915875\n",
            "\tspeed: 0.1023s/iter; left time: 1767.4349s\n"
          ]
        },
        {
          "output_type": "stream",
          "name": "stderr",
          "text": [
            "3901it [06:41,  9.85it/s]"
          ]
        },
        {
          "output_type": "stream",
          "name": "stdout",
          "text": [
            "\titers: 3900, epoch: 3 | loss: 0.2755095\n",
            "\tspeed: 0.1025s/iter; left time: 1762.2953s\n"
          ]
        },
        {
          "output_type": "stream",
          "name": "stderr",
          "text": [
            "4001it [06:52,  9.66it/s]"
          ]
        },
        {
          "output_type": "stream",
          "name": "stdout",
          "text": [
            "\titers: 4000, epoch: 3 | loss: 0.4213150\n",
            "\tspeed: 0.1015s/iter; left time: 1734.4354s\n"
          ]
        },
        {
          "output_type": "stream",
          "name": "stderr",
          "text": [
            "4101it [07:02,  9.83it/s]"
          ]
        },
        {
          "output_type": "stream",
          "name": "stdout",
          "text": [
            "\titers: 4100, epoch: 3 | loss: 0.2753589\n",
            "\tspeed: 0.1017s/iter; left time: 1727.1599s\n"
          ]
        },
        {
          "output_type": "stream",
          "name": "stderr",
          "text": [
            "4201it [07:12,  9.84it/s]"
          ]
        },
        {
          "output_type": "stream",
          "name": "stdout",
          "text": [
            "\titers: 4200, epoch: 3 | loss: 0.3149203\n",
            "\tspeed: 0.1028s/iter; left time: 1735.2324s\n"
          ]
        },
        {
          "output_type": "stream",
          "name": "stderr",
          "text": [
            "4301it [07:22,  9.66it/s]"
          ]
        },
        {
          "output_type": "stream",
          "name": "stdout",
          "text": [
            "\titers: 4300, epoch: 3 | loss: 0.3921766\n",
            "\tspeed: 0.1017s/iter; left time: 1706.3916s\n"
          ]
        },
        {
          "output_type": "stream",
          "name": "stderr",
          "text": [
            "4401it [07:32,  9.77it/s]"
          ]
        },
        {
          "output_type": "stream",
          "name": "stdout",
          "text": [
            "\titers: 4400, epoch: 3 | loss: 0.2605896\n",
            "\tspeed: 0.1026s/iter; left time: 1712.1612s\n"
          ]
        },
        {
          "output_type": "stream",
          "name": "stderr",
          "text": [
            "4501it [07:43,  9.87it/s]"
          ]
        },
        {
          "output_type": "stream",
          "name": "stdout",
          "text": [
            "\titers: 4500, epoch: 3 | loss: 0.1593256\n",
            "\tspeed: 0.1029s/iter; left time: 1707.3534s\n"
          ]
        },
        {
          "output_type": "stream",
          "name": "stderr",
          "text": [
            "4601it [07:53,  9.79it/s]"
          ]
        },
        {
          "output_type": "stream",
          "name": "stdout",
          "text": [
            "\titers: 4600, epoch: 3 | loss: 0.4840445\n",
            "\tspeed: 0.1015s/iter; left time: 1672.8956s\n"
          ]
        },
        {
          "output_type": "stream",
          "name": "stderr",
          "text": [
            "4701it [08:03,  9.62it/s]"
          ]
        },
        {
          "output_type": "stream",
          "name": "stdout",
          "text": [
            "\titers: 4700, epoch: 3 | loss: 0.2828730\n",
            "\tspeed: 0.1019s/iter; left time: 1669.1425s\n"
          ]
        },
        {
          "output_type": "stream",
          "name": "stderr",
          "text": [
            "4800it [08:13,  9.73it/s]"
          ]
        },
        {
          "output_type": "stream",
          "name": "stdout",
          "text": [
            "\titers: 4800, epoch: 3 | loss: 0.3555861\n",
            "\tspeed: 0.1029s/iter; left time: 1676.0152s\n"
          ]
        },
        {
          "output_type": "stream",
          "name": "stderr",
          "text": [
            "4900it [08:23,  9.78it/s]"
          ]
        },
        {
          "output_type": "stream",
          "name": "stdout",
          "text": [
            "\titers: 4900, epoch: 3 | loss: 0.2587454\n",
            "\tspeed: 0.1027s/iter; left time: 1661.3992s\n"
          ]
        },
        {
          "output_type": "stream",
          "name": "stderr",
          "text": [
            "5001it [08:34,  9.70it/s]"
          ]
        },
        {
          "output_type": "stream",
          "name": "stdout",
          "text": [
            "\titers: 5000, epoch: 3 | loss: 0.2973747\n",
            "\tspeed: 0.1023s/iter; left time: 1645.4191s\n"
          ]
        },
        {
          "output_type": "stream",
          "name": "stderr",
          "text": [
            "5101it [08:44,  9.88it/s]"
          ]
        },
        {
          "output_type": "stream",
          "name": "stdout",
          "text": [
            "\titers: 5100, epoch: 3 | loss: 0.3966857\n",
            "\tspeed: 0.1025s/iter; left time: 1639.0311s\n"
          ]
        },
        {
          "output_type": "stream",
          "name": "stderr",
          "text": [
            "5201it [08:54,  9.60it/s]"
          ]
        },
        {
          "output_type": "stream",
          "name": "stdout",
          "text": [
            "\titers: 5200, epoch: 3 | loss: 0.4772782\n",
            "\tspeed: 0.1017s/iter; left time: 1615.5318s\n"
          ]
        },
        {
          "output_type": "stream",
          "name": "stderr",
          "text": [
            "5301it [09:04,  9.94it/s]"
          ]
        },
        {
          "output_type": "stream",
          "name": "stdout",
          "text": [
            "\titers: 5300, epoch: 3 | loss: 0.3703854\n",
            "\tspeed: 0.1024s/iter; left time: 1615.9350s\n"
          ]
        },
        {
          "output_type": "stream",
          "name": "stderr",
          "text": [
            "5401it [09:15,  9.74it/s]"
          ]
        },
        {
          "output_type": "stream",
          "name": "stdout",
          "text": [
            "\titers: 5400, epoch: 3 | loss: 0.4579068\n",
            "\tspeed: 0.1024s/iter; left time: 1605.5305s\n"
          ]
        },
        {
          "output_type": "stream",
          "name": "stderr",
          "text": [
            "5500it [09:25, 10.03it/s]"
          ]
        },
        {
          "output_type": "stream",
          "name": "stdout",
          "text": [
            "\titers: 5500, epoch: 3 | loss: 0.2158108\n",
            "\tspeed: 0.1031s/iter; left time: 1607.0074s\n"
          ]
        },
        {
          "output_type": "stream",
          "name": "stderr",
          "text": [
            "5600it [09:35, 10.04it/s]"
          ]
        },
        {
          "output_type": "stream",
          "name": "stdout",
          "text": [
            "\titers: 5600, epoch: 3 | loss: 1.0371197\n",
            "\tspeed: 0.1019s/iter; left time: 1578.0146s\n"
          ]
        },
        {
          "output_type": "stream",
          "name": "stderr",
          "text": [
            "5700it [09:45,  9.72it/s]"
          ]
        },
        {
          "output_type": "stream",
          "name": "stdout",
          "text": [
            "\titers: 5700, epoch: 3 | loss: 0.4209082\n",
            "\tspeed: 0.1025s/iter; left time: 1576.8005s\n"
          ]
        },
        {
          "output_type": "stream",
          "name": "stderr",
          "text": [
            "5801it [09:56,  9.44it/s]"
          ]
        },
        {
          "output_type": "stream",
          "name": "stdout",
          "text": [
            "\titers: 5800, epoch: 3 | loss: 0.2025044\n",
            "\tspeed: 0.1016s/iter; left time: 1553.3355s\n"
          ]
        },
        {
          "output_type": "stream",
          "name": "stderr",
          "text": [
            "5901it [10:06,  9.93it/s]"
          ]
        },
        {
          "output_type": "stream",
          "name": "stdout",
          "text": [
            "\titers: 5900, epoch: 3 | loss: 0.1857377\n",
            "\tspeed: 0.1020s/iter; left time: 1548.3771s\n"
          ]
        },
        {
          "output_type": "stream",
          "name": "stderr",
          "text": [
            "6001it [10:16,  9.75it/s]"
          ]
        },
        {
          "output_type": "stream",
          "name": "stdout",
          "text": [
            "\titers: 6000, epoch: 3 | loss: 0.4848552\n",
            "\tspeed: 0.1019s/iter; left time: 1536.4353s\n"
          ]
        },
        {
          "output_type": "stream",
          "name": "stderr",
          "text": [
            "6101it [10:26,  9.99it/s]"
          ]
        },
        {
          "output_type": "stream",
          "name": "stdout",
          "text": [
            "\titers: 6100, epoch: 3 | loss: 0.1636831\n",
            "\tspeed: 0.1018s/iter; left time: 1525.1893s\n"
          ]
        },
        {
          "output_type": "stream",
          "name": "stderr",
          "text": [
            "6200it [10:36,  9.87it/s]"
          ]
        },
        {
          "output_type": "stream",
          "name": "stdout",
          "text": [
            "\titers: 6200, epoch: 3 | loss: 0.4245555\n",
            "\tspeed: 0.1027s/iter; left time: 1528.2128s\n"
          ]
        },
        {
          "output_type": "stream",
          "name": "stderr",
          "text": [
            "6301it [10:47,  9.75it/s]"
          ]
        },
        {
          "output_type": "stream",
          "name": "stdout",
          "text": [
            "\titers: 6300, epoch: 3 | loss: 0.2622631\n",
            "\tspeed: 0.1032s/iter; left time: 1525.8876s\n"
          ]
        },
        {
          "output_type": "stream",
          "name": "stderr",
          "text": [
            "6401it [10:57,  9.38it/s]"
          ]
        },
        {
          "output_type": "stream",
          "name": "stdout",
          "text": [
            "\titers: 6400, epoch: 3 | loss: 1.1041662\n",
            "\tspeed: 0.1029s/iter; left time: 1510.7085s\n"
          ]
        },
        {
          "output_type": "stream",
          "name": "stderr",
          "text": [
            "6501it [11:07,  9.70it/s]"
          ]
        },
        {
          "output_type": "stream",
          "name": "stdout",
          "text": [
            "\titers: 6500, epoch: 3 | loss: 0.9812972\n",
            "\tspeed: 0.1015s/iter; left time: 1480.6784s\n"
          ]
        },
        {
          "output_type": "stream",
          "name": "stderr",
          "text": [
            "6600it [11:17, 10.03it/s]"
          ]
        },
        {
          "output_type": "stream",
          "name": "stdout",
          "text": [
            "\titers: 6600, epoch: 3 | loss: 0.5354620\n",
            "\tspeed: 0.1025s/iter; left time: 1484.0017s\n"
          ]
        },
        {
          "output_type": "stream",
          "name": "stderr",
          "text": [
            "6700it [11:28, 10.13it/s]"
          ]
        },
        {
          "output_type": "stream",
          "name": "stdout",
          "text": [
            "\titers: 6700, epoch: 3 | loss: 0.4611216\n",
            "\tspeed: 0.1023s/iter; left time: 1471.2271s\n"
          ]
        },
        {
          "output_type": "stream",
          "name": "stderr",
          "text": [
            "6801it [11:38, 10.01it/s]"
          ]
        },
        {
          "output_type": "stream",
          "name": "stdout",
          "text": [
            "\titers: 6800, epoch: 3 | loss: 0.2576390\n",
            "\tspeed: 0.1019s/iter; left time: 1456.2103s\n"
          ]
        },
        {
          "output_type": "stream",
          "name": "stderr",
          "text": [
            "6901it [11:48,  9.73it/s]"
          ]
        },
        {
          "output_type": "stream",
          "name": "stdout",
          "text": [
            "\titers: 6900, epoch: 3 | loss: 0.7862583\n",
            "\tspeed: 0.1025s/iter; left time: 1454.5732s\n"
          ]
        },
        {
          "output_type": "stream",
          "name": "stderr",
          "text": [
            "7001it [11:58,  9.65it/s]"
          ]
        },
        {
          "output_type": "stream",
          "name": "stdout",
          "text": [
            "\titers: 7000, epoch: 3 | loss: 0.3043053\n",
            "\tspeed: 0.1022s/iter; left time: 1440.1403s\n"
          ]
        },
        {
          "output_type": "stream",
          "name": "stderr",
          "text": [
            "7028it [12:01,  9.74it/s]\n"
          ]
        },
        {
          "output_type": "stream",
          "name": "stdout",
          "text": [
            "Epoch: 3 cost time: 721.6883497238159\n"
          ]
        },
        {
          "output_type": "stream",
          "name": "stderr",
          "text": [
            "2436it [01:55, 21.10it/s]\n",
            "2436it [01:56, 21.00it/s]\n"
          ]
        },
        {
          "output_type": "stream",
          "name": "stdout",
          "text": [
            "Epoch: 3 | Train Loss: 0.4024107 Vali Loss: 0.7740747 Test Loss: 0.4040005 MAE Loss: 0.4210847\n",
            "Drive already mounted at /content/gdrive; to attempt to forcibly remount, call drive.mount(\"/content/gdrive\", force_remount=True).\n",
            "/content/gdrive/MyDrive/TimeLLM\n",
            "Updating learning rate to 9.999999999999983e-05\n"
          ]
        },
        {
          "output_type": "stream",
          "name": "stderr",
          "text": [
            "101it [00:11,  8.90it/s]"
          ]
        },
        {
          "output_type": "stream",
          "name": "stdout",
          "text": [
            "\titers: 100, epoch: 4 | loss: 0.3756563\n",
            "\tspeed: 2.4801s/iter; left time: 34614.6099s\n"
          ]
        },
        {
          "output_type": "stream",
          "name": "stderr",
          "text": [
            "201it [00:22,  8.83it/s]"
          ]
        },
        {
          "output_type": "stream",
          "name": "stdout",
          "text": [
            "\titers: 200, epoch: 4 | loss: 0.2264980\n",
            "\tspeed: 0.1088s/iter; left time: 1507.2219s\n"
          ]
        },
        {
          "output_type": "stream",
          "name": "stderr",
          "text": [
            "301it [00:32,  9.45it/s]"
          ]
        },
        {
          "output_type": "stream",
          "name": "stdout",
          "text": [
            "\titers: 300, epoch: 4 | loss: 0.1493135\n",
            "\tspeed: 0.1034s/iter; left time: 1423.1353s\n"
          ]
        },
        {
          "output_type": "stream",
          "name": "stderr",
          "text": [
            "401it [00:42,  9.53it/s]"
          ]
        },
        {
          "output_type": "stream",
          "name": "stdout",
          "text": [
            "\titers: 400, epoch: 4 | loss: 0.5364927\n",
            "\tspeed: 0.1022s/iter; left time: 1396.0904s\n"
          ]
        },
        {
          "output_type": "stream",
          "name": "stderr",
          "text": [
            "501it [00:52,  9.80it/s]"
          ]
        },
        {
          "output_type": "stream",
          "name": "stdout",
          "text": [
            "\titers: 500, epoch: 4 | loss: 0.2371593\n",
            "\tspeed: 0.1040s/iter; left time: 1410.0737s\n"
          ]
        },
        {
          "output_type": "stream",
          "name": "stderr",
          "text": [
            "601it [01:03,  9.72it/s]"
          ]
        },
        {
          "output_type": "stream",
          "name": "stdout",
          "text": [
            "\titers: 600, epoch: 4 | loss: 0.4626181\n",
            "\tspeed: 0.1021s/iter; left time: 1374.3643s\n"
          ]
        },
        {
          "output_type": "stream",
          "name": "stderr",
          "text": [
            "700it [01:13,  9.07it/s]"
          ]
        },
        {
          "output_type": "stream",
          "name": "stdout",
          "text": [
            "\titers: 700, epoch: 4 | loss: 0.4349236\n",
            "\tspeed: 0.1039s/iter; left time: 1388.3873s\n"
          ]
        },
        {
          "output_type": "stream",
          "name": "stderr",
          "text": [
            "801it [01:23,  9.67it/s]"
          ]
        },
        {
          "output_type": "stream",
          "name": "stdout",
          "text": [
            "\titers: 800, epoch: 4 | loss: 0.3528475\n",
            "\tspeed: 0.1025s/iter; left time: 1358.9924s\n"
          ]
        },
        {
          "output_type": "stream",
          "name": "stderr",
          "text": [
            "901it [01:34,  9.71it/s]"
          ]
        },
        {
          "output_type": "stream",
          "name": "stdout",
          "text": [
            "\titers: 900, epoch: 4 | loss: 0.3059189\n",
            "\tspeed: 0.1028s/iter; left time: 1353.1221s\n"
          ]
        },
        {
          "output_type": "stream",
          "name": "stderr",
          "text": [
            "1001it [01:44,  9.59it/s]"
          ]
        },
        {
          "output_type": "stream",
          "name": "stdout",
          "text": [
            "\titers: 1000, epoch: 4 | loss: 0.7126939\n",
            "\tspeed: 0.1024s/iter; left time: 1337.4006s\n"
          ]
        },
        {
          "output_type": "stream",
          "name": "stderr",
          "text": [
            "1101it [01:54,  9.93it/s]"
          ]
        },
        {
          "output_type": "stream",
          "name": "stdout",
          "text": [
            "\titers: 1100, epoch: 4 | loss: 0.2326881\n",
            "\tspeed: 0.1023s/iter; left time: 1325.2067s\n"
          ]
        },
        {
          "output_type": "stream",
          "name": "stderr",
          "text": [
            "1201it [02:04,  9.80it/s]"
          ]
        },
        {
          "output_type": "stream",
          "name": "stdout",
          "text": [
            "\titers: 1200, epoch: 4 | loss: 0.2695844\n",
            "\tspeed: 0.1024s/iter; left time: 1316.9054s\n"
          ]
        },
        {
          "output_type": "stream",
          "name": "stderr",
          "text": [
            "1301it [02:15,  9.81it/s]"
          ]
        },
        {
          "output_type": "stream",
          "name": "stdout",
          "text": [
            "\titers: 1300, epoch: 4 | loss: 0.2636102\n",
            "\tspeed: 0.1023s/iter; left time: 1305.6468s\n"
          ]
        },
        {
          "output_type": "stream",
          "name": "stderr",
          "text": [
            "1401it [02:25,  9.08it/s]"
          ]
        },
        {
          "output_type": "stream",
          "name": "stdout",
          "text": [
            "\titers: 1400, epoch: 4 | loss: 0.3817258\n",
            "\tspeed: 0.1035s/iter; left time: 1309.5846s\n"
          ]
        },
        {
          "output_type": "stream",
          "name": "stderr",
          "text": [
            "1501it [02:35,  9.63it/s]"
          ]
        },
        {
          "output_type": "stream",
          "name": "stdout",
          "text": [
            "\titers: 1500, epoch: 4 | loss: 0.4176669\n",
            "\tspeed: 0.1027s/iter; left time: 1289.8206s\n"
          ]
        },
        {
          "output_type": "stream",
          "name": "stderr",
          "text": [
            "1601it [02:46,  8.97it/s]"
          ]
        },
        {
          "output_type": "stream",
          "name": "stdout",
          "text": [
            "\titers: 1600, epoch: 4 | loss: 0.4914350\n",
            "\tspeed: 0.1034s/iter; left time: 1288.0213s\n"
          ]
        },
        {
          "output_type": "stream",
          "name": "stderr",
          "text": [
            "1701it [02:56,  9.93it/s]"
          ]
        },
        {
          "output_type": "stream",
          "name": "stdout",
          "text": [
            "\titers: 1700, epoch: 4 | loss: 0.6163477\n",
            "\tspeed: 0.1031s/iter; left time: 1274.3505s\n"
          ]
        },
        {
          "output_type": "stream",
          "name": "stderr",
          "text": [
            "1801it [03:06,  9.59it/s]"
          ]
        },
        {
          "output_type": "stream",
          "name": "stdout",
          "text": [
            "\titers: 1800, epoch: 4 | loss: 0.6134159\n",
            "\tspeed: 0.1019s/iter; left time: 1249.4505s\n"
          ]
        },
        {
          "output_type": "stream",
          "name": "stderr",
          "text": [
            "1901it [03:16,  9.90it/s]"
          ]
        },
        {
          "output_type": "stream",
          "name": "stdout",
          "text": [
            "\titers: 1900, epoch: 4 | loss: 0.5569792\n",
            "\tspeed: 0.1021s/iter; left time: 1240.6278s\n"
          ]
        },
        {
          "output_type": "stream",
          "name": "stderr",
          "text": [
            "2001it [03:26,  9.86it/s]"
          ]
        },
        {
          "output_type": "stream",
          "name": "stdout",
          "text": [
            "\titers: 2000, epoch: 4 | loss: 0.2505581\n",
            "\tspeed: 0.1021s/iter; left time: 1231.3928s\n"
          ]
        },
        {
          "output_type": "stream",
          "name": "stderr",
          "text": [
            "2101it [03:37,  9.72it/s]"
          ]
        },
        {
          "output_type": "stream",
          "name": "stdout",
          "text": [
            "\titers: 2100, epoch: 4 | loss: 0.2801539\n",
            "\tspeed: 0.1022s/iter; left time: 1221.6358s\n"
          ]
        },
        {
          "output_type": "stream",
          "name": "stderr",
          "text": [
            "2201it [03:47,  9.85it/s]"
          ]
        },
        {
          "output_type": "stream",
          "name": "stdout",
          "text": [
            "\titers: 2200, epoch: 4 | loss: 0.2561854\n",
            "\tspeed: 0.1012s/iter; left time: 1199.3477s\n"
          ]
        },
        {
          "output_type": "stream",
          "name": "stderr",
          "text": [
            "2300it [03:57,  9.48it/s]"
          ]
        },
        {
          "output_type": "stream",
          "name": "stdout",
          "text": [
            "\titers: 2300, epoch: 4 | loss: 0.2972846\n",
            "\tspeed: 0.1031s/iter; left time: 1212.4294s\n"
          ]
        },
        {
          "output_type": "stream",
          "name": "stderr",
          "text": [
            "2401it [04:07,  9.51it/s]"
          ]
        },
        {
          "output_type": "stream",
          "name": "stdout",
          "text": [
            "\titers: 2400, epoch: 4 | loss: 0.4575254\n",
            "\tspeed: 0.1024s/iter; left time: 1193.2627s\n"
          ]
        },
        {
          "output_type": "stream",
          "name": "stderr",
          "text": [
            "2501it [04:18,  9.67it/s]"
          ]
        },
        {
          "output_type": "stream",
          "name": "stdout",
          "text": [
            "\titers: 2500, epoch: 4 | loss: 0.3532725\n",
            "\tspeed: 0.1021s/iter; left time: 1179.7524s\n"
          ]
        },
        {
          "output_type": "stream",
          "name": "stderr",
          "text": [
            "2601it [04:28,  9.80it/s]"
          ]
        },
        {
          "output_type": "stream",
          "name": "stdout",
          "text": [
            "\titers: 2600, epoch: 4 | loss: 0.8719963\n",
            "\tspeed: 0.1021s/iter; left time: 1170.1558s\n"
          ]
        },
        {
          "output_type": "stream",
          "name": "stderr",
          "text": [
            "2701it [04:38,  9.74it/s]"
          ]
        },
        {
          "output_type": "stream",
          "name": "stdout",
          "text": [
            "\titers: 2700, epoch: 4 | loss: 0.5891631\n",
            "\tspeed: 0.1021s/iter; left time: 1159.3969s\n"
          ]
        },
        {
          "output_type": "stream",
          "name": "stderr",
          "text": [
            "2801it [04:48,  9.61it/s]"
          ]
        },
        {
          "output_type": "stream",
          "name": "stdout",
          "text": [
            "\titers: 2800, epoch: 4 | loss: 0.1441302\n",
            "\tspeed: 0.1033s/iter; left time: 1163.2333s\n"
          ]
        },
        {
          "output_type": "stream",
          "name": "stderr",
          "text": [
            "2901it [04:59,  9.85it/s]"
          ]
        },
        {
          "output_type": "stream",
          "name": "stdout",
          "text": [
            "\titers: 2900, epoch: 4 | loss: 0.4606678\n",
            "\tspeed: 0.1024s/iter; left time: 1142.8243s\n"
          ]
        },
        {
          "output_type": "stream",
          "name": "stderr",
          "text": [
            "3000it [05:09,  9.79it/s]"
          ]
        },
        {
          "output_type": "stream",
          "name": "stdout",
          "text": [
            "\titers: 3000, epoch: 4 | loss: 0.3699462\n",
            "\tspeed: 0.1031s/iter; left time: 1140.2227s\n"
          ]
        },
        {
          "output_type": "stream",
          "name": "stderr",
          "text": [
            "3101it [05:19,  9.96it/s]"
          ]
        },
        {
          "output_type": "stream",
          "name": "stdout",
          "text": [
            "\titers: 3100, epoch: 4 | loss: 0.2742496\n",
            "\tspeed: 0.1034s/iter; left time: 1132.5832s\n"
          ]
        },
        {
          "output_type": "stream",
          "name": "stderr",
          "text": [
            "3200it [05:29,  9.49it/s]"
          ]
        },
        {
          "output_type": "stream",
          "name": "stdout",
          "text": [
            "\titers: 3200, epoch: 4 | loss: 0.3619228\n",
            "\tspeed: 0.1027s/iter; left time: 1114.8777s\n"
          ]
        },
        {
          "output_type": "stream",
          "name": "stderr",
          "text": [
            "3301it [05:40,  9.52it/s]"
          ]
        },
        {
          "output_type": "stream",
          "name": "stdout",
          "text": [
            "\titers: 3300, epoch: 4 | loss: 0.4802830\n",
            "\tspeed: 0.1033s/iter; left time: 1110.8650s\n"
          ]
        },
        {
          "output_type": "stream",
          "name": "stderr",
          "text": [
            "3401it [05:50,  9.25it/s]"
          ]
        },
        {
          "output_type": "stream",
          "name": "stdout",
          "text": [
            "\titers: 3400, epoch: 4 | loss: 0.2658868\n",
            "\tspeed: 0.1026s/iter; left time: 1093.0520s\n"
          ]
        },
        {
          "output_type": "stream",
          "name": "stderr",
          "text": [
            "3501it [06:00,  9.69it/s]"
          ]
        },
        {
          "output_type": "stream",
          "name": "stdout",
          "text": [
            "\titers: 3500, epoch: 4 | loss: 0.3517402\n",
            "\tspeed: 0.1026s/iter; left time: 1083.2870s\n"
          ]
        },
        {
          "output_type": "stream",
          "name": "stderr",
          "text": [
            "3601it [06:11,  9.92it/s]"
          ]
        },
        {
          "output_type": "stream",
          "name": "stdout",
          "text": [
            "\titers: 3600, epoch: 4 | loss: 0.6697330\n",
            "\tspeed: 0.1027s/iter; left time: 1073.8677s\n"
          ]
        },
        {
          "output_type": "stream",
          "name": "stderr",
          "text": [
            "3701it [06:21,  9.83it/s]"
          ]
        },
        {
          "output_type": "stream",
          "name": "stdout",
          "text": [
            "\titers: 3700, epoch: 4 | loss: 0.3189619\n",
            "\tspeed: 0.1021s/iter; left time: 1057.7385s\n"
          ]
        },
        {
          "output_type": "stream",
          "name": "stderr",
          "text": [
            "3801it [06:31,  9.45it/s]"
          ]
        },
        {
          "output_type": "stream",
          "name": "stdout",
          "text": [
            "\titers: 3800, epoch: 4 | loss: 0.1914491\n",
            "\tspeed: 0.1044s/iter; left time: 1070.7958s\n"
          ]
        },
        {
          "output_type": "stream",
          "name": "stderr",
          "text": [
            "3901it [06:41,  9.47it/s]"
          ]
        },
        {
          "output_type": "stream",
          "name": "stdout",
          "text": [
            "\titers: 3900, epoch: 4 | loss: 0.3201220\n",
            "\tspeed: 0.1028s/iter; left time: 1044.3784s\n"
          ]
        },
        {
          "output_type": "stream",
          "name": "stderr",
          "text": [
            "4001it [06:52,  9.82it/s]"
          ]
        },
        {
          "output_type": "stream",
          "name": "stdout",
          "text": [
            "\titers: 4000, epoch: 4 | loss: 0.3106361\n",
            "\tspeed: 0.1041s/iter; left time: 1047.3977s\n"
          ]
        },
        {
          "output_type": "stream",
          "name": "stderr",
          "text": [
            "4101it [07:02,  9.69it/s]"
          ]
        },
        {
          "output_type": "stream",
          "name": "stdout",
          "text": [
            "\titers: 4100, epoch: 4 | loss: 0.4083009\n",
            "\tspeed: 0.1018s/iter; left time: 1013.6427s\n"
          ]
        },
        {
          "output_type": "stream",
          "name": "stderr",
          "text": [
            "4201it [07:12,  9.56it/s]"
          ]
        },
        {
          "output_type": "stream",
          "name": "stdout",
          "text": [
            "\titers: 4200, epoch: 4 | loss: 0.3562958\n",
            "\tspeed: 0.1022s/iter; left time: 1007.0684s\n"
          ]
        },
        {
          "output_type": "stream",
          "name": "stderr",
          "text": [
            "4301it [07:23,  9.98it/s]"
          ]
        },
        {
          "output_type": "stream",
          "name": "stdout",
          "text": [
            "\titers: 4300, epoch: 4 | loss: 0.3271399\n",
            "\tspeed: 0.1020s/iter; left time: 995.4407s\n"
          ]
        },
        {
          "output_type": "stream",
          "name": "stderr",
          "text": [
            "4401it [07:33,  9.92it/s]"
          ]
        },
        {
          "output_type": "stream",
          "name": "stdout",
          "text": [
            "\titers: 4400, epoch: 4 | loss: 0.1556211\n",
            "\tspeed: 0.1027s/iter; left time: 991.5322s\n"
          ]
        },
        {
          "output_type": "stream",
          "name": "stderr",
          "text": [
            "4501it [07:43, 10.03it/s]"
          ]
        },
        {
          "output_type": "stream",
          "name": "stdout",
          "text": [
            "\titers: 4500, epoch: 4 | loss: 0.2689693\n",
            "\tspeed: 0.1013s/iter; left time: 968.4965s\n"
          ]
        },
        {
          "output_type": "stream",
          "name": "stderr",
          "text": [
            "4601it [07:53,  9.72it/s]"
          ]
        },
        {
          "output_type": "stream",
          "name": "stdout",
          "text": [
            "\titers: 4600, epoch: 4 | loss: 0.2470149\n",
            "\tspeed: 0.1017s/iter; left time: 961.4175s\n"
          ]
        },
        {
          "output_type": "stream",
          "name": "stderr",
          "text": [
            "4701it [08:03,  9.87it/s]"
          ]
        },
        {
          "output_type": "stream",
          "name": "stdout",
          "text": [
            "\titers: 4700, epoch: 4 | loss: 0.5557473\n",
            "\tspeed: 0.1015s/iter; left time: 949.7979s\n"
          ]
        },
        {
          "output_type": "stream",
          "name": "stderr",
          "text": [
            "4801it [08:13,  9.62it/s]"
          ]
        },
        {
          "output_type": "stream",
          "name": "stdout",
          "text": [
            "\titers: 4800, epoch: 4 | loss: 0.2605643\n",
            "\tspeed: 0.1025s/iter; left time: 949.2181s\n"
          ]
        },
        {
          "output_type": "stream",
          "name": "stderr",
          "text": [
            "4900it [08:24,  9.88it/s]"
          ]
        },
        {
          "output_type": "stream",
          "name": "stdout",
          "text": [
            "\titers: 4900, epoch: 4 | loss: 0.3331757\n",
            "\tspeed: 0.1024s/iter; left time: 938.1259s\n"
          ]
        },
        {
          "output_type": "stream",
          "name": "stderr",
          "text": [
            "5001it [08:34,  9.80it/s]"
          ]
        },
        {
          "output_type": "stream",
          "name": "stdout",
          "text": [
            "\titers: 5000, epoch: 4 | loss: 0.5274928\n",
            "\tspeed: 0.1018s/iter; left time: 921.9610s\n"
          ]
        },
        {
          "output_type": "stream",
          "name": "stderr",
          "text": [
            "5101it [08:44,  9.96it/s]"
          ]
        },
        {
          "output_type": "stream",
          "name": "stdout",
          "text": [
            "\titers: 5100, epoch: 4 | loss: 0.1893863\n",
            "\tspeed: 0.1027s/iter; left time: 920.2385s\n"
          ]
        },
        {
          "output_type": "stream",
          "name": "stderr",
          "text": [
            "5201it [08:54,  9.62it/s]"
          ]
        },
        {
          "output_type": "stream",
          "name": "stdout",
          "text": [
            "\titers: 5200, epoch: 4 | loss: 0.2319598\n",
            "\tspeed: 0.1031s/iter; left time: 912.8640s\n"
          ]
        },
        {
          "output_type": "stream",
          "name": "stderr",
          "text": [
            "5301it [09:05,  9.56it/s]"
          ]
        },
        {
          "output_type": "stream",
          "name": "stdout",
          "text": [
            "\titers: 5300, epoch: 4 | loss: 0.3585868\n",
            "\tspeed: 0.1038s/iter; left time: 908.5803s\n"
          ]
        },
        {
          "output_type": "stream",
          "name": "stderr",
          "text": [
            "5401it [09:15,  9.74it/s]"
          ]
        },
        {
          "output_type": "stream",
          "name": "stdout",
          "text": [
            "\titers: 5400, epoch: 4 | loss: 0.2379968\n",
            "\tspeed: 0.1041s/iter; left time: 900.8596s\n"
          ]
        },
        {
          "output_type": "stream",
          "name": "stderr",
          "text": [
            "5501it [09:26,  9.81it/s]"
          ]
        },
        {
          "output_type": "stream",
          "name": "stdout",
          "text": [
            "\titers: 5500, epoch: 4 | loss: 0.3151741\n",
            "\tspeed: 0.1034s/iter; left time: 884.7559s\n"
          ]
        },
        {
          "output_type": "stream",
          "name": "stderr",
          "text": [
            "5601it [09:36,  9.77it/s]"
          ]
        },
        {
          "output_type": "stream",
          "name": "stdout",
          "text": [
            "\titers: 5600, epoch: 4 | loss: 0.3134762\n",
            "\tspeed: 0.1033s/iter; left time: 873.8802s\n"
          ]
        },
        {
          "output_type": "stream",
          "name": "stderr",
          "text": [
            "5701it [09:46,  9.77it/s]"
          ]
        },
        {
          "output_type": "stream",
          "name": "stdout",
          "text": [
            "\titers: 5700, epoch: 4 | loss: 0.5751289\n",
            "\tspeed: 0.1034s/iter; left time: 863.8301s\n"
          ]
        },
        {
          "output_type": "stream",
          "name": "stderr",
          "text": [
            "5801it [09:57,  9.77it/s]"
          ]
        },
        {
          "output_type": "stream",
          "name": "stdout",
          "text": [
            "\titers: 5800, epoch: 4 | loss: 0.3134837\n",
            "\tspeed: 0.1035s/iter; left time: 854.5176s\n"
          ]
        },
        {
          "output_type": "stream",
          "name": "stderr",
          "text": [
            "5901it [10:07,  9.35it/s]"
          ]
        },
        {
          "output_type": "stream",
          "name": "stdout",
          "text": [
            "\titers: 5900, epoch: 4 | loss: 0.3866593\n",
            "\tspeed: 0.1029s/iter; left time: 839.7096s\n"
          ]
        },
        {
          "output_type": "stream",
          "name": "stderr",
          "text": [
            "6001it [10:17,  9.68it/s]"
          ]
        },
        {
          "output_type": "stream",
          "name": "stdout",
          "text": [
            "\titers: 6000, epoch: 4 | loss: 0.2925832\n",
            "\tspeed: 0.1032s/iter; left time: 831.5736s\n"
          ]
        },
        {
          "output_type": "stream",
          "name": "stderr",
          "text": [
            "6101it [10:28,  9.56it/s]"
          ]
        },
        {
          "output_type": "stream",
          "name": "stdout",
          "text": [
            "\titers: 6100, epoch: 4 | loss: 0.4190764\n",
            "\tspeed: 0.1035s/iter; left time: 823.2428s\n"
          ]
        },
        {
          "output_type": "stream",
          "name": "stderr",
          "text": [
            "6201it [10:38,  9.72it/s]"
          ]
        },
        {
          "output_type": "stream",
          "name": "stdout",
          "text": [
            "\titers: 6200, epoch: 4 | loss: 0.5300046\n",
            "\tspeed: 0.1036s/iter; left time: 813.7314s\n"
          ]
        },
        {
          "output_type": "stream",
          "name": "stderr",
          "text": [
            "6301it [10:48,  9.55it/s]"
          ]
        },
        {
          "output_type": "stream",
          "name": "stdout",
          "text": [
            "\titers: 6300, epoch: 4 | loss: 0.2204308\n",
            "\tspeed: 0.1032s/iter; left time: 800.7304s\n"
          ]
        },
        {
          "output_type": "stream",
          "name": "stderr",
          "text": [
            "6401it [10:59,  9.80it/s]"
          ]
        },
        {
          "output_type": "stream",
          "name": "stdout",
          "text": [
            "\titers: 6400, epoch: 4 | loss: 0.3249857\n",
            "\tspeed: 0.1041s/iter; left time: 797.4624s\n"
          ]
        },
        {
          "output_type": "stream",
          "name": "stderr",
          "text": [
            "6501it [11:09,  9.72it/s]"
          ]
        },
        {
          "output_type": "stream",
          "name": "stdout",
          "text": [
            "\titers: 6500, epoch: 4 | loss: 0.4514813\n",
            "\tspeed: 0.1031s/iter; left time: 779.4932s\n"
          ]
        },
        {
          "output_type": "stream",
          "name": "stderr",
          "text": [
            "6601it [11:19,  9.67it/s]"
          ]
        },
        {
          "output_type": "stream",
          "name": "stdout",
          "text": [
            "\titers: 6600, epoch: 4 | loss: 0.2769507\n",
            "\tspeed: 0.1029s/iter; left time: 767.3820s\n"
          ]
        },
        {
          "output_type": "stream",
          "name": "stderr",
          "text": [
            "6701it [11:30,  9.83it/s]"
          ]
        },
        {
          "output_type": "stream",
          "name": "stdout",
          "text": [
            "\titers: 6700, epoch: 4 | loss: 0.8776274\n",
            "\tspeed: 0.1030s/iter; left time: 758.0010s\n"
          ]
        },
        {
          "output_type": "stream",
          "name": "stderr",
          "text": [
            "6801it [11:40,  9.87it/s]"
          ]
        },
        {
          "output_type": "stream",
          "name": "stdout",
          "text": [
            "\titers: 6800, epoch: 4 | loss: 0.4151464\n",
            "\tspeed: 0.1034s/iter; left time: 750.4815s\n"
          ]
        },
        {
          "output_type": "stream",
          "name": "stderr",
          "text": [
            "6901it [11:50,  9.69it/s]"
          ]
        },
        {
          "output_type": "stream",
          "name": "stdout",
          "text": [
            "\titers: 6900, epoch: 4 | loss: 0.2344638\n",
            "\tspeed: 0.1037s/iter; left time: 742.2063s\n"
          ]
        },
        {
          "output_type": "stream",
          "name": "stderr",
          "text": [
            "7001it [12:01,  9.82it/s]"
          ]
        },
        {
          "output_type": "stream",
          "name": "stdout",
          "text": [
            "\titers: 7000, epoch: 4 | loss: 0.4724161\n",
            "\tspeed: 0.1038s/iter; left time: 732.6631s\n"
          ]
        },
        {
          "output_type": "stream",
          "name": "stderr",
          "text": [
            "7028it [12:04,  9.71it/s]\n"
          ]
        },
        {
          "output_type": "stream",
          "name": "stdout",
          "text": [
            "Epoch: 4 cost time: 724.0258133411407\n"
          ]
        },
        {
          "output_type": "stream",
          "name": "stderr",
          "text": [
            "2436it [01:56, 20.94it/s]\n",
            "2436it [01:56, 20.97it/s]\n"
          ]
        },
        {
          "output_type": "stream",
          "name": "stdout",
          "text": [
            "Epoch: 4 | Train Loss: 0.3931218 Vali Loss: 0.7694378 Test Loss: 0.4023925 MAE Loss: 0.4217510\n",
            "Drive already mounted at /content/gdrive; to attempt to forcibly remount, call drive.mount(\"/content/gdrive\", force_remount=True).\n",
            "/content/gdrive/MyDrive/TimeLLM\n",
            "Updating learning rate to 4.9999999999999914e-05\n"
          ]
        },
        {
          "output_type": "stream",
          "name": "stderr",
          "text": [
            "101it [00:11,  9.15it/s]"
          ]
        },
        {
          "output_type": "stream",
          "name": "stdout",
          "text": [
            "\titers: 100, epoch: 5 | loss: 0.7460985\n",
            "\tspeed: 2.4920s/iter; left time: 17267.1523s\n"
          ]
        },
        {
          "output_type": "stream",
          "name": "stderr",
          "text": [
            "201it [00:22,  9.43it/s]"
          ]
        },
        {
          "output_type": "stream",
          "name": "stdout",
          "text": [
            "\titers: 200, epoch: 5 | loss: 0.2634856\n",
            "\tspeed: 0.1089s/iter; left time: 743.6495s\n"
          ]
        },
        {
          "output_type": "stream",
          "name": "stderr",
          "text": [
            "301it [00:32,  9.62it/s]"
          ]
        },
        {
          "output_type": "stream",
          "name": "stdout",
          "text": [
            "\titers: 300, epoch: 5 | loss: 0.3449859\n",
            "\tspeed: 0.1042s/iter; left time: 700.8726s\n"
          ]
        },
        {
          "output_type": "stream",
          "name": "stderr",
          "text": [
            "401it [00:42,  9.51it/s]"
          ]
        },
        {
          "output_type": "stream",
          "name": "stdout",
          "text": [
            "\titers: 400, epoch: 5 | loss: 0.4343508\n",
            "\tspeed: 0.1037s/iter; left time: 687.7085s\n"
          ]
        },
        {
          "output_type": "stream",
          "name": "stderr",
          "text": [
            "501it [00:53,  9.22it/s]"
          ]
        },
        {
          "output_type": "stream",
          "name": "stdout",
          "text": [
            "\titers: 500, epoch: 5 | loss: 0.3049217\n",
            "\tspeed: 0.1049s/iter; left time: 685.0828s\n"
          ]
        },
        {
          "output_type": "stream",
          "name": "stderr",
          "text": [
            "601it [01:03,  9.61it/s]"
          ]
        },
        {
          "output_type": "stream",
          "name": "stdout",
          "text": [
            "\titers: 600, epoch: 5 | loss: 0.4683323\n",
            "\tspeed: 0.1031s/iter; left time: 662.9055s\n"
          ]
        },
        {
          "output_type": "stream",
          "name": "stderr",
          "text": [
            "701it [01:13,  9.77it/s]"
          ]
        },
        {
          "output_type": "stream",
          "name": "stdout",
          "text": [
            "\titers: 700, epoch: 5 | loss: 0.2318785\n",
            "\tspeed: 0.1033s/iter; left time: 653.6839s\n"
          ]
        },
        {
          "output_type": "stream",
          "name": "stderr",
          "text": [
            "801it [01:24,  9.83it/s]"
          ]
        },
        {
          "output_type": "stream",
          "name": "stdout",
          "text": [
            "\titers: 800, epoch: 5 | loss: 0.1985508\n",
            "\tspeed: 0.1030s/iter; left time: 641.5008s\n"
          ]
        },
        {
          "output_type": "stream",
          "name": "stderr",
          "text": [
            "901it [01:34,  9.76it/s]"
          ]
        },
        {
          "output_type": "stream",
          "name": "stdout",
          "text": [
            "\titers: 900, epoch: 5 | loss: 0.2439729\n",
            "\tspeed: 0.1042s/iter; left time: 638.7509s\n"
          ]
        },
        {
          "output_type": "stream",
          "name": "stderr",
          "text": [
            "1001it [01:44,  9.65it/s]"
          ]
        },
        {
          "output_type": "stream",
          "name": "stdout",
          "text": [
            "\titers: 1000, epoch: 5 | loss: 0.3388171\n",
            "\tspeed: 0.1029s/iter; left time: 620.2289s\n"
          ]
        },
        {
          "output_type": "stream",
          "name": "stderr",
          "text": [
            "1101it [01:55,  9.82it/s]"
          ]
        },
        {
          "output_type": "stream",
          "name": "stdout",
          "text": [
            "\titers: 1100, epoch: 5 | loss: 0.2482888\n",
            "\tspeed: 0.1032s/iter; left time: 611.7516s\n"
          ]
        },
        {
          "output_type": "stream",
          "name": "stderr",
          "text": [
            "1201it [02:05,  9.42it/s]"
          ]
        },
        {
          "output_type": "stream",
          "name": "stdout",
          "text": [
            "\titers: 1200, epoch: 5 | loss: 0.3198795\n",
            "\tspeed: 0.1031s/iter; left time: 601.0152s\n"
          ]
        },
        {
          "output_type": "stream",
          "name": "stderr",
          "text": [
            "1301it [02:15,  9.59it/s]"
          ]
        },
        {
          "output_type": "stream",
          "name": "stdout",
          "text": [
            "\titers: 1300, epoch: 5 | loss: 0.1627386\n",
            "\tspeed: 0.1034s/iter; left time: 592.3655s\n"
          ]
        },
        {
          "output_type": "stream",
          "name": "stderr",
          "text": [
            "1401it [02:26,  9.68it/s]"
          ]
        },
        {
          "output_type": "stream",
          "name": "stdout",
          "text": [
            "\titers: 1400, epoch: 5 | loss: 0.4181042\n",
            "\tspeed: 0.1031s/iter; left time: 580.5101s\n"
          ]
        },
        {
          "output_type": "stream",
          "name": "stderr",
          "text": [
            "1501it [02:36,  9.85it/s]"
          ]
        },
        {
          "output_type": "stream",
          "name": "stdout",
          "text": [
            "\titers: 1500, epoch: 5 | loss: 0.4273405\n",
            "\tspeed: 0.1036s/iter; left time: 572.8384s\n"
          ]
        },
        {
          "output_type": "stream",
          "name": "stderr",
          "text": [
            "1601it [02:46,  9.79it/s]"
          ]
        },
        {
          "output_type": "stream",
          "name": "stdout",
          "text": [
            "\titers: 1600, epoch: 5 | loss: 0.3795573\n",
            "\tspeed: 0.1033s/iter; left time: 561.0476s\n"
          ]
        },
        {
          "output_type": "stream",
          "name": "stderr",
          "text": [
            "1701it [02:57,  9.83it/s]"
          ]
        },
        {
          "output_type": "stream",
          "name": "stdout",
          "text": [
            "\titers: 1700, epoch: 5 | loss: 0.3254520\n",
            "\tspeed: 0.1039s/iter; left time: 553.7868s\n"
          ]
        },
        {
          "output_type": "stream",
          "name": "stderr",
          "text": [
            "1801it [03:07,  9.75it/s]"
          ]
        },
        {
          "output_type": "stream",
          "name": "stdout",
          "text": [
            "\titers: 1800, epoch: 5 | loss: 0.1622503\n",
            "\tspeed: 0.1027s/iter; left time: 536.9628s\n"
          ]
        },
        {
          "output_type": "stream",
          "name": "stderr",
          "text": [
            "1901it [03:17,  9.64it/s]"
          ]
        },
        {
          "output_type": "stream",
          "name": "stdout",
          "text": [
            "\titers: 1900, epoch: 5 | loss: 0.4104844\n",
            "\tspeed: 0.1030s/iter; left time: 528.4059s\n"
          ]
        },
        {
          "output_type": "stream",
          "name": "stderr",
          "text": [
            "2001it [03:28,  9.80it/s]"
          ]
        },
        {
          "output_type": "stream",
          "name": "stdout",
          "text": [
            "\titers: 2000, epoch: 5 | loss: 0.3441976\n",
            "\tspeed: 0.1025s/iter; left time: 515.6084s\n"
          ]
        },
        {
          "output_type": "stream",
          "name": "stderr",
          "text": [
            "2101it [03:38,  9.85it/s]"
          ]
        },
        {
          "output_type": "stream",
          "name": "stdout",
          "text": [
            "\titers: 2100, epoch: 5 | loss: 0.3119608\n",
            "\tspeed: 0.1036s/iter; left time: 510.4344s\n"
          ]
        },
        {
          "output_type": "stream",
          "name": "stderr",
          "text": [
            "2201it [03:48,  9.77it/s]"
          ]
        },
        {
          "output_type": "stream",
          "name": "stdout",
          "text": [
            "\titers: 2200, epoch: 5 | loss: 0.3623806\n",
            "\tspeed: 0.1043s/iter; left time: 503.5564s\n"
          ]
        },
        {
          "output_type": "stream",
          "name": "stderr",
          "text": [
            "2301it [03:59,  9.56it/s]"
          ]
        },
        {
          "output_type": "stream",
          "name": "stdout",
          "text": [
            "\titers: 2300, epoch: 5 | loss: 0.6163931\n",
            "\tspeed: 0.1036s/iter; left time: 489.8508s\n"
          ]
        },
        {
          "output_type": "stream",
          "name": "stderr",
          "text": [
            "2401it [04:09,  9.68it/s]"
          ]
        },
        {
          "output_type": "stream",
          "name": "stdout",
          "text": [
            "\titers: 2400, epoch: 5 | loss: 0.3243246\n",
            "\tspeed: 0.1034s/iter; left time: 478.5285s\n"
          ]
        },
        {
          "output_type": "stream",
          "name": "stderr",
          "text": [
            "2501it [04:20,  9.52it/s]"
          ]
        },
        {
          "output_type": "stream",
          "name": "stdout",
          "text": [
            "\titers: 2500, epoch: 5 | loss: 0.9692452\n",
            "\tspeed: 0.1034s/iter; left time: 468.3951s\n"
          ]
        },
        {
          "output_type": "stream",
          "name": "stderr",
          "text": [
            "2601it [04:30,  9.85it/s]"
          ]
        },
        {
          "output_type": "stream",
          "name": "stdout",
          "text": [
            "\titers: 2600, epoch: 5 | loss: 0.5421237\n",
            "\tspeed: 0.1027s/iter; left time: 454.8537s\n"
          ]
        },
        {
          "output_type": "stream",
          "name": "stderr",
          "text": [
            "2701it [04:40,  9.81it/s]"
          ]
        },
        {
          "output_type": "stream",
          "name": "stdout",
          "text": [
            "\titers: 2700, epoch: 5 | loss: 0.4107615\n",
            "\tspeed: 0.1030s/iter; left time: 445.6999s\n"
          ]
        },
        {
          "output_type": "stream",
          "name": "stderr",
          "text": [
            "2801it [04:50,  9.69it/s]"
          ]
        },
        {
          "output_type": "stream",
          "name": "stdout",
          "text": [
            "\titers: 2800, epoch: 5 | loss: 0.3555015\n",
            "\tspeed: 0.1027s/iter; left time: 434.4190s\n"
          ]
        },
        {
          "output_type": "stream",
          "name": "stderr",
          "text": [
            "2901it [05:01,  9.55it/s]"
          ]
        },
        {
          "output_type": "stream",
          "name": "stdout",
          "text": [
            "\titers: 2900, epoch: 5 | loss: 0.5336587\n",
            "\tspeed: 0.1042s/iter; left time: 430.4083s\n"
          ]
        },
        {
          "output_type": "stream",
          "name": "stderr",
          "text": [
            "3001it [05:11,  9.66it/s]"
          ]
        },
        {
          "output_type": "stream",
          "name": "stdout",
          "text": [
            "\titers: 3000, epoch: 5 | loss: 0.4515963\n",
            "\tspeed: 0.1035s/iter; left time: 416.8996s\n"
          ]
        },
        {
          "output_type": "stream",
          "name": "stderr",
          "text": [
            "3101it [05:21,  9.32it/s]"
          ]
        },
        {
          "output_type": "stream",
          "name": "stdout",
          "text": [
            "\titers: 3100, epoch: 5 | loss: 0.3449074\n",
            "\tspeed: 0.1037s/iter; left time: 407.2696s\n"
          ]
        },
        {
          "output_type": "stream",
          "name": "stderr",
          "text": [
            "3201it [05:32,  9.58it/s]"
          ]
        },
        {
          "output_type": "stream",
          "name": "stdout",
          "text": [
            "\titers: 3200, epoch: 5 | loss: 0.3433185\n",
            "\tspeed: 0.1023s/iter; left time: 391.6862s\n"
          ]
        },
        {
          "output_type": "stream",
          "name": "stderr",
          "text": [
            "3301it [05:42,  9.86it/s]"
          ]
        },
        {
          "output_type": "stream",
          "name": "stdout",
          "text": [
            "\titers: 3300, epoch: 5 | loss: 0.3358458\n",
            "\tspeed: 0.1034s/iter; left time: 385.5499s\n"
          ]
        },
        {
          "output_type": "stream",
          "name": "stderr",
          "text": [
            "3401it [05:52,  9.89it/s]"
          ]
        },
        {
          "output_type": "stream",
          "name": "stdout",
          "text": [
            "\titers: 3400, epoch: 5 | loss: 0.2427155\n",
            "\tspeed: 0.1031s/iter; left time: 374.2047s\n"
          ]
        },
        {
          "output_type": "stream",
          "name": "stderr",
          "text": [
            "3501it [06:03,  9.88it/s]"
          ]
        },
        {
          "output_type": "stream",
          "name": "stdout",
          "text": [
            "\titers: 3500, epoch: 5 | loss: 0.2944125\n",
            "\tspeed: 0.1037s/iter; left time: 365.8728s\n"
          ]
        },
        {
          "output_type": "stream",
          "name": "stderr",
          "text": [
            "3601it [06:13,  9.64it/s]"
          ]
        },
        {
          "output_type": "stream",
          "name": "stdout",
          "text": [
            "\titers: 3600, epoch: 5 | loss: 0.3266379\n",
            "\tspeed: 0.1032s/iter; left time: 353.9305s\n"
          ]
        },
        {
          "output_type": "stream",
          "name": "stderr",
          "text": [
            "3701it [06:23,  9.57it/s]"
          ]
        },
        {
          "output_type": "stream",
          "name": "stdout",
          "text": [
            "\titers: 3700, epoch: 5 | loss: 0.2161722\n",
            "\tspeed: 0.1032s/iter; left time: 343.7071s\n"
          ]
        },
        {
          "output_type": "stream",
          "name": "stderr",
          "text": [
            "3801it [06:34,  9.78it/s]"
          ]
        },
        {
          "output_type": "stream",
          "name": "stdout",
          "text": [
            "\titers: 3800, epoch: 5 | loss: 0.3490385\n",
            "\tspeed: 0.1024s/iter; left time: 330.7188s\n"
          ]
        },
        {
          "output_type": "stream",
          "name": "stderr",
          "text": [
            "3900it [06:44,  9.87it/s]"
          ]
        },
        {
          "output_type": "stream",
          "name": "stdout",
          "text": [
            "\titers: 3900, epoch: 5 | loss: 0.3067996\n",
            "\tspeed: 0.1024s/iter; left time: 320.4670s\n"
          ]
        },
        {
          "output_type": "stream",
          "name": "stderr",
          "text": [
            "4001it [06:54,  9.54it/s]"
          ]
        },
        {
          "output_type": "stream",
          "name": "stdout",
          "text": [
            "\titers: 4000, epoch: 5 | loss: 0.2138808\n",
            "\tspeed: 0.1037s/iter; left time: 314.2421s\n"
          ]
        },
        {
          "output_type": "stream",
          "name": "stderr",
          "text": [
            "4101it [07:05,  9.87it/s]"
          ]
        },
        {
          "output_type": "stream",
          "name": "stdout",
          "text": [
            "\titers: 4100, epoch: 5 | loss: 0.1792192\n",
            "\tspeed: 0.1035s/iter; left time: 303.0908s\n"
          ]
        },
        {
          "output_type": "stream",
          "name": "stderr",
          "text": [
            "4201it [07:15,  9.74it/s]"
          ]
        },
        {
          "output_type": "stream",
          "name": "stdout",
          "text": [
            "\titers: 4200, epoch: 5 | loss: 0.3492549\n",
            "\tspeed: 0.1031s/iter; left time: 291.7079s\n"
          ]
        },
        {
          "output_type": "stream",
          "name": "stderr",
          "text": [
            "4301it [07:25,  9.64it/s]"
          ]
        },
        {
          "output_type": "stream",
          "name": "stdout",
          "text": [
            "\titers: 4300, epoch: 5 | loss: 0.6291116\n",
            "\tspeed: 0.1041s/iter; left time: 283.9900s\n"
          ]
        },
        {
          "output_type": "stream",
          "name": "stderr",
          "text": [
            "4401it [07:36,  9.51it/s]"
          ]
        },
        {
          "output_type": "stream",
          "name": "stdout",
          "text": [
            "\titers: 4400, epoch: 5 | loss: 1.0843213\n",
            "\tspeed: 0.1030s/iter; left time: 270.8710s\n"
          ]
        },
        {
          "output_type": "stream",
          "name": "stderr",
          "text": [
            "4501it [07:46,  9.72it/s]"
          ]
        },
        {
          "output_type": "stream",
          "name": "stdout",
          "text": [
            "\titers: 4500, epoch: 5 | loss: 0.1788487\n",
            "\tspeed: 0.1020s/iter; left time: 257.8351s\n"
          ]
        },
        {
          "output_type": "stream",
          "name": "stderr",
          "text": [
            "4601it [07:56,  9.82it/s]"
          ]
        },
        {
          "output_type": "stream",
          "name": "stdout",
          "text": [
            "\titers: 4600, epoch: 5 | loss: 0.2717510\n",
            "\tspeed: 0.1028s/iter; left time: 249.7629s\n"
          ]
        },
        {
          "output_type": "stream",
          "name": "stderr",
          "text": [
            "4701it [08:06,  9.79it/s]"
          ]
        },
        {
          "output_type": "stream",
          "name": "stdout",
          "text": [
            "\titers: 4700, epoch: 5 | loss: 0.1907127\n",
            "\tspeed: 0.1028s/iter; left time: 239.4190s\n"
          ]
        },
        {
          "output_type": "stream",
          "name": "stderr",
          "text": [
            "4801it [08:17,  9.71it/s]"
          ]
        },
        {
          "output_type": "stream",
          "name": "stdout",
          "text": [
            "\titers: 4800, epoch: 5 | loss: 0.8115255\n",
            "\tspeed: 0.1025s/iter; left time: 228.5620s\n"
          ]
        },
        {
          "output_type": "stream",
          "name": "stderr",
          "text": [
            "4900it [08:27,  9.85it/s]"
          ]
        },
        {
          "output_type": "stream",
          "name": "stdout",
          "text": [
            "\titers: 4900, epoch: 5 | loss: 0.3761857\n",
            "\tspeed: 0.1031s/iter; left time: 219.5927s\n"
          ]
        },
        {
          "output_type": "stream",
          "name": "stderr",
          "text": [
            "5001it [08:37,  9.44it/s]"
          ]
        },
        {
          "output_type": "stream",
          "name": "stdout",
          "text": [
            "\titers: 5000, epoch: 5 | loss: 0.4543140\n",
            "\tspeed: 0.1026s/iter; left time: 208.2594s\n"
          ]
        },
        {
          "output_type": "stream",
          "name": "stderr",
          "text": [
            "5101it [08:47,  9.40it/s]"
          ]
        },
        {
          "output_type": "stream",
          "name": "stdout",
          "text": [
            "\titers: 5100, epoch: 5 | loss: 0.6743113\n",
            "\tspeed: 0.1024s/iter; left time: 197.4535s\n"
          ]
        },
        {
          "output_type": "stream",
          "name": "stderr",
          "text": [
            "5201it [08:58,  9.56it/s]"
          ]
        },
        {
          "output_type": "stream",
          "name": "stdout",
          "text": [
            "\titers: 5200, epoch: 5 | loss: 0.3327101\n",
            "\tspeed: 0.1037s/iter; left time: 189.6589s\n"
          ]
        },
        {
          "output_type": "stream",
          "name": "stderr",
          "text": [
            "5301it [09:08,  9.89it/s]"
          ]
        },
        {
          "output_type": "stream",
          "name": "stdout",
          "text": [
            "\titers: 5300, epoch: 5 | loss: 0.5457590\n",
            "\tspeed: 0.1026s/iter; left time: 177.3963s\n"
          ]
        },
        {
          "output_type": "stream",
          "name": "stderr",
          "text": [
            "5401it [09:18,  9.53it/s]"
          ]
        },
        {
          "output_type": "stream",
          "name": "stdout",
          "text": [
            "\titers: 5400, epoch: 5 | loss: 0.3622435\n",
            "\tspeed: 0.1027s/iter; left time: 167.3442s\n"
          ]
        },
        {
          "output_type": "stream",
          "name": "stderr",
          "text": [
            "5501it [09:29,  9.84it/s]"
          ]
        },
        {
          "output_type": "stream",
          "name": "stdout",
          "text": [
            "\titers: 5500, epoch: 5 | loss: 0.2041424\n",
            "\tspeed: 0.1033s/iter; left time: 157.9414s\n"
          ]
        },
        {
          "output_type": "stream",
          "name": "stderr",
          "text": [
            "5601it [09:39,  9.64it/s]"
          ]
        },
        {
          "output_type": "stream",
          "name": "stdout",
          "text": [
            "\titers: 5600, epoch: 5 | loss: 0.2235748\n",
            "\tspeed: 0.1029s/iter; left time: 146.9744s\n"
          ]
        },
        {
          "output_type": "stream",
          "name": "stderr",
          "text": [
            "5701it [09:49,  9.62it/s]"
          ]
        },
        {
          "output_type": "stream",
          "name": "stdout",
          "text": [
            "\titers: 5700, epoch: 5 | loss: 0.8195271\n",
            "\tspeed: 0.1034s/iter; left time: 137.3533s\n"
          ]
        },
        {
          "output_type": "stream",
          "name": "stderr",
          "text": [
            "5801it [10:00,  9.65it/s]"
          ]
        },
        {
          "output_type": "stream",
          "name": "stdout",
          "text": [
            "\titers: 5800, epoch: 5 | loss: 0.7372392\n",
            "\tspeed: 0.1035s/iter; left time: 127.1760s\n"
          ]
        },
        {
          "output_type": "stream",
          "name": "stderr",
          "text": [
            "5901it [10:10,  9.70it/s]"
          ]
        },
        {
          "output_type": "stream",
          "name": "stdout",
          "text": [
            "\titers: 5900, epoch: 5 | loss: 0.3051480\n",
            "\tspeed: 0.1035s/iter; left time: 116.8321s\n"
          ]
        },
        {
          "output_type": "stream",
          "name": "stderr",
          "text": [
            "6001it [10:20,  9.80it/s]"
          ]
        },
        {
          "output_type": "stream",
          "name": "stdout",
          "text": [
            "\titers: 6000, epoch: 5 | loss: 0.5007193\n",
            "\tspeed: 0.1033s/iter; left time: 106.3168s\n"
          ]
        },
        {
          "output_type": "stream",
          "name": "stderr",
          "text": [
            "6101it [10:31,  9.81it/s]"
          ]
        },
        {
          "output_type": "stream",
          "name": "stdout",
          "text": [
            "\titers: 6100, epoch: 5 | loss: 0.4546383\n",
            "\tspeed: 0.1033s/iter; left time: 95.9741s\n"
          ]
        },
        {
          "output_type": "stream",
          "name": "stderr",
          "text": [
            "6201it [10:41,  9.82it/s]"
          ]
        },
        {
          "output_type": "stream",
          "name": "stdout",
          "text": [
            "\titers: 6200, epoch: 5 | loss: 0.5202450\n",
            "\tspeed: 0.1030s/iter; left time: 85.3815s\n"
          ]
        },
        {
          "output_type": "stream",
          "name": "stderr",
          "text": [
            "6301it [10:51,  9.38it/s]"
          ]
        },
        {
          "output_type": "stream",
          "name": "stdout",
          "text": [
            "\titers: 6300, epoch: 5 | loss: 0.3156549\n",
            "\tspeed: 0.1030s/iter; left time: 75.0865s\n"
          ]
        },
        {
          "output_type": "stream",
          "name": "stderr",
          "text": [
            "6401it [11:02,  9.81it/s]"
          ]
        },
        {
          "output_type": "stream",
          "name": "stdout",
          "text": [
            "\titers: 6400, epoch: 5 | loss: 0.1427023\n",
            "\tspeed: 0.1040s/iter; left time: 65.4124s\n"
          ]
        },
        {
          "output_type": "stream",
          "name": "stderr",
          "text": [
            "6501it [11:12,  9.73it/s]"
          ]
        },
        {
          "output_type": "stream",
          "name": "stdout",
          "text": [
            "\titers: 6500, epoch: 5 | loss: 0.4630472\n",
            "\tspeed: 0.1028s/iter; left time: 54.3841s\n"
          ]
        },
        {
          "output_type": "stream",
          "name": "stderr",
          "text": [
            "6601it [11:22,  9.81it/s]"
          ]
        },
        {
          "output_type": "stream",
          "name": "stdout",
          "text": [
            "\titers: 6600, epoch: 5 | loss: 1.1087221\n",
            "\tspeed: 0.1029s/iter; left time: 44.1493s\n"
          ]
        },
        {
          "output_type": "stream",
          "name": "stderr",
          "text": [
            "6701it [11:33,  9.73it/s]"
          ]
        },
        {
          "output_type": "stream",
          "name": "stdout",
          "text": [
            "\titers: 6700, epoch: 5 | loss: 0.3802322\n",
            "\tspeed: 0.1032s/iter; left time: 33.9454s\n"
          ]
        },
        {
          "output_type": "stream",
          "name": "stderr",
          "text": [
            "6801it [11:43,  9.79it/s]"
          ]
        },
        {
          "output_type": "stream",
          "name": "stdout",
          "text": [
            "\titers: 6800, epoch: 5 | loss: 0.5120407\n",
            "\tspeed: 0.1036s/iter; left time: 23.7271s\n"
          ]
        },
        {
          "output_type": "stream",
          "name": "stderr",
          "text": [
            "6901it [11:53,  9.34it/s]"
          ]
        },
        {
          "output_type": "stream",
          "name": "stdout",
          "text": [
            "\titers: 6900, epoch: 5 | loss: 0.4305629\n",
            "\tspeed: 0.1029s/iter; left time: 13.2767s\n"
          ]
        },
        {
          "output_type": "stream",
          "name": "stderr",
          "text": [
            "7000it [12:03,  9.60it/s]"
          ]
        },
        {
          "output_type": "stream",
          "name": "stdout",
          "text": [
            "\titers: 7000, epoch: 5 | loss: 0.6261398\n",
            "\tspeed: 0.1033s/iter; left time: 2.9948s\n"
          ]
        },
        {
          "output_type": "stream",
          "name": "stderr",
          "text": [
            "7028it [12:06,  9.67it/s]\n"
          ]
        },
        {
          "output_type": "stream",
          "name": "stdout",
          "text": [
            "Epoch: 5 cost time: 726.8822040557861\n"
          ]
        },
        {
          "output_type": "stream",
          "name": "stderr",
          "text": [
            "2436it [01:55, 21.01it/s]\n",
            "2436it [01:56, 20.98it/s]\n"
          ]
        },
        {
          "output_type": "stream",
          "name": "stdout",
          "text": [
            "Epoch: 5 | Train Loss: 0.3860314 Vali Loss: 0.7646818 Test Loss: 0.4008220 MAE Loss: 0.4218527\n",
            "Drive already mounted at /content/gdrive; to attempt to forcibly remount, call drive.mount(\"/content/gdrive\", force_remount=True).\n",
            "/content/gdrive/MyDrive/TimeLLM\n",
            "Updating learning rate to 2.4999999999999957e-05\n"
          ]
        }
      ]
    }
  ],
  "metadata": {
    "accelerator": "GPU",
    "colab": {
      "gpuType": "A100",
      "machine_shape": "hm",
      "provenance": [],
      "mount_file_id": "1VhWIfUWQxpNCVOd3LbJwKBfj0PUdI-uo",
      "authorship_tag": "ABX9TyP5luZaiN6J5NNKSAJ3AZ5e",
      "include_colab_link": true
    },
    "kernelspec": {
      "display_name": "Python 3",
      "name": "python3"
    },
    "language_info": {
      "name": "python"
    },
    "widgets": {
      "application/vnd.jupyter.widget-state+json": {
        "d786efd816954f1b9e1a530da2678e25": {
          "model_module": "@jupyter-widgets/controls",
          "model_name": "HBoxModel",
          "model_module_version": "1.5.0",
          "state": {
            "_dom_classes": [],
            "_model_module": "@jupyter-widgets/controls",
            "_model_module_version": "1.5.0",
            "_model_name": "HBoxModel",
            "_view_count": null,
            "_view_module": "@jupyter-widgets/controls",
            "_view_module_version": "1.5.0",
            "_view_name": "HBoxView",
            "box_style": "",
            "children": [
              "IPY_MODEL_68b27d9c18d348aeb6ff741ad5e1b767",
              "IPY_MODEL_3e84467fa8ed4c91b20964da0ec28039",
              "IPY_MODEL_2cd70e4ac07d407e8ad90e99daf02147"
            ],
            "layout": "IPY_MODEL_26cb02a33b82418a94c05dcdb7abc3de"
          }
        },
        "68b27d9c18d348aeb6ff741ad5e1b767": {
          "model_module": "@jupyter-widgets/controls",
          "model_name": "HTMLModel",
          "model_module_version": "1.5.0",
          "state": {
            "_dom_classes": [],
            "_model_module": "@jupyter-widgets/controls",
            "_model_module_version": "1.5.0",
            "_model_name": "HTMLModel",
            "_view_count": null,
            "_view_module": "@jupyter-widgets/controls",
            "_view_module_version": "1.5.0",
            "_view_name": "HTMLView",
            "description": "",
            "description_tooltip": null,
            "layout": "IPY_MODEL_db0e2854a7b6451b8b6135e4404af646",
            "placeholder": "​",
            "style": "IPY_MODEL_e8a9fa1a844d4efebc7081221a884764",
            "value": "config.json: 100%"
          }
        },
        "3e84467fa8ed4c91b20964da0ec28039": {
          "model_module": "@jupyter-widgets/controls",
          "model_name": "FloatProgressModel",
          "model_module_version": "1.5.0",
          "state": {
            "_dom_classes": [],
            "_model_module": "@jupyter-widgets/controls",
            "_model_module_version": "1.5.0",
            "_model_name": "FloatProgressModel",
            "_view_count": null,
            "_view_module": "@jupyter-widgets/controls",
            "_view_module_version": "1.5.0",
            "_view_name": "ProgressView",
            "bar_style": "success",
            "description": "",
            "description_tooltip": null,
            "layout": "IPY_MODEL_3795581106164b759f7c397ff05678ad",
            "max": 665,
            "min": 0,
            "orientation": "horizontal",
            "style": "IPY_MODEL_6ff6d449eac3444cab3058d09319cdfd",
            "value": 665
          }
        },
        "2cd70e4ac07d407e8ad90e99daf02147": {
          "model_module": "@jupyter-widgets/controls",
          "model_name": "HTMLModel",
          "model_module_version": "1.5.0",
          "state": {
            "_dom_classes": [],
            "_model_module": "@jupyter-widgets/controls",
            "_model_module_version": "1.5.0",
            "_model_name": "HTMLModel",
            "_view_count": null,
            "_view_module": "@jupyter-widgets/controls",
            "_view_module_version": "1.5.0",
            "_view_name": "HTMLView",
            "description": "",
            "description_tooltip": null,
            "layout": "IPY_MODEL_7fa1d363c03f475386ebffd38dc0f070",
            "placeholder": "​",
            "style": "IPY_MODEL_5476d8483ac046c88b05d4b611ce7919",
            "value": " 665/665 [00:00&lt;00:00, 79.3kB/s]"
          }
        },
        "26cb02a33b82418a94c05dcdb7abc3de": {
          "model_module": "@jupyter-widgets/base",
          "model_name": "LayoutModel",
          "model_module_version": "1.2.0",
          "state": {
            "_model_module": "@jupyter-widgets/base",
            "_model_module_version": "1.2.0",
            "_model_name": "LayoutModel",
            "_view_count": null,
            "_view_module": "@jupyter-widgets/base",
            "_view_module_version": "1.2.0",
            "_view_name": "LayoutView",
            "align_content": null,
            "align_items": null,
            "align_self": null,
            "border": null,
            "bottom": null,
            "display": null,
            "flex": null,
            "flex_flow": null,
            "grid_area": null,
            "grid_auto_columns": null,
            "grid_auto_flow": null,
            "grid_auto_rows": null,
            "grid_column": null,
            "grid_gap": null,
            "grid_row": null,
            "grid_template_areas": null,
            "grid_template_columns": null,
            "grid_template_rows": null,
            "height": null,
            "justify_content": null,
            "justify_items": null,
            "left": null,
            "margin": null,
            "max_height": null,
            "max_width": null,
            "min_height": null,
            "min_width": null,
            "object_fit": null,
            "object_position": null,
            "order": null,
            "overflow": null,
            "overflow_x": null,
            "overflow_y": null,
            "padding": null,
            "right": null,
            "top": null,
            "visibility": null,
            "width": null
          }
        },
        "db0e2854a7b6451b8b6135e4404af646": {
          "model_module": "@jupyter-widgets/base",
          "model_name": "LayoutModel",
          "model_module_version": "1.2.0",
          "state": {
            "_model_module": "@jupyter-widgets/base",
            "_model_module_version": "1.2.0",
            "_model_name": "LayoutModel",
            "_view_count": null,
            "_view_module": "@jupyter-widgets/base",
            "_view_module_version": "1.2.0",
            "_view_name": "LayoutView",
            "align_content": null,
            "align_items": null,
            "align_self": null,
            "border": null,
            "bottom": null,
            "display": null,
            "flex": null,
            "flex_flow": null,
            "grid_area": null,
            "grid_auto_columns": null,
            "grid_auto_flow": null,
            "grid_auto_rows": null,
            "grid_column": null,
            "grid_gap": null,
            "grid_row": null,
            "grid_template_areas": null,
            "grid_template_columns": null,
            "grid_template_rows": null,
            "height": null,
            "justify_content": null,
            "justify_items": null,
            "left": null,
            "margin": null,
            "max_height": null,
            "max_width": null,
            "min_height": null,
            "min_width": null,
            "object_fit": null,
            "object_position": null,
            "order": null,
            "overflow": null,
            "overflow_x": null,
            "overflow_y": null,
            "padding": null,
            "right": null,
            "top": null,
            "visibility": null,
            "width": null
          }
        },
        "e8a9fa1a844d4efebc7081221a884764": {
          "model_module": "@jupyter-widgets/controls",
          "model_name": "DescriptionStyleModel",
          "model_module_version": "1.5.0",
          "state": {
            "_model_module": "@jupyter-widgets/controls",
            "_model_module_version": "1.5.0",
            "_model_name": "DescriptionStyleModel",
            "_view_count": null,
            "_view_module": "@jupyter-widgets/base",
            "_view_module_version": "1.2.0",
            "_view_name": "StyleView",
            "description_width": ""
          }
        },
        "3795581106164b759f7c397ff05678ad": {
          "model_module": "@jupyter-widgets/base",
          "model_name": "LayoutModel",
          "model_module_version": "1.2.0",
          "state": {
            "_model_module": "@jupyter-widgets/base",
            "_model_module_version": "1.2.0",
            "_model_name": "LayoutModel",
            "_view_count": null,
            "_view_module": "@jupyter-widgets/base",
            "_view_module_version": "1.2.0",
            "_view_name": "LayoutView",
            "align_content": null,
            "align_items": null,
            "align_self": null,
            "border": null,
            "bottom": null,
            "display": null,
            "flex": null,
            "flex_flow": null,
            "grid_area": null,
            "grid_auto_columns": null,
            "grid_auto_flow": null,
            "grid_auto_rows": null,
            "grid_column": null,
            "grid_gap": null,
            "grid_row": null,
            "grid_template_areas": null,
            "grid_template_columns": null,
            "grid_template_rows": null,
            "height": null,
            "justify_content": null,
            "justify_items": null,
            "left": null,
            "margin": null,
            "max_height": null,
            "max_width": null,
            "min_height": null,
            "min_width": null,
            "object_fit": null,
            "object_position": null,
            "order": null,
            "overflow": null,
            "overflow_x": null,
            "overflow_y": null,
            "padding": null,
            "right": null,
            "top": null,
            "visibility": null,
            "width": null
          }
        },
        "6ff6d449eac3444cab3058d09319cdfd": {
          "model_module": "@jupyter-widgets/controls",
          "model_name": "ProgressStyleModel",
          "model_module_version": "1.5.0",
          "state": {
            "_model_module": "@jupyter-widgets/controls",
            "_model_module_version": "1.5.0",
            "_model_name": "ProgressStyleModel",
            "_view_count": null,
            "_view_module": "@jupyter-widgets/base",
            "_view_module_version": "1.2.0",
            "_view_name": "StyleView",
            "bar_color": null,
            "description_width": ""
          }
        },
        "7fa1d363c03f475386ebffd38dc0f070": {
          "model_module": "@jupyter-widgets/base",
          "model_name": "LayoutModel",
          "model_module_version": "1.2.0",
          "state": {
            "_model_module": "@jupyter-widgets/base",
            "_model_module_version": "1.2.0",
            "_model_name": "LayoutModel",
            "_view_count": null,
            "_view_module": "@jupyter-widgets/base",
            "_view_module_version": "1.2.0",
            "_view_name": "LayoutView",
            "align_content": null,
            "align_items": null,
            "align_self": null,
            "border": null,
            "bottom": null,
            "display": null,
            "flex": null,
            "flex_flow": null,
            "grid_area": null,
            "grid_auto_columns": null,
            "grid_auto_flow": null,
            "grid_auto_rows": null,
            "grid_column": null,
            "grid_gap": null,
            "grid_row": null,
            "grid_template_areas": null,
            "grid_template_columns": null,
            "grid_template_rows": null,
            "height": null,
            "justify_content": null,
            "justify_items": null,
            "left": null,
            "margin": null,
            "max_height": null,
            "max_width": null,
            "min_height": null,
            "min_width": null,
            "object_fit": null,
            "object_position": null,
            "order": null,
            "overflow": null,
            "overflow_x": null,
            "overflow_y": null,
            "padding": null,
            "right": null,
            "top": null,
            "visibility": null,
            "width": null
          }
        },
        "5476d8483ac046c88b05d4b611ce7919": {
          "model_module": "@jupyter-widgets/controls",
          "model_name": "DescriptionStyleModel",
          "model_module_version": "1.5.0",
          "state": {
            "_model_module": "@jupyter-widgets/controls",
            "_model_module_version": "1.5.0",
            "_model_name": "DescriptionStyleModel",
            "_view_count": null,
            "_view_module": "@jupyter-widgets/base",
            "_view_module_version": "1.2.0",
            "_view_name": "StyleView",
            "description_width": ""
          }
        },
        "bdc0962849984dba9980006aa30b6eb8": {
          "model_module": "@jupyter-widgets/controls",
          "model_name": "HBoxModel",
          "model_module_version": "1.5.0",
          "state": {
            "_dom_classes": [],
            "_model_module": "@jupyter-widgets/controls",
            "_model_module_version": "1.5.0",
            "_model_name": "HBoxModel",
            "_view_count": null,
            "_view_module": "@jupyter-widgets/controls",
            "_view_module_version": "1.5.0",
            "_view_name": "HBoxView",
            "box_style": "",
            "children": [
              "IPY_MODEL_52e5e2cec7c44317a340c6df4eb6047d",
              "IPY_MODEL_adf1f73c59994a92bb5a1b74b4be64ad",
              "IPY_MODEL_6820373a13ea4e41b21b703b742d8a1a"
            ],
            "layout": "IPY_MODEL_2c3a6f71aa7840c1a1dc08f15de13cda"
          }
        },
        "52e5e2cec7c44317a340c6df4eb6047d": {
          "model_module": "@jupyter-widgets/controls",
          "model_name": "HTMLModel",
          "model_module_version": "1.5.0",
          "state": {
            "_dom_classes": [],
            "_model_module": "@jupyter-widgets/controls",
            "_model_module_version": "1.5.0",
            "_model_name": "HTMLModel",
            "_view_count": null,
            "_view_module": "@jupyter-widgets/controls",
            "_view_module_version": "1.5.0",
            "_view_name": "HTMLView",
            "description": "",
            "description_tooltip": null,
            "layout": "IPY_MODEL_e5ab18154c3646d58c8caa5337b5101c",
            "placeholder": "​",
            "style": "IPY_MODEL_78ce2d9ae1104843867de21668453184",
            "value": "pytorch_model.bin: 100%"
          }
        },
        "adf1f73c59994a92bb5a1b74b4be64ad": {
          "model_module": "@jupyter-widgets/controls",
          "model_name": "FloatProgressModel",
          "model_module_version": "1.5.0",
          "state": {
            "_dom_classes": [],
            "_model_module": "@jupyter-widgets/controls",
            "_model_module_version": "1.5.0",
            "_model_name": "FloatProgressModel",
            "_view_count": null,
            "_view_module": "@jupyter-widgets/controls",
            "_view_module_version": "1.5.0",
            "_view_name": "ProgressView",
            "bar_style": "success",
            "description": "",
            "description_tooltip": null,
            "layout": "IPY_MODEL_afc21f8dd32f4312aa81b1d98e2cd760",
            "max": 548118077,
            "min": 0,
            "orientation": "horizontal",
            "style": "IPY_MODEL_2a63af3d5e6b4d7eb6d23230d13cde54",
            "value": 548118077
          }
        },
        "6820373a13ea4e41b21b703b742d8a1a": {
          "model_module": "@jupyter-widgets/controls",
          "model_name": "HTMLModel",
          "model_module_version": "1.5.0",
          "state": {
            "_dom_classes": [],
            "_model_module": "@jupyter-widgets/controls",
            "_model_module_version": "1.5.0",
            "_model_name": "HTMLModel",
            "_view_count": null,
            "_view_module": "@jupyter-widgets/controls",
            "_view_module_version": "1.5.0",
            "_view_name": "HTMLView",
            "description": "",
            "description_tooltip": null,
            "layout": "IPY_MODEL_03eb73a1fb0347428db41f3f28626c56",
            "placeholder": "​",
            "style": "IPY_MODEL_af3b0e75e346423593900a112aa97663",
            "value": " 548M/548M [00:02&lt;00:00, 233MB/s]"
          }
        },
        "2c3a6f71aa7840c1a1dc08f15de13cda": {
          "model_module": "@jupyter-widgets/base",
          "model_name": "LayoutModel",
          "model_module_version": "1.2.0",
          "state": {
            "_model_module": "@jupyter-widgets/base",
            "_model_module_version": "1.2.0",
            "_model_name": "LayoutModel",
            "_view_count": null,
            "_view_module": "@jupyter-widgets/base",
            "_view_module_version": "1.2.0",
            "_view_name": "LayoutView",
            "align_content": null,
            "align_items": null,
            "align_self": null,
            "border": null,
            "bottom": null,
            "display": null,
            "flex": null,
            "flex_flow": null,
            "grid_area": null,
            "grid_auto_columns": null,
            "grid_auto_flow": null,
            "grid_auto_rows": null,
            "grid_column": null,
            "grid_gap": null,
            "grid_row": null,
            "grid_template_areas": null,
            "grid_template_columns": null,
            "grid_template_rows": null,
            "height": null,
            "justify_content": null,
            "justify_items": null,
            "left": null,
            "margin": null,
            "max_height": null,
            "max_width": null,
            "min_height": null,
            "min_width": null,
            "object_fit": null,
            "object_position": null,
            "order": null,
            "overflow": null,
            "overflow_x": null,
            "overflow_y": null,
            "padding": null,
            "right": null,
            "top": null,
            "visibility": null,
            "width": null
          }
        },
        "e5ab18154c3646d58c8caa5337b5101c": {
          "model_module": "@jupyter-widgets/base",
          "model_name": "LayoutModel",
          "model_module_version": "1.2.0",
          "state": {
            "_model_module": "@jupyter-widgets/base",
            "_model_module_version": "1.2.0",
            "_model_name": "LayoutModel",
            "_view_count": null,
            "_view_module": "@jupyter-widgets/base",
            "_view_module_version": "1.2.0",
            "_view_name": "LayoutView",
            "align_content": null,
            "align_items": null,
            "align_self": null,
            "border": null,
            "bottom": null,
            "display": null,
            "flex": null,
            "flex_flow": null,
            "grid_area": null,
            "grid_auto_columns": null,
            "grid_auto_flow": null,
            "grid_auto_rows": null,
            "grid_column": null,
            "grid_gap": null,
            "grid_row": null,
            "grid_template_areas": null,
            "grid_template_columns": null,
            "grid_template_rows": null,
            "height": null,
            "justify_content": null,
            "justify_items": null,
            "left": null,
            "margin": null,
            "max_height": null,
            "max_width": null,
            "min_height": null,
            "min_width": null,
            "object_fit": null,
            "object_position": null,
            "order": null,
            "overflow": null,
            "overflow_x": null,
            "overflow_y": null,
            "padding": null,
            "right": null,
            "top": null,
            "visibility": null,
            "width": null
          }
        },
        "78ce2d9ae1104843867de21668453184": {
          "model_module": "@jupyter-widgets/controls",
          "model_name": "DescriptionStyleModel",
          "model_module_version": "1.5.0",
          "state": {
            "_model_module": "@jupyter-widgets/controls",
            "_model_module_version": "1.5.0",
            "_model_name": "DescriptionStyleModel",
            "_view_count": null,
            "_view_module": "@jupyter-widgets/base",
            "_view_module_version": "1.2.0",
            "_view_name": "StyleView",
            "description_width": ""
          }
        },
        "afc21f8dd32f4312aa81b1d98e2cd760": {
          "model_module": "@jupyter-widgets/base",
          "model_name": "LayoutModel",
          "model_module_version": "1.2.0",
          "state": {
            "_model_module": "@jupyter-widgets/base",
            "_model_module_version": "1.2.0",
            "_model_name": "LayoutModel",
            "_view_count": null,
            "_view_module": "@jupyter-widgets/base",
            "_view_module_version": "1.2.0",
            "_view_name": "LayoutView",
            "align_content": null,
            "align_items": null,
            "align_self": null,
            "border": null,
            "bottom": null,
            "display": null,
            "flex": null,
            "flex_flow": null,
            "grid_area": null,
            "grid_auto_columns": null,
            "grid_auto_flow": null,
            "grid_auto_rows": null,
            "grid_column": null,
            "grid_gap": null,
            "grid_row": null,
            "grid_template_areas": null,
            "grid_template_columns": null,
            "grid_template_rows": null,
            "height": null,
            "justify_content": null,
            "justify_items": null,
            "left": null,
            "margin": null,
            "max_height": null,
            "max_width": null,
            "min_height": null,
            "min_width": null,
            "object_fit": null,
            "object_position": null,
            "order": null,
            "overflow": null,
            "overflow_x": null,
            "overflow_y": null,
            "padding": null,
            "right": null,
            "top": null,
            "visibility": null,
            "width": null
          }
        },
        "2a63af3d5e6b4d7eb6d23230d13cde54": {
          "model_module": "@jupyter-widgets/controls",
          "model_name": "ProgressStyleModel",
          "model_module_version": "1.5.0",
          "state": {
            "_model_module": "@jupyter-widgets/controls",
            "_model_module_version": "1.5.0",
            "_model_name": "ProgressStyleModel",
            "_view_count": null,
            "_view_module": "@jupyter-widgets/base",
            "_view_module_version": "1.2.0",
            "_view_name": "StyleView",
            "bar_color": null,
            "description_width": ""
          }
        },
        "03eb73a1fb0347428db41f3f28626c56": {
          "model_module": "@jupyter-widgets/base",
          "model_name": "LayoutModel",
          "model_module_version": "1.2.0",
          "state": {
            "_model_module": "@jupyter-widgets/base",
            "_model_module_version": "1.2.0",
            "_model_name": "LayoutModel",
            "_view_count": null,
            "_view_module": "@jupyter-widgets/base",
            "_view_module_version": "1.2.0",
            "_view_name": "LayoutView",
            "align_content": null,
            "align_items": null,
            "align_self": null,
            "border": null,
            "bottom": null,
            "display": null,
            "flex": null,
            "flex_flow": null,
            "grid_area": null,
            "grid_auto_columns": null,
            "grid_auto_flow": null,
            "grid_auto_rows": null,
            "grid_column": null,
            "grid_gap": null,
            "grid_row": null,
            "grid_template_areas": null,
            "grid_template_columns": null,
            "grid_template_rows": null,
            "height": null,
            "justify_content": null,
            "justify_items": null,
            "left": null,
            "margin": null,
            "max_height": null,
            "max_width": null,
            "min_height": null,
            "min_width": null,
            "object_fit": null,
            "object_position": null,
            "order": null,
            "overflow": null,
            "overflow_x": null,
            "overflow_y": null,
            "padding": null,
            "right": null,
            "top": null,
            "visibility": null,
            "width": null
          }
        },
        "af3b0e75e346423593900a112aa97663": {
          "model_module": "@jupyter-widgets/controls",
          "model_name": "DescriptionStyleModel",
          "model_module_version": "1.5.0",
          "state": {
            "_model_module": "@jupyter-widgets/controls",
            "_model_module_version": "1.5.0",
            "_model_name": "DescriptionStyleModel",
            "_view_count": null,
            "_view_module": "@jupyter-widgets/base",
            "_view_module_version": "1.2.0",
            "_view_name": "StyleView",
            "description_width": ""
          }
        },
        "4270c68cf45445709e8049ebd688ebe5": {
          "model_module": "@jupyter-widgets/controls",
          "model_name": "HBoxModel",
          "model_module_version": "1.5.0",
          "state": {
            "_dom_classes": [],
            "_model_module": "@jupyter-widgets/controls",
            "_model_module_version": "1.5.0",
            "_model_name": "HBoxModel",
            "_view_count": null,
            "_view_module": "@jupyter-widgets/controls",
            "_view_module_version": "1.5.0",
            "_view_name": "HBoxView",
            "box_style": "",
            "children": [
              "IPY_MODEL_3af63139c842461f8bafb389d3a1ed37",
              "IPY_MODEL_eaa5bf76c0184da5ae15e23551f7ce75",
              "IPY_MODEL_16ec27d3180e444db90f141a9859fb65"
            ],
            "layout": "IPY_MODEL_f57e088f9fc64bb69e014af3448045b1"
          }
        },
        "3af63139c842461f8bafb389d3a1ed37": {
          "model_module": "@jupyter-widgets/controls",
          "model_name": "HTMLModel",
          "model_module_version": "1.5.0",
          "state": {
            "_dom_classes": [],
            "_model_module": "@jupyter-widgets/controls",
            "_model_module_version": "1.5.0",
            "_model_name": "HTMLModel",
            "_view_count": null,
            "_view_module": "@jupyter-widgets/controls",
            "_view_module_version": "1.5.0",
            "_view_name": "HTMLView",
            "description": "",
            "description_tooltip": null,
            "layout": "IPY_MODEL_9c933f50d4284ac5bff4fd894134eee9",
            "placeholder": "​",
            "style": "IPY_MODEL_054429b5a4d44048a45334e498730858",
            "value": "tokenizer_config.json: 100%"
          }
        },
        "eaa5bf76c0184da5ae15e23551f7ce75": {
          "model_module": "@jupyter-widgets/controls",
          "model_name": "FloatProgressModel",
          "model_module_version": "1.5.0",
          "state": {
            "_dom_classes": [],
            "_model_module": "@jupyter-widgets/controls",
            "_model_module_version": "1.5.0",
            "_model_name": "FloatProgressModel",
            "_view_count": null,
            "_view_module": "@jupyter-widgets/controls",
            "_view_module_version": "1.5.0",
            "_view_name": "ProgressView",
            "bar_style": "success",
            "description": "",
            "description_tooltip": null,
            "layout": "IPY_MODEL_9b8939aa6326442f8de182d476b0c302",
            "max": 26,
            "min": 0,
            "orientation": "horizontal",
            "style": "IPY_MODEL_abaf4f453fab4d70a7af57b9e0e6f5fd",
            "value": 26
          }
        },
        "16ec27d3180e444db90f141a9859fb65": {
          "model_module": "@jupyter-widgets/controls",
          "model_name": "HTMLModel",
          "model_module_version": "1.5.0",
          "state": {
            "_dom_classes": [],
            "_model_module": "@jupyter-widgets/controls",
            "_model_module_version": "1.5.0",
            "_model_name": "HTMLModel",
            "_view_count": null,
            "_view_module": "@jupyter-widgets/controls",
            "_view_module_version": "1.5.0",
            "_view_name": "HTMLView",
            "description": "",
            "description_tooltip": null,
            "layout": "IPY_MODEL_37ea6b372205418182652f59d8413789",
            "placeholder": "​",
            "style": "IPY_MODEL_b3d18d1211644db1a3ded70a7871cd02",
            "value": " 26.0/26.0 [00:00&lt;00:00, 3.40kB/s]"
          }
        },
        "f57e088f9fc64bb69e014af3448045b1": {
          "model_module": "@jupyter-widgets/base",
          "model_name": "LayoutModel",
          "model_module_version": "1.2.0",
          "state": {
            "_model_module": "@jupyter-widgets/base",
            "_model_module_version": "1.2.0",
            "_model_name": "LayoutModel",
            "_view_count": null,
            "_view_module": "@jupyter-widgets/base",
            "_view_module_version": "1.2.0",
            "_view_name": "LayoutView",
            "align_content": null,
            "align_items": null,
            "align_self": null,
            "border": null,
            "bottom": null,
            "display": null,
            "flex": null,
            "flex_flow": null,
            "grid_area": null,
            "grid_auto_columns": null,
            "grid_auto_flow": null,
            "grid_auto_rows": null,
            "grid_column": null,
            "grid_gap": null,
            "grid_row": null,
            "grid_template_areas": null,
            "grid_template_columns": null,
            "grid_template_rows": null,
            "height": null,
            "justify_content": null,
            "justify_items": null,
            "left": null,
            "margin": null,
            "max_height": null,
            "max_width": null,
            "min_height": null,
            "min_width": null,
            "object_fit": null,
            "object_position": null,
            "order": null,
            "overflow": null,
            "overflow_x": null,
            "overflow_y": null,
            "padding": null,
            "right": null,
            "top": null,
            "visibility": null,
            "width": null
          }
        },
        "9c933f50d4284ac5bff4fd894134eee9": {
          "model_module": "@jupyter-widgets/base",
          "model_name": "LayoutModel",
          "model_module_version": "1.2.0",
          "state": {
            "_model_module": "@jupyter-widgets/base",
            "_model_module_version": "1.2.0",
            "_model_name": "LayoutModel",
            "_view_count": null,
            "_view_module": "@jupyter-widgets/base",
            "_view_module_version": "1.2.0",
            "_view_name": "LayoutView",
            "align_content": null,
            "align_items": null,
            "align_self": null,
            "border": null,
            "bottom": null,
            "display": null,
            "flex": null,
            "flex_flow": null,
            "grid_area": null,
            "grid_auto_columns": null,
            "grid_auto_flow": null,
            "grid_auto_rows": null,
            "grid_column": null,
            "grid_gap": null,
            "grid_row": null,
            "grid_template_areas": null,
            "grid_template_columns": null,
            "grid_template_rows": null,
            "height": null,
            "justify_content": null,
            "justify_items": null,
            "left": null,
            "margin": null,
            "max_height": null,
            "max_width": null,
            "min_height": null,
            "min_width": null,
            "object_fit": null,
            "object_position": null,
            "order": null,
            "overflow": null,
            "overflow_x": null,
            "overflow_y": null,
            "padding": null,
            "right": null,
            "top": null,
            "visibility": null,
            "width": null
          }
        },
        "054429b5a4d44048a45334e498730858": {
          "model_module": "@jupyter-widgets/controls",
          "model_name": "DescriptionStyleModel",
          "model_module_version": "1.5.0",
          "state": {
            "_model_module": "@jupyter-widgets/controls",
            "_model_module_version": "1.5.0",
            "_model_name": "DescriptionStyleModel",
            "_view_count": null,
            "_view_module": "@jupyter-widgets/base",
            "_view_module_version": "1.2.0",
            "_view_name": "StyleView",
            "description_width": ""
          }
        },
        "9b8939aa6326442f8de182d476b0c302": {
          "model_module": "@jupyter-widgets/base",
          "model_name": "LayoutModel",
          "model_module_version": "1.2.0",
          "state": {
            "_model_module": "@jupyter-widgets/base",
            "_model_module_version": "1.2.0",
            "_model_name": "LayoutModel",
            "_view_count": null,
            "_view_module": "@jupyter-widgets/base",
            "_view_module_version": "1.2.0",
            "_view_name": "LayoutView",
            "align_content": null,
            "align_items": null,
            "align_self": null,
            "border": null,
            "bottom": null,
            "display": null,
            "flex": null,
            "flex_flow": null,
            "grid_area": null,
            "grid_auto_columns": null,
            "grid_auto_flow": null,
            "grid_auto_rows": null,
            "grid_column": null,
            "grid_gap": null,
            "grid_row": null,
            "grid_template_areas": null,
            "grid_template_columns": null,
            "grid_template_rows": null,
            "height": null,
            "justify_content": null,
            "justify_items": null,
            "left": null,
            "margin": null,
            "max_height": null,
            "max_width": null,
            "min_height": null,
            "min_width": null,
            "object_fit": null,
            "object_position": null,
            "order": null,
            "overflow": null,
            "overflow_x": null,
            "overflow_y": null,
            "padding": null,
            "right": null,
            "top": null,
            "visibility": null,
            "width": null
          }
        },
        "abaf4f453fab4d70a7af57b9e0e6f5fd": {
          "model_module": "@jupyter-widgets/controls",
          "model_name": "ProgressStyleModel",
          "model_module_version": "1.5.0",
          "state": {
            "_model_module": "@jupyter-widgets/controls",
            "_model_module_version": "1.5.0",
            "_model_name": "ProgressStyleModel",
            "_view_count": null,
            "_view_module": "@jupyter-widgets/base",
            "_view_module_version": "1.2.0",
            "_view_name": "StyleView",
            "bar_color": null,
            "description_width": ""
          }
        },
        "37ea6b372205418182652f59d8413789": {
          "model_module": "@jupyter-widgets/base",
          "model_name": "LayoutModel",
          "model_module_version": "1.2.0",
          "state": {
            "_model_module": "@jupyter-widgets/base",
            "_model_module_version": "1.2.0",
            "_model_name": "LayoutModel",
            "_view_count": null,
            "_view_module": "@jupyter-widgets/base",
            "_view_module_version": "1.2.0",
            "_view_name": "LayoutView",
            "align_content": null,
            "align_items": null,
            "align_self": null,
            "border": null,
            "bottom": null,
            "display": null,
            "flex": null,
            "flex_flow": null,
            "grid_area": null,
            "grid_auto_columns": null,
            "grid_auto_flow": null,
            "grid_auto_rows": null,
            "grid_column": null,
            "grid_gap": null,
            "grid_row": null,
            "grid_template_areas": null,
            "grid_template_columns": null,
            "grid_template_rows": null,
            "height": null,
            "justify_content": null,
            "justify_items": null,
            "left": null,
            "margin": null,
            "max_height": null,
            "max_width": null,
            "min_height": null,
            "min_width": null,
            "object_fit": null,
            "object_position": null,
            "order": null,
            "overflow": null,
            "overflow_x": null,
            "overflow_y": null,
            "padding": null,
            "right": null,
            "top": null,
            "visibility": null,
            "width": null
          }
        },
        "b3d18d1211644db1a3ded70a7871cd02": {
          "model_module": "@jupyter-widgets/controls",
          "model_name": "DescriptionStyleModel",
          "model_module_version": "1.5.0",
          "state": {
            "_model_module": "@jupyter-widgets/controls",
            "_model_module_version": "1.5.0",
            "_model_name": "DescriptionStyleModel",
            "_view_count": null,
            "_view_module": "@jupyter-widgets/base",
            "_view_module_version": "1.2.0",
            "_view_name": "StyleView",
            "description_width": ""
          }
        },
        "100eb5ebe78343a6a606a7b05f251f56": {
          "model_module": "@jupyter-widgets/controls",
          "model_name": "HBoxModel",
          "model_module_version": "1.5.0",
          "state": {
            "_dom_classes": [],
            "_model_module": "@jupyter-widgets/controls",
            "_model_module_version": "1.5.0",
            "_model_name": "HBoxModel",
            "_view_count": null,
            "_view_module": "@jupyter-widgets/controls",
            "_view_module_version": "1.5.0",
            "_view_name": "HBoxView",
            "box_style": "",
            "children": [
              "IPY_MODEL_a21cc6acee1143d4bb1653ede1829ad8",
              "IPY_MODEL_0891a021b99144a792de8bef7055af63",
              "IPY_MODEL_769a52f08af74f8eb5f861039e3692e1"
            ],
            "layout": "IPY_MODEL_9cba4c34d4b24568b0a0e0349aa08832"
          }
        },
        "a21cc6acee1143d4bb1653ede1829ad8": {
          "model_module": "@jupyter-widgets/controls",
          "model_name": "HTMLModel",
          "model_module_version": "1.5.0",
          "state": {
            "_dom_classes": [],
            "_model_module": "@jupyter-widgets/controls",
            "_model_module_version": "1.5.0",
            "_model_name": "HTMLModel",
            "_view_count": null,
            "_view_module": "@jupyter-widgets/controls",
            "_view_module_version": "1.5.0",
            "_view_name": "HTMLView",
            "description": "",
            "description_tooltip": null,
            "layout": "IPY_MODEL_db341b77b8e4475eb46714aa8b05aeff",
            "placeholder": "​",
            "style": "IPY_MODEL_abd5b3ca50344cac8f93cf2dc0ea98ac",
            "value": "vocab.json: 100%"
          }
        },
        "0891a021b99144a792de8bef7055af63": {
          "model_module": "@jupyter-widgets/controls",
          "model_name": "FloatProgressModel",
          "model_module_version": "1.5.0",
          "state": {
            "_dom_classes": [],
            "_model_module": "@jupyter-widgets/controls",
            "_model_module_version": "1.5.0",
            "_model_name": "FloatProgressModel",
            "_view_count": null,
            "_view_module": "@jupyter-widgets/controls",
            "_view_module_version": "1.5.0",
            "_view_name": "ProgressView",
            "bar_style": "success",
            "description": "",
            "description_tooltip": null,
            "layout": "IPY_MODEL_83af844094704c1f8792223b736c1c68",
            "max": 1042301,
            "min": 0,
            "orientation": "horizontal",
            "style": "IPY_MODEL_ca43cf27d8d34025b9488718e3b428ae",
            "value": 1042301
          }
        },
        "769a52f08af74f8eb5f861039e3692e1": {
          "model_module": "@jupyter-widgets/controls",
          "model_name": "HTMLModel",
          "model_module_version": "1.5.0",
          "state": {
            "_dom_classes": [],
            "_model_module": "@jupyter-widgets/controls",
            "_model_module_version": "1.5.0",
            "_model_name": "HTMLModel",
            "_view_count": null,
            "_view_module": "@jupyter-widgets/controls",
            "_view_module_version": "1.5.0",
            "_view_name": "HTMLView",
            "description": "",
            "description_tooltip": null,
            "layout": "IPY_MODEL_90c95c5a94ba4d8cb72019c10c101e13",
            "placeholder": "​",
            "style": "IPY_MODEL_76e22b2e557f40b1a78b11438a6118d6",
            "value": " 1.04M/1.04M [00:00&lt;00:00, 2.39MB/s]"
          }
        },
        "9cba4c34d4b24568b0a0e0349aa08832": {
          "model_module": "@jupyter-widgets/base",
          "model_name": "LayoutModel",
          "model_module_version": "1.2.0",
          "state": {
            "_model_module": "@jupyter-widgets/base",
            "_model_module_version": "1.2.0",
            "_model_name": "LayoutModel",
            "_view_count": null,
            "_view_module": "@jupyter-widgets/base",
            "_view_module_version": "1.2.0",
            "_view_name": "LayoutView",
            "align_content": null,
            "align_items": null,
            "align_self": null,
            "border": null,
            "bottom": null,
            "display": null,
            "flex": null,
            "flex_flow": null,
            "grid_area": null,
            "grid_auto_columns": null,
            "grid_auto_flow": null,
            "grid_auto_rows": null,
            "grid_column": null,
            "grid_gap": null,
            "grid_row": null,
            "grid_template_areas": null,
            "grid_template_columns": null,
            "grid_template_rows": null,
            "height": null,
            "justify_content": null,
            "justify_items": null,
            "left": null,
            "margin": null,
            "max_height": null,
            "max_width": null,
            "min_height": null,
            "min_width": null,
            "object_fit": null,
            "object_position": null,
            "order": null,
            "overflow": null,
            "overflow_x": null,
            "overflow_y": null,
            "padding": null,
            "right": null,
            "top": null,
            "visibility": null,
            "width": null
          }
        },
        "db341b77b8e4475eb46714aa8b05aeff": {
          "model_module": "@jupyter-widgets/base",
          "model_name": "LayoutModel",
          "model_module_version": "1.2.0",
          "state": {
            "_model_module": "@jupyter-widgets/base",
            "_model_module_version": "1.2.0",
            "_model_name": "LayoutModel",
            "_view_count": null,
            "_view_module": "@jupyter-widgets/base",
            "_view_module_version": "1.2.0",
            "_view_name": "LayoutView",
            "align_content": null,
            "align_items": null,
            "align_self": null,
            "border": null,
            "bottom": null,
            "display": null,
            "flex": null,
            "flex_flow": null,
            "grid_area": null,
            "grid_auto_columns": null,
            "grid_auto_flow": null,
            "grid_auto_rows": null,
            "grid_column": null,
            "grid_gap": null,
            "grid_row": null,
            "grid_template_areas": null,
            "grid_template_columns": null,
            "grid_template_rows": null,
            "height": null,
            "justify_content": null,
            "justify_items": null,
            "left": null,
            "margin": null,
            "max_height": null,
            "max_width": null,
            "min_height": null,
            "min_width": null,
            "object_fit": null,
            "object_position": null,
            "order": null,
            "overflow": null,
            "overflow_x": null,
            "overflow_y": null,
            "padding": null,
            "right": null,
            "top": null,
            "visibility": null,
            "width": null
          }
        },
        "abd5b3ca50344cac8f93cf2dc0ea98ac": {
          "model_module": "@jupyter-widgets/controls",
          "model_name": "DescriptionStyleModel",
          "model_module_version": "1.5.0",
          "state": {
            "_model_module": "@jupyter-widgets/controls",
            "_model_module_version": "1.5.0",
            "_model_name": "DescriptionStyleModel",
            "_view_count": null,
            "_view_module": "@jupyter-widgets/base",
            "_view_module_version": "1.2.0",
            "_view_name": "StyleView",
            "description_width": ""
          }
        },
        "83af844094704c1f8792223b736c1c68": {
          "model_module": "@jupyter-widgets/base",
          "model_name": "LayoutModel",
          "model_module_version": "1.2.0",
          "state": {
            "_model_module": "@jupyter-widgets/base",
            "_model_module_version": "1.2.0",
            "_model_name": "LayoutModel",
            "_view_count": null,
            "_view_module": "@jupyter-widgets/base",
            "_view_module_version": "1.2.0",
            "_view_name": "LayoutView",
            "align_content": null,
            "align_items": null,
            "align_self": null,
            "border": null,
            "bottom": null,
            "display": null,
            "flex": null,
            "flex_flow": null,
            "grid_area": null,
            "grid_auto_columns": null,
            "grid_auto_flow": null,
            "grid_auto_rows": null,
            "grid_column": null,
            "grid_gap": null,
            "grid_row": null,
            "grid_template_areas": null,
            "grid_template_columns": null,
            "grid_template_rows": null,
            "height": null,
            "justify_content": null,
            "justify_items": null,
            "left": null,
            "margin": null,
            "max_height": null,
            "max_width": null,
            "min_height": null,
            "min_width": null,
            "object_fit": null,
            "object_position": null,
            "order": null,
            "overflow": null,
            "overflow_x": null,
            "overflow_y": null,
            "padding": null,
            "right": null,
            "top": null,
            "visibility": null,
            "width": null
          }
        },
        "ca43cf27d8d34025b9488718e3b428ae": {
          "model_module": "@jupyter-widgets/controls",
          "model_name": "ProgressStyleModel",
          "model_module_version": "1.5.0",
          "state": {
            "_model_module": "@jupyter-widgets/controls",
            "_model_module_version": "1.5.0",
            "_model_name": "ProgressStyleModel",
            "_view_count": null,
            "_view_module": "@jupyter-widgets/base",
            "_view_module_version": "1.2.0",
            "_view_name": "StyleView",
            "bar_color": null,
            "description_width": ""
          }
        },
        "90c95c5a94ba4d8cb72019c10c101e13": {
          "model_module": "@jupyter-widgets/base",
          "model_name": "LayoutModel",
          "model_module_version": "1.2.0",
          "state": {
            "_model_module": "@jupyter-widgets/base",
            "_model_module_version": "1.2.0",
            "_model_name": "LayoutModel",
            "_view_count": null,
            "_view_module": "@jupyter-widgets/base",
            "_view_module_version": "1.2.0",
            "_view_name": "LayoutView",
            "align_content": null,
            "align_items": null,
            "align_self": null,
            "border": null,
            "bottom": null,
            "display": null,
            "flex": null,
            "flex_flow": null,
            "grid_area": null,
            "grid_auto_columns": null,
            "grid_auto_flow": null,
            "grid_auto_rows": null,
            "grid_column": null,
            "grid_gap": null,
            "grid_row": null,
            "grid_template_areas": null,
            "grid_template_columns": null,
            "grid_template_rows": null,
            "height": null,
            "justify_content": null,
            "justify_items": null,
            "left": null,
            "margin": null,
            "max_height": null,
            "max_width": null,
            "min_height": null,
            "min_width": null,
            "object_fit": null,
            "object_position": null,
            "order": null,
            "overflow": null,
            "overflow_x": null,
            "overflow_y": null,
            "padding": null,
            "right": null,
            "top": null,
            "visibility": null,
            "width": null
          }
        },
        "76e22b2e557f40b1a78b11438a6118d6": {
          "model_module": "@jupyter-widgets/controls",
          "model_name": "DescriptionStyleModel",
          "model_module_version": "1.5.0",
          "state": {
            "_model_module": "@jupyter-widgets/controls",
            "_model_module_version": "1.5.0",
            "_model_name": "DescriptionStyleModel",
            "_view_count": null,
            "_view_module": "@jupyter-widgets/base",
            "_view_module_version": "1.2.0",
            "_view_name": "StyleView",
            "description_width": ""
          }
        },
        "afeeeb8eb7d84b13808b91ebccdc9eb1": {
          "model_module": "@jupyter-widgets/controls",
          "model_name": "HBoxModel",
          "model_module_version": "1.5.0",
          "state": {
            "_dom_classes": [],
            "_model_module": "@jupyter-widgets/controls",
            "_model_module_version": "1.5.0",
            "_model_name": "HBoxModel",
            "_view_count": null,
            "_view_module": "@jupyter-widgets/controls",
            "_view_module_version": "1.5.0",
            "_view_name": "HBoxView",
            "box_style": "",
            "children": [
              "IPY_MODEL_a658b38fd01e4dd9b3ddb43db9b0a7ff",
              "IPY_MODEL_b798ce14dd974bcc96979146dc5fc583",
              "IPY_MODEL_12e9843811dd48b4b0d701e556feb118"
            ],
            "layout": "IPY_MODEL_d6bc4eb0479f45ec86d04bf1cb2bc48c"
          }
        },
        "a658b38fd01e4dd9b3ddb43db9b0a7ff": {
          "model_module": "@jupyter-widgets/controls",
          "model_name": "HTMLModel",
          "model_module_version": "1.5.0",
          "state": {
            "_dom_classes": [],
            "_model_module": "@jupyter-widgets/controls",
            "_model_module_version": "1.5.0",
            "_model_name": "HTMLModel",
            "_view_count": null,
            "_view_module": "@jupyter-widgets/controls",
            "_view_module_version": "1.5.0",
            "_view_name": "HTMLView",
            "description": "",
            "description_tooltip": null,
            "layout": "IPY_MODEL_7ff8ea49520742f5ab9cea5796c05ee4",
            "placeholder": "​",
            "style": "IPY_MODEL_422d6062e4f5446ba5d033d8c0f5d755",
            "value": "merges.txt: 100%"
          }
        },
        "b798ce14dd974bcc96979146dc5fc583": {
          "model_module": "@jupyter-widgets/controls",
          "model_name": "FloatProgressModel",
          "model_module_version": "1.5.0",
          "state": {
            "_dom_classes": [],
            "_model_module": "@jupyter-widgets/controls",
            "_model_module_version": "1.5.0",
            "_model_name": "FloatProgressModel",
            "_view_count": null,
            "_view_module": "@jupyter-widgets/controls",
            "_view_module_version": "1.5.0",
            "_view_name": "ProgressView",
            "bar_style": "success",
            "description": "",
            "description_tooltip": null,
            "layout": "IPY_MODEL_fc74b7fff5fb4b98a1470c94ada39698",
            "max": 456318,
            "min": 0,
            "orientation": "horizontal",
            "style": "IPY_MODEL_80ffb9c139ed4c32a6a367169bc7cb74",
            "value": 456318
          }
        },
        "12e9843811dd48b4b0d701e556feb118": {
          "model_module": "@jupyter-widgets/controls",
          "model_name": "HTMLModel",
          "model_module_version": "1.5.0",
          "state": {
            "_dom_classes": [],
            "_model_module": "@jupyter-widgets/controls",
            "_model_module_version": "1.5.0",
            "_model_name": "HTMLModel",
            "_view_count": null,
            "_view_module": "@jupyter-widgets/controls",
            "_view_module_version": "1.5.0",
            "_view_name": "HTMLView",
            "description": "",
            "description_tooltip": null,
            "layout": "IPY_MODEL_9daca4985a9e4bda9477ef8140183c27",
            "placeholder": "​",
            "style": "IPY_MODEL_6a4a5c11f45947c7a0782892950a88c7",
            "value": " 456k/456k [00:00&lt;00:00, 36.8MB/s]"
          }
        },
        "d6bc4eb0479f45ec86d04bf1cb2bc48c": {
          "model_module": "@jupyter-widgets/base",
          "model_name": "LayoutModel",
          "model_module_version": "1.2.0",
          "state": {
            "_model_module": "@jupyter-widgets/base",
            "_model_module_version": "1.2.0",
            "_model_name": "LayoutModel",
            "_view_count": null,
            "_view_module": "@jupyter-widgets/base",
            "_view_module_version": "1.2.0",
            "_view_name": "LayoutView",
            "align_content": null,
            "align_items": null,
            "align_self": null,
            "border": null,
            "bottom": null,
            "display": null,
            "flex": null,
            "flex_flow": null,
            "grid_area": null,
            "grid_auto_columns": null,
            "grid_auto_flow": null,
            "grid_auto_rows": null,
            "grid_column": null,
            "grid_gap": null,
            "grid_row": null,
            "grid_template_areas": null,
            "grid_template_columns": null,
            "grid_template_rows": null,
            "height": null,
            "justify_content": null,
            "justify_items": null,
            "left": null,
            "margin": null,
            "max_height": null,
            "max_width": null,
            "min_height": null,
            "min_width": null,
            "object_fit": null,
            "object_position": null,
            "order": null,
            "overflow": null,
            "overflow_x": null,
            "overflow_y": null,
            "padding": null,
            "right": null,
            "top": null,
            "visibility": null,
            "width": null
          }
        },
        "7ff8ea49520742f5ab9cea5796c05ee4": {
          "model_module": "@jupyter-widgets/base",
          "model_name": "LayoutModel",
          "model_module_version": "1.2.0",
          "state": {
            "_model_module": "@jupyter-widgets/base",
            "_model_module_version": "1.2.0",
            "_model_name": "LayoutModel",
            "_view_count": null,
            "_view_module": "@jupyter-widgets/base",
            "_view_module_version": "1.2.0",
            "_view_name": "LayoutView",
            "align_content": null,
            "align_items": null,
            "align_self": null,
            "border": null,
            "bottom": null,
            "display": null,
            "flex": null,
            "flex_flow": null,
            "grid_area": null,
            "grid_auto_columns": null,
            "grid_auto_flow": null,
            "grid_auto_rows": null,
            "grid_column": null,
            "grid_gap": null,
            "grid_row": null,
            "grid_template_areas": null,
            "grid_template_columns": null,
            "grid_template_rows": null,
            "height": null,
            "justify_content": null,
            "justify_items": null,
            "left": null,
            "margin": null,
            "max_height": null,
            "max_width": null,
            "min_height": null,
            "min_width": null,
            "object_fit": null,
            "object_position": null,
            "order": null,
            "overflow": null,
            "overflow_x": null,
            "overflow_y": null,
            "padding": null,
            "right": null,
            "top": null,
            "visibility": null,
            "width": null
          }
        },
        "422d6062e4f5446ba5d033d8c0f5d755": {
          "model_module": "@jupyter-widgets/controls",
          "model_name": "DescriptionStyleModel",
          "model_module_version": "1.5.0",
          "state": {
            "_model_module": "@jupyter-widgets/controls",
            "_model_module_version": "1.5.0",
            "_model_name": "DescriptionStyleModel",
            "_view_count": null,
            "_view_module": "@jupyter-widgets/base",
            "_view_module_version": "1.2.0",
            "_view_name": "StyleView",
            "description_width": ""
          }
        },
        "fc74b7fff5fb4b98a1470c94ada39698": {
          "model_module": "@jupyter-widgets/base",
          "model_name": "LayoutModel",
          "model_module_version": "1.2.0",
          "state": {
            "_model_module": "@jupyter-widgets/base",
            "_model_module_version": "1.2.0",
            "_model_name": "LayoutModel",
            "_view_count": null,
            "_view_module": "@jupyter-widgets/base",
            "_view_module_version": "1.2.0",
            "_view_name": "LayoutView",
            "align_content": null,
            "align_items": null,
            "align_self": null,
            "border": null,
            "bottom": null,
            "display": null,
            "flex": null,
            "flex_flow": null,
            "grid_area": null,
            "grid_auto_columns": null,
            "grid_auto_flow": null,
            "grid_auto_rows": null,
            "grid_column": null,
            "grid_gap": null,
            "grid_row": null,
            "grid_template_areas": null,
            "grid_template_columns": null,
            "grid_template_rows": null,
            "height": null,
            "justify_content": null,
            "justify_items": null,
            "left": null,
            "margin": null,
            "max_height": null,
            "max_width": null,
            "min_height": null,
            "min_width": null,
            "object_fit": null,
            "object_position": null,
            "order": null,
            "overflow": null,
            "overflow_x": null,
            "overflow_y": null,
            "padding": null,
            "right": null,
            "top": null,
            "visibility": null,
            "width": null
          }
        },
        "80ffb9c139ed4c32a6a367169bc7cb74": {
          "model_module": "@jupyter-widgets/controls",
          "model_name": "ProgressStyleModel",
          "model_module_version": "1.5.0",
          "state": {
            "_model_module": "@jupyter-widgets/controls",
            "_model_module_version": "1.5.0",
            "_model_name": "ProgressStyleModel",
            "_view_count": null,
            "_view_module": "@jupyter-widgets/base",
            "_view_module_version": "1.2.0",
            "_view_name": "StyleView",
            "bar_color": null,
            "description_width": ""
          }
        },
        "9daca4985a9e4bda9477ef8140183c27": {
          "model_module": "@jupyter-widgets/base",
          "model_name": "LayoutModel",
          "model_module_version": "1.2.0",
          "state": {
            "_model_module": "@jupyter-widgets/base",
            "_model_module_version": "1.2.0",
            "_model_name": "LayoutModel",
            "_view_count": null,
            "_view_module": "@jupyter-widgets/base",
            "_view_module_version": "1.2.0",
            "_view_name": "LayoutView",
            "align_content": null,
            "align_items": null,
            "align_self": null,
            "border": null,
            "bottom": null,
            "display": null,
            "flex": null,
            "flex_flow": null,
            "grid_area": null,
            "grid_auto_columns": null,
            "grid_auto_flow": null,
            "grid_auto_rows": null,
            "grid_column": null,
            "grid_gap": null,
            "grid_row": null,
            "grid_template_areas": null,
            "grid_template_columns": null,
            "grid_template_rows": null,
            "height": null,
            "justify_content": null,
            "justify_items": null,
            "left": null,
            "margin": null,
            "max_height": null,
            "max_width": null,
            "min_height": null,
            "min_width": null,
            "object_fit": null,
            "object_position": null,
            "order": null,
            "overflow": null,
            "overflow_x": null,
            "overflow_y": null,
            "padding": null,
            "right": null,
            "top": null,
            "visibility": null,
            "width": null
          }
        },
        "6a4a5c11f45947c7a0782892950a88c7": {
          "model_module": "@jupyter-widgets/controls",
          "model_name": "DescriptionStyleModel",
          "model_module_version": "1.5.0",
          "state": {
            "_model_module": "@jupyter-widgets/controls",
            "_model_module_version": "1.5.0",
            "_model_name": "DescriptionStyleModel",
            "_view_count": null,
            "_view_module": "@jupyter-widgets/base",
            "_view_module_version": "1.2.0",
            "_view_name": "StyleView",
            "description_width": ""
          }
        },
        "0ef2267e3a61485e9138c5f2a2462c11": {
          "model_module": "@jupyter-widgets/controls",
          "model_name": "HBoxModel",
          "model_module_version": "1.5.0",
          "state": {
            "_dom_classes": [],
            "_model_module": "@jupyter-widgets/controls",
            "_model_module_version": "1.5.0",
            "_model_name": "HBoxModel",
            "_view_count": null,
            "_view_module": "@jupyter-widgets/controls",
            "_view_module_version": "1.5.0",
            "_view_name": "HBoxView",
            "box_style": "",
            "children": [
              "IPY_MODEL_88399087f32f477992b651a1ffc6bedc",
              "IPY_MODEL_75ef2dce39c444e8be79e41119a108fa",
              "IPY_MODEL_d1c3e6d0d4b94c688b73c6c4a1853f5e"
            ],
            "layout": "IPY_MODEL_1f22177888e84bfea6f6258b17311c0b"
          }
        },
        "88399087f32f477992b651a1ffc6bedc": {
          "model_module": "@jupyter-widgets/controls",
          "model_name": "HTMLModel",
          "model_module_version": "1.5.0",
          "state": {
            "_dom_classes": [],
            "_model_module": "@jupyter-widgets/controls",
            "_model_module_version": "1.5.0",
            "_model_name": "HTMLModel",
            "_view_count": null,
            "_view_module": "@jupyter-widgets/controls",
            "_view_module_version": "1.5.0",
            "_view_name": "HTMLView",
            "description": "",
            "description_tooltip": null,
            "layout": "IPY_MODEL_624667c9da104a9b837d93ffb45cd51c",
            "placeholder": "​",
            "style": "IPY_MODEL_bdfdcda2cbca4724ba6035ee5fac3386",
            "value": "tokenizer.json: 100%"
          }
        },
        "75ef2dce39c444e8be79e41119a108fa": {
          "model_module": "@jupyter-widgets/controls",
          "model_name": "FloatProgressModel",
          "model_module_version": "1.5.0",
          "state": {
            "_dom_classes": [],
            "_model_module": "@jupyter-widgets/controls",
            "_model_module_version": "1.5.0",
            "_model_name": "FloatProgressModel",
            "_view_count": null,
            "_view_module": "@jupyter-widgets/controls",
            "_view_module_version": "1.5.0",
            "_view_name": "ProgressView",
            "bar_style": "success",
            "description": "",
            "description_tooltip": null,
            "layout": "IPY_MODEL_dfb7c4e741cc41dcb7a299be90cb1674",
            "max": 1355256,
            "min": 0,
            "orientation": "horizontal",
            "style": "IPY_MODEL_650546e81038459ab715809448f27283",
            "value": 1355256
          }
        },
        "d1c3e6d0d4b94c688b73c6c4a1853f5e": {
          "model_module": "@jupyter-widgets/controls",
          "model_name": "HTMLModel",
          "model_module_version": "1.5.0",
          "state": {
            "_dom_classes": [],
            "_model_module": "@jupyter-widgets/controls",
            "_model_module_version": "1.5.0",
            "_model_name": "HTMLModel",
            "_view_count": null,
            "_view_module": "@jupyter-widgets/controls",
            "_view_module_version": "1.5.0",
            "_view_name": "HTMLView",
            "description": "",
            "description_tooltip": null,
            "layout": "IPY_MODEL_925fe89a0b3c49eaa69cc1cd37497907",
            "placeholder": "​",
            "style": "IPY_MODEL_20908de7f66241ec8acfe2bfc59a9d0e",
            "value": " 1.36M/1.36M [00:00&lt;00:00, 5.81MB/s]"
          }
        },
        "1f22177888e84bfea6f6258b17311c0b": {
          "model_module": "@jupyter-widgets/base",
          "model_name": "LayoutModel",
          "model_module_version": "1.2.0",
          "state": {
            "_model_module": "@jupyter-widgets/base",
            "_model_module_version": "1.2.0",
            "_model_name": "LayoutModel",
            "_view_count": null,
            "_view_module": "@jupyter-widgets/base",
            "_view_module_version": "1.2.0",
            "_view_name": "LayoutView",
            "align_content": null,
            "align_items": null,
            "align_self": null,
            "border": null,
            "bottom": null,
            "display": null,
            "flex": null,
            "flex_flow": null,
            "grid_area": null,
            "grid_auto_columns": null,
            "grid_auto_flow": null,
            "grid_auto_rows": null,
            "grid_column": null,
            "grid_gap": null,
            "grid_row": null,
            "grid_template_areas": null,
            "grid_template_columns": null,
            "grid_template_rows": null,
            "height": null,
            "justify_content": null,
            "justify_items": null,
            "left": null,
            "margin": null,
            "max_height": null,
            "max_width": null,
            "min_height": null,
            "min_width": null,
            "object_fit": null,
            "object_position": null,
            "order": null,
            "overflow": null,
            "overflow_x": null,
            "overflow_y": null,
            "padding": null,
            "right": null,
            "top": null,
            "visibility": null,
            "width": null
          }
        },
        "624667c9da104a9b837d93ffb45cd51c": {
          "model_module": "@jupyter-widgets/base",
          "model_name": "LayoutModel",
          "model_module_version": "1.2.0",
          "state": {
            "_model_module": "@jupyter-widgets/base",
            "_model_module_version": "1.2.0",
            "_model_name": "LayoutModel",
            "_view_count": null,
            "_view_module": "@jupyter-widgets/base",
            "_view_module_version": "1.2.0",
            "_view_name": "LayoutView",
            "align_content": null,
            "align_items": null,
            "align_self": null,
            "border": null,
            "bottom": null,
            "display": null,
            "flex": null,
            "flex_flow": null,
            "grid_area": null,
            "grid_auto_columns": null,
            "grid_auto_flow": null,
            "grid_auto_rows": null,
            "grid_column": null,
            "grid_gap": null,
            "grid_row": null,
            "grid_template_areas": null,
            "grid_template_columns": null,
            "grid_template_rows": null,
            "height": null,
            "justify_content": null,
            "justify_items": null,
            "left": null,
            "margin": null,
            "max_height": null,
            "max_width": null,
            "min_height": null,
            "min_width": null,
            "object_fit": null,
            "object_position": null,
            "order": null,
            "overflow": null,
            "overflow_x": null,
            "overflow_y": null,
            "padding": null,
            "right": null,
            "top": null,
            "visibility": null,
            "width": null
          }
        },
        "bdfdcda2cbca4724ba6035ee5fac3386": {
          "model_module": "@jupyter-widgets/controls",
          "model_name": "DescriptionStyleModel",
          "model_module_version": "1.5.0",
          "state": {
            "_model_module": "@jupyter-widgets/controls",
            "_model_module_version": "1.5.0",
            "_model_name": "DescriptionStyleModel",
            "_view_count": null,
            "_view_module": "@jupyter-widgets/base",
            "_view_module_version": "1.2.0",
            "_view_name": "StyleView",
            "description_width": ""
          }
        },
        "dfb7c4e741cc41dcb7a299be90cb1674": {
          "model_module": "@jupyter-widgets/base",
          "model_name": "LayoutModel",
          "model_module_version": "1.2.0",
          "state": {
            "_model_module": "@jupyter-widgets/base",
            "_model_module_version": "1.2.0",
            "_model_name": "LayoutModel",
            "_view_count": null,
            "_view_module": "@jupyter-widgets/base",
            "_view_module_version": "1.2.0",
            "_view_name": "LayoutView",
            "align_content": null,
            "align_items": null,
            "align_self": null,
            "border": null,
            "bottom": null,
            "display": null,
            "flex": null,
            "flex_flow": null,
            "grid_area": null,
            "grid_auto_columns": null,
            "grid_auto_flow": null,
            "grid_auto_rows": null,
            "grid_column": null,
            "grid_gap": null,
            "grid_row": null,
            "grid_template_areas": null,
            "grid_template_columns": null,
            "grid_template_rows": null,
            "height": null,
            "justify_content": null,
            "justify_items": null,
            "left": null,
            "margin": null,
            "max_height": null,
            "max_width": null,
            "min_height": null,
            "min_width": null,
            "object_fit": null,
            "object_position": null,
            "order": null,
            "overflow": null,
            "overflow_x": null,
            "overflow_y": null,
            "padding": null,
            "right": null,
            "top": null,
            "visibility": null,
            "width": null
          }
        },
        "650546e81038459ab715809448f27283": {
          "model_module": "@jupyter-widgets/controls",
          "model_name": "ProgressStyleModel",
          "model_module_version": "1.5.0",
          "state": {
            "_model_module": "@jupyter-widgets/controls",
            "_model_module_version": "1.5.0",
            "_model_name": "ProgressStyleModel",
            "_view_count": null,
            "_view_module": "@jupyter-widgets/base",
            "_view_module_version": "1.2.0",
            "_view_name": "StyleView",
            "bar_color": null,
            "description_width": ""
          }
        },
        "925fe89a0b3c49eaa69cc1cd37497907": {
          "model_module": "@jupyter-widgets/base",
          "model_name": "LayoutModel",
          "model_module_version": "1.2.0",
          "state": {
            "_model_module": "@jupyter-widgets/base",
            "_model_module_version": "1.2.0",
            "_model_name": "LayoutModel",
            "_view_count": null,
            "_view_module": "@jupyter-widgets/base",
            "_view_module_version": "1.2.0",
            "_view_name": "LayoutView",
            "align_content": null,
            "align_items": null,
            "align_self": null,
            "border": null,
            "bottom": null,
            "display": null,
            "flex": null,
            "flex_flow": null,
            "grid_area": null,
            "grid_auto_columns": null,
            "grid_auto_flow": null,
            "grid_auto_rows": null,
            "grid_column": null,
            "grid_gap": null,
            "grid_row": null,
            "grid_template_areas": null,
            "grid_template_columns": null,
            "grid_template_rows": null,
            "height": null,
            "justify_content": null,
            "justify_items": null,
            "left": null,
            "margin": null,
            "max_height": null,
            "max_width": null,
            "min_height": null,
            "min_width": null,
            "object_fit": null,
            "object_position": null,
            "order": null,
            "overflow": null,
            "overflow_x": null,
            "overflow_y": null,
            "padding": null,
            "right": null,
            "top": null,
            "visibility": null,
            "width": null
          }
        },
        "20908de7f66241ec8acfe2bfc59a9d0e": {
          "model_module": "@jupyter-widgets/controls",
          "model_name": "DescriptionStyleModel",
          "model_module_version": "1.5.0",
          "state": {
            "_model_module": "@jupyter-widgets/controls",
            "_model_module_version": "1.5.0",
            "_model_name": "DescriptionStyleModel",
            "_view_count": null,
            "_view_module": "@jupyter-widgets/base",
            "_view_module_version": "1.2.0",
            "_view_name": "StyleView",
            "description_width": ""
          }
        }
      }
    }
  },
  "nbformat": 4,
  "nbformat_minor": 0
}