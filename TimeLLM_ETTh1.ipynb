{
  "cells": [
    {
      "cell_type": "markdown",
      "metadata": {
        "id": "view-in-github",
        "colab_type": "text"
      },
      "source": [
        "<a href=\"https://colab.research.google.com/github/dngoins/Time-LLM/blob/main/TimeLLM_ETTh1.ipynb\" target=\"_parent\"><img src=\"https://colab.research.google.com/assets/colab-badge.svg\" alt=\"Open In Colab\"/></a>"
      ]
    },
    {
      "cell_type": "code",
      "execution_count": null,
      "metadata": {
        "colab": {
          "base_uri": "https://localhost:8080/"
        },
        "id": "sO4ptni6iiZI",
        "outputId": "68c3d058-9bbb-4c67-db29-38b33b154e7a"
      },
      "outputs": [
        {
          "name": "stdout",
          "output_type": "stream",
          "text": [
            "Requirement already satisfied: pandas in /usr/local/lib/python3.11/dist-packages (2.2.2)\n",
            "Requirement already satisfied: scikit_learn in /usr/local/lib/python3.11/dist-packages (1.6.1)\n",
            "Requirement already satisfied: scipy in /usr/local/lib/python3.11/dist-packages (1.14.1)\n",
            "Requirement already satisfied: tqdm in /usr/local/lib/python3.11/dist-packages (4.67.1)\n",
            "Requirement already satisfied: numpy>=1.23.2 in /usr/local/lib/python3.11/dist-packages (from pandas) (1.26.4)\n",
            "Requirement already satisfied: python-dateutil>=2.8.2 in /usr/local/lib/python3.11/dist-packages (from pandas) (2.8.2)\n",
            "Requirement already satisfied: pytz>=2020.1 in /usr/local/lib/python3.11/dist-packages (from pandas) (2025.1)\n",
            "Requirement already satisfied: tzdata>=2022.7 in /usr/local/lib/python3.11/dist-packages (from pandas) (2025.1)\n",
            "Requirement already satisfied: joblib>=1.2.0 in /usr/local/lib/python3.11/dist-packages (from scikit_learn) (1.4.2)\n",
            "Requirement already satisfied: threadpoolctl>=3.1.0 in /usr/local/lib/python3.11/dist-packages (from scikit_learn) (3.5.0)\n",
            "Requirement already satisfied: six>=1.5 in /usr/local/lib/python3.11/dist-packages (from python-dateutil>=2.8.2->pandas) (1.17.0)\n",
            "Requirement already satisfied: mpi4py in /usr/local/lib/python3.11/dist-packages (4.0.3)\n",
            "Requirement already satisfied: azure-storage-blob in /usr/local/lib/python3.11/dist-packages (12.25.0)\n",
            "Requirement already satisfied: azure-identity in /usr/local/lib/python3.11/dist-packages (1.21.0)\n",
            "Requirement already satisfied: azure-core>=1.30.0 in /usr/local/lib/python3.11/dist-packages (from azure-storage-blob) (1.32.0)\n",
            "Requirement already satisfied: cryptography>=2.1.4 in /usr/local/lib/python3.11/dist-packages (from azure-storage-blob) (43.0.3)\n",
            "Requirement already satisfied: typing-extensions>=4.6.0 in /usr/local/lib/python3.11/dist-packages (from azure-storage-blob) (4.12.2)\n",
            "Requirement already satisfied: isodate>=0.6.1 in /usr/local/lib/python3.11/dist-packages (from azure-storage-blob) (0.7.2)\n",
            "Requirement already satisfied: msal>=1.30.0 in /usr/local/lib/python3.11/dist-packages (from azure-identity) (1.32.0)\n",
            "Requirement already satisfied: msal-extensions>=1.2.0 in /usr/local/lib/python3.11/dist-packages (from azure-identity) (1.2.0)\n",
            "Requirement already satisfied: requests>=2.21.0 in /usr/local/lib/python3.11/dist-packages (from azure-core>=1.30.0->azure-storage-blob) (2.32.3)\n",
            "Requirement already satisfied: six>=1.11.0 in /usr/local/lib/python3.11/dist-packages (from azure-core>=1.30.0->azure-storage-blob) (1.17.0)\n",
            "Requirement already satisfied: cffi>=1.12 in /usr/local/lib/python3.11/dist-packages (from cryptography>=2.1.4->azure-storage-blob) (1.17.1)\n",
            "Requirement already satisfied: PyJWT<3,>=1.0.0 in /usr/local/lib/python3.11/dist-packages (from PyJWT[crypto]<3,>=1.0.0->msal>=1.30.0->azure-identity) (2.10.1)\n",
            "Requirement already satisfied: portalocker<3,>=1.4 in /usr/local/lib/python3.11/dist-packages (from msal-extensions>=1.2.0->azure-identity) (2.10.1)\n",
            "Requirement already satisfied: pycparser in /usr/local/lib/python3.11/dist-packages (from cffi>=1.12->cryptography>=2.1.4->azure-storage-blob) (2.22)\n",
            "Requirement already satisfied: charset-normalizer<4,>=2 in /usr/local/lib/python3.11/dist-packages (from requests>=2.21.0->azure-core>=1.30.0->azure-storage-blob) (3.4.1)\n",
            "Requirement already satisfied: idna<4,>=2.5 in /usr/local/lib/python3.11/dist-packages (from requests>=2.21.0->azure-core>=1.30.0->azure-storage-blob) (3.10)\n",
            "Requirement already satisfied: urllib3<3,>=1.21.1 in /usr/local/lib/python3.11/dist-packages (from requests>=2.21.0->azure-core>=1.30.0->azure-storage-blob) (2.3.0)\n",
            "Requirement already satisfied: certifi>=2017.4.17 in /usr/local/lib/python3.11/dist-packages (from requests>=2.21.0->azure-core>=1.30.0->azure-storage-blob) (2025.1.31)\n"
          ]
        }
      ],
      "source": [
        "# requires libuvc\n",
        "# pip3 install torch torchvision torchaudio --index-url https://download.pytorch.org/whl/cu126\n",
        "\n",
        "\n",
        " # use this instead\n",
        " #pip3 install torch==2.3.0 torchvision==0.18.0 torchaudio==2.3.0 --index-url https://download.pytorch.org/whl/cu118\n",
        "\n",
        "# first install pytorch with command above\n",
        "# this worked with python version 3.12.5\n",
        "\n",
        "# so far only working on a Linux box\n",
        "# use pip3 install -r requirements.txt to install all dependencies\n",
        "!pip3 install torch>=2.3.0 torchvision>=0.18.0 torchaudio>=2.3.0\n",
        "\n",
        "!pip3 install accelerate==0.28.0 einops>=0.7.0 matplotlib>=3.7.0 numpy\n",
        "!pip3 install pandas scikit_learn scipy tqdm\n",
        "!pip3 install peft>=0.4.0 transformers deepspeed\n",
        "!pip3 install sentencepiece>=0.2.0 setuptools\n",
        "!pip3 install mpi4py\n",
        "!pip install azure-storage-blob azure-identity\n"
      ]
    },
    {
      "cell_type": "code",
      "execution_count": null,
      "metadata": {
        "colab": {
          "base_uri": "https://localhost:8080/"
        },
        "id": "pcqySE5cM6G9",
        "outputId": "53e7ef57-6f51-4baa-fc30-e7a91416ee90"
      },
      "outputs": [
        {
          "name": "stdout",
          "output_type": "stream",
          "text": [
            "Requirement already satisfied: accelerate in /usr/local/lib/python3.11/dist-packages (0.28.0)\n",
            "Collecting accelerate\n",
            "  Using cached accelerate-1.5.1-py3-none-any.whl.metadata (19 kB)\n",
            "Requirement already satisfied: numpy<3.0.0,>=1.17 in /usr/local/lib/python3.11/dist-packages (from accelerate) (1.26.4)\n",
            "Requirement already satisfied: packaging>=20.0 in /usr/local/lib/python3.11/dist-packages (from accelerate) (24.2)\n",
            "Requirement already satisfied: psutil in /usr/local/lib/python3.11/dist-packages (from accelerate) (5.9.5)\n",
            "Requirement already satisfied: pyyaml in /usr/local/lib/python3.11/dist-packages (from accelerate) (6.0.2)\n",
            "Requirement already satisfied: torch>=2.0.0 in /usr/local/lib/python3.11/dist-packages (from accelerate) (2.5.1+cu124)\n",
            "Requirement already satisfied: huggingface_hub>=0.21.0 in /usr/local/lib/python3.11/dist-packages (from accelerate) (0.28.1)\n",
            "Requirement already satisfied: safetensors>=0.4.3 in /usr/local/lib/python3.11/dist-packages (from accelerate) (0.5.3)\n",
            "Requirement already satisfied: filelock in /usr/local/lib/python3.11/dist-packages (from huggingface_hub>=0.21.0->accelerate) (3.17.0)\n",
            "Requirement already satisfied: fsspec>=2023.5.0 in /usr/local/lib/python3.11/dist-packages (from huggingface_hub>=0.21.0->accelerate) (2024.10.0)\n",
            "Requirement already satisfied: requests in /usr/local/lib/python3.11/dist-packages (from huggingface_hub>=0.21.0->accelerate) (2.32.3)\n",
            "Requirement already satisfied: tqdm>=4.42.1 in /usr/local/lib/python3.11/dist-packages (from huggingface_hub>=0.21.0->accelerate) (4.67.1)\n",
            "Requirement already satisfied: typing-extensions>=3.7.4.3 in /usr/local/lib/python3.11/dist-packages (from huggingface_hub>=0.21.0->accelerate) (4.12.2)\n",
            "Requirement already satisfied: networkx in /usr/local/lib/python3.11/dist-packages (from torch>=2.0.0->accelerate) (3.4.2)\n",
            "Requirement already satisfied: jinja2 in /usr/local/lib/python3.11/dist-packages (from torch>=2.0.0->accelerate) (3.1.6)\n",
            "Requirement already satisfied: nvidia-cuda-nvrtc-cu12==12.4.127 in /usr/local/lib/python3.11/dist-packages (from torch>=2.0.0->accelerate) (12.4.127)\n",
            "Requirement already satisfied: nvidia-cuda-runtime-cu12==12.4.127 in /usr/local/lib/python3.11/dist-packages (from torch>=2.0.0->accelerate) (12.4.127)\n",
            "Requirement already satisfied: nvidia-cuda-cupti-cu12==12.4.127 in /usr/local/lib/python3.11/dist-packages (from torch>=2.0.0->accelerate) (12.4.127)\n",
            "Requirement already satisfied: nvidia-cudnn-cu12==9.1.0.70 in /usr/local/lib/python3.11/dist-packages (from torch>=2.0.0->accelerate) (9.1.0.70)\n",
            "Requirement already satisfied: nvidia-cublas-cu12==12.4.5.8 in /usr/local/lib/python3.11/dist-packages (from torch>=2.0.0->accelerate) (12.4.5.8)\n",
            "Requirement already satisfied: nvidia-cufft-cu12==11.2.1.3 in /usr/local/lib/python3.11/dist-packages (from torch>=2.0.0->accelerate) (11.2.1.3)\n",
            "Requirement already satisfied: nvidia-curand-cu12==10.3.5.147 in /usr/local/lib/python3.11/dist-packages (from torch>=2.0.0->accelerate) (10.3.5.147)\n",
            "Requirement already satisfied: nvidia-cusolver-cu12==11.6.1.9 in /usr/local/lib/python3.11/dist-packages (from torch>=2.0.0->accelerate) (11.6.1.9)\n",
            "Requirement already satisfied: nvidia-cusparse-cu12==12.3.1.170 in /usr/local/lib/python3.11/dist-packages (from torch>=2.0.0->accelerate) (12.3.1.170)\n",
            "Requirement already satisfied: nvidia-nccl-cu12==2.21.5 in /usr/local/lib/python3.11/dist-packages (from torch>=2.0.0->accelerate) (2.21.5)\n",
            "Requirement already satisfied: nvidia-nvtx-cu12==12.4.127 in /usr/local/lib/python3.11/dist-packages (from torch>=2.0.0->accelerate) (12.4.127)\n",
            "Requirement already satisfied: nvidia-nvjitlink-cu12==12.4.127 in /usr/local/lib/python3.11/dist-packages (from torch>=2.0.0->accelerate) (12.4.127)\n",
            "Requirement already satisfied: triton==3.1.0 in /usr/local/lib/python3.11/dist-packages (from torch>=2.0.0->accelerate) (3.1.0)\n",
            "Requirement already satisfied: sympy==1.13.1 in /usr/local/lib/python3.11/dist-packages (from torch>=2.0.0->accelerate) (1.13.1)\n",
            "Requirement already satisfied: mpmath<1.4,>=1.1.0 in /usr/local/lib/python3.11/dist-packages (from sympy==1.13.1->torch>=2.0.0->accelerate) (1.3.0)\n",
            "Requirement already satisfied: MarkupSafe>=2.0 in /usr/local/lib/python3.11/dist-packages (from jinja2->torch>=2.0.0->accelerate) (3.0.2)\n",
            "Requirement already satisfied: charset-normalizer<4,>=2 in /usr/local/lib/python3.11/dist-packages (from requests->huggingface_hub>=0.21.0->accelerate) (3.4.1)\n",
            "Requirement already satisfied: idna<4,>=2.5 in /usr/local/lib/python3.11/dist-packages (from requests->huggingface_hub>=0.21.0->accelerate) (3.10)\n",
            "Requirement already satisfied: urllib3<3,>=1.21.1 in /usr/local/lib/python3.11/dist-packages (from requests->huggingface_hub>=0.21.0->accelerate) (2.3.0)\n",
            "Requirement already satisfied: certifi>=2017.4.17 in /usr/local/lib/python3.11/dist-packages (from requests->huggingface_hub>=0.21.0->accelerate) (2025.1.31)\n",
            "Using cached accelerate-1.5.1-py3-none-any.whl (345 kB)\n",
            "Installing collected packages: accelerate\n",
            "  Attempting uninstall: accelerate\n",
            "    Found existing installation: accelerate 0.28.0\n",
            "    Uninstalling accelerate-0.28.0:\n",
            "      Successfully uninstalled accelerate-0.28.0\n",
            "Successfully installed accelerate-1.5.1\n"
          ]
        }
      ],
      "source": [
        "!pip install --upgrade accelerate"
      ]
    },
    {
      "cell_type": "code",
      "execution_count": null,
      "metadata": {
        "id": "9-gQF1msoAYk"
      },
      "outputs": [],
      "source": []
    },
    {
      "cell_type": "code",
      "execution_count": null,
      "metadata": {
        "id": "FpdvPOMujsDt"
      },
      "outputs": [],
      "source": [
        "\n",
        "# Array math\n",
        "import numpy as np\n",
        "\n",
        "# Iteration tracking\n",
        "from tqdm import tqdm\n",
        "\n",
        "# Type hinting\n",
        "from typing import Tuple\n",
        "\n",
        "# Os traversal\n",
        "import os\n",
        "\n",
        "import numpy as np\n",
        "import random\n",
        "\n",
        "import matplotlib\n",
        "import matplotlib.pyplot as plt\n",
        "import seaborn as sns\n",
        "from matplotlib.animation import FuncAnimation\n",
        "from google.colab import drive\n",
        "from google.colab import files\n",
        "import io\n",
        "from IPython.display import display, Image\n",
        "from datetime import datetime  # Import datetime module\n",
        "import time\n",
        "import pandas as pd\n",
        "\n",
        "import matplotlib.animation as animation\n",
        "from matplotlib.patches import FancyArrowPatch\n",
        "\n",
        "from sklearn.preprocessing import MinMaxScaler\n",
        "\n",
        "import argparse\n",
        "import torch\n",
        "from accelerate import Accelerator, DeepSpeedPlugin\n",
        "from accelerate import DistributedDataParallelKwargs\n",
        "from torch import nn, optim\n",
        "from torch.optim import lr_scheduler\n",
        "from tqdm import tqdm\n",
        "\n",
        "import json\n"
      ]
    },
    {
      "cell_type": "code",
      "execution_count": null,
      "metadata": {
        "colab": {
          "base_uri": "https://localhost:8080/"
        },
        "id": "1q6PyWetj1CB",
        "outputId": "d8a960b8-f634-46b4-8057-e7d3ad2ebb25"
      },
      "outputs": [
        {
          "name": "stdout",
          "output_type": "stream",
          "text": [
            "Mounted at /content/gdrive\n",
            "/content/gdrive/MyDrive/TimeLLM\n"
          ]
        }
      ],
      "source": [
        "# Mounting G-Drive for saving files.\n",
        "drive.mount('/content/gdrive')\n",
        "timeLLM_path = '/content/gdrive/MyDrive/TimeLLM'\n",
        "\n",
        "%cd {timeLLM_path}\n"
      ]
    },
    {
      "cell_type": "code",
      "execution_count": null,
      "metadata": {
        "id": "swej4-X5TrgR"
      },
      "outputs": [],
      "source": [
        "from math import sqrt\n",
        "\n",
        "\n",
        "from accelerate import Accelerator, DeepSpeedPlugin\n",
        "from accelerate import DistributedDataParallelKwargs\n",
        "from torch import nn, optim\n",
        "from torch.optim import lr_scheduler\n",
        "from tqdm import tqdm\n",
        "\n",
        "import json\n",
        "import torch\n",
        "import torch.nn as nn\n",
        "\n",
        "from transformers import LlamaConfig, LlamaModel, LlamaTokenizer, GPT2Config, GPT2Model, GPT2Tokenizer, BertConfig, BertModel, BertTokenizer\n",
        "\n",
        "from layers.Embed import PatchEmbedding\n",
        "import transformers\n",
        "\n",
        "from layers.StandardNorm import Normalize\n",
        "\n",
        "from models import Autoformer, DLinear\n",
        "from transformers import LlamaTokenizer, LlamaModel\n",
        "\n",
        "from data_provider.data_factory import data_provider\n",
        "import time\n",
        "import random\n",
        "import numpy as np\n",
        "import os\n",
        "from google.colab import userdata\n",
        "\n",
        "# Set your Azure Storage connection string as a secret\n",
        "# This needs to be done in Colab's UI under \"Secrets\" tab\n",
        "#connection_string = \"\"\"DefaultEndpointsProtocol=https;AccountName=;AccountKey=;EndpointSuffix=core.windows.net\"\"\"\n",
        "\n",
        "#userdata.set('AZURE_STORAGE_CONNECTION_STRING', connection_string)\n",
        "\n",
        "os.environ['CURL_CA_BUNDLE'] = ''\n",
        "os.environ[\"PYTORCH_CUDA_ALLOC_CONF\"] = \"max_split_size_mb:64\"\n",
        "\n",
        "from utils.tools import del_files, EarlyStopping, adjust_learning_rate, vali, load_content\n",
        "\n",
        "transformers.logging.set_verbosity_error()\n",
        "\n",
        "\n",
        "class FlattenHead(nn.Module):\n",
        "    def __init__(self, n_vars, nf, target_window, head_dropout=0):\n",
        "        super().__init__()\n",
        "        self.n_vars = n_vars\n",
        "        self.flatten = nn.Flatten(start_dim=-2)\n",
        "        self.linear = nn.Linear(nf, target_window)\n",
        "        self.dropout = nn.Dropout(head_dropout)\n",
        "\n",
        "    def forward(self, x):\n",
        "        x = self.flatten(x)\n",
        "        x = self.linear(x)\n",
        "        x = self.dropout(x)\n",
        "        return x\n",
        "\n",
        "\n",
        "class TimeLLM(nn.Module):\n",
        "\n",
        "    def __init__(self, configs, patch_len=16, stride=8):\n",
        "        super(TimeLLM, self).__init__()\n",
        "\n",
        "        print('TimeLLM init')\n",
        "        self.task_name = configs.task_name\n",
        "        self.pred_len = configs.pred_len\n",
        "        self.seq_len = configs.seq_len\n",
        "        self.d_ff = configs.d_ff\n",
        "        self.top_k = 5\n",
        "        self.d_llm = configs.llm_dim\n",
        "        self.patch_len = configs.patch_len\n",
        "        self.stride = configs.stride\n",
        "\n",
        "        if configs.llm_model == 'LLAMA':\n",
        "            # self.llama_config = LlamaConfig.from_pretrained('/mnt/alps/modelhub/pretrained_model/LLaMA/7B_hf/')\n",
        "            self.llama_config = LlamaConfig.from_pretrained('huggyllama/llama-7b')\n",
        "            self.llama_config.num_hidden_layers = configs.llm_layers\n",
        "            self.llama_config.output_attentions = True\n",
        "            self.llama_config.output_hidden_states = True\n",
        "\n",
        "            print('TimeLLM- LLAMA')\n",
        "            try:\n",
        "                # self.llm_model = LlamaModel.from_pretrained(\n",
        "                #     # \"/mnt/alps/modelhub/pretrained_model/LLaMA/7B_hf/\",\n",
        "                #     'huggyllama/llama-7b',\n",
        "                #     trust_remote_code=True,\n",
        "                #     local_files_only=True,\n",
        "                #     config=self.llama_config,\n",
        "                #     use_safetensors=False\n",
        "                #     # load_in_4bit=True\n",
        "                # )\n",
        "                self.llm_model = LlamaModel.from_pretrained(\n",
        "                    # \"/mnt/alps/modelhub/pretrained_model/LLaMA/7B_hf/\",\n",
        "                    'huggyllama/llama-7b',\n",
        "                    trust_remote_code=True,\n",
        "                    # local_files_only=True, # This line is causing the issue\n",
        "                    config=self.llama_config,\n",
        "                    use_safetensors=False\n",
        "                    # load_in_4bit=True\n",
        "                )\n",
        "                print('TimeLLM-model from pretrained')\n",
        "            except EnvironmentError:  # downloads model from HF is not already done\n",
        "                print(\"Local model files not found. Attempting to download...\")\n",
        "                self.llm_model = LlamaModel.from_pretrained(\n",
        "                    # \"/mnt/alps/modelhub/pretrained_model/LLaMA/7B_hf/\",\n",
        "                    'huggyllama/llama-7b',\n",
        "                    trust_remote_code=True,\n",
        "                    # local_files_only=True, # This line is causing the issue\n",
        "                    config=self.llama_config,\n",
        "                    use_safetensors=False\n",
        "                    # load_in_4bit=True\n",
        "                )\n",
        "            try:\n",
        "                self.tokenizer = LlamaTokenizer.from_pretrained(\n",
        "                    # \"/mnt/alps/modelhub/pretrained_model/LLaMA/7B_hf/tokenizer.model\",\n",
        "                    'huggyllama/llama-7b',\n",
        "                    trust_remote_code=True,\n",
        "                    local_files_only=True\n",
        "                )\n",
        "\n",
        "                print('TimeLLM-tokenizer from pretrained')\n",
        "            except EnvironmentError:  # downloads the tokenizer from HF if not already done\n",
        "                print(\"Local tokenizer files not found. Atempting to download them..\")\n",
        "                self.tokenizer = LlamaTokenizer.from_pretrained(\n",
        "                    # \"/mnt/alps/modelhub/pretrained_model/LLaMA/7B_hf/tokenizer.model\",\n",
        "                    'huggyllama/llama-7b',\n",
        "                    trust_remote_code=True,\n",
        "                    local_files_only=False\n",
        "                )\n",
        "        elif configs.llm_model == 'GPT2':\n",
        "            self.gpt2_config = GPT2Config.from_pretrained('openai-community/gpt2')\n",
        "\n",
        "            self.gpt2_config.num_hidden_layers = configs.llm_layers\n",
        "            self.gpt2_config.output_attentions = True\n",
        "            self.gpt2_config.output_hidden_states = True\n",
        "            print('TimeLLM- GPT2')\n",
        "            try:\n",
        "                self.llm_model = GPT2Model.from_pretrained(\n",
        "                    'openai-community/gpt2',\n",
        "                    config=self.gpt2_config,\n",
        "                    trust_remote_code=True,\n",
        "                    # local_files_only=True, # This line is causing the issue\n",
        "                    use_safetensors=False\n",
        "                    # load_in_4bit=True\n",
        "                )\n",
        "            except EnvironmentError:  # downloads model from HF is not already done\n",
        "                print(\"Local model files not found. Attempting to download...\")\n",
        "                self.llm_model = GPT2Model.from_pretrained(\n",
        "                    'openai-community/gpt2',\n",
        "                    config=self.gpt2_config,\n",
        "                    trust_remote_code=True,\n",
        "                    # local_files_only=True, # This line is causing the issue\n",
        "                    use_safetensors=False\n",
        "                    # load_in_4bit=True\n",
        "                )\n",
        "\n",
        "            try:\n",
        "                self.tokenizer = GPT2Tokenizer.from_pretrained(\n",
        "                    'openai-community/gpt2',\n",
        "                    trust_remote_code=True,\n",
        "                    local_files_only=True\n",
        "                )\n",
        "            except EnvironmentError:  # downloads the tokenizer from HF if not already done\n",
        "                print(\"Local tokenizer files not found. Atempting to download them..\")\n",
        "                self.tokenizer = GPT2Tokenizer.from_pretrained(\n",
        "                    'openai-community/gpt2',\n",
        "                    trust_remote_code=True,\n",
        "                    local_files_only=False\n",
        "                )\n",
        "        elif configs.llm_model == 'BERT':\n",
        "            self.bert_config = BertConfig.from_pretrained('google-bert/bert-base-uncased')\n",
        "\n",
        "            self.bert_config.num_hidden_layers = configs.llm_layers\n",
        "            self.bert_config.output_attentions = True\n",
        "            self.bert_config.output_hidden_states = True\n",
        "            print('TimeLLM- BERT')\n",
        "            try:\n",
        "                self.llm_model = BertModel.from_pretrained(\n",
        "                    'google-bert/bert-base-uncased',\n",
        "                    trust_remote_code=True,\n",
        "                    #local_files_only=True,\n",
        "                    config=self.bert_config,\n",
        "                    use_safetensors=False\n",
        "                    # load_in_4bit=True\n",
        "                )\n",
        "            except EnvironmentError:  # downloads model from HF is not already done\n",
        "                print(\"Local model files not found. Attempting to download...\")\n",
        "                self.llm_model = BertModel.from_pretrained(\n",
        "                    'google-bert/bert-base-uncased',\n",
        "                    trust_remote_code=True,\n",
        "                    local_files_only=False,\n",
        "                    config=self.bert_config,\n",
        "                    use_safetensors=False\n",
        "                    # load_in_4bit=True\n",
        "                )\n",
        "\n",
        "            try:\n",
        "                self.tokenizer = BertTokenizer.from_pretrained(\n",
        "                    'google-bert/bert-base-uncased',\n",
        "                    trust_remote_code=True,\n",
        "                    local_files_only=True\n",
        "                )\n",
        "            except EnvironmentError:  # downloads the tokenizer from HF if not already done\n",
        "                print(\"Local tokenizer files not found. Atempting to download them..\")\n",
        "                self.tokenizer = BertTokenizer.from_pretrained(\n",
        "                    'google-bert/bert-base-uncased',\n",
        "                    trust_remote_code=True,\n",
        "                    local_files_only=False\n",
        "                )\n",
        "        else:\n",
        "            raise Exception('LLM model is not defined')\n",
        "\n",
        "        print('TimeLLM- Tokenizer')\n",
        "        if self.tokenizer.eos_token:\n",
        "            self.tokenizer.pad_token = self.tokenizer.eos_token\n",
        "        else:\n",
        "            pad_token = '[PAD]'\n",
        "            self.tokenizer.add_special_tokens({'pad_token': pad_token})\n",
        "            self.tokenizer.pad_token = pad_token\n",
        "\n",
        "        for param in self.llm_model.parameters():\n",
        "            param.requires_grad = False\n",
        "\n",
        "        if configs.prompt_domain:\n",
        "            self.description = configs.content\n",
        "        else:\n",
        "            self.description = 'The Electricity Transformer Temperature (ETT) is a crucial indicator in the electric power long-term deployment.'\n",
        "\n",
        "        print(f'TimeLLM-description:\\n***************\\n{self.description}\\n***************\\n')\n",
        "        self.dropout = nn.Dropout(configs.dropout)\n",
        "\n",
        "        self.patch_embedding = PatchEmbedding(\n",
        "            configs.d_model, self.patch_len, self.stride, configs.dropout)\n",
        "\n",
        "        self.word_embeddings = self.llm_model.get_input_embeddings().weight\n",
        "        self.vocab_size = self.word_embeddings.shape[0]\n",
        "        self.num_tokens = 1000\n",
        "        self.mapping_layer = nn.Linear(self.vocab_size, self.num_tokens)\n",
        "\n",
        "        print('Reprogramming Layer')\n",
        "        self.reprogramming_layer = ReprogrammingLayer(configs.d_model, configs.n_heads, self.d_ff, self.d_llm)\n",
        "\n",
        "        self.patch_nums = int((configs.seq_len - self.patch_len) / self.stride + 2)\n",
        "        self.head_nf = self.d_ff * self.patch_nums\n",
        "\n",
        "        if self.task_name == 'long_term_forecast' or self.task_name == 'short_term_forecast':\n",
        "            self.output_projection = FlattenHead(configs.enc_in, self.head_nf, self.pred_len,\n",
        "                                                 head_dropout=configs.dropout)\n",
        "            print(f'TimeLLM-output_projection:\\n***************\\n{self.output_projection}\\n***************\\n')\n",
        "        else:\n",
        "            raise NotImplementedError\n",
        "\n",
        "        self.normalize_layers = Normalize(configs.enc_in, affine=False)\n",
        "\n",
        "    def forward(self, x_enc, x_mark_enc, x_dec, x_mark_dec, mask=None):\n",
        "        if self.task_name == 'long_term_forecast' or self.task_name == 'short_term_forecast':\n",
        "            dec_out = self.forecast(x_enc, x_mark_enc, x_dec, x_mark_dec)\n",
        "            return dec_out[:, -self.pred_len:, :]\n",
        "        return None\n",
        "\n",
        "    def forecast(self, x_enc, x_mark_enc, x_dec, x_mark_dec):\n",
        "\n",
        "        x_enc = self.normalize_layers(x_enc, 'norm')\n",
        "\n",
        "        B, T, N = x_enc.size()\n",
        "        x_enc = x_enc.permute(0, 2, 1).contiguous().reshape(B * N, T, 1)\n",
        "\n",
        "        min_values = torch.min(x_enc, dim=1)[0]\n",
        "        max_values = torch.max(x_enc, dim=1)[0]\n",
        "        medians = torch.median(x_enc, dim=1).values\n",
        "        lags = self.calcute_lags(x_enc)\n",
        "        trends = x_enc.diff(dim=1).sum(dim=1)\n",
        "\n",
        "        prompt = []\n",
        "        for b in range(x_enc.shape[0]):\n",
        "            min_values_str = str(min_values[b].tolist()[0])\n",
        "            max_values_str = str(max_values[b].tolist()[0])\n",
        "            median_values_str = str(medians[b].tolist()[0])\n",
        "            lags_values_str = str(lags[b].tolist())\n",
        "            prompt_ = (\n",
        "                f\"<|start_prompt|>Dataset description: {self.description}\"\n",
        "                f\"Task description: forecast the next {str(self.pred_len)} steps given the previous {str(self.seq_len)} steps information; \"\n",
        "                \"Input statistics: \"\n",
        "                f\"min value {min_values_str}, \"\n",
        "                f\"max value {max_values_str}, \"\n",
        "                f\"median value {median_values_str}, \"\n",
        "                f\"the trend of input is {'upward' if trends[b] > 0 else 'downward'}, \"\n",
        "                f\"top 5 lags are : {lags_values_str}<|<end_prompt>|>\"\n",
        "            )\n",
        "\n",
        "            prompt.append(prompt_)\n",
        "\n",
        "        x_enc = x_enc.reshape(B, N, T).permute(0, 2, 1).contiguous()\n",
        "        #print(f'*********\\nPrompt:\\n{prompt}\\n**************\\n')\n",
        "\n",
        "        prompt = self.tokenizer(prompt, return_tensors=\"pt\", padding=True, truncation=True, max_length=2048).input_ids\n",
        "\n",
        "        #print(f'*********\\nPrompt-Tokenized:\\n{prompt}\\n**************\\n')\n",
        "        prompt_embeddings = self.llm_model.get_input_embeddings()(prompt.to(x_enc.device))  # (batch, prompt_token, dim)\n",
        "\n",
        "        source_embeddings = self.mapping_layer(self.word_embeddings.permute(1, 0)).permute(1, 0)\n",
        "\n",
        "        x_enc = x_enc.permute(0, 2, 1).contiguous()\n",
        "        enc_out, n_vars = self.patch_embedding(x_enc.to(torch.bfloat16))\n",
        "        enc_out = self.reprogramming_layer(enc_out, source_embeddings, source_embeddings)\n",
        "        llama_enc_out = torch.cat([prompt_embeddings, enc_out], dim=1)\n",
        "        dec_out = self.llm_model(inputs_embeds=llama_enc_out).last_hidden_state\n",
        "        dec_out = dec_out[:, :, :self.d_ff]\n",
        "\n",
        "        dec_out = torch.reshape(\n",
        "            dec_out, (-1, n_vars, dec_out.shape[-2], dec_out.shape[-1]))\n",
        "        dec_out = dec_out.permute(0, 1, 3, 2).contiguous()\n",
        "\n",
        "        dec_out = self.output_projection(dec_out[:, :, :, -self.patch_nums:])\n",
        "        dec_out = dec_out.permute(0, 2, 1).contiguous()\n",
        "\n",
        "        dec_out = self.normalize_layers(dec_out, 'denorm')\n",
        "\n",
        "        return dec_out\n",
        "\n",
        "    def calcute_lags(self, x_enc):\n",
        "        q_fft = torch.fft.rfft(x_enc.permute(0, 2, 1).contiguous(), dim=-1)\n",
        "        k_fft = torch.fft.rfft(x_enc.permute(0, 2, 1).contiguous(), dim=-1)\n",
        "        res = q_fft * torch.conj(k_fft)\n",
        "        corr = torch.fft.irfft(res, dim=-1)\n",
        "        mean_value = torch.mean(corr, dim=1)\n",
        "        _, lags = torch.topk(mean_value, self.top_k, dim=-1)\n",
        "        return lags\n",
        "\n",
        "\n",
        "class ReprogrammingLayer(nn.Module):\n",
        "    def __init__(self, d_model, n_heads, d_keys=None, d_llm=None, attention_dropout=0.1):\n",
        "        super(ReprogrammingLayer, self).__init__()\n",
        "\n",
        "        d_keys = d_keys or (d_model // n_heads)\n",
        "\n",
        "        self.query_projection = nn.Linear(d_model, d_keys * n_heads)\n",
        "        self.key_projection = nn.Linear(d_llm, d_keys * n_heads)\n",
        "        self.value_projection = nn.Linear(d_llm, d_keys * n_heads)\n",
        "        self.out_projection = nn.Linear(d_keys * n_heads, d_llm)\n",
        "        self.n_heads = n_heads\n",
        "        self.dropout = nn.Dropout(attention_dropout)\n",
        "\n",
        "    def forward(self, target_embedding, source_embedding, value_embedding):\n",
        "        B, L, _ = target_embedding.shape\n",
        "        S, _ = source_embedding.shape\n",
        "        H = self.n_heads\n",
        "\n",
        "        target_embedding = self.query_projection(target_embedding).view(B, L, H, -1)\n",
        "        source_embedding = self.key_projection(source_embedding).view(S, H, -1)\n",
        "        value_embedding = self.value_projection(value_embedding).view(S, H, -1)\n",
        "\n",
        "        out = self.reprogramming(target_embedding, source_embedding, value_embedding)\n",
        "\n",
        "        out = out.reshape(B, L, -1)\n",
        "\n",
        "        return self.out_projection(out)\n",
        "\n",
        "    def reprogramming(self, target_embedding, source_embedding, value_embedding):\n",
        "        B, L, H, E = target_embedding.shape\n",
        "\n",
        "        scale = 1. / sqrt(E)\n",
        "\n",
        "        scores = torch.einsum(\"blhe,she->bhls\", target_embedding, source_embedding)\n",
        "\n",
        "        A = self.dropout(torch.softmax(scale * scores, dim=-1))\n",
        "        reprogramming_embedding = torch.einsum(\"bhls,she->blhe\", A, value_embedding)\n",
        "\n",
        "        return reprogramming_embedding\n"
      ]
    },
    {
      "cell_type": "code",
      "execution_count": null,
      "metadata": {
        "id": "E63apaZFAqjk"
      },
      "outputs": [],
      "source": [
        "def train(args):\n",
        "  for ii in range(args.itr):\n",
        "      # setting record of experiments\n",
        "      setting = '{}_{}_{}_{}_ft{}_sl{}_ll{}_pl{}_dm{}_nh{}_el{}_dl{}_df{}_fc{}_eb{}_{}_{}'.format(\n",
        "          args.task_name,\n",
        "          args.model_id,\n",
        "          args.model,\n",
        "          args.data,\n",
        "          args.features,\n",
        "          args.seq_len,\n",
        "          args.label_len,\n",
        "          args.pred_len,\n",
        "          args.d_model,\n",
        "          args.n_heads,\n",
        "          args.e_layers,\n",
        "          args.d_layers,\n",
        "          args.d_ff,\n",
        "          args.factor,\n",
        "          args.embed,\n",
        "          args.des, ii)\n",
        "\n",
        "\n",
        "      train_data, train_loader = data_provider(args, 'train')\n",
        "      vali_data, vali_loader = data_provider(args, 'val')\n",
        "      test_data, test_loader = data_provider(args, 'test')\n",
        "\n",
        "      if 'Autoformer' == args.model:\n",
        "          model = Autoformer.Model(args).float()\n",
        "      elif 'DLinear' == args.model:\n",
        "          model = DLinear.Model(args).float()\n",
        "      else:\n",
        "          model = TimeLLM(args).float()\n",
        "\n",
        "      path = os.path.join(args.checkpoints,\n",
        "                          setting + '-' + args.model_comment)  # unique checkpoint saving path\n",
        "      args.content = load_content(args)\n",
        "      print(f'***** Content *****\\n{args.content}\\n*****\\n')\n",
        "\n",
        "      if not os.path.exists(path) and accelerator.is_local_main_process:\n",
        "          os.makedirs(path)\n",
        "\n",
        "      time_now = time.time()\n",
        "\n",
        "      train_steps = len(train_loader)\n",
        "      early_stopping = EarlyStopping(accelerator=accelerator, patience=args.patience)\n",
        "      accelerator.print(f'Early stopping patience: {args.patience}')\n",
        "\n",
        "      trained_parameters = []\n",
        "      for p in model.parameters():\n",
        "          if p.requires_grad is True:\n",
        "              trained_parameters.append(p)\n",
        "\n",
        "      print(f'Words: {model.tokenizer.vocab_size}')\n",
        "      print(f'Tokens: {model.num_tokens}')\n",
        "      print(f'Trained parameters: {len(trained_parameters)}')\n",
        "      print(f'Total parameters: {sum(p.numel() for p in model.parameters())}')\n",
        "      print(f'Total parameters (trainable): {sum(p.numel() for p in trained_parameters)}')\n",
        "      print(f'Total parameters (non-trainable): {sum(p.numel() for p in model.parameters()) - sum(p.numel() for p in trained_parameters)}')\n",
        "\n",
        "      model_optim = optim.Adam(trained_parameters, lr=args.learning_rate)\n",
        "\n",
        "      if args.lradj == 'COS':\n",
        "          scheduler = torch.optim.lr_scheduler.CosineAnnealingLR(model_optim, T_max=20, eta_min=1e-8)\n",
        "      else:\n",
        "          scheduler = lr_scheduler.OneCycleLR(optimizer=model_optim,\n",
        "                                              steps_per_epoch=train_steps,\n",
        "                                              pct_start=args.pct_start,\n",
        "                                              epochs=args.train_epochs,\n",
        "                                              max_lr=args.learning_rate)\n",
        "\n",
        "      criterion = nn.MSELoss()\n",
        "      mae_metric = nn.L1Loss()\n",
        "\n",
        "      train_loader, vali_loader, test_loader, model, model_optim, scheduler = accelerator.prepare(\n",
        "          train_loader, vali_loader, test_loader, model, model_optim, scheduler)\n",
        "\n",
        "      if args.use_amp:\n",
        "          scaler = torch.cuda.amp.GradScaler()\n",
        "\n",
        "      for epoch in range(args.train_epochs):\n",
        "          iter_count = 0\n",
        "          train_loss = []\n",
        "\n",
        "          model.train()\n",
        "          epoch_time = time.time()\n",
        "          for i, (batch_x, batch_y, batch_x_mark, batch_y_mark) in tqdm(enumerate(train_loader)):\n",
        "              iter_count += 1\n",
        "              model_optim.zero_grad()\n",
        "\n",
        "              batch_x = batch_x.float().to(accelerator.device)\n",
        "              batch_y = batch_y.float().to(accelerator.device)\n",
        "              batch_x_mark = batch_x_mark.float().to(accelerator.device)\n",
        "              batch_y_mark = batch_y_mark.float().to(accelerator.device)\n",
        "\n",
        "              # decoder input\n",
        "              dec_inp = torch.zeros_like(batch_y[:, -args.pred_len:, :]).float().to(\n",
        "                  accelerator.device)\n",
        "              dec_inp = torch.cat([batch_y[:, :args.label_len, :], dec_inp], dim=1).float().to(\n",
        "                  accelerator.device)\n",
        "\n",
        "              # encoder - decoder\n",
        "              if args.use_amp:\n",
        "                  with torch.cuda.amp.autocast():\n",
        "                      if args.output_attention:\n",
        "                          outputs = model(batch_x, batch_x_mark, dec_inp, batch_y_mark)[0]\n",
        "                      else:\n",
        "                          outputs = model(batch_x, batch_x_mark, dec_inp, batch_y_mark)\n",
        "\n",
        "                      f_dim = -1 if args.features == 'MS' else 0\n",
        "                      outputs = outputs[:, -args.pred_len:, f_dim:]\n",
        "                      batch_y = batch_y[:, -args.pred_len:, f_dim:].to(accelerator.device)\n",
        "                      loss = criterion(outputs, batch_y)\n",
        "                      train_loss.append(loss.item())\n",
        "              else:\n",
        "                  if args.output_attention:\n",
        "                      outputs = model(batch_x, batch_x_mark, dec_inp, batch_y_mark)[0]\n",
        "                  else:\n",
        "                      outputs = model(batch_x, batch_x_mark, dec_inp, batch_y_mark)\n",
        "\n",
        "                  f_dim = -1 if args.features == 'MS' else 0\n",
        "                  outputs = outputs[:, -args.pred_len:, f_dim:]\n",
        "                  batch_y = batch_y[:, -args.pred_len:, f_dim:]\n",
        "                  loss = criterion(outputs, batch_y)\n",
        "                  train_loss.append(loss.item())\n",
        "\n",
        "              if (i + 1) % 100 == 0:\n",
        "                  accelerator.print(\n",
        "                      \"\\titers: {0}, epoch: {1} | loss: {2:.7f}\".format(i + 1, epoch + 1, loss.item()))\n",
        "                  speed = (time.time() - time_now) / iter_count\n",
        "                  left_time = speed * ((args.train_epochs - epoch) * train_steps - i)\n",
        "                  accelerator.print('\\tspeed: {:.4f}s/iter; left time: {:.4f}s'.format(speed, left_time))\n",
        "                  iter_count = 0\n",
        "                  time_now = time.time()\n",
        "\n",
        "              if args.use_amp:\n",
        "                  scaler.scale(loss).backward()\n",
        "                  scaler.step(model_optim)\n",
        "                  scaler.update()\n",
        "              else:\n",
        "                  accelerator.backward(loss)\n",
        "                  model_optim.step()\n",
        "\n",
        "              if args.lradj == 'TST':\n",
        "                  adjust_learning_rate(accelerator, model_optim, scheduler, epoch + 1, args, printout=False)\n",
        "                  scheduler.step()\n",
        "\n",
        "          accelerator.print(\"Epoch: {} cost time: {}\".format(epoch + 1, time.time() - epoch_time))\n",
        "          train_loss = np.average(train_loss)\n",
        "          vali_loss, vali_mae_loss = vali(args, accelerator, model, vali_data, vali_loader, criterion, mae_metric)\n",
        "          test_loss, test_mae_loss = vali(args, accelerator, model, test_data, test_loader, criterion, mae_metric)\n",
        "          accelerator.print(\n",
        "              \"Epoch: {0} | Train Loss: {1:.7f} Vali Loss: {2:.7f} Test Loss: {3:.7f} MAE Loss: {4:.7f}\".format(\n",
        "                  epoch + 1, train_loss, vali_loss, test_loss, test_mae_loss))\n",
        "\n",
        "          drive.mount('/content/gdrive')\n",
        "          timeLLM_path = '/content/gdrive/MyDrive/TimeLLM'\n",
        "          %cd {timeLLM_path}\n",
        "\n",
        "          early_stopping(vali_loss, model, path)\n",
        "          if early_stopping.early_stop:\n",
        "              accelerator.print(\"Early stopping\")\n",
        "              break\n",
        "\n",
        "          if args.lradj != 'TST':\n",
        "              if args.lradj == 'COS':\n",
        "                  scheduler.step()\n",
        "                  accelerator.print(\"lr = {:.10f}\".format(model_optim.param_groups[0]['lr']))\n",
        "              else:\n",
        "                  if epoch == 0:\n",
        "                      args.learning_rate = model_optim.param_groups[0]['lr']\n",
        "                      accelerator.print(\"lr = {:.10f}\".format(model_optim.param_groups[0]['lr']))\n",
        "                  adjust_learning_rate(accelerator, model_optim, scheduler, epoch + 1, args, printout=True)\n",
        "\n",
        "          else:\n",
        "              accelerator.print('Updating learning rate to {}'.format(scheduler.get_last_lr()[0]))\n",
        "\n",
        "          # Mounting G-Drive for saving files.\n",
        "\n",
        "  print(f'Words: {model.tokenizer.vocab_size}')\n",
        "  print(f'Tokens: {model.num_tokens}')\n",
        "  print(f'Trained parameters: {len(trained_parameters)}')\n",
        "  print(f'Total parameters: {sum(p.numel() for p in model.parameters())}')\n",
        "  print(f'Total parameters (trainable): {sum(p.numel() for p in trained_parameters)}')\n",
        "  print(f'Total parameters (non-trainable): {sum(p.numel() for p in model.parameters()) - sum(p.numel() for p in trained_parameters)}')\n",
        "\n"
      ]
    },
    {
      "cell_type": "code",
      "execution_count": null,
      "metadata": {
        "colab": {
          "base_uri": "https://localhost:8080/"
        },
        "id": "7nPjhJ1tJPlP",
        "outputId": "7ebdb088-4342-4b2b-fb6b-0fd577671779"
      },
      "outputs": [
        {
          "data": {
            "text/plain": [
              "_StoreAction(option_strings=['--content'], dest='content', nargs=None, const=None, default='Description', type=<class 'str'>, choices=None, required=False, help=None, metavar=None)"
            ]
          },
          "execution_count": 8,
          "metadata": {},
          "output_type": "execute_result"
        }
      ],
      "source": [
        "\n",
        "\n",
        "parser = argparse.ArgumentParser(description='Time-LLM')\n",
        "\n",
        "fix_seed = 2021\n",
        "random.seed(fix_seed)\n",
        "torch.manual_seed(fix_seed)\n",
        "np.random.seed(fix_seed)\n",
        "\n",
        "# basic config\n",
        "parser.add_argument('-f', type=str, default='')\n",
        "parser.add_argument('--task_name', type=str, default='long_term_forecast',\n",
        "                    help='task name, options:[long_term_forecast, short_term_forecast, imputation, classification, anomaly_detection]')\n",
        "parser.add_argument('--is_training', type=int, default=1, help='status')\n",
        "parser.add_argument('--model_id', type=str, default='ETTh1_512_96', help='model id')\n",
        "parser.add_argument('--model_comment', type=str, default='TimeLLM-ETTh1', help='prefix when saving test results')\n",
        "parser.add_argument('--model', type=str, default='TimeLLM',\n",
        "                    help='model name, options: [Autoformer, DLinear]')\n",
        "parser.add_argument('--seed', type=int, default=2021, help='random seed')\n",
        "\n",
        "# data loader\n",
        "parser.add_argument('--data', type=str, default='ETTh1', help='dataset type')\n",
        "parser.add_argument('--root_path', type=str, default='/content/gdrive/MyDrive/TimeLLM/dataset/ETT-small/', help='root path of the data file')\n",
        "parser.add_argument('--data_path', type=str, default='ETTh1.csv', help='data file')\n",
        "parser.add_argument('--features', type=str, default='M',\n",
        "                    help='forecasting task, options:[M, S, MS]; '\n",
        "                         'M:multivariate predict multivariate, S: univariate predict univariate, '\n",
        "                         'MS:multivariate predict univariate')\n",
        "parser.add_argument('--target', type=str, default='OT', help='target feature in S or MS task')\n",
        "parser.add_argument('--loader', type=str, default='modal', help='dataset type')\n",
        "parser.add_argument('--freq', type=str, default='h',\n",
        "                    help='freq for time features encoding, '\n",
        "                         'options:[s:secondly, t:minutely, h:hourly, d:daily, b:business days, w:weekly, m:monthly], '\n",
        "                         'you can also use more detailed freq like 15min or 3h')\n",
        "parser.add_argument('--checkpoints', type=str, default='/content/gdrive/MyDrive/TimeLLM/checkpoints', help='location of model checkpoints')\n",
        "\n",
        "# forecasting task\n",
        "parser.add_argument('--seq_len', type=int, default=512, help='input sequence length')\n",
        "parser.add_argument('--label_len', type=int, default=48, help='start token length')\n",
        "parser.add_argument('--pred_len', type=int, default=96, help='prediction sequence length')\n",
        "parser.add_argument('--seasonal_patterns', type=str, default='Monthly', help='subset for M4')\n",
        "\n",
        "# model define\n",
        "parser.add_argument('--enc_in', type=int, default=7, help='encoder input size')\n",
        "parser.add_argument('--dec_in', type=int, default=7, help='decoder input size')\n",
        "parser.add_argument('--c_out', type=int, default=7, help='output size')\n",
        "parser.add_argument('--d_model', type=int, default=32, help='dimension of model')\n",
        "parser.add_argument('--n_heads', type=int, default=8, help='num of heads')\n",
        "parser.add_argument('--e_layers', type=int, default=2, help='num of encoder layers')\n",
        "parser.add_argument('--d_layers', type=int, default=1, help='num of decoder layers')\n",
        "parser.add_argument('--d_ff', type=int, default=128, help='dimension of fcn')\n",
        "parser.add_argument('--moving_avg', type=int, default=25, help='window size of moving average')\n",
        "parser.add_argument('--factor', type=int, default=3, help='attn factor')\n",
        "parser.add_argument('--dropout', type=float, default=0.1, help='dropout')\n",
        "parser.add_argument('--embed', type=str, default='timeF',\n",
        "                    help='time features encoding, options:[timeF, fixed, learned]')\n",
        "parser.add_argument('--activation', type=str, default='gelu', help='activation')\n",
        "parser.add_argument('--output_attention', action='store_true', help='whether to output attention in encoder')\n",
        "parser.add_argument('--patch_len', type=int, default=16, help='patch length')\n",
        "parser.add_argument('--stride', type=int, default=8, help='stride')\n",
        "parser.add_argument('--prompt_domain', type=int, default=0, help='')\n",
        "parser.add_argument('--llm_model', type=str, default='LLAMA', help='LLM model') # LLAMA, GPT2, BERT\n",
        "parser.add_argument('--llm_dim', type=int, default='4096', help='LLM model dimension')# LLama7b:4096; GPT2-small:768; BERT-base:768\n",
        "\n",
        "\n",
        "# optimization\n",
        "parser.add_argument('--num_workers', type=int, default=10, help='data loader num workers')\n",
        "parser.add_argument('--itr', type=int, default=1, help='experiments times')\n",
        "parser.add_argument('--train_epochs', type=int, default=5, help='train epochs')\n",
        "parser.add_argument('--align_epochs', type=int, default=10, help='alignment epochs')\n",
        "parser.add_argument('--batch_size', type=int, default=8, help='batch size of train input data')\n",
        "parser.add_argument('--eval_batch_size', type=int, default=8, help='batch size of model evaluation')\n",
        "parser.add_argument('--patience', type=int, default=10, help='early stopping patience')\n",
        "parser.add_argument('--learning_rate', type=float, default=0.01, help='optimizer learning rate')\n",
        "parser.add_argument('--des', type=str, default='Exp', help='exp description')\n",
        "parser.add_argument('--loss', type=str, default='MSE', help='loss function')\n",
        "parser.add_argument('--lradj', type=str, default='type1', help='adjust learning rate')\n",
        "parser.add_argument('--pct_start', type=float, default=0.2, help='pct_start')\n",
        "parser.add_argument('--use_amp', action='store_true', help='use automatic mixed precision training', default=False)\n",
        "parser.add_argument('--llm_layers', type=int, default=32)\n",
        "parser.add_argument('--percent', type=int, default=100)\n",
        "parser.add_argument('--content', type=str, default='The Electricity Transformer Temperature (ETT) is a crucial indicator in the electric power long-term deployment.')\n"
      ]
    },
    {
      "cell_type": "code",
      "execution_count": null,
      "metadata": {
        "id": "CzXacUC0OnZg"
      },
      "outputs": [],
      "source": [
        "\n",
        "args = parser.parse_args()\n",
        "ddp_kwargs = DistributedDataParallelKwargs(find_unused_parameters=True)\n",
        "\n",
        "# Load the JSON file into a dictionary\n",
        "with open(os.path.join(timeLLM_path, 'ds_config_zero2.json'), 'r') as f:\n",
        "    hf_ds_config_dict = json.load(f)\n"
      ]
    },
    {
      "cell_type": "code",
      "execution_count": null,
      "metadata": {
        "id": "nh04VTEIDMdX"
      },
      "outputs": [],
      "source": [
        "\n",
        "deepspeed_plugin = DeepSpeedPlugin(hf_ds_config= hf_ds_config_dict)\n",
        "accelerator = Accelerator(kwargs_handlers=[ddp_kwargs], deepspeed_plugin=deepspeed_plugin)\n"
      ]
    },
    {
      "cell_type": "code",
      "execution_count": 11,
      "metadata": {
        "colab": {
          "base_uri": "https://localhost:8080/",
          "height": 1000,
          "referenced_widgets": [
            "4fb66bebfbca45ee99f2a47f31769b2d",
            "81bd14ab5f6f48fcabe7a0a3cb7339db",
            "84352389df6742b6a6072152c30404a9",
            "54061c85e6c34b0d9d8086f0edabaa06",
            "8ed499d386bc4a0885a7a7469c451605",
            "7743a0abbb9b4066ae9eba5058330f69",
            "38f7e062767f4e40af14e4465dfa8fc1",
            "eb4fa631ff394ce4aaea031cffb65bcb",
            "2eaed3cff7a34431a692ccd0d991a55c",
            "54a3ad4afd35428a81ae42738565f829",
            "906586626ce14718ba0758462da81ff3"
          ]
        },
        "id": "XnvUQ9w34LFH",
        "outputId": "86838beb-8426-4142-b084-f2a243ac3024"
      },
      "outputs": [
        {
          "metadata": {
            "tags": null
          },
          "name": "stdout",
          "output_type": "stream",
          "text": [
            "TimeLLM init\n",
            "TimeLLM- LLAMA\n"
          ]
        },
        {
          "data": {
            "application/vnd.jupyter.widget-view+json": {
              "model_id": "4fb66bebfbca45ee99f2a47f31769b2d",
              "version_major": 2,
              "version_minor": 0
            },
            "text/plain": [
              "Loading checkpoint shards:   0%|          | 0/2 [00:00<?, ?it/s]"
            ]
          },
          "metadata": {},
          "output_type": "display_data"
        },
        {
          "metadata": {
            "tags": null
          },
          "name": "stdout",
          "output_type": "stream",
          "text": [
            "TimeLLM-model from pretrained\n",
            "TimeLLM-tokenizer from pretrained\n",
            "TimeLLM- Tokenizer\n",
            "TimeLLM-description:\n",
            "***************\n",
            "The Electricity Transformer Temperature (ETT) is a crucial indicator in the electric power long-term deployment.\n",
            "***************\n",
            "\n",
            "Reprogramming Layer\n",
            "TimeLLM-output_projection:\n",
            "***************\n",
            "FlattenHead(\n",
            "  (flatten): Flatten(start_dim=-2, end_dim=-1)\n",
            "  (linear): Linear(in_features=8192, out_features=192, bias=True)\n",
            "  (dropout): Dropout(p=0.1, inplace=False)\n",
            ")\n",
            "***************\n",
            "\n",
            "***** Content *****\n",
            "The Electricity Transformer Temperature (ETT) is a crucial indicator in the electric power long-term deployment. This dataset consists of 2 years data from two separated counties in China. To explore the granularity on the Long sequence time-series forecasting (LSTF) problem, different subsets are created, {ETTh1, ETTh2} for 1-hour-level and ETTm1 for 15-minutes-level. Each data point consists of the target value ”oil temperature” and 6 power load features. The train/val/test is 12/4/4 months.\n",
            "\n",
            "\n",
            "*****\n",
            "\n",
            "Early stopping patience: 10\n",
            "Words: 32000\n",
            "Tokens: 1000\n",
            "Trained parameters: 13\n",
            "Total parameters: 6653542056\n",
            "Total parameters (trainable): 46198440\n",
            "Total parameters (non-trainable): 6607343616\n",
            "[2025-03-13 17:32:56,357] [INFO] [real_accelerator.py:222:get_accelerator] Setting ds_accelerator to cuda (auto detect)\n",
            "[2025-03-13 17:32:57,695] [INFO] [logging.py:128:log_dist] [Rank -1] DeepSpeed info: version=0.16.4, git-hash=unknown, git-branch=unknown\n",
            "[2025-03-13 17:32:57,696] [INFO] [comm.py:658:init_distributed] cdb=None\n",
            "[2025-03-13 17:32:57,697] [INFO] [comm.py:673:init_distributed] Not using the DeepSpeed or dist launchers, attempting to detect MPI environment...\n",
            "[2025-03-13 17:32:58,623] [INFO] [comm.py:728:mpi_discovery] Discovered MPI settings of world_rank=0, local_rank=0, world_size=1, master_addr=172.28.0.12, master_port=29500\n",
            "[2025-03-13 17:32:58,624] [INFO] [comm.py:689:init_distributed] Initializing TorchBackend in DeepSpeed with backend nccl\n",
            "[2025-03-13 17:32:58,627] [INFO] [config.py:734:__init__] Config mesh_device None world_size = 1\n",
            "[2025-03-13 17:33:06,469] [INFO] [logging.py:128:log_dist] [Rank 0] DeepSpeed Flops Profiler Enabled: False\n",
            "[2025-03-13 17:33:06,472] [INFO] [logging.py:128:log_dist] [Rank 0] Using client Optimizer as basic optimizer\n",
            "[2025-03-13 17:33:06,472] [INFO] [logging.py:128:log_dist] [Rank 0] Removing param_group that has no 'params' in the basic Optimizer\n",
            "[2025-03-13 17:33:06,475] [INFO] [logging.py:128:log_dist] [Rank 0] DeepSpeed Basic Optimizer = Adam\n",
            "[2025-03-13 17:33:06,475] [INFO] [utils.py:59:is_zero_supported_optimizer] Checking ZeRO support for optimizer=Adam type=<class 'torch.optim.adam.Adam'>\n",
            "[2025-03-13 17:33:06,476] [INFO] [logging.py:128:log_dist] [Rank 0] Creating torch.bfloat16 ZeRO stage 2 optimizer\n",
            "[2025-03-13 17:33:06,477] [INFO] [stage_1_and_2.py:149:__init__] Reduce bucket size 200000000\n",
            "[2025-03-13 17:33:06,477] [INFO] [stage_1_and_2.py:150:__init__] Allgather bucket size 200000000\n",
            "[2025-03-13 17:33:06,478] [INFO] [stage_1_and_2.py:151:__init__] CPU Offload: False\n",
            "[2025-03-13 17:33:06,478] [INFO] [stage_1_and_2.py:152:__init__] Round robin gradient partitioning: False\n",
            "[2025-03-13 17:33:07,040] [INFO] [utils.py:781:see_memory_usage] Before initializing optimizer states\n",
            "[2025-03-13 17:33:07,042] [INFO] [utils.py:782:see_memory_usage] MA 12.57 GB         Max_MA 12.66 GB         CA 12.66 GB         Max_CA 13 GB \n",
            "[2025-03-13 17:33:07,043] [INFO] [utils.py:789:see_memory_usage] CPU Virtual Memory:  used = 3.62 GB, percent = 4.3%\n",
            "[2025-03-13 17:33:07,425] [INFO] [utils.py:781:see_memory_usage] After initializing optimizer states\n",
            "[2025-03-13 17:33:07,427] [INFO] [utils.py:782:see_memory_usage] MA 12.57 GB         Max_MA 12.74 GB         CA 12.83 GB         Max_CA 13 GB \n",
            "[2025-03-13 17:33:07,428] [INFO] [utils.py:789:see_memory_usage] CPU Virtual Memory:  used = 3.62 GB, percent = 4.3%\n",
            "[2025-03-13 17:33:07,428] [INFO] [stage_1_and_2.py:550:__init__] optimizer state initialized\n",
            "[2025-03-13 17:33:07,822] [INFO] [utils.py:781:see_memory_usage] After initializing ZeRO optimizer\n",
            "[2025-03-13 17:33:07,825] [INFO] [utils.py:782:see_memory_usage] MA 12.57 GB         Max_MA 12.57 GB         CA 12.83 GB         Max_CA 13 GB \n",
            "[2025-03-13 17:33:07,827] [INFO] [utils.py:789:see_memory_usage] CPU Virtual Memory:  used = 3.62 GB, percent = 4.3%\n",
            "[2025-03-13 17:33:07,831] [INFO] [logging.py:128:log_dist] [Rank 0] DeepSpeed Final Optimizer = DeepSpeedZeroOptimizer\n",
            "[2025-03-13 17:33:07,831] [INFO] [logging.py:128:log_dist] [Rank 0] DeepSpeed using configured LR scheduler = None\n",
            "[2025-03-13 17:33:07,832] [INFO] [logging.py:128:log_dist] [Rank 0] DeepSpeed LR Scheduler = None\n",
            "[2025-03-13 17:33:07,833] [INFO] [logging.py:128:log_dist] [Rank 0] step=0, skipped=0, lr=[0.0007999999999999986], mom=[(0.95, 0.999)]\n",
            "[2025-03-13 17:33:07,835] [INFO] [config.py:1001:print] DeepSpeedEngine configuration:\n",
            "[2025-03-13 17:33:07,837] [INFO] [config.py:1005:print]   activation_checkpointing_config  {\n",
            "    \"partition_activations\": false, \n",
            "    \"contiguous_memory_optimization\": false, \n",
            "    \"cpu_checkpointing\": false, \n",
            "    \"number_checkpoints\": null, \n",
            "    \"synchronize_checkpoint_boundary\": false, \n",
            "    \"profile\": false\n",
            "}\n",
            "[2025-03-13 17:33:07,839] [INFO] [config.py:1005:print]   aio_config ................... {'block_size': 1048576, 'queue_depth': 8, 'intra_op_parallelism': 1, 'single_submit': False, 'overlap_events': True, 'use_gds': False}\n",
            "[2025-03-13 17:33:07,839] [INFO] [config.py:1005:print]   amp_enabled .................. False\n",
            "[2025-03-13 17:33:07,840] [INFO] [config.py:1005:print]   amp_params ................... False\n",
            "[2025-03-13 17:33:07,841] [INFO] [config.py:1005:print]   autotuning_config ............ {\n",
            "    \"enabled\": false, \n",
            "    \"start_step\": null, \n",
            "    \"end_step\": null, \n",
            "    \"metric_path\": null, \n",
            "    \"arg_mappings\": null, \n",
            "    \"metric\": \"throughput\", \n",
            "    \"model_info\": null, \n",
            "    \"results_dir\": \"autotuning_results\", \n",
            "    \"exps_dir\": \"autotuning_exps\", \n",
            "    \"overwrite\": true, \n",
            "    \"fast\": true, \n",
            "    \"start_profile_step\": 3, \n",
            "    \"end_profile_step\": 5, \n",
            "    \"tuner_type\": \"gridsearch\", \n",
            "    \"tuner_early_stopping\": 5, \n",
            "    \"tuner_num_trials\": 50, \n",
            "    \"model_info_path\": null, \n",
            "    \"mp_size\": 1, \n",
            "    \"max_train_batch_size\": null, \n",
            "    \"min_train_batch_size\": 1, \n",
            "    \"max_train_micro_batch_size_per_gpu\": 1.024000e+03, \n",
            "    \"min_train_micro_batch_size_per_gpu\": 1, \n",
            "    \"num_tuning_micro_batch_sizes\": 3\n",
            "}\n",
            "[2025-03-13 17:33:07,842] [INFO] [config.py:1005:print]   bfloat16_enabled ............. True\n",
            "[2025-03-13 17:33:07,842] [INFO] [config.py:1005:print]   bfloat16_immediate_grad_update  False\n",
            "[2025-03-13 17:33:07,843] [INFO] [config.py:1005:print]   checkpoint_parallel_write_pipeline  False\n",
            "[2025-03-13 17:33:07,844] [INFO] [config.py:1005:print]   checkpoint_tag_validation_enabled  True\n",
            "[2025-03-13 17:33:07,844] [INFO] [config.py:1005:print]   checkpoint_tag_validation_fail  False\n",
            "[2025-03-13 17:33:07,845] [INFO] [config.py:1005:print]   comms_config ................. <deepspeed.comm.config.DeepSpeedCommsConfig object at 0x7acb9b3f0fd0>\n",
            "[2025-03-13 17:33:07,846] [INFO] [config.py:1005:print]   communication_data_type ...... None\n",
            "[2025-03-13 17:33:07,847] [INFO] [config.py:1005:print]   compression_config ........... {'weight_quantization': {'shared_parameters': {'enabled': False, 'quantizer_kernel': False, 'schedule_offset': 0, 'quantize_groups': 1, 'quantize_verbose': False, 'quantization_type': 'symmetric', 'quantize_weight_in_forward': False, 'rounding': 'nearest', 'fp16_mixed_quantize': False, 'quantize_change_ratio': 0.001}, 'different_groups': {}}, 'activation_quantization': {'shared_parameters': {'enabled': False, 'quantization_type': 'symmetric', 'range_calibration': 'dynamic', 'schedule_offset': 1000}, 'different_groups': {}}, 'sparse_pruning': {'shared_parameters': {'enabled': False, 'method': 'l1', 'schedule_offset': 1000}, 'different_groups': {}}, 'row_pruning': {'shared_parameters': {'enabled': False, 'method': 'l1', 'schedule_offset': 1000}, 'different_groups': {}}, 'head_pruning': {'shared_parameters': {'enabled': False, 'method': 'topk', 'schedule_offset': 1000}, 'different_groups': {}}, 'channel_pruning': {'shared_parameters': {'enabled': False, 'method': 'l1', 'schedule_offset': 1000}, 'different_groups': {}}, 'layer_reduction': {'enabled': False}}\n",
            "[2025-03-13 17:33:07,847] [INFO] [config.py:1005:print]   curriculum_enabled_legacy .... False\n",
            "[2025-03-13 17:33:07,848] [INFO] [config.py:1005:print]   curriculum_params_legacy ..... False\n",
            "[2025-03-13 17:33:07,849] [INFO] [config.py:1005:print]   data_efficiency_config ....... {'enabled': False, 'seed': 1234, 'data_sampling': {'enabled': False, 'num_epochs': 1000, 'num_workers': 0, 'curriculum_learning': {'enabled': False}}, 'data_routing': {'enabled': False, 'random_ltd': {'enabled': False, 'layer_token_lr_schedule': {'enabled': False}}}}\n",
            "[2025-03-13 17:33:07,849] [INFO] [config.py:1005:print]   data_efficiency_enabled ...... False\n",
            "[2025-03-13 17:33:07,850] [INFO] [config.py:1005:print]   dataloader_drop_last ......... False\n",
            "[2025-03-13 17:33:07,850] [INFO] [config.py:1005:print]   disable_allgather ............ False\n",
            "[2025-03-13 17:33:07,851] [INFO] [config.py:1005:print]   dump_state ................... False\n",
            "[2025-03-13 17:33:07,852] [INFO] [config.py:1005:print]   dynamic_loss_scale_args ...... None\n",
            "[2025-03-13 17:33:07,852] [INFO] [config.py:1005:print]   eigenvalue_enabled ........... False\n",
            "[2025-03-13 17:33:07,853] [INFO] [config.py:1005:print]   eigenvalue_gas_boundary_resolution  1\n",
            "[2025-03-13 17:33:07,854] [INFO] [config.py:1005:print]   eigenvalue_layer_name ........ bert.encoder.layer\n",
            "[2025-03-13 17:33:07,854] [INFO] [config.py:1005:print]   eigenvalue_layer_num ......... 0\n",
            "[2025-03-13 17:33:07,855] [INFO] [config.py:1005:print]   eigenvalue_max_iter .......... 100\n",
            "[2025-03-13 17:33:07,855] [INFO] [config.py:1005:print]   eigenvalue_stability ......... 1e-06\n",
            "[2025-03-13 17:33:07,856] [INFO] [config.py:1005:print]   eigenvalue_tol ............... 0.01\n",
            "[2025-03-13 17:33:07,856] [INFO] [config.py:1005:print]   eigenvalue_verbose ........... False\n",
            "[2025-03-13 17:33:07,857] [INFO] [config.py:1005:print]   elasticity_enabled ........... False\n",
            "[2025-03-13 17:33:07,857] [INFO] [config.py:1005:print]   flops_profiler_config ........ {\n",
            "    \"enabled\": false, \n",
            "    \"recompute_fwd_factor\": 0.0, \n",
            "    \"profile_step\": 1, \n",
            "    \"module_depth\": -1, \n",
            "    \"top_modules\": 1, \n",
            "    \"detailed\": true, \n",
            "    \"output_file\": null\n",
            "}\n",
            "[2025-03-13 17:33:07,857] [INFO] [config.py:1005:print]   fp16_auto_cast ............... None\n",
            "[2025-03-13 17:33:07,858] [INFO] [config.py:1005:print]   fp16_enabled ................. False\n",
            "[2025-03-13 17:33:07,858] [INFO] [config.py:1005:print]   fp16_master_weights_and_gradients  False\n",
            "[2025-03-13 17:33:07,859] [INFO] [config.py:1005:print]   global_rank .................. 0\n",
            "[2025-03-13 17:33:07,859] [INFO] [config.py:1005:print]   grad_accum_dtype ............. None\n",
            "[2025-03-13 17:33:07,860] [INFO] [config.py:1005:print]   gradient_accumulation_steps .. 1\n",
            "[2025-03-13 17:33:07,860] [INFO] [config.py:1005:print]   gradient_clipping ............ 0.0\n",
            "[2025-03-13 17:33:07,861] [INFO] [config.py:1005:print]   gradient_predivide_factor .... 1.0\n",
            "[2025-03-13 17:33:07,861] [INFO] [config.py:1005:print]   graph_harvesting ............. False\n",
            "[2025-03-13 17:33:07,862] [INFO] [config.py:1005:print]   hybrid_engine ................ enabled=False max_out_tokens=512 inference_tp_size=1 release_inference_cache=False pin_parameters=True tp_gather_partition_size=8\n",
            "[2025-03-13 17:33:07,862] [INFO] [config.py:1005:print]   initial_dynamic_scale ........ 1\n",
            "[2025-03-13 17:33:07,863] [INFO] [config.py:1005:print]   load_universal_checkpoint .... False\n",
            "[2025-03-13 17:33:07,863] [INFO] [config.py:1005:print]   loss_scale ................... 1.0\n",
            "[2025-03-13 17:33:07,864] [INFO] [config.py:1005:print]   memory_breakdown ............. False\n",
            "[2025-03-13 17:33:07,864] [INFO] [config.py:1005:print]   mics_hierarchial_params_gather  False\n",
            "[2025-03-13 17:33:07,865] [INFO] [config.py:1005:print]   mics_shard_size .............. -1\n",
            "[2025-03-13 17:33:07,865] [INFO] [config.py:1005:print]   monitor_config ............... tensorboard=TensorBoardConfig(enabled=False, output_path='', job_name='DeepSpeedJobName') comet=CometConfig(enabled=False, samples_log_interval=100, project=None, workspace=None, api_key=None, experiment_name=None, experiment_key=None, online=None, mode=None) wandb=WandbConfig(enabled=False, group=None, team=None, project='deepspeed') csv_monitor=CSVConfig(enabled=False, output_path='', job_name='DeepSpeedJobName')\n",
            "[2025-03-13 17:33:07,869] [INFO] [config.py:1005:print]   nebula_config ................ {\n",
            "    \"enabled\": false, \n",
            "    \"persistent_storage_path\": null, \n",
            "    \"persistent_time_interval\": 100, \n",
            "    \"num_of_version_in_retention\": 2, \n",
            "    \"enable_nebula_load\": true, \n",
            "    \"load_path\": null\n",
            "}\n",
            "[2025-03-13 17:33:07,870] [INFO] [config.py:1005:print]   optimizer_legacy_fusion ...... False\n",
            "[2025-03-13 17:33:07,870] [INFO] [config.py:1005:print]   optimizer_name ............... None\n",
            "[2025-03-13 17:33:07,871] [INFO] [config.py:1005:print]   optimizer_params ............. None\n",
            "[2025-03-13 17:33:07,871] [INFO] [config.py:1005:print]   pipeline ..................... {'stages': 'auto', 'partition': 'best', 'seed_layers': False, 'activation_checkpoint_interval': 0, 'pipe_partitioned': True, 'grad_partitioned': True}\n",
            "[2025-03-13 17:33:07,872] [INFO] [config.py:1005:print]   pld_enabled .................. False\n",
            "[2025-03-13 17:33:07,872] [INFO] [config.py:1005:print]   pld_params ................... False\n",
            "[2025-03-13 17:33:07,873] [INFO] [config.py:1005:print]   prescale_gradients ........... False\n",
            "[2025-03-13 17:33:07,874] [INFO] [config.py:1005:print]   scheduler_name ............... None\n",
            "[2025-03-13 17:33:07,874] [INFO] [config.py:1005:print]   scheduler_params ............. None\n",
            "[2025-03-13 17:33:07,875] [INFO] [config.py:1005:print]   seq_parallel_communication_data_type  torch.float32\n",
            "[2025-03-13 17:33:07,876] [INFO] [config.py:1005:print]   sparse_attention ............. None\n",
            "[2025-03-13 17:33:07,876] [INFO] [config.py:1005:print]   sparse_gradients_enabled ..... False\n",
            "[2025-03-13 17:33:07,877] [INFO] [config.py:1005:print]   steps_per_print .............. inf\n",
            "[2025-03-13 17:33:07,877] [INFO] [config.py:1005:print]   tensor_parallel_config ....... dtype=torch.float16 autotp_size=0 tensor_parallel=TPConfig(tp_size=1, tp_grain_size=1, mpu=None, tp_group=None) injection_policy_tuple=None keep_module_on_host=False replace_with_kernel_inject=False\n",
            "[2025-03-13 17:33:07,878] [INFO] [config.py:1005:print]   timers_config ................ enabled=True synchronized=True\n",
            "[2025-03-13 17:33:07,878] [INFO] [config.py:1005:print]   train_batch_size ............. 8\n",
            "[2025-03-13 17:33:07,879] [INFO] [config.py:1005:print]   train_micro_batch_size_per_gpu  8\n",
            "[2025-03-13 17:33:07,880] [INFO] [config.py:1005:print]   use_data_before_expert_parallel_  False\n",
            "[2025-03-13 17:33:07,881] [INFO] [config.py:1005:print]   use_node_local_storage ....... False\n",
            "[2025-03-13 17:33:07,881] [INFO] [config.py:1005:print]   wall_clock_breakdown ......... False\n",
            "[2025-03-13 17:33:07,882] [INFO] [config.py:1005:print]   weight_quantization_config ... None\n",
            "[2025-03-13 17:33:07,882] [INFO] [config.py:1005:print]   world_size ................... 1\n",
            "[2025-03-13 17:33:07,883] [INFO] [config.py:1005:print]   zero_allow_untested_optimizer  True\n",
            "[2025-03-13 17:33:07,883] [INFO] [config.py:1005:print]   zero_config .................. stage=2 contiguous_gradients=True reduce_scatter=True reduce_bucket_size=200000000 use_multi_rank_bucket_allreduce=True allgather_partitions=True allgather_bucket_size=200000000 overlap_comm=True load_from_fp32_weights=True elastic_checkpoint=False offload_param=None offload_optimizer=None sub_group_size=1000000000 cpu_offload_param=None cpu_offload_use_pin_memory=None cpu_offload=None prefetch_bucket_size=50000000 param_persistence_threshold=100000 model_persistence_threshold=9223372036854775807 max_live_parameters=1000000000 max_reuse_distance=1000000000 gather_16bit_weights_on_model_save=False module_granularity_threshold=0 use_all_reduce_for_fetch_params=False stage3_gather_fp16_weights_on_model_save=False ignore_unused_parameters=True legacy_stage1=False round_robin_gradients=False zero_hpz_partition_size=1 zero_quantized_weights=False zero_quantized_nontrainable_weights=False zero_quantized_gradients=False zeropp_loco_param=None mics_shard_size=-1 mics_hierarchical_params_gather=False memory_efficient_linear=True pipeline_loading_checkpoint=False override_module_apply=True log_trace_cache_warnings=False\n",
            "[2025-03-13 17:33:07,884] [INFO] [config.py:1005:print]   zero_enabled ................. True\n",
            "[2025-03-13 17:33:07,884] [INFO] [config.py:1005:print]   zero_force_ds_cpu_optimizer .. True\n",
            "[2025-03-13 17:33:07,885] [INFO] [config.py:1005:print]   zero_optimization_stage ...... 2\n",
            "[2025-03-13 17:33:07,885] [INFO] [config.py:991:print_user_config]   json = {\n",
            "    \"bf16\": {\n",
            "        \"enabled\": true, \n",
            "        \"auto_cast\": true\n",
            "    }, \n",
            "    \"zero_optimization\": {\n",
            "        \"stage\": 2, \n",
            "        \"allgather_partitions\": true, \n",
            "        \"allgather_bucket_size\": 2.000000e+08, \n",
            "        \"overlap_comm\": true, \n",
            "        \"reduce_scatter\": true, \n",
            "        \"reduce_bucket_size\": 2.000000e+08, \n",
            "        \"contiguous_gradients\": true, \n",
            "        \"sub_group_size\": 1.000000e+09\n",
            "    }, \n",
            "    \"gradient_accumulation_steps\": 1, \n",
            "    \"train_batch_size\": 8, \n",
            "    \"train_micro_batch_size_per_gpu\": 8, \n",
            "    \"steps_per_print\": inf, \n",
            "    \"wall_clock_breakdown\": false, \n",
            "    \"fp16\": {\n",
            "        \"enabled\": false\n",
            "    }, \n",
            "    \"zero_allow_untested_optimizer\": true\n",
            "}\n"
          ]
        },
        {
          "metadata": {
            "tags": null
          },
          "name": "stderr",
          "output_type": "stream",
          "text": [
            "99it [00:41,  2.48it/s]"
          ]
        },
        {
          "metadata": {
            "tags": null
          },
          "name": "stdout",
          "output_type": "stream",
          "text": [
            "\titers: 100, epoch: 1 | loss: 1.4451447\n",
            "\tspeed: 0.5304s/iter; left time: 18362.1731s\n"
          ]
        },
        {
          "metadata": {
            "tags": null
          },
          "name": "stderr",
          "output_type": "stream",
          "text": [
            "199it [01:21,  2.45it/s]"
          ]
        },
        {
          "metadata": {
            "tags": null
          },
          "name": "stdout",
          "output_type": "stream",
          "text": [
            "\titers: 200, epoch: 1 | loss: 1.9841503\n",
            "\tspeed: 0.4066s/iter; left time: 14034.6601s\n"
          ]
        },
        {
          "metadata": {
            "tags": null
          },
          "name": "stderr",
          "output_type": "stream",
          "text": [
            "299it [02:02,  2.47it/s]"
          ]
        },
        {
          "metadata": {
            "tags": null
          },
          "name": "stdout",
          "output_type": "stream",
          "text": [
            "\titers: 300, epoch: 1 | loss: 0.1014353\n",
            "\tspeed: 0.4066s/iter; left time: 13996.6245s\n"
          ]
        },
        {
          "metadata": {
            "tags": null
          },
          "name": "stderr",
          "output_type": "stream",
          "text": [
            "399it [02:42,  2.47it/s]"
          ]
        },
        {
          "metadata": {
            "tags": null
          },
          "name": "stdout",
          "output_type": "stream",
          "text": [
            "\titers: 400, epoch: 1 | loss: 1.1824015\n",
            "\tspeed: 0.4032s/iter; left time: 13838.1773s\n"
          ]
        },
        {
          "metadata": {
            "tags": null
          },
          "name": "stderr",
          "output_type": "stream",
          "text": [
            "499it [03:23,  2.44it/s]"
          ]
        },
        {
          "metadata": {
            "tags": null
          },
          "name": "stdout",
          "output_type": "stream",
          "text": [
            "\titers: 500, epoch: 1 | loss: 0.4112842\n",
            "\tspeed: 0.4050s/iter; left time: 13859.6004s\n"
          ]
        },
        {
          "metadata": {
            "tags": null
          },
          "name": "stderr",
          "output_type": "stream",
          "text": [
            "599it [04:03,  2.49it/s]"
          ]
        },
        {
          "metadata": {
            "tags": null
          },
          "name": "stdout",
          "output_type": "stream",
          "text": [
            "\titers: 600, epoch: 1 | loss: 0.8753821\n",
            "\tspeed: 0.4041s/iter; left time: 13788.7587s\n"
          ]
        },
        {
          "metadata": {
            "tags": null
          },
          "name": "stderr",
          "output_type": "stream",
          "text": [
            "699it [04:44,  2.48it/s]"
          ]
        },
        {
          "metadata": {
            "tags": null
          },
          "name": "stdout",
          "output_type": "stream",
          "text": [
            "\titers: 700, epoch: 1 | loss: 0.4734473\n",
            "\tspeed: 0.4037s/iter; left time: 13734.7661s\n"
          ]
        },
        {
          "metadata": {
            "tags": null
          },
          "name": "stderr",
          "output_type": "stream",
          "text": [
            "799it [05:24,  2.48it/s]"
          ]
        },
        {
          "metadata": {
            "tags": null
          },
          "name": "stdout",
          "output_type": "stream",
          "text": [
            "\titers: 800, epoch: 1 | loss: 0.3734294\n",
            "\tspeed: 0.4027s/iter; left time: 13658.8709s\n"
          ]
        },
        {
          "metadata": {
            "tags": null
          },
          "name": "stderr",
          "output_type": "stream",
          "text": [
            "899it [06:04,  2.49it/s]"
          ]
        },
        {
          "metadata": {
            "tags": null
          },
          "name": "stdout",
          "output_type": "stream",
          "text": [
            "\titers: 900, epoch: 1 | loss: 0.3576690\n",
            "\tspeed: 0.4028s/iter; left time: 13623.3195s\n"
          ]
        },
        {
          "metadata": {
            "tags": null
          },
          "name": "stderr",
          "output_type": "stream",
          "text": [
            "999it [06:45,  2.50it/s]"
          ]
        },
        {
          "metadata": {
            "tags": null
          },
          "name": "stdout",
          "output_type": "stream",
          "text": [
            "\titers: 1000, epoch: 1 | loss: 0.6571268\n",
            "\tspeed: 0.4028s/iter; left time: 13582.6135s\n"
          ]
        },
        {
          "metadata": {
            "tags": null
          },
          "name": "stderr",
          "output_type": "stream",
          "text": [
            "1099it [07:25,  2.46it/s]"
          ]
        },
        {
          "metadata": {
            "tags": null
          },
          "name": "stdout",
          "output_type": "stream",
          "text": [
            "\titers: 1100, epoch: 1 | loss: 0.3835306\n",
            "\tspeed: 0.4028s/iter; left time: 13543.3475s\n"
          ]
        },
        {
          "metadata": {
            "tags": null
          },
          "name": "stderr",
          "output_type": "stream",
          "text": [
            "1199it [08:05,  2.45it/s]"
          ]
        },
        {
          "metadata": {
            "tags": null
          },
          "name": "stdout",
          "output_type": "stream",
          "text": [
            "\titers: 1200, epoch: 1 | loss: 2.4444394\n",
            "\tspeed: 0.4035s/iter; left time: 13526.9535s\n"
          ]
        },
        {
          "metadata": {
            "tags": null
          },
          "name": "stderr",
          "output_type": "stream",
          "text": [
            "1299it [08:45,  2.48it/s]"
          ]
        },
        {
          "metadata": {
            "tags": null
          },
          "name": "stdout",
          "output_type": "stream",
          "text": [
            "\titers: 1300, epoch: 1 | loss: 0.4628502\n",
            "\tspeed: 0.4029s/iter; left time: 13465.5253s\n"
          ]
        },
        {
          "metadata": {
            "tags": null
          },
          "name": "stderr",
          "output_type": "stream",
          "text": [
            "1399it [09:26,  2.50it/s]"
          ]
        },
        {
          "metadata": {
            "tags": null
          },
          "name": "stdout",
          "output_type": "stream",
          "text": [
            "\titers: 1400, epoch: 1 | loss: 0.9663522\n",
            "\tspeed: 0.4023s/iter; left time: 13404.9362s\n"
          ]
        },
        {
          "metadata": {
            "tags": null
          },
          "name": "stderr",
          "output_type": "stream",
          "text": [
            "1499it [10:06,  2.46it/s]"
          ]
        },
        {
          "metadata": {
            "tags": null
          },
          "name": "stdout",
          "output_type": "stream",
          "text": [
            "\titers: 1500, epoch: 1 | loss: 0.5727332\n",
            "\tspeed: 0.4022s/iter; left time: 13361.1609s\n"
          ]
        },
        {
          "metadata": {
            "tags": null
          },
          "name": "stderr",
          "output_type": "stream",
          "text": [
            "1599it [10:46,  2.49it/s]"
          ]
        },
        {
          "metadata": {
            "tags": null
          },
          "name": "stdout",
          "output_type": "stream",
          "text": [
            "\titers: 1600, epoch: 1 | loss: 0.4632694\n",
            "\tspeed: 0.4030s/iter; left time: 13347.7781s\n"
          ]
        },
        {
          "metadata": {
            "tags": null
          },
          "name": "stderr",
          "output_type": "stream",
          "text": [
            "1699it [11:26,  2.46it/s]"
          ]
        },
        {
          "metadata": {
            "tags": null
          },
          "name": "stdout",
          "output_type": "stream",
          "text": [
            "\titers: 1700, epoch: 1 | loss: 0.2200564\n",
            "\tspeed: 0.4013s/iter; left time: 13251.9803s\n"
          ]
        },
        {
          "metadata": {
            "tags": null
          },
          "name": "stderr",
          "output_type": "stream",
          "text": [
            "1799it [12:07,  2.49it/s]"
          ]
        },
        {
          "metadata": {
            "tags": null
          },
          "name": "stdout",
          "output_type": "stream",
          "text": [
            "\titers: 1800, epoch: 1 | loss: 0.2177833\n",
            "\tspeed: 0.4042s/iter; left time: 13307.8080s\n"
          ]
        },
        {
          "metadata": {
            "tags": null
          },
          "name": "stderr",
          "output_type": "stream",
          "text": [
            "1899it [12:47,  2.45it/s]"
          ]
        },
        {
          "metadata": {
            "tags": null
          },
          "name": "stdout",
          "output_type": "stream",
          "text": [
            "\titers: 1900, epoch: 1 | loss: 0.3634506\n",
            "\tspeed: 0.4037s/iter; left time: 13250.4908s\n"
          ]
        },
        {
          "metadata": {
            "tags": null
          },
          "name": "stderr",
          "output_type": "stream",
          "text": [
            "1999it [13:27,  2.49it/s]"
          ]
        },
        {
          "metadata": {
            "tags": null
          },
          "name": "stdout",
          "output_type": "stream",
          "text": [
            "\titers: 2000, epoch: 1 | loss: 0.3662739\n",
            "\tspeed: 0.4029s/iter; left time: 13183.0763s\n"
          ]
        },
        {
          "metadata": {
            "tags": null
          },
          "name": "stderr",
          "output_type": "stream",
          "text": [
            "2099it [14:08,  2.47it/s]"
          ]
        },
        {
          "metadata": {
            "tags": null
          },
          "name": "stdout",
          "output_type": "stream",
          "text": [
            "\titers: 2100, epoch: 1 | loss: 0.2363679\n",
            "\tspeed: 0.4030s/iter; left time: 13147.5386s\n"
          ]
        },
        {
          "metadata": {
            "tags": null
          },
          "name": "stderr",
          "output_type": "stream",
          "text": [
            "2199it [14:48,  2.51it/s]"
          ]
        },
        {
          "metadata": {
            "tags": null
          },
          "name": "stdout",
          "output_type": "stream",
          "text": [
            "\titers: 2200, epoch: 1 | loss: 0.4354582\n",
            "\tspeed: 0.4013s/iter; left time: 13050.0253s\n"
          ]
        },
        {
          "metadata": {
            "tags": null
          },
          "name": "stderr",
          "output_type": "stream",
          "text": [
            "2299it [15:28,  2.46it/s]"
          ]
        },
        {
          "metadata": {
            "tags": null
          },
          "name": "stdout",
          "output_type": "stream",
          "text": [
            "\titers: 2300, epoch: 1 | loss: 0.3492855\n",
            "\tspeed: 0.4039s/iter; left time: 13096.4148s\n"
          ]
        },
        {
          "metadata": {
            "tags": null
          },
          "name": "stderr",
          "output_type": "stream",
          "text": [
            "2399it [16:09,  2.51it/s]"
          ]
        },
        {
          "metadata": {
            "tags": null
          },
          "name": "stdout",
          "output_type": "stream",
          "text": [
            "\titers: 2400, epoch: 1 | loss: 0.2519959\n",
            "\tspeed: 0.4028s/iter; left time: 13019.2335s\n"
          ]
        },
        {
          "metadata": {
            "tags": null
          },
          "name": "stderr",
          "output_type": "stream",
          "text": [
            "2499it [16:49,  2.48it/s]"
          ]
        },
        {
          "metadata": {
            "tags": null
          },
          "name": "stdout",
          "output_type": "stream",
          "text": [
            "\titers: 2500, epoch: 1 | loss: 0.4611590\n",
            "\tspeed: 0.4043s/iter; left time: 13026.6308s\n"
          ]
        },
        {
          "metadata": {
            "tags": null
          },
          "name": "stderr",
          "output_type": "stream",
          "text": [
            "2599it [17:29,  2.52it/s]"
          ]
        },
        {
          "metadata": {
            "tags": null
          },
          "name": "stdout",
          "output_type": "stream",
          "text": [
            "\titers: 2600, epoch: 1 | loss: 0.2781137\n",
            "\tspeed: 0.4018s/iter; left time: 12905.9908s\n"
          ]
        },
        {
          "metadata": {
            "tags": null
          },
          "name": "stderr",
          "output_type": "stream",
          "text": [
            "2699it [18:09,  2.51it/s]"
          ]
        },
        {
          "metadata": {
            "tags": null
          },
          "name": "stdout",
          "output_type": "stream",
          "text": [
            "\titers: 2700, epoch: 1 | loss: 0.4476756\n",
            "\tspeed: 0.4035s/iter; left time: 12919.5797s\n"
          ]
        },
        {
          "metadata": {
            "tags": null
          },
          "name": "stderr",
          "output_type": "stream",
          "text": [
            "2799it [18:50,  2.44it/s]"
          ]
        },
        {
          "metadata": {
            "tags": null
          },
          "name": "stdout",
          "output_type": "stream",
          "text": [
            "\titers: 2800, epoch: 1 | loss: 1.1648979\n",
            "\tspeed: 0.4030s/iter; left time: 12864.9906s\n"
          ]
        },
        {
          "metadata": {
            "tags": null
          },
          "name": "stderr",
          "output_type": "stream",
          "text": [
            "2899it [19:30,  2.51it/s]"
          ]
        },
        {
          "metadata": {
            "tags": null
          },
          "name": "stdout",
          "output_type": "stream",
          "text": [
            "\titers: 2900, epoch: 1 | loss: 0.2841207\n",
            "\tspeed: 0.4035s/iter; left time: 12839.1566s\n"
          ]
        },
        {
          "metadata": {
            "tags": null
          },
          "name": "stderr",
          "output_type": "stream",
          "text": [
            "2999it [20:11,  2.49it/s]"
          ]
        },
        {
          "metadata": {
            "tags": null
          },
          "name": "stdout",
          "output_type": "stream",
          "text": [
            "\titers: 3000, epoch: 1 | loss: 0.1732269\n",
            "\tspeed: 0.4045s/iter; left time: 12830.4265s\n"
          ]
        },
        {
          "metadata": {
            "tags": null
          },
          "name": "stderr",
          "output_type": "stream",
          "text": [
            "3099it [20:51,  2.51it/s]"
          ]
        },
        {
          "metadata": {
            "tags": null
          },
          "name": "stdout",
          "output_type": "stream",
          "text": [
            "\titers: 3100, epoch: 1 | loss: 0.2507681\n",
            "\tspeed: 0.4030s/iter; left time: 12742.4811s\n"
          ]
        },
        {
          "metadata": {
            "tags": null
          },
          "name": "stderr",
          "output_type": "stream",
          "text": [
            "3199it [21:31,  2.47it/s]"
          ]
        },
        {
          "metadata": {
            "tags": null
          },
          "name": "stdout",
          "output_type": "stream",
          "text": [
            "\titers: 3200, epoch: 1 | loss: 0.1792251\n",
            "\tspeed: 0.4039s/iter; left time: 12730.1073s\n"
          ]
        },
        {
          "metadata": {
            "tags": null
          },
          "name": "stderr",
          "output_type": "stream",
          "text": [
            "3299it [22:12,  2.50it/s]"
          ]
        },
        {
          "metadata": {
            "tags": null
          },
          "name": "stdout",
          "output_type": "stream",
          "text": [
            "\titers: 3300, epoch: 1 | loss: 0.3345309\n",
            "\tspeed: 0.4026s/iter; left time: 12650.4821s\n"
          ]
        },
        {
          "metadata": {
            "tags": null
          },
          "name": "stderr",
          "output_type": "stream",
          "text": [
            "3399it [22:52,  2.50it/s]"
          ]
        },
        {
          "metadata": {
            "tags": null
          },
          "name": "stdout",
          "output_type": "stream",
          "text": [
            "\titers: 3400, epoch: 1 | loss: 0.3231123\n",
            "\tspeed: 0.4028s/iter; left time: 12615.4817s\n"
          ]
        },
        {
          "metadata": {
            "tags": null
          },
          "name": "stderr",
          "output_type": "stream",
          "text": [
            "3499it [23:32,  2.48it/s]"
          ]
        },
        {
          "metadata": {
            "tags": null
          },
          "name": "stdout",
          "output_type": "stream",
          "text": [
            "\titers: 3500, epoch: 1 | loss: 0.7191454\n",
            "\tspeed: 0.4024s/iter; left time: 12564.4312s\n"
          ]
        },
        {
          "metadata": {
            "tags": null
          },
          "name": "stderr",
          "output_type": "stream",
          "text": [
            "3599it [24:12,  2.49it/s]"
          ]
        },
        {
          "metadata": {
            "tags": null
          },
          "name": "stdout",
          "output_type": "stream",
          "text": [
            "\titers: 3600, epoch: 1 | loss: 0.3570563\n",
            "\tspeed: 0.4033s/iter; left time: 12551.7148s\n"
          ]
        },
        {
          "metadata": {
            "tags": null
          },
          "name": "stderr",
          "output_type": "stream",
          "text": [
            "3699it [24:53,  2.51it/s]"
          ]
        },
        {
          "metadata": {
            "tags": null
          },
          "name": "stdout",
          "output_type": "stream",
          "text": [
            "\titers: 3700, epoch: 1 | loss: 0.1250181\n",
            "\tspeed: 0.4036s/iter; left time: 12519.8811s\n"
          ]
        },
        {
          "metadata": {
            "tags": null
          },
          "name": "stderr",
          "output_type": "stream",
          "text": [
            "3799it [25:33,  2.46it/s]"
          ]
        },
        {
          "metadata": {
            "tags": null
          },
          "name": "stdout",
          "output_type": "stream",
          "text": [
            "\titers: 3800, epoch: 1 | loss: 0.2727322\n",
            "\tspeed: 0.4030s/iter; left time: 12462.3340s\n"
          ]
        },
        {
          "metadata": {
            "tags": null
          },
          "name": "stderr",
          "output_type": "stream",
          "text": [
            "3899it [26:13,  2.45it/s]"
          ]
        },
        {
          "metadata": {
            "tags": null
          },
          "name": "stdout",
          "output_type": "stream",
          "text": [
            "\titers: 3900, epoch: 1 | loss: 0.2260620\n",
            "\tspeed: 0.4038s/iter; left time: 12445.0377s\n"
          ]
        },
        {
          "metadata": {
            "tags": null
          },
          "name": "stderr",
          "output_type": "stream",
          "text": [
            "3999it [26:54,  2.49it/s]"
          ]
        },
        {
          "metadata": {
            "tags": null
          },
          "name": "stdout",
          "output_type": "stream",
          "text": [
            "\titers: 4000, epoch: 1 | loss: 0.5189223\n",
            "\tspeed: 0.4021s/iter; left time: 12352.1328s\n"
          ]
        },
        {
          "metadata": {
            "tags": null
          },
          "name": "stderr",
          "output_type": "stream",
          "text": [
            "4099it [27:34,  2.53it/s]"
          ]
        },
        {
          "metadata": {
            "tags": null
          },
          "name": "stdout",
          "output_type": "stream",
          "text": [
            "\titers: 4100, epoch: 1 | loss: 0.1218200\n",
            "\tspeed: 0.4047s/iter; left time: 12391.1615s\n"
          ]
        },
        {
          "metadata": {
            "tags": null
          },
          "name": "stderr",
          "output_type": "stream",
          "text": [
            "4199it [28:14,  2.45it/s]"
          ]
        },
        {
          "metadata": {
            "tags": null
          },
          "name": "stdout",
          "output_type": "stream",
          "text": [
            "\titers: 4200, epoch: 1 | loss: 2.8756454\n",
            "\tspeed: 0.4034s/iter; left time: 12310.8626s\n"
          ]
        },
        {
          "metadata": {
            "tags": null
          },
          "name": "stderr",
          "output_type": "stream",
          "text": [
            "4299it [28:55,  2.50it/s]"
          ]
        },
        {
          "metadata": {
            "tags": null
          },
          "name": "stdout",
          "output_type": "stream",
          "text": [
            "\titers: 4300, epoch: 1 | loss: 0.2949888\n",
            "\tspeed: 0.4013s/iter; left time: 12207.9225s\n"
          ]
        },
        {
          "metadata": {
            "tags": null
          },
          "name": "stderr",
          "output_type": "stream",
          "text": [
            "4399it [29:35,  2.48it/s]"
          ]
        },
        {
          "metadata": {
            "tags": null
          },
          "name": "stdout",
          "output_type": "stream",
          "text": [
            "\titers: 4400, epoch: 1 | loss: 0.2758143\n",
            "\tspeed: 0.4029s/iter; left time: 12215.1459s\n"
          ]
        },
        {
          "metadata": {
            "tags": null
          },
          "name": "stderr",
          "output_type": "stream",
          "text": [
            "4499it [30:15,  2.47it/s]"
          ]
        },
        {
          "metadata": {
            "tags": null
          },
          "name": "stdout",
          "output_type": "stream",
          "text": [
            "\titers: 4500, epoch: 1 | loss: 0.8339176\n",
            "\tspeed: 0.4022s/iter; left time: 12154.1558s\n"
          ]
        },
        {
          "metadata": {
            "tags": null
          },
          "name": "stderr",
          "output_type": "stream",
          "text": [
            "4599it [30:55,  2.50it/s]"
          ]
        },
        {
          "metadata": {
            "tags": null
          },
          "name": "stdout",
          "output_type": "stream",
          "text": [
            "\titers: 4600, epoch: 1 | loss: 0.2143852\n",
            "\tspeed: 0.4021s/iter; left time: 12110.2933s\n"
          ]
        },
        {
          "metadata": {
            "tags": null
          },
          "name": "stderr",
          "output_type": "stream",
          "text": [
            "4699it [31:36,  2.49it/s]"
          ]
        },
        {
          "metadata": {
            "tags": null
          },
          "name": "stdout",
          "output_type": "stream",
          "text": [
            "\titers: 4700, epoch: 1 | loss: 0.9956998\n",
            "\tspeed: 0.4025s/iter; left time: 12082.7380s\n"
          ]
        },
        {
          "metadata": {
            "tags": null
          },
          "name": "stderr",
          "output_type": "stream",
          "text": [
            "4799it [32:16,  2.48it/s]"
          ]
        },
        {
          "metadata": {
            "tags": null
          },
          "name": "stdout",
          "output_type": "stream",
          "text": [
            "\titers: 4800, epoch: 1 | loss: 0.2598346\n",
            "\tspeed: 0.4017s/iter; left time: 12018.3690s\n"
          ]
        },
        {
          "metadata": {
            "tags": null
          },
          "name": "stderr",
          "output_type": "stream",
          "text": [
            "4899it [32:56,  2.46it/s]"
          ]
        },
        {
          "metadata": {
            "tags": null
          },
          "name": "stdout",
          "output_type": "stream",
          "text": [
            "\titers: 4900, epoch: 1 | loss: 0.2126758\n",
            "\tspeed: 0.4023s/iter; left time: 11996.0768s\n"
          ]
        },
        {
          "metadata": {
            "tags": null
          },
          "name": "stderr",
          "output_type": "stream",
          "text": [
            "4999it [33:36,  2.48it/s]"
          ]
        },
        {
          "metadata": {
            "tags": null
          },
          "name": "stdout",
          "output_type": "stream",
          "text": [
            "\titers: 5000, epoch: 1 | loss: 0.3611608\n",
            "\tspeed: 0.4033s/iter; left time: 11987.3392s\n"
          ]
        },
        {
          "metadata": {
            "tags": null
          },
          "name": "stderr",
          "output_type": "stream",
          "text": [
            "5099it [34:17,  2.47it/s]"
          ]
        },
        {
          "metadata": {
            "tags": null
          },
          "name": "stdout",
          "output_type": "stream",
          "text": [
            "\titers: 5100, epoch: 1 | loss: 0.3662767\n",
            "\tspeed: 0.4031s/iter; left time: 11940.3228s\n"
          ]
        },
        {
          "metadata": {
            "tags": null
          },
          "name": "stderr",
          "output_type": "stream",
          "text": [
            "5199it [34:57,  2.49it/s]"
          ]
        },
        {
          "metadata": {
            "tags": null
          },
          "name": "stdout",
          "output_type": "stream",
          "text": [
            "\titers: 5200, epoch: 1 | loss: 0.1742078\n",
            "\tspeed: 0.4031s/iter; left time: 11901.1894s\n"
          ]
        },
        {
          "metadata": {
            "tags": null
          },
          "name": "stderr",
          "output_type": "stream",
          "text": [
            "5299it [35:37,  2.47it/s]"
          ]
        },
        {
          "metadata": {
            "tags": null
          },
          "name": "stdout",
          "output_type": "stream",
          "text": [
            "\titers: 5300, epoch: 1 | loss: 0.2413399\n",
            "\tspeed: 0.4045s/iter; left time: 11902.2575s\n"
          ]
        },
        {
          "metadata": {
            "tags": null
          },
          "name": "stderr",
          "output_type": "stream",
          "text": [
            "5399it [36:18,  2.49it/s]"
          ]
        },
        {
          "metadata": {
            "tags": null
          },
          "name": "stdout",
          "output_type": "stream",
          "text": [
            "\titers: 5400, epoch: 1 | loss: 0.2457312\n",
            "\tspeed: 0.4026s/iter; left time: 11803.3107s\n"
          ]
        },
        {
          "metadata": {
            "tags": null
          },
          "name": "stderr",
          "output_type": "stream",
          "text": [
            "5499it [36:58,  2.49it/s]"
          ]
        },
        {
          "metadata": {
            "tags": null
          },
          "name": "stdout",
          "output_type": "stream",
          "text": [
            "\titers: 5500, epoch: 1 | loss: 0.1786040\n",
            "\tspeed: 0.4016s/iter; left time: 11736.1098s\n"
          ]
        },
        {
          "metadata": {
            "tags": null
          },
          "name": "stderr",
          "output_type": "stream",
          "text": [
            "5599it [37:38,  2.52it/s]"
          ]
        },
        {
          "metadata": {
            "tags": null
          },
          "name": "stdout",
          "output_type": "stream",
          "text": [
            "\titers: 5600, epoch: 1 | loss: 0.2297066\n",
            "\tspeed: 0.4009s/iter; left time: 11673.3451s\n"
          ]
        },
        {
          "metadata": {
            "tags": null
          },
          "name": "stderr",
          "output_type": "stream",
          "text": [
            "5699it [38:18,  2.50it/s]"
          ]
        },
        {
          "metadata": {
            "tags": null
          },
          "name": "stdout",
          "output_type": "stream",
          "text": [
            "\titers: 5700, epoch: 1 | loss: 0.6571718\n",
            "\tspeed: 0.4029s/iter; left time: 11692.9320s\n"
          ]
        },
        {
          "metadata": {
            "tags": null
          },
          "name": "stderr",
          "output_type": "stream",
          "text": [
            "5799it [38:59,  2.44it/s]"
          ]
        },
        {
          "metadata": {
            "tags": null
          },
          "name": "stdout",
          "output_type": "stream",
          "text": [
            "\titers: 5800, epoch: 1 | loss: 0.2030026\n",
            "\tspeed: 0.4047s/iter; left time: 11703.2919s\n"
          ]
        },
        {
          "metadata": {
            "tags": null
          },
          "name": "stderr",
          "output_type": "stream",
          "text": [
            "5899it [39:39,  2.46it/s]"
          ]
        },
        {
          "metadata": {
            "tags": null
          },
          "name": "stdout",
          "output_type": "stream",
          "text": [
            "\titers: 5900, epoch: 1 | loss: 0.7780349\n",
            "\tspeed: 0.4022s/iter; left time: 11590.4219s\n"
          ]
        },
        {
          "metadata": {
            "tags": null
          },
          "name": "stderr",
          "output_type": "stream",
          "text": [
            "5999it [40:19,  2.50it/s]"
          ]
        },
        {
          "metadata": {
            "tags": null
          },
          "name": "stdout",
          "output_type": "stream",
          "text": [
            "\titers: 6000, epoch: 1 | loss: 0.1209223\n",
            "\tspeed: 0.4030s/iter; left time: 11573.6038s\n"
          ]
        },
        {
          "metadata": {
            "tags": null
          },
          "name": "stderr",
          "output_type": "stream",
          "text": [
            "6099it [40:59,  2.49it/s]"
          ]
        },
        {
          "metadata": {
            "tags": null
          },
          "name": "stdout",
          "output_type": "stream",
          "text": [
            "\titers: 6100, epoch: 1 | loss: 2.1643674\n",
            "\tspeed: 0.4028s/iter; left time: 11528.1866s\n"
          ]
        },
        {
          "metadata": {
            "tags": null
          },
          "name": "stderr",
          "output_type": "stream",
          "text": [
            "6199it [41:40,  2.44it/s]"
          ]
        },
        {
          "metadata": {
            "tags": null
          },
          "name": "stdout",
          "output_type": "stream",
          "text": [
            "\titers: 6200, epoch: 1 | loss: 0.1801750\n",
            "\tspeed: 0.4037s/iter; left time: 11512.9426s\n"
          ]
        },
        {
          "metadata": {
            "tags": null
          },
          "name": "stderr",
          "output_type": "stream",
          "text": [
            "6299it [42:20,  2.47it/s]"
          ]
        },
        {
          "metadata": {
            "tags": null
          },
          "name": "stdout",
          "output_type": "stream",
          "text": [
            "\titers: 6300, epoch: 1 | loss: 0.2216754\n",
            "\tspeed: 0.4035s/iter; left time: 11468.1400s\n"
          ]
        },
        {
          "metadata": {
            "tags": null
          },
          "name": "stderr",
          "output_type": "stream",
          "text": [
            "6399it [43:00,  2.48it/s]"
          ]
        },
        {
          "metadata": {
            "tags": null
          },
          "name": "stdout",
          "output_type": "stream",
          "text": [
            "\titers: 6400, epoch: 1 | loss: 0.1950765\n",
            "\tspeed: 0.4021s/iter; left time: 11387.7573s\n"
          ]
        },
        {
          "metadata": {
            "tags": null
          },
          "name": "stderr",
          "output_type": "stream",
          "text": [
            "6499it [43:41,  2.48it/s]"
          ]
        },
        {
          "metadata": {
            "tags": null
          },
          "name": "stdout",
          "output_type": "stream",
          "text": [
            "\titers: 6500, epoch: 1 | loss: 0.5665187\n",
            "\tspeed: 0.4033s/iter; left time: 11382.2349s\n"
          ]
        },
        {
          "metadata": {
            "tags": null
          },
          "name": "stderr",
          "output_type": "stream",
          "text": [
            "6599it [44:21,  2.46it/s]"
          ]
        },
        {
          "metadata": {
            "tags": null
          },
          "name": "stdout",
          "output_type": "stream",
          "text": [
            "\titers: 6600, epoch: 1 | loss: 0.6175259\n",
            "\tspeed: 0.4029s/iter; left time: 11330.1949s\n"
          ]
        },
        {
          "metadata": {
            "tags": null
          },
          "name": "stderr",
          "output_type": "stream",
          "text": [
            "6699it [45:01,  2.46it/s]"
          ]
        },
        {
          "metadata": {
            "tags": null
          },
          "name": "stdout",
          "output_type": "stream",
          "text": [
            "\titers: 6700, epoch: 1 | loss: 1.2671924\n",
            "\tspeed: 0.4034s/iter; left time: 11303.7775s\n"
          ]
        },
        {
          "metadata": {
            "tags": null
          },
          "name": "stderr",
          "output_type": "stream",
          "text": [
            "6799it [45:41,  2.52it/s]"
          ]
        },
        {
          "metadata": {
            "tags": null
          },
          "name": "stdout",
          "output_type": "stream",
          "text": [
            "\titers: 6800, epoch: 1 | loss: 0.7625178\n",
            "\tspeed: 0.4020s/iter; left time: 11223.7798s\n"
          ]
        },
        {
          "metadata": {
            "tags": null
          },
          "name": "stderr",
          "output_type": "stream",
          "text": [
            "6899it [46:22,  2.50it/s]"
          ]
        },
        {
          "metadata": {
            "tags": null
          },
          "name": "stdout",
          "output_type": "stream",
          "text": [
            "\titers: 6900, epoch: 1 | loss: 0.4006496\n",
            "\tspeed: 0.4030s/iter; left time: 11212.5902s\n"
          ]
        },
        {
          "metadata": {
            "tags": null
          },
          "name": "stderr",
          "output_type": "stream",
          "text": [
            "6944it [46:40,  2.48it/s]\n"
          ]
        },
        {
          "metadata": {
            "tags": null
          },
          "name": "stdout",
          "output_type": "stream",
          "text": [
            "Epoch: 1 cost time: 2800.4533410072327\n"
          ]
        },
        {
          "metadata": {
            "tags": null
          },
          "name": "stderr",
          "output_type": "stream",
          "text": [
            "2352it [07:14,  5.42it/s]\n",
            "2352it [07:08,  5.49it/s]\n"
          ]
        },
        {
          "metadata": {
            "tags": null
          },
          "name": "stdout",
          "output_type": "stream",
          "text": [
            "Epoch: 1 | Train Loss: 0.5875049 Vali Loss: 0.3127749 Test Loss: 0.3522347 MAE Loss: 0.3893252\n",
            "Drive already mounted at /content/gdrive; to attempt to forcibly remount, call drive.mount(\"/content/gdrive\", force_remount=True).\n",
            "/content/gdrive/MyDrive/TimeLLM\n",
            "Failed to upload to blob storage: <urllib3.connection.HTTPSConnection object at 0x7ad3b5d9bad0>: Failed to resolve 'timellmstorage.blob.core.windows.net%22' ([Errno -2] Name or service not known)\n",
            "lr = 0.0008000000\n",
            "Updating learning rate to 0.0007999999999999986\n"
          ]
        },
        {
          "metadata": {
            "tags": null
          },
          "name": "stderr",
          "output_type": "stream",
          "text": [
            "99it [00:41,  2.48it/s]"
          ]
        },
        {
          "metadata": {
            "tags": null
          },
          "name": "stdout",
          "output_type": "stream",
          "text": [
            "\titers: 100, epoch: 2 | loss: 0.2385266\n",
            "\tspeed: 10.7058s/iter; left time: 296304.1224s\n"
          ]
        },
        {
          "metadata": {
            "tags": null
          },
          "name": "stderr",
          "output_type": "stream",
          "text": [
            "199it [01:21,  2.51it/s]"
          ]
        },
        {
          "metadata": {
            "tags": null
          },
          "name": "stdout",
          "output_type": "stream",
          "text": [
            "\titers: 200, epoch: 2 | loss: 0.2270326\n",
            "\tspeed: 0.4027s/iter; left time: 11104.6738s\n"
          ]
        },
        {
          "metadata": {
            "tags": null
          },
          "name": "stderr",
          "output_type": "stream",
          "text": [
            "299it [02:02,  2.51it/s]"
          ]
        },
        {
          "metadata": {
            "tags": null
          },
          "name": "stdout",
          "output_type": "stream",
          "text": [
            "\titers: 300, epoch: 2 | loss: 0.3307044\n",
            "\tspeed: 0.4011s/iter; left time: 11019.7151s\n"
          ]
        },
        {
          "metadata": {
            "tags": null
          },
          "name": "stderr",
          "output_type": "stream",
          "text": [
            "399it [02:42,  2.48it/s]"
          ]
        },
        {
          "metadata": {
            "tags": null
          },
          "name": "stdout",
          "output_type": "stream",
          "text": [
            "\titers: 400, epoch: 2 | loss: 0.6519850\n",
            "\tspeed: 0.4047s/iter; left time: 11080.7822s\n"
          ]
        },
        {
          "metadata": {
            "tags": null
          },
          "name": "stderr",
          "output_type": "stream",
          "text": [
            "499it [03:22,  2.46it/s]"
          ]
        },
        {
          "metadata": {
            "tags": null
          },
          "name": "stdout",
          "output_type": "stream",
          "text": [
            "\titers: 500, epoch: 2 | loss: 0.2495254\n",
            "\tspeed: 0.4041s/iter; left time: 11023.9222s\n"
          ]
        },
        {
          "metadata": {
            "tags": null
          },
          "name": "stderr",
          "output_type": "stream",
          "text": [
            "599it [04:03,  2.45it/s]"
          ]
        },
        {
          "metadata": {
            "tags": null
          },
          "name": "stdout",
          "output_type": "stream",
          "text": [
            "\titers: 600, epoch: 2 | loss: 0.8728161\n",
            "\tspeed: 0.4036s/iter; left time: 10968.1546s\n"
          ]
        },
        {
          "metadata": {
            "tags": null
          },
          "name": "stderr",
          "output_type": "stream",
          "text": [
            "699it [04:43,  2.47it/s]"
          ]
        },
        {
          "metadata": {
            "tags": null
          },
          "name": "stdout",
          "output_type": "stream",
          "text": [
            "\titers: 700, epoch: 2 | loss: 0.2410823\n",
            "\tspeed: 0.4037s/iter; left time: 10930.8550s\n"
          ]
        },
        {
          "metadata": {
            "tags": null
          },
          "name": "stderr",
          "output_type": "stream",
          "text": [
            "799it [05:24,  2.47it/s]"
          ]
        },
        {
          "metadata": {
            "tags": null
          },
          "name": "stdout",
          "output_type": "stream",
          "text": [
            "\titers: 800, epoch: 2 | loss: 0.1270548\n",
            "\tspeed: 0.4045s/iter; left time: 10910.8959s\n"
          ]
        },
        {
          "metadata": {
            "tags": null
          },
          "name": "stderr",
          "output_type": "stream",
          "text": [
            "899it [06:04,  2.51it/s]"
          ]
        },
        {
          "metadata": {
            "tags": null
          },
          "name": "stdout",
          "output_type": "stream",
          "text": [
            "\titers: 900, epoch: 2 | loss: 0.1690811\n",
            "\tspeed: 0.4029s/iter; left time: 10828.4610s\n"
          ]
        },
        {
          "metadata": {
            "tags": null
          },
          "name": "stderr",
          "output_type": "stream",
          "text": [
            "999it [06:44,  2.50it/s]"
          ]
        },
        {
          "metadata": {
            "tags": null
          },
          "name": "stdout",
          "output_type": "stream",
          "text": [
            "\titers: 1000, epoch: 2 | loss: 0.9936261\n",
            "\tspeed: 0.4018s/iter; left time: 10758.7106s\n"
          ]
        },
        {
          "metadata": {
            "tags": null
          },
          "name": "stderr",
          "output_type": "stream",
          "text": [
            "1099it [07:25,  2.46it/s]"
          ]
        },
        {
          "metadata": {
            "tags": null
          },
          "name": "stdout",
          "output_type": "stream",
          "text": [
            "\titers: 1100, epoch: 2 | loss: 1.7235327\n",
            "\tspeed: 0.4048s/iter; left time: 10798.1329s\n"
          ]
        },
        {
          "metadata": {
            "tags": null
          },
          "name": "stderr",
          "output_type": "stream",
          "text": [
            "1199it [08:05,  2.47it/s]"
          ]
        },
        {
          "metadata": {
            "tags": null
          },
          "name": "stdout",
          "output_type": "stream",
          "text": [
            "\titers: 1200, epoch: 2 | loss: 0.2389162\n",
            "\tspeed: 0.4027s/iter; left time: 10702.3781s\n"
          ]
        },
        {
          "metadata": {
            "tags": null
          },
          "name": "stderr",
          "output_type": "stream",
          "text": [
            "1299it [08:45,  2.47it/s]"
          ]
        },
        {
          "metadata": {
            "tags": null
          },
          "name": "stdout",
          "output_type": "stream",
          "text": [
            "\titers: 1300, epoch: 2 | loss: 1.1427159\n",
            "\tspeed: 0.4042s/iter; left time: 10702.6371s\n"
          ]
        },
        {
          "metadata": {
            "tags": null
          },
          "name": "stderr",
          "output_type": "stream",
          "text": [
            "1399it [09:25,  2.51it/s]"
          ]
        },
        {
          "metadata": {
            "tags": null
          },
          "name": "stdout",
          "output_type": "stream",
          "text": [
            "\titers: 1400, epoch: 2 | loss: 0.4284858\n",
            "\tspeed: 0.4020s/iter; left time: 10603.2794s\n"
          ]
        },
        {
          "metadata": {
            "tags": null
          },
          "name": "stderr",
          "output_type": "stream",
          "text": [
            "1499it [10:06,  2.49it/s]"
          ]
        },
        {
          "metadata": {
            "tags": null
          },
          "name": "stdout",
          "output_type": "stream",
          "text": [
            "\titers: 1500, epoch: 2 | loss: 1.9215786\n",
            "\tspeed: 0.4039s/iter; left time: 10612.5195s\n"
          ]
        },
        {
          "metadata": {
            "tags": null
          },
          "name": "stderr",
          "output_type": "stream",
          "text": [
            "1599it [10:46,  2.52it/s]"
          ]
        },
        {
          "metadata": {
            "tags": null
          },
          "name": "stdout",
          "output_type": "stream",
          "text": [
            "\titers: 1600, epoch: 2 | loss: 0.1085025\n",
            "\tspeed: 0.4030s/iter; left time: 10548.5611s\n"
          ]
        },
        {
          "metadata": {
            "tags": null
          },
          "name": "stderr",
          "output_type": "stream",
          "text": [
            "1699it [11:26,  2.54it/s]"
          ]
        },
        {
          "metadata": {
            "tags": null
          },
          "name": "stdout",
          "output_type": "stream",
          "text": [
            "\titers: 1700, epoch: 2 | loss: 0.4106538\n",
            "\tspeed: 0.4018s/iter; left time: 10477.1761s\n"
          ]
        },
        {
          "metadata": {
            "tags": null
          },
          "name": "stderr",
          "output_type": "stream",
          "text": [
            "1799it [12:07,  2.47it/s]"
          ]
        },
        {
          "metadata": {
            "tags": null
          },
          "name": "stdout",
          "output_type": "stream",
          "text": [
            "\titers: 1800, epoch: 2 | loss: 0.5347105\n",
            "\tspeed: 0.4044s/iter; left time: 10504.9197s\n"
          ]
        },
        {
          "metadata": {
            "tags": null
          },
          "name": "stderr",
          "output_type": "stream",
          "text": [
            "1899it [12:47,  2.45it/s]"
          ]
        },
        {
          "metadata": {
            "tags": null
          },
          "name": "stdout",
          "output_type": "stream",
          "text": [
            "\titers: 1900, epoch: 2 | loss: 0.1045407\n",
            "\tspeed: 0.4038s/iter; left time: 10450.1038s\n"
          ]
        },
        {
          "metadata": {
            "tags": null
          },
          "name": "stderr",
          "output_type": "stream",
          "text": [
            "1999it [13:27,  2.51it/s]"
          ]
        },
        {
          "metadata": {
            "tags": null
          },
          "name": "stdout",
          "output_type": "stream",
          "text": [
            "\titers: 2000, epoch: 2 | loss: 1.2574693\n",
            "\tspeed: 0.4006s/iter; left time: 10325.4757s\n"
          ]
        },
        {
          "metadata": {
            "tags": null
          },
          "name": "stderr",
          "output_type": "stream",
          "text": [
            "2099it [14:07,  2.45it/s]"
          ]
        },
        {
          "metadata": {
            "tags": null
          },
          "name": "stdout",
          "output_type": "stream",
          "text": [
            "\titers: 2100, epoch: 2 | loss: 1.8596706\n",
            "\tspeed: 0.4029s/iter; left time: 10346.3129s\n"
          ]
        },
        {
          "metadata": {
            "tags": null
          },
          "name": "stderr",
          "output_type": "stream",
          "text": [
            "2199it [14:48,  2.47it/s]"
          ]
        },
        {
          "metadata": {
            "tags": null
          },
          "name": "stdout",
          "output_type": "stream",
          "text": [
            "\titers: 2200, epoch: 2 | loss: 0.2272504\n",
            "\tspeed: 0.4030s/iter; left time: 10308.1695s\n"
          ]
        },
        {
          "metadata": {
            "tags": null
          },
          "name": "stderr",
          "output_type": "stream",
          "text": [
            "2299it [15:28,  2.50it/s]"
          ]
        },
        {
          "metadata": {
            "tags": null
          },
          "name": "stdout",
          "output_type": "stream",
          "text": [
            "\titers: 2300, epoch: 2 | loss: 0.3932959\n",
            "\tspeed: 0.4022s/iter; left time: 10247.7323s\n"
          ]
        },
        {
          "metadata": {
            "tags": null
          },
          "name": "stderr",
          "output_type": "stream",
          "text": [
            "2399it [16:08,  2.49it/s]"
          ]
        },
        {
          "metadata": {
            "tags": null
          },
          "name": "stdout",
          "output_type": "stream",
          "text": [
            "\titers: 2400, epoch: 2 | loss: 0.3087183\n",
            "\tspeed: 0.4026s/iter; left time: 10216.7723s\n"
          ]
        },
        {
          "metadata": {
            "tags": null
          },
          "name": "stderr",
          "output_type": "stream",
          "text": [
            "2499it [16:49,  2.53it/s]"
          ]
        },
        {
          "metadata": {
            "tags": null
          },
          "name": "stdout",
          "output_type": "stream",
          "text": [
            "\titers: 2500, epoch: 2 | loss: 0.1894284\n",
            "\tspeed: 0.4042s/iter; left time: 10217.2318s\n"
          ]
        },
        {
          "metadata": {
            "tags": null
          },
          "name": "stderr",
          "output_type": "stream",
          "text": [
            "2599it [17:29,  2.49it/s]"
          ]
        },
        {
          "metadata": {
            "tags": null
          },
          "name": "stdout",
          "output_type": "stream",
          "text": [
            "\titers: 2600, epoch: 2 | loss: 0.4733027\n",
            "\tspeed: 0.4046s/iter; left time: 10186.1300s\n"
          ]
        },
        {
          "metadata": {
            "tags": null
          },
          "name": "stderr",
          "output_type": "stream",
          "text": [
            "2699it [18:10,  2.47it/s]"
          ]
        },
        {
          "metadata": {
            "tags": null
          },
          "name": "stdout",
          "output_type": "stream",
          "text": [
            "\titers: 2700, epoch: 2 | loss: 0.2956306\n",
            "\tspeed: 0.4035s/iter; left time: 10119.3050s\n"
          ]
        },
        {
          "metadata": {
            "tags": null
          },
          "name": "stderr",
          "output_type": "stream",
          "text": [
            "2799it [18:50,  2.48it/s]"
          ]
        },
        {
          "metadata": {
            "tags": null
          },
          "name": "stdout",
          "output_type": "stream",
          "text": [
            "\titers: 2800, epoch: 2 | loss: 0.3351874\n",
            "\tspeed: 0.4030s/iter; left time: 10066.1229s\n"
          ]
        },
        {
          "metadata": {
            "tags": null
          },
          "name": "stderr",
          "output_type": "stream",
          "text": [
            "2899it [19:30,  2.47it/s]"
          ]
        },
        {
          "metadata": {
            "tags": null
          },
          "name": "stdout",
          "output_type": "stream",
          "text": [
            "\titers: 2900, epoch: 2 | loss: 0.4000956\n",
            "\tspeed: 0.4026s/iter; left time: 10014.4787s\n"
          ]
        },
        {
          "metadata": {
            "tags": null
          },
          "name": "stderr",
          "output_type": "stream",
          "text": [
            "2999it [20:10,  2.45it/s]"
          ]
        },
        {
          "metadata": {
            "tags": null
          },
          "name": "stdout",
          "output_type": "stream",
          "text": [
            "\titers: 3000, epoch: 2 | loss: 1.1486758\n",
            "\tspeed: 0.4028s/iter; left time: 9979.8731s\n"
          ]
        },
        {
          "metadata": {
            "tags": null
          },
          "name": "stderr",
          "output_type": "stream",
          "text": [
            "3099it [20:51,  2.48it/s]"
          ]
        },
        {
          "metadata": {
            "tags": null
          },
          "name": "stdout",
          "output_type": "stream",
          "text": [
            "\titers: 3100, epoch: 2 | loss: 0.6603352\n",
            "\tspeed: 0.4033s/iter; left time: 9952.3715s\n"
          ]
        },
        {
          "metadata": {
            "tags": null
          },
          "name": "stderr",
          "output_type": "stream",
          "text": [
            "3199it [21:31,  2.46it/s]"
          ]
        },
        {
          "metadata": {
            "tags": null
          },
          "name": "stdout",
          "output_type": "stream",
          "text": [
            "\titers: 3200, epoch: 2 | loss: 0.5846220\n",
            "\tspeed: 0.4036s/iter; left time: 9919.7684s\n"
          ]
        },
        {
          "metadata": {
            "tags": null
          },
          "name": "stderr",
          "output_type": "stream",
          "text": [
            "3299it [22:11,  2.49it/s]"
          ]
        },
        {
          "metadata": {
            "tags": null
          },
          "name": "stdout",
          "output_type": "stream",
          "text": [
            "\titers: 3300, epoch: 2 | loss: 0.1199412\n",
            "\tspeed: 0.4041s/iter; left time: 9890.7406s\n"
          ]
        },
        {
          "metadata": {
            "tags": null
          },
          "name": "stderr",
          "output_type": "stream",
          "text": [
            "3399it [22:52,  2.46it/s]"
          ]
        },
        {
          "metadata": {
            "tags": null
          },
          "name": "stdout",
          "output_type": "stream",
          "text": [
            "\titers: 3400, epoch: 2 | loss: 0.1650202\n",
            "\tspeed: 0.4027s/iter; left time: 9815.8789s\n"
          ]
        },
        {
          "metadata": {
            "tags": null
          },
          "name": "stderr",
          "output_type": "stream",
          "text": [
            "3499it [23:32,  2.48it/s]"
          ]
        },
        {
          "metadata": {
            "tags": null
          },
          "name": "stdout",
          "output_type": "stream",
          "text": [
            "\titers: 3500, epoch: 2 | loss: 0.1175648\n",
            "\tspeed: 0.4038s/iter; left time: 9802.4934s\n"
          ]
        },
        {
          "metadata": {
            "tags": null
          },
          "name": "stderr",
          "output_type": "stream",
          "text": [
            "3599it [24:12,  2.42it/s]"
          ]
        },
        {
          "metadata": {
            "tags": null
          },
          "name": "stdout",
          "output_type": "stream",
          "text": [
            "\titers: 3600, epoch: 2 | loss: 0.7025921\n",
            "\tspeed: 0.4027s/iter; left time: 9736.0416s\n"
          ]
        },
        {
          "metadata": {
            "tags": null
          },
          "name": "stderr",
          "output_type": "stream",
          "text": [
            "3699it [24:53,  2.47it/s]"
          ]
        },
        {
          "metadata": {
            "tags": null
          },
          "name": "stdout",
          "output_type": "stream",
          "text": [
            "\titers: 3700, epoch: 2 | loss: 0.1414045\n",
            "\tspeed: 0.4039s/iter; left time: 9723.5255s\n"
          ]
        },
        {
          "metadata": {
            "tags": null
          },
          "name": "stderr",
          "output_type": "stream",
          "text": [
            "3799it [25:33,  2.51it/s]"
          ]
        },
        {
          "metadata": {
            "tags": null
          },
          "name": "stdout",
          "output_type": "stream",
          "text": [
            "\titers: 3800, epoch: 2 | loss: 0.4330751\n",
            "\tspeed: 0.4034s/iter; left time: 9672.7762s\n"
          ]
        },
        {
          "metadata": {
            "tags": null
          },
          "name": "stderr",
          "output_type": "stream",
          "text": [
            "3899it [26:13,  2.52it/s]"
          ]
        },
        {
          "metadata": {
            "tags": null
          },
          "name": "stdout",
          "output_type": "stream",
          "text": [
            "\titers: 3900, epoch: 2 | loss: 0.7699796\n",
            "\tspeed: 0.4032s/iter; left time: 9627.4540s\n"
          ]
        },
        {
          "metadata": {
            "tags": null
          },
          "name": "stderr",
          "output_type": "stream",
          "text": [
            "3999it [26:54,  2.45it/s]"
          ]
        },
        {
          "metadata": {
            "tags": null
          },
          "name": "stdout",
          "output_type": "stream",
          "text": [
            "\titers: 4000, epoch: 2 | loss: 0.1985671\n",
            "\tspeed: 0.4035s/iter; left time: 9594.0350s\n"
          ]
        },
        {
          "metadata": {
            "tags": null
          },
          "name": "stderr",
          "output_type": "stream",
          "text": [
            "4099it [27:34,  2.46it/s]"
          ]
        },
        {
          "metadata": {
            "tags": null
          },
          "name": "stdout",
          "output_type": "stream",
          "text": [
            "\titers: 4100, epoch: 2 | loss: 0.4283682\n",
            "\tspeed: 0.4026s/iter; left time: 9531.9114s\n"
          ]
        },
        {
          "metadata": {
            "tags": null
          },
          "name": "stderr",
          "output_type": "stream",
          "text": [
            "4199it [28:14,  2.46it/s]"
          ]
        },
        {
          "metadata": {
            "tags": null
          },
          "name": "stdout",
          "output_type": "stream",
          "text": [
            "\titers: 4200, epoch: 2 | loss: 0.3443769\n",
            "\tspeed: 0.4045s/iter; left time: 9537.0153s\n"
          ]
        },
        {
          "metadata": {
            "tags": null
          },
          "name": "stderr",
          "output_type": "stream",
          "text": [
            "4299it [28:55,  2.49it/s]"
          ]
        },
        {
          "metadata": {
            "tags": null
          },
          "name": "stdout",
          "output_type": "stream",
          "text": [
            "\titers: 4300, epoch: 2 | loss: 1.0946897\n",
            "\tspeed: 0.4037s/iter; left time: 9477.4433s\n"
          ]
        },
        {
          "metadata": {
            "tags": null
          },
          "name": "stderr",
          "output_type": "stream",
          "text": [
            "4399it [29:35,  2.46it/s]"
          ]
        },
        {
          "metadata": {
            "tags": null
          },
          "name": "stdout",
          "output_type": "stream",
          "text": [
            "\titers: 4400, epoch: 2 | loss: 0.1619602\n",
            "\tspeed: 0.4045s/iter; left time: 9457.0199s\n"
          ]
        },
        {
          "metadata": {
            "tags": null
          },
          "name": "stderr",
          "output_type": "stream",
          "text": [
            "4499it [30:16,  2.45it/s]"
          ]
        },
        {
          "metadata": {
            "tags": null
          },
          "name": "stdout",
          "output_type": "stream",
          "text": [
            "\titers: 4500, epoch: 2 | loss: 0.4523854\n",
            "\tspeed: 0.4046s/iter; left time: 9418.8129s\n"
          ]
        },
        {
          "metadata": {
            "tags": null
          },
          "name": "stderr",
          "output_type": "stream",
          "text": [
            "4599it [30:56,  2.50it/s]"
          ]
        },
        {
          "metadata": {
            "tags": null
          },
          "name": "stdout",
          "output_type": "stream",
          "text": [
            "\titers: 4600, epoch: 2 | loss: 0.2967086\n",
            "\tspeed: 0.4041s/iter; left time: 9365.7769s\n"
          ]
        },
        {
          "metadata": {
            "tags": null
          },
          "name": "stderr",
          "output_type": "stream",
          "text": [
            "4699it [31:37,  2.49it/s]"
          ]
        },
        {
          "metadata": {
            "tags": null
          },
          "name": "stdout",
          "output_type": "stream",
          "text": [
            "\titers: 4700, epoch: 2 | loss: 0.2351009\n",
            "\tspeed: 0.4041s/iter; left time: 9325.0655s\n"
          ]
        },
        {
          "metadata": {
            "tags": null
          },
          "name": "stderr",
          "output_type": "stream",
          "text": [
            "4799it [32:17,  2.47it/s]"
          ]
        },
        {
          "metadata": {
            "tags": null
          },
          "name": "stdout",
          "output_type": "stream",
          "text": [
            "\titers: 4800, epoch: 2 | loss: 0.1270027\n",
            "\tspeed: 0.4053s/iter; left time: 9312.9410s\n"
          ]
        },
        {
          "metadata": {
            "tags": null
          },
          "name": "stderr",
          "output_type": "stream",
          "text": [
            "4899it [32:58,  2.45it/s]"
          ]
        },
        {
          "metadata": {
            "tags": null
          },
          "name": "stdout",
          "output_type": "stream",
          "text": [
            "\titers: 4900, epoch: 2 | loss: 0.4929714\n",
            "\tspeed: 0.4042s/iter; left time: 9246.6428s\n"
          ]
        },
        {
          "metadata": {
            "tags": null
          },
          "name": "stderr",
          "output_type": "stream",
          "text": [
            "4999it [33:38,  2.48it/s]"
          ]
        },
        {
          "metadata": {
            "tags": null
          },
          "name": "stdout",
          "output_type": "stream",
          "text": [
            "\titers: 5000, epoch: 2 | loss: 0.4452829\n",
            "\tspeed: 0.4016s/iter; left time: 9148.1837s\n"
          ]
        },
        {
          "metadata": {
            "tags": null
          },
          "name": "stderr",
          "output_type": "stream",
          "text": [
            "5099it [34:18,  2.47it/s]"
          ]
        },
        {
          "metadata": {
            "tags": null
          },
          "name": "stdout",
          "output_type": "stream",
          "text": [
            "\titers: 5100, epoch: 2 | loss: 0.2707881\n",
            "\tspeed: 0.4017s/iter; left time: 9108.3359s\n"
          ]
        },
        {
          "metadata": {
            "tags": null
          },
          "name": "stderr",
          "output_type": "stream",
          "text": [
            "5199it [34:58,  2.48it/s]"
          ]
        },
        {
          "metadata": {
            "tags": null
          },
          "name": "stdout",
          "output_type": "stream",
          "text": [
            "\titers: 5200, epoch: 2 | loss: 0.1358570\n",
            "\tspeed: 0.4031s/iter; left time: 9101.1633s\n"
          ]
        },
        {
          "metadata": {
            "tags": null
          },
          "name": "stderr",
          "output_type": "stream",
          "text": [
            "5299it [35:39,  2.46it/s]"
          ]
        },
        {
          "metadata": {
            "tags": null
          },
          "name": "stdout",
          "output_type": "stream",
          "text": [
            "\titers: 5300, epoch: 2 | loss: 1.0783225\n",
            "\tspeed: 0.4040s/iter; left time: 9080.8008s\n"
          ]
        },
        {
          "metadata": {
            "tags": null
          },
          "name": "stderr",
          "output_type": "stream",
          "text": [
            "5399it [36:19,  2.52it/s]"
          ]
        },
        {
          "metadata": {
            "tags": null
          },
          "name": "stdout",
          "output_type": "stream",
          "text": [
            "\titers: 5400, epoch: 2 | loss: 0.4359451\n",
            "\tspeed: 0.4028s/iter; left time: 9013.3781s\n"
          ]
        },
        {
          "metadata": {
            "tags": null
          },
          "name": "stderr",
          "output_type": "stream",
          "text": [
            "5499it [36:59,  2.48it/s]"
          ]
        },
        {
          "metadata": {
            "tags": null
          },
          "name": "stdout",
          "output_type": "stream",
          "text": [
            "\titers: 5500, epoch: 2 | loss: 0.2936982\n",
            "\tspeed: 0.4045s/iter; left time: 9011.8994s\n"
          ]
        },
        {
          "metadata": {
            "tags": null
          },
          "name": "stderr",
          "output_type": "stream",
          "text": [
            "5599it [37:40,  2.48it/s]"
          ]
        },
        {
          "metadata": {
            "tags": null
          },
          "name": "stdout",
          "output_type": "stream",
          "text": [
            "\titers: 5600, epoch: 2 | loss: 1.2568874\n",
            "\tspeed: 0.4033s/iter; left time: 8944.5211s\n"
          ]
        },
        {
          "metadata": {
            "tags": null
          },
          "name": "stderr",
          "output_type": "stream",
          "text": [
            "5699it [38:20,  2.51it/s]"
          ]
        },
        {
          "metadata": {
            "tags": null
          },
          "name": "stdout",
          "output_type": "stream",
          "text": [
            "\titers: 5700, epoch: 2 | loss: 2.2637877\n",
            "\tspeed: 0.4029s/iter; left time: 8894.9435s\n"
          ]
        },
        {
          "metadata": {
            "tags": null
          },
          "name": "stderr",
          "output_type": "stream",
          "text": [
            "5799it [39:00,  2.48it/s]"
          ]
        },
        {
          "metadata": {
            "tags": null
          },
          "name": "stdout",
          "output_type": "stream",
          "text": [
            "\titers: 5800, epoch: 2 | loss: 0.4379898\n",
            "\tspeed: 0.4031s/iter; left time: 8858.0653s\n"
          ]
        },
        {
          "metadata": {
            "tags": null
          },
          "name": "stderr",
          "output_type": "stream",
          "text": [
            "5899it [39:41,  2.46it/s]"
          ]
        },
        {
          "metadata": {
            "tags": null
          },
          "name": "stdout",
          "output_type": "stream",
          "text": [
            "\titers: 5900, epoch: 2 | loss: 0.2250466\n",
            "\tspeed: 0.4031s/iter; left time: 8819.0734s\n"
          ]
        },
        {
          "metadata": {
            "tags": null
          },
          "name": "stderr",
          "output_type": "stream",
          "text": [
            "5999it [40:21,  2.51it/s]"
          ]
        },
        {
          "metadata": {
            "tags": null
          },
          "name": "stdout",
          "output_type": "stream",
          "text": [
            "\titers: 6000, epoch: 2 | loss: 0.1806702\n",
            "\tspeed: 0.4040s/iter; left time: 8797.6855s\n"
          ]
        },
        {
          "metadata": {
            "tags": null
          },
          "name": "stderr",
          "output_type": "stream",
          "text": [
            "6099it [41:01,  2.46it/s]"
          ]
        },
        {
          "metadata": {
            "tags": null
          },
          "name": "stdout",
          "output_type": "stream",
          "text": [
            "\titers: 6100, epoch: 2 | loss: 0.9198689\n",
            "\tspeed: 0.4035s/iter; left time: 8747.5594s\n"
          ]
        },
        {
          "metadata": {
            "tags": null
          },
          "name": "stderr",
          "output_type": "stream",
          "text": [
            "6199it [41:41,  2.49it/s]"
          ]
        },
        {
          "metadata": {
            "tags": null
          },
          "name": "stdout",
          "output_type": "stream",
          "text": [
            "\titers: 6200, epoch: 2 | loss: 0.3110180\n",
            "\tspeed: 0.4020s/iter; left time: 8672.9348s\n"
          ]
        },
        {
          "metadata": {
            "tags": null
          },
          "name": "stderr",
          "output_type": "stream",
          "text": [
            "6299it [42:22,  2.49it/s]"
          ]
        },
        {
          "metadata": {
            "tags": null
          },
          "name": "stdout",
          "output_type": "stream",
          "text": [
            "\titers: 6300, epoch: 2 | loss: 0.2278421\n",
            "\tspeed: 0.4021s/iter; left time: 8636.4022s\n"
          ]
        },
        {
          "metadata": {
            "tags": null
          },
          "name": "stderr",
          "output_type": "stream",
          "text": [
            "6399it [43:02,  2.49it/s]"
          ]
        },
        {
          "metadata": {
            "tags": null
          },
          "name": "stdout",
          "output_type": "stream",
          "text": [
            "\titers: 6400, epoch: 2 | loss: 0.3030639\n",
            "\tspeed: 0.4037s/iter; left time: 8629.0231s\n"
          ]
        },
        {
          "metadata": {
            "tags": null
          },
          "name": "stderr",
          "output_type": "stream",
          "text": [
            "6499it [43:42,  2.51it/s]"
          ]
        },
        {
          "metadata": {
            "tags": null
          },
          "name": "stdout",
          "output_type": "stream",
          "text": [
            "\titers: 6500, epoch: 2 | loss: 0.2255893\n",
            "\tspeed: 0.4029s/iter; left time: 8571.4876s\n"
          ]
        },
        {
          "metadata": {
            "tags": null
          },
          "name": "stderr",
          "output_type": "stream",
          "text": [
            "6599it [44:23,  2.52it/s]"
          ]
        },
        {
          "metadata": {
            "tags": null
          },
          "name": "stdout",
          "output_type": "stream",
          "text": [
            "\titers: 6600, epoch: 2 | loss: 0.1702114\n",
            "\tspeed: 0.4038s/iter; left time: 8552.1086s\n"
          ]
        },
        {
          "metadata": {
            "tags": null
          },
          "name": "stderr",
          "output_type": "stream",
          "text": [
            "6699it [45:03,  2.48it/s]"
          ]
        },
        {
          "metadata": {
            "tags": null
          },
          "name": "stdout",
          "output_type": "stream",
          "text": [
            "\titers: 6700, epoch: 2 | loss: 0.2236647\n",
            "\tspeed: 0.4023s/iter; left time: 8478.4513s\n"
          ]
        },
        {
          "metadata": {
            "tags": null
          },
          "name": "stderr",
          "output_type": "stream",
          "text": [
            "6799it [45:43,  2.46it/s]"
          ]
        },
        {
          "metadata": {
            "tags": null
          },
          "name": "stdout",
          "output_type": "stream",
          "text": [
            "\titers: 6800, epoch: 2 | loss: 0.5582349\n",
            "\tspeed: 0.4051s/iter; left time: 8496.8894s\n"
          ]
        },
        {
          "metadata": {
            "tags": null
          },
          "name": "stderr",
          "output_type": "stream",
          "text": [
            "6899it [46:24,  2.48it/s]"
          ]
        },
        {
          "metadata": {
            "tags": null
          },
          "name": "stdout",
          "output_type": "stream",
          "text": [
            "\titers: 6900, epoch: 2 | loss: 0.2167518\n",
            "\tspeed: 0.4028s/iter; left time: 8408.9963s\n"
          ]
        },
        {
          "metadata": {
            "tags": null
          },
          "name": "stderr",
          "output_type": "stream",
          "text": [
            "6944it [46:43,  2.48it/s]\n"
          ]
        },
        {
          "metadata": {
            "tags": null
          },
          "name": "stdout",
          "output_type": "stream",
          "text": [
            "Epoch: 2 cost time: 2803.4931247234344\n"
          ]
        },
        {
          "metadata": {
            "tags": null
          },
          "name": "stderr",
          "output_type": "stream",
          "text": [
            "2352it [07:16,  5.39it/s]\n",
            "2352it [07:09,  5.47it/s]\n"
          ]
        },
        {
          "metadata": {
            "tags": null
          },
          "name": "stdout",
          "output_type": "stream",
          "text": [
            "Epoch: 2 | Train Loss: 0.5515470 Vali Loss: 0.3122255 Test Loss: 0.3585557 MAE Loss: 0.3924032\n",
            "Drive already mounted at /content/gdrive; to attempt to forcibly remount, call drive.mount(\"/content/gdrive\", force_remount=True).\n",
            "/content/gdrive/MyDrive/TimeLLM\n",
            "Updating learning rate to 0.0003999999999999993\n"
          ]
        },
        {
          "metadata": {
            "tags": null
          },
          "name": "stderr",
          "output_type": "stream",
          "text": [
            "99it [00:40,  2.50it/s]"
          ]
        },
        {
          "metadata": {
            "tags": null
          },
          "name": "stdout",
          "output_type": "stream",
          "text": [
            "\titers: 100, epoch: 3 | loss: 0.2028677\n",
            "\tspeed: 28.8046s/iter; left time: 597205.7928s\n"
          ]
        },
        {
          "metadata": {
            "tags": null
          },
          "name": "stderr",
          "output_type": "stream",
          "text": [
            "199it [01:20,  2.46it/s]"
          ]
        },
        {
          "metadata": {
            "tags": null
          },
          "name": "stdout",
          "output_type": "stream",
          "text": [
            "\titers: 200, epoch: 3 | loss: 0.5191800\n",
            "\tspeed: 0.4025s/iter; left time: 8304.6807s\n"
          ]
        },
        {
          "metadata": {
            "tags": null
          },
          "name": "stderr",
          "output_type": "stream",
          "text": [
            "299it [02:00,  2.44it/s]"
          ]
        },
        {
          "metadata": {
            "tags": null
          },
          "name": "stdout",
          "output_type": "stream",
          "text": [
            "\titers: 300, epoch: 3 | loss: 0.2199988\n",
            "\tspeed: 0.4036s/iter; left time: 8286.3502s\n"
          ]
        },
        {
          "metadata": {
            "tags": null
          },
          "name": "stderr",
          "output_type": "stream",
          "text": [
            "399it [02:41,  2.47it/s]"
          ]
        },
        {
          "metadata": {
            "tags": null
          },
          "name": "stdout",
          "output_type": "stream",
          "text": [
            "\titers: 400, epoch: 3 | loss: 0.3772180\n",
            "\tspeed: 0.4034s/iter; left time: 8243.0434s\n"
          ]
        },
        {
          "metadata": {
            "tags": null
          },
          "name": "stderr",
          "output_type": "stream",
          "text": [
            "499it [03:21,  2.45it/s]"
          ]
        },
        {
          "metadata": {
            "tags": null
          },
          "name": "stdout",
          "output_type": "stream",
          "text": [
            "\titers: 500, epoch: 3 | loss: 0.9036487\n",
            "\tspeed: 0.4029s/iter; left time: 8191.9284s\n"
          ]
        },
        {
          "metadata": {
            "tags": null
          },
          "name": "stderr",
          "output_type": "stream",
          "text": [
            "599it [04:01,  2.44it/s]"
          ]
        },
        {
          "metadata": {
            "tags": null
          },
          "name": "stdout",
          "output_type": "stream",
          "text": [
            "\titers: 600, epoch: 3 | loss: 0.6569044\n",
            "\tspeed: 0.4031s/iter; left time: 8155.9273s\n"
          ]
        },
        {
          "metadata": {
            "tags": null
          },
          "name": "stderr",
          "output_type": "stream",
          "text": [
            "699it [04:42,  2.51it/s]"
          ]
        },
        {
          "metadata": {
            "tags": null
          },
          "name": "stdout",
          "output_type": "stream",
          "text": [
            "\titers: 700, epoch: 3 | loss: 0.4259453\n",
            "\tspeed: 0.4028s/iter; left time: 8108.9670s\n"
          ]
        },
        {
          "metadata": {
            "tags": null
          },
          "name": "stderr",
          "output_type": "stream",
          "text": [
            "799it [05:22,  2.48it/s]"
          ]
        },
        {
          "metadata": {
            "tags": null
          },
          "name": "stdout",
          "output_type": "stream",
          "text": [
            "\titers: 800, epoch: 3 | loss: 0.3630698\n",
            "\tspeed: 0.4017s/iter; left time: 8046.8953s\n"
          ]
        },
        {
          "metadata": {
            "tags": null
          },
          "name": "stderr",
          "output_type": "stream",
          "text": [
            "899it [06:02,  2.54it/s]"
          ]
        },
        {
          "metadata": {
            "tags": null
          },
          "name": "stdout",
          "output_type": "stream",
          "text": [
            "\titers: 900, epoch: 3 | loss: 0.1863742\n",
            "\tspeed: 0.4022s/iter; left time: 8017.6233s\n"
          ]
        },
        {
          "metadata": {
            "tags": null
          },
          "name": "stderr",
          "output_type": "stream",
          "text": [
            "999it [06:42,  2.45it/s]"
          ]
        },
        {
          "metadata": {
            "tags": null
          },
          "name": "stdout",
          "output_type": "stream",
          "text": [
            "\titers: 1000, epoch: 3 | loss: 0.7138614\n",
            "\tspeed: 0.4037s/iter; left time: 8006.1208s\n"
          ]
        },
        {
          "metadata": {
            "tags": null
          },
          "name": "stderr",
          "output_type": "stream",
          "text": [
            "1099it [07:23,  2.47it/s]"
          ]
        },
        {
          "metadata": {
            "tags": null
          },
          "name": "stdout",
          "output_type": "stream",
          "text": [
            "\titers: 1100, epoch: 3 | loss: 0.3887631\n",
            "\tspeed: 0.4041s/iter; left time: 7973.6907s\n"
          ]
        },
        {
          "metadata": {
            "tags": null
          },
          "name": "stderr",
          "output_type": "stream",
          "text": [
            "1199it [08:03,  2.48it/s]"
          ]
        },
        {
          "metadata": {
            "tags": null
          },
          "name": "stdout",
          "output_type": "stream",
          "text": [
            "\titers: 1200, epoch: 3 | loss: 0.5832832\n",
            "\tspeed: 0.4036s/iter; left time: 7923.2172s\n"
          ]
        },
        {
          "metadata": {
            "tags": null
          },
          "name": "stderr",
          "output_type": "stream",
          "text": [
            "1299it [08:44,  2.48it/s]"
          ]
        },
        {
          "metadata": {
            "tags": null
          },
          "name": "stdout",
          "output_type": "stream",
          "text": [
            "\titers: 1300, epoch: 3 | loss: 0.7892321\n",
            "\tspeed: 0.4040s/iter; left time: 7892.1002s\n"
          ]
        },
        {
          "metadata": {
            "tags": null
          },
          "name": "stderr",
          "output_type": "stream",
          "text": [
            "1399it [09:24,  2.50it/s]"
          ]
        },
        {
          "metadata": {
            "tags": null
          },
          "name": "stdout",
          "output_type": "stream",
          "text": [
            "\titers: 1400, epoch: 3 | loss: 1.2460132\n",
            "\tspeed: 0.4019s/iter; left time: 7809.5573s\n"
          ]
        },
        {
          "metadata": {
            "tags": null
          },
          "name": "stderr",
          "output_type": "stream",
          "text": [
            "1499it [10:04,  2.49it/s]"
          ]
        },
        {
          "metadata": {
            "tags": null
          },
          "name": "stdout",
          "output_type": "stream",
          "text": [
            "\titers: 1500, epoch: 3 | loss: 0.6416054\n",
            "\tspeed: 0.4029s/iter; left time: 7788.8119s\n"
          ]
        },
        {
          "metadata": {
            "tags": null
          },
          "name": "stderr",
          "output_type": "stream",
          "text": [
            "1599it [10:44,  2.47it/s]"
          ]
        },
        {
          "metadata": {
            "tags": null
          },
          "name": "stdout",
          "output_type": "stream",
          "text": [
            "\titers: 1600, epoch: 3 | loss: 1.9432437\n",
            "\tspeed: 0.4035s/iter; left time: 7761.3539s\n"
          ]
        },
        {
          "metadata": {
            "tags": null
          },
          "name": "stderr",
          "output_type": "stream",
          "text": [
            "1699it [11:25,  2.51it/s]"
          ]
        },
        {
          "metadata": {
            "tags": null
          },
          "name": "stdout",
          "output_type": "stream",
          "text": [
            "\titers: 1700, epoch: 3 | loss: 0.2779980\n",
            "\tspeed: 0.4021s/iter; left time: 7694.2069s\n"
          ]
        },
        {
          "metadata": {
            "tags": null
          },
          "name": "stderr",
          "output_type": "stream",
          "text": [
            "1799it [12:05,  2.45it/s]"
          ]
        },
        {
          "metadata": {
            "tags": null
          },
          "name": "stdout",
          "output_type": "stream",
          "text": [
            "\titers: 1800, epoch: 3 | loss: 0.5453614\n",
            "\tspeed: 0.4054s/iter; left time: 7715.5945s\n"
          ]
        },
        {
          "metadata": {
            "tags": null
          },
          "name": "stderr",
          "output_type": "stream",
          "text": [
            "1899it [12:45,  2.48it/s]"
          ]
        },
        {
          "metadata": {
            "tags": null
          },
          "name": "stdout",
          "output_type": "stream",
          "text": [
            "\titers: 1900, epoch: 3 | loss: 0.2875826\n",
            "\tspeed: 0.4037s/iter; left time: 7642.8780s\n"
          ]
        },
        {
          "metadata": {
            "tags": null
          },
          "name": "stderr",
          "output_type": "stream",
          "text": [
            "1999it [13:26,  2.49it/s]"
          ]
        },
        {
          "metadata": {
            "tags": null
          },
          "name": "stdout",
          "output_type": "stream",
          "text": [
            "\titers: 2000, epoch: 3 | loss: 0.1707188\n",
            "\tspeed: 0.4026s/iter; left time: 7582.3578s\n"
          ]
        },
        {
          "metadata": {
            "tags": null
          },
          "name": "stderr",
          "output_type": "stream",
          "text": [
            "2099it [14:06,  2.49it/s]"
          ]
        },
        {
          "metadata": {
            "tags": null
          },
          "name": "stdout",
          "output_type": "stream",
          "text": [
            "\titers: 2100, epoch: 3 | loss: 0.2428406\n",
            "\tspeed: 0.4022s/iter; left time: 7534.9655s\n"
          ]
        },
        {
          "metadata": {
            "tags": null
          },
          "name": "stderr",
          "output_type": "stream",
          "text": [
            "2199it [14:46,  2.52it/s]"
          ]
        },
        {
          "metadata": {
            "tags": null
          },
          "name": "stdout",
          "output_type": "stream",
          "text": [
            "\titers: 2200, epoch: 3 | loss: 0.6228019\n",
            "\tspeed: 0.4049s/iter; left time: 7544.1761s\n"
          ]
        },
        {
          "metadata": {
            "tags": null
          },
          "name": "stderr",
          "output_type": "stream",
          "text": [
            "2299it [15:27,  2.43it/s]"
          ]
        },
        {
          "metadata": {
            "tags": null
          },
          "name": "stdout",
          "output_type": "stream",
          "text": [
            "\titers: 2300, epoch: 3 | loss: 0.2272701\n",
            "\tspeed: 0.4040s/iter; left time: 7487.2679s\n"
          ]
        },
        {
          "metadata": {
            "tags": null
          },
          "name": "stderr",
          "output_type": "stream",
          "text": [
            "2399it [16:07,  2.47it/s]"
          ]
        },
        {
          "metadata": {
            "tags": null
          },
          "name": "stdout",
          "output_type": "stream",
          "text": [
            "\titers: 2400, epoch: 3 | loss: 0.2827714\n",
            "\tspeed: 0.4046s/iter; left time: 7458.7574s\n"
          ]
        },
        {
          "metadata": {
            "tags": null
          },
          "name": "stderr",
          "output_type": "stream",
          "text": [
            "2499it [16:48,  2.46it/s]"
          ]
        },
        {
          "metadata": {
            "tags": null
          },
          "name": "stdout",
          "output_type": "stream",
          "text": [
            "\titers: 2500, epoch: 3 | loss: 0.2612376\n",
            "\tspeed: 0.4042s/iter; left time: 7409.6631s\n"
          ]
        },
        {
          "metadata": {
            "tags": null
          },
          "name": "stderr",
          "output_type": "stream",
          "text": [
            "2599it [17:28,  2.50it/s]"
          ]
        },
        {
          "metadata": {
            "tags": null
          },
          "name": "stdout",
          "output_type": "stream",
          "text": [
            "\titers: 2600, epoch: 3 | loss: 0.6423306\n",
            "\tspeed: 0.4052s/iter; left time: 7387.1371s\n"
          ]
        },
        {
          "metadata": {
            "tags": null
          },
          "name": "stderr",
          "output_type": "stream",
          "text": [
            "2699it [18:09,  2.46it/s]"
          ]
        },
        {
          "metadata": {
            "tags": null
          },
          "name": "stdout",
          "output_type": "stream",
          "text": [
            "\titers: 2700, epoch: 3 | loss: 0.1269913\n",
            "\tspeed: 0.4042s/iter; left time: 7329.9956s\n"
          ]
        },
        {
          "metadata": {
            "tags": null
          },
          "name": "stderr",
          "output_type": "stream",
          "text": [
            "2799it [18:49,  2.48it/s]"
          ]
        },
        {
          "metadata": {
            "tags": null
          },
          "name": "stdout",
          "output_type": "stream",
          "text": [
            "\titers: 2800, epoch: 3 | loss: 1.2161465\n",
            "\tspeed: 0.4056s/iter; left time: 7314.8086s\n"
          ]
        },
        {
          "metadata": {
            "tags": null
          },
          "name": "stderr",
          "output_type": "stream",
          "text": [
            "2899it [19:30,  2.51it/s]"
          ]
        },
        {
          "metadata": {
            "tags": null
          },
          "name": "stdout",
          "output_type": "stream",
          "text": [
            "\titers: 2900, epoch: 3 | loss: 0.4068570\n",
            "\tspeed: 0.4037s/iter; left time: 7238.9098s\n"
          ]
        },
        {
          "metadata": {
            "tags": null
          },
          "name": "stderr",
          "output_type": "stream",
          "text": [
            "2999it [20:10,  2.46it/s]"
          ]
        },
        {
          "metadata": {
            "tags": null
          },
          "name": "stdout",
          "output_type": "stream",
          "text": [
            "\titers: 3000, epoch: 3 | loss: 0.1792892\n",
            "\tspeed: 0.4028s/iter; left time: 7182.3267s\n"
          ]
        },
        {
          "metadata": {
            "tags": null
          },
          "name": "stderr",
          "output_type": "stream",
          "text": [
            "3099it [20:50,  2.46it/s]"
          ]
        },
        {
          "metadata": {
            "tags": null
          },
          "name": "stdout",
          "output_type": "stream",
          "text": [
            "\titers: 3100, epoch: 3 | loss: 0.3443759\n",
            "\tspeed: 0.4046s/iter; left time: 7175.6189s\n"
          ]
        },
        {
          "metadata": {
            "tags": null
          },
          "name": "stderr",
          "output_type": "stream",
          "text": [
            "3199it [21:31,  2.47it/s]"
          ]
        },
        {
          "metadata": {
            "tags": null
          },
          "name": "stdout",
          "output_type": "stream",
          "text": [
            "\titers: 3200, epoch: 3 | loss: 0.1663186\n",
            "\tspeed: 0.4053s/iter; left time: 7146.2661s\n"
          ]
        },
        {
          "metadata": {
            "tags": null
          },
          "name": "stderr",
          "output_type": "stream",
          "text": [
            "3299it [22:11,  2.43it/s]"
          ]
        },
        {
          "metadata": {
            "tags": null
          },
          "name": "stdout",
          "output_type": "stream",
          "text": [
            "\titers: 3300, epoch: 3 | loss: 1.6666744\n",
            "\tspeed: 0.4062s/iter; left time: 7121.8429s\n"
          ]
        },
        {
          "metadata": {
            "tags": null
          },
          "name": "stderr",
          "output_type": "stream",
          "text": [
            "3399it [22:52,  2.46it/s]"
          ]
        },
        {
          "metadata": {
            "tags": null
          },
          "name": "stdout",
          "output_type": "stream",
          "text": [
            "\titers: 3400, epoch: 3 | loss: 0.1521766\n",
            "\tspeed: 0.4050s/iter; left time: 7060.5086s\n"
          ]
        },
        {
          "metadata": {
            "tags": null
          },
          "name": "stderr",
          "output_type": "stream",
          "text": [
            "3499it [23:32,  2.50it/s]"
          ]
        },
        {
          "metadata": {
            "tags": null
          },
          "name": "stdout",
          "output_type": "stream",
          "text": [
            "\titers: 3500, epoch: 3 | loss: 0.5278435\n",
            "\tspeed: 0.4047s/iter; left time: 7014.7495s\n"
          ]
        },
        {
          "metadata": {
            "tags": null
          },
          "name": "stderr",
          "output_type": "stream",
          "text": [
            "3599it [24:13,  2.48it/s]"
          ]
        },
        {
          "metadata": {
            "tags": null
          },
          "name": "stdout",
          "output_type": "stream",
          "text": [
            "\titers: 3600, epoch: 3 | loss: 0.1469759\n",
            "\tspeed: 0.4037s/iter; left time: 6956.9850s\n"
          ]
        },
        {
          "metadata": {
            "tags": null
          },
          "name": "stderr",
          "output_type": "stream",
          "text": [
            "3699it [24:53,  2.45it/s]"
          ]
        },
        {
          "metadata": {
            "tags": null
          },
          "name": "stdout",
          "output_type": "stream",
          "text": [
            "\titers: 3700, epoch: 3 | loss: 0.4754272\n",
            "\tspeed: 0.4066s/iter; left time: 6965.9837s\n"
          ]
        },
        {
          "metadata": {
            "tags": null
          },
          "name": "stderr",
          "output_type": "stream",
          "text": [
            "3799it [25:34,  2.46it/s]"
          ]
        },
        {
          "metadata": {
            "tags": null
          },
          "name": "stdout",
          "output_type": "stream",
          "text": [
            "\titers: 3800, epoch: 3 | loss: 0.1199118\n",
            "\tspeed: 0.4039s/iter; left time: 6879.1763s\n"
          ]
        },
        {
          "metadata": {
            "tags": null
          },
          "name": "stderr",
          "output_type": "stream",
          "text": [
            "3899it [26:14,  2.50it/s]"
          ]
        },
        {
          "metadata": {
            "tags": null
          },
          "name": "stdout",
          "output_type": "stream",
          "text": [
            "\titers: 3900, epoch: 3 | loss: 0.2240144\n",
            "\tspeed: 0.4044s/iter; left time: 6848.2047s\n"
          ]
        },
        {
          "metadata": {
            "tags": null
          },
          "name": "stderr",
          "output_type": "stream",
          "text": [
            "3999it [26:55,  2.51it/s]"
          ]
        },
        {
          "metadata": {
            "tags": null
          },
          "name": "stdout",
          "output_type": "stream",
          "text": [
            "\titers: 4000, epoch: 3 | loss: 0.3995044\n",
            "\tspeed: 0.4043s/iter; left time: 6805.2490s\n"
          ]
        },
        {
          "metadata": {
            "tags": null
          },
          "name": "stderr",
          "output_type": "stream",
          "text": [
            "4099it [27:35,  2.50it/s]"
          ]
        },
        {
          "metadata": {
            "tags": null
          },
          "name": "stdout",
          "output_type": "stream",
          "text": [
            "\titers: 4100, epoch: 3 | loss: 0.2213763\n",
            "\tspeed: 0.4039s/iter; left time: 6758.3404s\n"
          ]
        },
        {
          "metadata": {
            "tags": null
          },
          "name": "stderr",
          "output_type": "stream",
          "text": [
            "4199it [28:15,  2.49it/s]"
          ]
        },
        {
          "metadata": {
            "tags": null
          },
          "name": "stdout",
          "output_type": "stream",
          "text": [
            "\titers: 4200, epoch: 3 | loss: 0.4735997\n",
            "\tspeed: 0.4035s/iter; left time: 6710.7157s\n"
          ]
        },
        {
          "metadata": {
            "tags": null
          },
          "name": "stderr",
          "output_type": "stream",
          "text": [
            "4299it [28:56,  2.45it/s]"
          ]
        },
        {
          "metadata": {
            "tags": null
          },
          "name": "stdout",
          "output_type": "stream",
          "text": [
            "\titers: 4300, epoch: 3 | loss: 0.3700868\n",
            "\tspeed: 0.4027s/iter; left time: 6657.2656s\n"
          ]
        },
        {
          "metadata": {
            "tags": null
          },
          "name": "stderr",
          "output_type": "stream",
          "text": [
            "4399it [29:36,  2.46it/s]"
          ]
        },
        {
          "metadata": {
            "tags": null
          },
          "name": "stdout",
          "output_type": "stream",
          "text": [
            "\titers: 4400, epoch: 3 | loss: 0.0960816\n",
            "\tspeed: 0.4056s/iter; left time: 6665.7342s\n"
          ]
        },
        {
          "metadata": {
            "tags": null
          },
          "name": "stderr",
          "output_type": "stream",
          "text": [
            "4499it [30:17,  2.44it/s]"
          ]
        },
        {
          "metadata": {
            "tags": null
          },
          "name": "stdout",
          "output_type": "stream",
          "text": [
            "\titers: 4500, epoch: 3 | loss: 0.7896669\n",
            "\tspeed: 0.4052s/iter; left time: 6618.0969s\n"
          ]
        },
        {
          "metadata": {
            "tags": null
          },
          "name": "stderr",
          "output_type": "stream",
          "text": [
            "4599it [30:57,  2.50it/s]"
          ]
        },
        {
          "metadata": {
            "tags": null
          },
          "name": "stdout",
          "output_type": "stream",
          "text": [
            "\titers: 4600, epoch: 3 | loss: 0.5800785\n",
            "\tspeed: 0.4055s/iter; left time: 6581.8994s\n"
          ]
        },
        {
          "metadata": {
            "tags": null
          },
          "name": "stderr",
          "output_type": "stream",
          "text": [
            "4699it [31:38,  2.45it/s]"
          ]
        },
        {
          "metadata": {
            "tags": null
          },
          "name": "stdout",
          "output_type": "stream",
          "text": [
            "\titers: 4700, epoch: 3 | loss: 0.3229882\n",
            "\tspeed: 0.4030s/iter; left time: 6502.3769s\n"
          ]
        },
        {
          "metadata": {
            "tags": null
          },
          "name": "stderr",
          "output_type": "stream",
          "text": [
            "4799it [32:18,  2.45it/s]"
          ]
        },
        {
          "metadata": {
            "tags": null
          },
          "name": "stdout",
          "output_type": "stream",
          "text": [
            "\titers: 4800, epoch: 3 | loss: 0.2882970\n",
            "\tspeed: 0.4071s/iter; left time: 6526.5637s\n"
          ]
        },
        {
          "metadata": {
            "tags": null
          },
          "name": "stderr",
          "output_type": "stream",
          "text": [
            "4899it [32:59,  2.44it/s]"
          ]
        },
        {
          "metadata": {
            "tags": null
          },
          "name": "stdout",
          "output_type": "stream",
          "text": [
            "\titers: 4900, epoch: 3 | loss: 0.1815037\n",
            "\tspeed: 0.4045s/iter; left time: 6445.6541s\n"
          ]
        },
        {
          "metadata": {
            "tags": null
          },
          "name": "stderr",
          "output_type": "stream",
          "text": [
            "4999it [33:39,  2.50it/s]"
          ]
        },
        {
          "metadata": {
            "tags": null
          },
          "name": "stdout",
          "output_type": "stream",
          "text": [
            "\titers: 5000, epoch: 3 | loss: 0.2011856\n",
            "\tspeed: 0.4035s/iter; left time: 6387.9520s\n"
          ]
        },
        {
          "metadata": {
            "tags": null
          },
          "name": "stderr",
          "output_type": "stream",
          "text": [
            "5099it [34:20,  2.44it/s]"
          ]
        },
        {
          "metadata": {
            "tags": null
          },
          "name": "stdout",
          "output_type": "stream",
          "text": [
            "\titers: 5100, epoch: 3 | loss: 0.2778876\n",
            "\tspeed: 0.4033s/iter; left time: 6344.6973s\n"
          ]
        },
        {
          "metadata": {
            "tags": null
          },
          "name": "stderr",
          "output_type": "stream",
          "text": [
            "5199it [35:00,  2.48it/s]"
          ]
        },
        {
          "metadata": {
            "tags": null
          },
          "name": "stdout",
          "output_type": "stream",
          "text": [
            "\titers: 5200, epoch: 3 | loss: 0.5588897\n",
            "\tspeed: 0.4047s/iter; left time: 6327.2263s\n"
          ]
        },
        {
          "metadata": {
            "tags": null
          },
          "name": "stderr",
          "output_type": "stream",
          "text": [
            "5299it [35:40,  2.47it/s]"
          ]
        },
        {
          "metadata": {
            "tags": null
          },
          "name": "stdout",
          "output_type": "stream",
          "text": [
            "\titers: 5300, epoch: 3 | loss: 0.3188495\n",
            "\tspeed: 0.4050s/iter; left time: 6291.1697s\n"
          ]
        },
        {
          "metadata": {
            "tags": null
          },
          "name": "stderr",
          "output_type": "stream",
          "text": [
            "5399it [36:21,  2.46it/s]"
          ]
        },
        {
          "metadata": {
            "tags": null
          },
          "name": "stdout",
          "output_type": "stream",
          "text": [
            "\titers: 5400, epoch: 3 | loss: 0.2694678\n",
            "\tspeed: 0.4043s/iter; left time: 6240.0128s\n"
          ]
        },
        {
          "metadata": {
            "tags": null
          },
          "name": "stderr",
          "output_type": "stream",
          "text": [
            "5499it [37:01,  2.43it/s]"
          ]
        },
        {
          "metadata": {
            "tags": null
          },
          "name": "stdout",
          "output_type": "stream",
          "text": [
            "\titers: 5500, epoch: 3 | loss: 0.1950720\n",
            "\tspeed: 0.4044s/iter; left time: 6200.1011s\n"
          ]
        },
        {
          "metadata": {
            "tags": null
          },
          "name": "stderr",
          "output_type": "stream",
          "text": [
            "5599it [37:42,  2.50it/s]"
          ]
        },
        {
          "metadata": {
            "tags": null
          },
          "name": "stdout",
          "output_type": "stream",
          "text": [
            "\titers: 5600, epoch: 3 | loss: 0.3115303\n",
            "\tspeed: 0.4033s/iter; left time: 6143.8500s\n"
          ]
        },
        {
          "metadata": {
            "tags": null
          },
          "name": "stderr",
          "output_type": "stream",
          "text": [
            "5699it [38:22,  2.50it/s]"
          ]
        },
        {
          "metadata": {
            "tags": null
          },
          "name": "stdout",
          "output_type": "stream",
          "text": [
            "\titers: 5700, epoch: 3 | loss: 0.1692132\n",
            "\tspeed: 0.4057s/iter; left time: 6138.8079s\n"
          ]
        },
        {
          "metadata": {
            "tags": null
          },
          "name": "stderr",
          "output_type": "stream",
          "text": [
            "5799it [39:03,  2.43it/s]"
          ]
        },
        {
          "metadata": {
            "tags": null
          },
          "name": "stdout",
          "output_type": "stream",
          "text": [
            "\titers: 5800, epoch: 3 | loss: 0.2811916\n",
            "\tspeed: 0.4053s/iter; left time: 6092.4169s\n"
          ]
        },
        {
          "metadata": {
            "tags": null
          },
          "name": "stderr",
          "output_type": "stream",
          "text": [
            "5899it [39:43,  2.48it/s]"
          ]
        },
        {
          "metadata": {
            "tags": null
          },
          "name": "stdout",
          "output_type": "stream",
          "text": [
            "\titers: 5900, epoch: 3 | loss: 0.9356632\n",
            "\tspeed: 0.4049s/iter; left time: 6045.8968s\n"
          ]
        },
        {
          "metadata": {
            "tags": null
          },
          "name": "stderr",
          "output_type": "stream",
          "text": [
            "5999it [40:24,  2.47it/s]"
          ]
        },
        {
          "metadata": {
            "tags": null
          },
          "name": "stdout",
          "output_type": "stream",
          "text": [
            "\titers: 6000, epoch: 3 | loss: 0.3373603\n",
            "\tspeed: 0.4025s/iter; left time: 5970.0130s\n"
          ]
        },
        {
          "metadata": {
            "tags": null
          },
          "name": "stderr",
          "output_type": "stream",
          "text": [
            "6099it [41:04,  2.49it/s]"
          ]
        },
        {
          "metadata": {
            "tags": null
          },
          "name": "stdout",
          "output_type": "stream",
          "text": [
            "\titers: 6100, epoch: 3 | loss: 0.2932984\n",
            "\tspeed: 0.4030s/iter; left time: 5936.8904s\n"
          ]
        },
        {
          "metadata": {
            "tags": null
          },
          "name": "stderr",
          "output_type": "stream",
          "text": [
            "6199it [41:44,  2.47it/s]"
          ]
        },
        {
          "metadata": {
            "tags": null
          },
          "name": "stdout",
          "output_type": "stream",
          "text": [
            "\titers: 6200, epoch: 3 | loss: 0.7558348\n",
            "\tspeed: 0.4035s/iter; left time: 5903.9513s\n"
          ]
        },
        {
          "metadata": {
            "tags": null
          },
          "name": "stderr",
          "output_type": "stream",
          "text": [
            "6299it [42:25,  2.50it/s]"
          ]
        },
        {
          "metadata": {
            "tags": null
          },
          "name": "stdout",
          "output_type": "stream",
          "text": [
            "\titers: 6300, epoch: 3 | loss: 0.2135373\n",
            "\tspeed: 0.4035s/iter; left time: 5864.2341s\n"
          ]
        },
        {
          "metadata": {
            "tags": null
          },
          "name": "stderr",
          "output_type": "stream",
          "text": [
            "6399it [43:05,  2.46it/s]"
          ]
        },
        {
          "metadata": {
            "tags": null
          },
          "name": "stdout",
          "output_type": "stream",
          "text": [
            "\titers: 6400, epoch: 3 | loss: 0.3598564\n",
            "\tspeed: 0.4043s/iter; left time: 5834.7801s\n"
          ]
        },
        {
          "metadata": {
            "tags": null
          },
          "name": "stderr",
          "output_type": "stream",
          "text": [
            "6499it [43:45,  2.50it/s]"
          ]
        },
        {
          "metadata": {
            "tags": null
          },
          "name": "stdout",
          "output_type": "stream",
          "text": [
            "\titers: 6500, epoch: 3 | loss: 0.3438509\n",
            "\tspeed: 0.4036s/iter; left time: 5785.2337s\n"
          ]
        },
        {
          "metadata": {
            "tags": null
          },
          "name": "stderr",
          "output_type": "stream",
          "text": [
            "6599it [44:26,  2.49it/s]"
          ]
        },
        {
          "metadata": {
            "tags": null
          },
          "name": "stdout",
          "output_type": "stream",
          "text": [
            "\titers: 6600, epoch: 3 | loss: 0.2880013\n",
            "\tspeed: 0.4066s/iter; left time: 5786.7153s\n"
          ]
        },
        {
          "metadata": {
            "tags": null
          },
          "name": "stderr",
          "output_type": "stream",
          "text": [
            "6699it [45:06,  2.49it/s]"
          ]
        },
        {
          "metadata": {
            "tags": null
          },
          "name": "stdout",
          "output_type": "stream",
          "text": [
            "\titers: 6700, epoch: 3 | loss: 0.1192658\n",
            "\tspeed: 0.4045s/iter; left time: 5716.4204s\n"
          ]
        },
        {
          "metadata": {
            "tags": null
          },
          "name": "stderr",
          "output_type": "stream",
          "text": [
            "6799it [45:47,  2.48it/s]"
          ]
        },
        {
          "metadata": {
            "tags": null
          },
          "name": "stdout",
          "output_type": "stream",
          "text": [
            "\titers: 6800, epoch: 3 | loss: 0.4822596\n",
            "\tspeed: 0.4044s/iter; left time: 5675.6185s\n"
          ]
        },
        {
          "metadata": {
            "tags": null
          },
          "name": "stderr",
          "output_type": "stream",
          "text": [
            "6899it [46:27,  2.44it/s]"
          ]
        },
        {
          "metadata": {
            "tags": null
          },
          "name": "stdout",
          "output_type": "stream",
          "text": [
            "\titers: 6900, epoch: 3 | loss: 0.4863673\n",
            "\tspeed: 0.4049s/iter; left time: 5640.9148s\n"
          ]
        },
        {
          "metadata": {
            "tags": null
          },
          "name": "stderr",
          "output_type": "stream",
          "text": [
            "6944it [46:45,  2.47it/s]\n"
          ]
        },
        {
          "metadata": {
            "tags": null
          },
          "name": "stdout",
          "output_type": "stream",
          "text": [
            "Epoch: 3 cost time: 2805.981092453003\n"
          ]
        },
        {
          "metadata": {
            "tags": null
          },
          "name": "stderr",
          "output_type": "stream",
          "text": [
            "2352it [07:15,  5.40it/s]\n",
            "2352it [07:09,  5.47it/s]\n"
          ]
        },
        {
          "metadata": {
            "tags": null
          },
          "name": "stdout",
          "output_type": "stream",
          "text": [
            "Epoch: 3 | Train Loss: 0.5330838 Vali Loss: 0.2959291 Test Loss: 0.3634745 MAE Loss: 0.3925799\n",
            "Drive already mounted at /content/gdrive; to attempt to forcibly remount, call drive.mount(\"/content/gdrive\", force_remount=True).\n",
            "/content/gdrive/MyDrive/TimeLLM\n",
            "Failed to upload to blob storage: Requesting secret AZURE_STORAGE_CONNECTION_STRING timed out. Secrets can only be fetched when running from the Colab UI.\n",
            "Updating learning rate to 0.00019999999999999966\n"
          ]
        },
        {
          "metadata": {
            "tags": null
          },
          "name": "stderr",
          "output_type": "stream",
          "text": [
            "99it [00:40,  2.47it/s]"
          ]
        },
        {
          "metadata": {
            "tags": null
          },
          "name": "stdout",
          "output_type": "stream",
          "text": [
            "\titers: 100, epoch: 4 | loss: 0.1672618\n",
            "\tspeed: 11.2254s/iter; left time: 154787.2073s\n"
          ]
        },
        {
          "metadata": {
            "tags": null
          },
          "name": "stderr",
          "output_type": "stream",
          "text": [
            "199it [01:21,  2.46it/s]"
          ]
        },
        {
          "metadata": {
            "tags": null
          },
          "name": "stdout",
          "output_type": "stream",
          "text": [
            "\titers: 200, epoch: 4 | loss: 0.4109666\n",
            "\tspeed: 0.4045s/iter; left time: 5537.0830s\n"
          ]
        },
        {
          "metadata": {
            "tags": null
          },
          "name": "stderr",
          "output_type": "stream",
          "text": [
            "299it [02:01,  2.45it/s]"
          ]
        },
        {
          "metadata": {
            "tags": null
          },
          "name": "stdout",
          "output_type": "stream",
          "text": [
            "\titers: 300, epoch: 4 | loss: 0.6643588\n",
            "\tspeed: 0.4049s/iter; left time: 5501.6332s\n"
          ]
        },
        {
          "metadata": {
            "tags": null
          },
          "name": "stderr",
          "output_type": "stream",
          "text": [
            "399it [02:42,  2.48it/s]"
          ]
        },
        {
          "metadata": {
            "tags": null
          },
          "name": "stdout",
          "output_type": "stream",
          "text": [
            "\titers: 400, epoch: 4 | loss: 0.4045984\n",
            "\tspeed: 0.4051s/iter; left time: 5464.8474s\n"
          ]
        },
        {
          "metadata": {
            "tags": null
          },
          "name": "stderr",
          "output_type": "stream",
          "text": [
            "499it [03:22,  2.46it/s]"
          ]
        },
        {
          "metadata": {
            "tags": null
          },
          "name": "stdout",
          "output_type": "stream",
          "text": [
            "\titers: 500, epoch: 4 | loss: 1.0086496\n",
            "\tspeed: 0.4037s/iter; left time: 5404.7205s\n"
          ]
        },
        {
          "metadata": {
            "tags": null
          },
          "name": "stderr",
          "output_type": "stream",
          "text": [
            "599it [04:02,  2.45it/s]"
          ]
        },
        {
          "metadata": {
            "tags": null
          },
          "name": "stdout",
          "output_type": "stream",
          "text": [
            "\titers: 600, epoch: 4 | loss: 0.4954639\n",
            "\tspeed: 0.4046s/iter; left time: 5376.9213s\n"
          ]
        },
        {
          "metadata": {
            "tags": null
          },
          "name": "stderr",
          "output_type": "stream",
          "text": [
            "699it [04:43,  2.47it/s]"
          ]
        },
        {
          "metadata": {
            "tags": null
          },
          "name": "stdout",
          "output_type": "stream",
          "text": [
            "\titers: 700, epoch: 4 | loss: 0.6055526\n",
            "\tspeed: 0.4047s/iter; left time: 5337.4744s\n"
          ]
        },
        {
          "metadata": {
            "tags": null
          },
          "name": "stderr",
          "output_type": "stream",
          "text": [
            "799it [05:23,  2.48it/s]"
          ]
        },
        {
          "metadata": {
            "tags": null
          },
          "name": "stdout",
          "output_type": "stream",
          "text": [
            "\titers: 800, epoch: 4 | loss: 0.1944357\n",
            "\tspeed: 0.4041s/iter; left time: 5289.3716s\n"
          ]
        },
        {
          "metadata": {
            "tags": null
          },
          "name": "stderr",
          "output_type": "stream",
          "text": [
            "899it [06:04,  2.51it/s]"
          ]
        },
        {
          "metadata": {
            "tags": null
          },
          "name": "stdout",
          "output_type": "stream",
          "text": [
            "\titers: 900, epoch: 4 | loss: 0.4255860\n",
            "\tspeed: 0.4025s/iter; left time: 5228.6762s\n"
          ]
        },
        {
          "metadata": {
            "tags": null
          },
          "name": "stderr",
          "output_type": "stream",
          "text": [
            "999it [06:44,  2.46it/s]"
          ]
        },
        {
          "metadata": {
            "tags": null
          },
          "name": "stdout",
          "output_type": "stream",
          "text": [
            "\titers: 1000, epoch: 4 | loss: 0.4248292\n",
            "\tspeed: 0.4033s/iter; left time: 5198.6758s\n"
          ]
        },
        {
          "metadata": {
            "tags": null
          },
          "name": "stderr",
          "output_type": "stream",
          "text": [
            "1099it [07:24,  2.48it/s]"
          ]
        },
        {
          "metadata": {
            "tags": null
          },
          "name": "stdout",
          "output_type": "stream",
          "text": [
            "\titers: 1100, epoch: 4 | loss: 0.3190159\n",
            "\tspeed: 0.4038s/iter; left time: 5163.6122s\n"
          ]
        },
        {
          "metadata": {
            "tags": null
          },
          "name": "stderr",
          "output_type": "stream",
          "text": [
            "1199it [08:05,  2.48it/s]"
          ]
        },
        {
          "metadata": {
            "tags": null
          },
          "name": "stdout",
          "output_type": "stream",
          "text": [
            "\titers: 1200, epoch: 4 | loss: 0.7622113\n",
            "\tspeed: 0.4044s/iter; left time: 5131.0431s\n"
          ]
        },
        {
          "metadata": {
            "tags": null
          },
          "name": "stderr",
          "output_type": "stream",
          "text": [
            "1299it [08:45,  2.47it/s]"
          ]
        },
        {
          "metadata": {
            "tags": null
          },
          "name": "stdout",
          "output_type": "stream",
          "text": [
            "\titers: 1300, epoch: 4 | loss: 0.3657416\n",
            "\tspeed: 0.4046s/iter; left time: 5094.0402s\n"
          ]
        },
        {
          "metadata": {
            "tags": null
          },
          "name": "stderr",
          "output_type": "stream",
          "text": [
            "1399it [09:26,  2.45it/s]"
          ]
        },
        {
          "metadata": {
            "tags": null
          },
          "name": "stdout",
          "output_type": "stream",
          "text": [
            "\titers: 1400, epoch: 4 | loss: 0.1402922\n",
            "\tspeed: 0.4050s/iter; left time: 5058.3685s\n"
          ]
        },
        {
          "metadata": {
            "tags": null
          },
          "name": "stderr",
          "output_type": "stream",
          "text": [
            "1499it [10:06,  2.44it/s]"
          ]
        },
        {
          "metadata": {
            "tags": null
          },
          "name": "stdout",
          "output_type": "stream",
          "text": [
            "\titers: 1500, epoch: 4 | loss: 0.1790479\n",
            "\tspeed: 0.4050s/iter; left time: 5018.1532s\n"
          ]
        },
        {
          "metadata": {
            "tags": null
          },
          "name": "stderr",
          "output_type": "stream",
          "text": [
            "1599it [10:47,  2.48it/s]"
          ]
        },
        {
          "metadata": {
            "tags": null
          },
          "name": "stdout",
          "output_type": "stream",
          "text": [
            "\titers: 1600, epoch: 4 | loss: 0.4877236\n",
            "\tspeed: 0.4047s/iter; left time: 4973.1196s\n"
          ]
        },
        {
          "metadata": {
            "tags": null
          },
          "name": "stderr",
          "output_type": "stream",
          "text": [
            "1699it [11:27,  2.45it/s]"
          ]
        },
        {
          "metadata": {
            "tags": null
          },
          "name": "stdout",
          "output_type": "stream",
          "text": [
            "\titers: 1700, epoch: 4 | loss: 0.3824709\n",
            "\tspeed: 0.4055s/iter; left time: 4942.1711s\n"
          ]
        },
        {
          "metadata": {
            "tags": null
          },
          "name": "stderr",
          "output_type": "stream",
          "text": [
            "1799it [12:08,  2.43it/s]"
          ]
        },
        {
          "metadata": {
            "tags": null
          },
          "name": "stdout",
          "output_type": "stream",
          "text": [
            "\titers: 1800, epoch: 4 | loss: 1.7206292\n",
            "\tspeed: 0.4056s/iter; left time: 4903.5893s\n"
          ]
        },
        {
          "metadata": {
            "tags": null
          },
          "name": "stderr",
          "output_type": "stream",
          "text": [
            "1899it [12:48,  2.48it/s]"
          ]
        },
        {
          "metadata": {
            "tags": null
          },
          "name": "stdout",
          "output_type": "stream",
          "text": [
            "\titers: 1900, epoch: 4 | loss: 0.2989487\n",
            "\tspeed: 0.4028s/iter; left time: 4829.3988s\n"
          ]
        },
        {
          "metadata": {
            "tags": null
          },
          "name": "stderr",
          "output_type": "stream",
          "text": [
            "1999it [13:28,  2.48it/s]"
          ]
        },
        {
          "metadata": {
            "tags": null
          },
          "name": "stdout",
          "output_type": "stream",
          "text": [
            "\titers: 2000, epoch: 4 | loss: 0.5677763\n",
            "\tspeed: 0.4027s/iter; left time: 4787.8318s\n"
          ]
        },
        {
          "metadata": {
            "tags": null
          },
          "name": "stderr",
          "output_type": "stream",
          "text": [
            "2099it [14:09,  2.46it/s]"
          ]
        },
        {
          "metadata": {
            "tags": null
          },
          "name": "stdout",
          "output_type": "stream",
          "text": [
            "\titers: 2100, epoch: 4 | loss: 0.0893013\n",
            "\tspeed: 0.4033s/iter; left time: 4754.0887s\n"
          ]
        },
        {
          "metadata": {
            "tags": null
          },
          "name": "stderr",
          "output_type": "stream",
          "text": [
            "2199it [14:49,  2.46it/s]"
          ]
        },
        {
          "metadata": {
            "tags": null
          },
          "name": "stdout",
          "output_type": "stream",
          "text": [
            "\titers: 2200, epoch: 4 | loss: 0.1235968\n",
            "\tspeed: 0.4052s/iter; left time: 4736.1881s\n"
          ]
        },
        {
          "metadata": {
            "tags": null
          },
          "name": "stderr",
          "output_type": "stream",
          "text": [
            "2299it [15:30,  2.49it/s]"
          ]
        },
        {
          "metadata": {
            "tags": null
          },
          "name": "stdout",
          "output_type": "stream",
          "text": [
            "\titers: 2300, epoch: 4 | loss: 0.1381244\n",
            "\tspeed: 0.4046s/iter; left time: 4689.2021s\n"
          ]
        },
        {
          "metadata": {
            "tags": null
          },
          "name": "stderr",
          "output_type": "stream",
          "text": [
            "2399it [16:10,  2.48it/s]"
          ]
        },
        {
          "metadata": {
            "tags": null
          },
          "name": "stdout",
          "output_type": "stream",
          "text": [
            "\titers: 2400, epoch: 4 | loss: 0.1402112\n",
            "\tspeed: 0.4036s/iter; left time: 4636.6760s\n"
          ]
        },
        {
          "metadata": {
            "tags": null
          },
          "name": "stderr",
          "output_type": "stream",
          "text": [
            "2499it [16:50,  2.46it/s]"
          ]
        },
        {
          "metadata": {
            "tags": null
          },
          "name": "stdout",
          "output_type": "stream",
          "text": [
            "\titers: 2500, epoch: 4 | loss: 0.5797834\n",
            "\tspeed: 0.4033s/iter; left time: 4593.2656s\n"
          ]
        },
        {
          "metadata": {
            "tags": null
          },
          "name": "stderr",
          "output_type": "stream",
          "text": [
            "2599it [17:31,  2.50it/s]"
          ]
        },
        {
          "metadata": {
            "tags": null
          },
          "name": "stdout",
          "output_type": "stream",
          "text": [
            "\titers: 2600, epoch: 4 | loss: 0.6486441\n",
            "\tspeed: 0.4034s/iter; left time: 4553.8350s\n"
          ]
        },
        {
          "metadata": {
            "tags": null
          },
          "name": "stderr",
          "output_type": "stream",
          "text": [
            "2699it [18:11,  2.49it/s]"
          ]
        },
        {
          "metadata": {
            "tags": null
          },
          "name": "stdout",
          "output_type": "stream",
          "text": [
            "\titers: 2700, epoch: 4 | loss: 0.9354190\n",
            "\tspeed: 0.4034s/iter; left time: 4513.5516s\n"
          ]
        },
        {
          "metadata": {
            "tags": null
          },
          "name": "stderr",
          "output_type": "stream",
          "text": [
            "2799it [18:51,  2.51it/s]"
          ]
        },
        {
          "metadata": {
            "tags": null
          },
          "name": "stdout",
          "output_type": "stream",
          "text": [
            "\titers: 2800, epoch: 4 | loss: 1.4265201\n",
            "\tspeed: 0.4034s/iter; left time: 4473.5874s\n"
          ]
        },
        {
          "metadata": {
            "tags": null
          },
          "name": "stderr",
          "output_type": "stream",
          "text": [
            "2899it [19:32,  2.45it/s]"
          ]
        },
        {
          "metadata": {
            "tags": null
          },
          "name": "stdout",
          "output_type": "stream",
          "text": [
            "\titers: 2900, epoch: 4 | loss: 0.3574732\n",
            "\tspeed: 0.4042s/iter; left time: 4442.1947s\n"
          ]
        },
        {
          "metadata": {
            "tags": null
          },
          "name": "stderr",
          "output_type": "stream",
          "text": [
            "2999it [20:12,  2.45it/s]"
          ]
        },
        {
          "metadata": {
            "tags": null
          },
          "name": "stdout",
          "output_type": "stream",
          "text": [
            "\titers: 3000, epoch: 4 | loss: 0.7811586\n",
            "\tspeed: 0.4042s/iter; left time: 4401.7881s\n"
          ]
        },
        {
          "metadata": {
            "tags": null
          },
          "name": "stderr",
          "output_type": "stream",
          "text": [
            "3099it [20:52,  2.46it/s]"
          ]
        },
        {
          "metadata": {
            "tags": null
          },
          "name": "stdout",
          "output_type": "stream",
          "text": [
            "\titers: 3100, epoch: 4 | loss: 0.3111387\n",
            "\tspeed: 0.4022s/iter; left time: 4339.8462s\n"
          ]
        },
        {
          "metadata": {
            "tags": null
          },
          "name": "stderr",
          "output_type": "stream",
          "text": [
            "3199it [21:33,  2.49it/s]"
          ]
        },
        {
          "metadata": {
            "tags": null
          },
          "name": "stdout",
          "output_type": "stream",
          "text": [
            "\titers: 3200, epoch: 4 | loss: 0.5324172\n",
            "\tspeed: 0.4052s/iter; left time: 4331.6625s\n"
          ]
        },
        {
          "metadata": {
            "tags": null
          },
          "name": "stderr",
          "output_type": "stream",
          "text": [
            "3299it [22:13,  2.47it/s]"
          ]
        },
        {
          "metadata": {
            "tags": null
          },
          "name": "stdout",
          "output_type": "stream",
          "text": [
            "\titers: 3300, epoch: 4 | loss: 0.5023172\n",
            "\tspeed: 0.4047s/iter; left time: 4285.7213s\n"
          ]
        },
        {
          "metadata": {
            "tags": null
          },
          "name": "stderr",
          "output_type": "stream",
          "text": [
            "3399it [22:54,  2.49it/s]"
          ]
        },
        {
          "metadata": {
            "tags": null
          },
          "name": "stdout",
          "output_type": "stream",
          "text": [
            "\titers: 3400, epoch: 4 | loss: 0.1720184\n",
            "\tspeed: 0.4033s/iter; left time: 4230.6915s\n"
          ]
        },
        {
          "metadata": {
            "tags": null
          },
          "name": "stderr",
          "output_type": "stream",
          "text": [
            "3499it [23:34,  2.52it/s]"
          ]
        },
        {
          "metadata": {
            "tags": null
          },
          "name": "stdout",
          "output_type": "stream",
          "text": [
            "\titers: 3500, epoch: 4 | loss: 0.1938661\n",
            "\tspeed: 0.4037s/iter; left time: 4194.0852s\n"
          ]
        },
        {
          "metadata": {
            "tags": null
          },
          "name": "stderr",
          "output_type": "stream",
          "text": [
            "3599it [24:14,  2.45it/s]"
          ]
        },
        {
          "metadata": {
            "tags": null
          },
          "name": "stdout",
          "output_type": "stream",
          "text": [
            "\titers: 3600, epoch: 4 | loss: 1.1313703\n",
            "\tspeed: 0.4042s/iter; left time: 4159.0850s\n"
          ]
        },
        {
          "metadata": {
            "tags": null
          },
          "name": "stderr",
          "output_type": "stream",
          "text": [
            "3699it [24:55,  2.50it/s]"
          ]
        },
        {
          "metadata": {
            "tags": null
          },
          "name": "stdout",
          "output_type": "stream",
          "text": [
            "\titers: 3700, epoch: 4 | loss: 0.2159621\n",
            "\tspeed: 0.4036s/iter; left time: 4112.6640s\n"
          ]
        },
        {
          "metadata": {
            "tags": null
          },
          "name": "stderr",
          "output_type": "stream",
          "text": [
            "3799it [25:35,  2.48it/s]"
          ]
        },
        {
          "metadata": {
            "tags": null
          },
          "name": "stdout",
          "output_type": "stream",
          "text": [
            "\titers: 3800, epoch: 4 | loss: 0.2029400\n",
            "\tspeed: 0.4033s/iter; left time: 4069.2062s\n"
          ]
        },
        {
          "metadata": {
            "tags": null
          },
          "name": "stderr",
          "output_type": "stream",
          "text": [
            "3899it [26:15,  2.51it/s]"
          ]
        },
        {
          "metadata": {
            "tags": null
          },
          "name": "stdout",
          "output_type": "stream",
          "text": [
            "\titers: 3900, epoch: 4 | loss: 0.4219677\n",
            "\tspeed: 0.4029s/iter; left time: 4024.5637s\n"
          ]
        },
        {
          "metadata": {
            "tags": null
          },
          "name": "stderr",
          "output_type": "stream",
          "text": [
            "3999it [26:56,  2.46it/s]"
          ]
        },
        {
          "metadata": {
            "tags": null
          },
          "name": "stdout",
          "output_type": "stream",
          "text": [
            "\titers: 4000, epoch: 4 | loss: 0.2314053\n",
            "\tspeed: 0.4025s/iter; left time: 3980.7253s\n"
          ]
        },
        {
          "metadata": {
            "tags": null
          },
          "name": "stderr",
          "output_type": "stream",
          "text": [
            "4099it [27:36,  2.45it/s]"
          ]
        },
        {
          "metadata": {
            "tags": null
          },
          "name": "stdout",
          "output_type": "stream",
          "text": [
            "\titers: 4100, epoch: 4 | loss: 0.1124263\n",
            "\tspeed: 0.4039s/iter; left time: 3953.8509s\n"
          ]
        },
        {
          "metadata": {
            "tags": null
          },
          "name": "stderr",
          "output_type": "stream",
          "text": [
            "4199it [28:16,  2.47it/s]"
          ]
        },
        {
          "metadata": {
            "tags": null
          },
          "name": "stdout",
          "output_type": "stream",
          "text": [
            "\titers: 4200, epoch: 4 | loss: 0.3582595\n",
            "\tspeed: 0.4028s/iter; left time: 3902.9485s\n"
          ]
        },
        {
          "metadata": {
            "tags": null
          },
          "name": "stderr",
          "output_type": "stream",
          "text": [
            "4299it [28:57,  2.45it/s]"
          ]
        },
        {
          "metadata": {
            "tags": null
          },
          "name": "stdout",
          "output_type": "stream",
          "text": [
            "\titers: 4300, epoch: 4 | loss: 0.8555212\n",
            "\tspeed: 0.4033s/iter; left time: 3867.4185s\n"
          ]
        },
        {
          "metadata": {
            "tags": null
          },
          "name": "stderr",
          "output_type": "stream",
          "text": [
            "4399it [29:37,  2.50it/s]"
          ]
        },
        {
          "metadata": {
            "tags": null
          },
          "name": "stdout",
          "output_type": "stream",
          "text": [
            "\titers: 4400, epoch: 4 | loss: 0.2566374\n",
            "\tspeed: 0.4041s/iter; left time: 3834.7263s\n"
          ]
        },
        {
          "metadata": {
            "tags": null
          },
          "name": "stderr",
          "output_type": "stream",
          "text": [
            "4499it [30:18,  2.50it/s]"
          ]
        },
        {
          "metadata": {
            "tags": null
          },
          "name": "stdout",
          "output_type": "stream",
          "text": [
            "\titers: 4500, epoch: 4 | loss: 0.0722218\n",
            "\tspeed: 0.4042s/iter; left time: 3794.8087s\n"
          ]
        },
        {
          "metadata": {
            "tags": null
          },
          "name": "stderr",
          "output_type": "stream",
          "text": [
            "4599it [30:58,  2.49it/s]"
          ]
        },
        {
          "metadata": {
            "tags": null
          },
          "name": "stdout",
          "output_type": "stream",
          "text": [
            "\titers: 4600, epoch: 4 | loss: 0.3461517\n",
            "\tspeed: 0.4047s/iter; left time: 3759.0623s\n"
          ]
        },
        {
          "metadata": {
            "tags": null
          },
          "name": "stderr",
          "output_type": "stream",
          "text": [
            "4699it [31:39,  2.46it/s]"
          ]
        },
        {
          "metadata": {
            "tags": null
          },
          "name": "stdout",
          "output_type": "stream",
          "text": [
            "\titers: 4700, epoch: 4 | loss: 0.3305879\n",
            "\tspeed: 0.4050s/iter; left time: 3721.4811s\n"
          ]
        },
        {
          "metadata": {
            "tags": null
          },
          "name": "stderr",
          "output_type": "stream",
          "text": [
            "4799it [32:19,  2.46it/s]"
          ]
        },
        {
          "metadata": {
            "tags": null
          },
          "name": "stdout",
          "output_type": "stream",
          "text": [
            "\titers: 4800, epoch: 4 | loss: 0.8620805\n",
            "\tspeed: 0.4046s/iter; left time: 3677.1927s\n"
          ]
        },
        {
          "metadata": {
            "tags": null
          },
          "name": "stderr",
          "output_type": "stream",
          "text": [
            "4899it [32:59,  2.48it/s]"
          ]
        },
        {
          "metadata": {
            "tags": null
          },
          "name": "stdout",
          "output_type": "stream",
          "text": [
            "\titers: 4900, epoch: 4 | loss: 0.3020241\n",
            "\tspeed: 0.4033s/iter; left time: 3624.9271s\n"
          ]
        },
        {
          "metadata": {
            "tags": null
          },
          "name": "stderr",
          "output_type": "stream",
          "text": [
            "4999it [33:40,  2.52it/s]"
          ]
        },
        {
          "metadata": {
            "tags": null
          },
          "name": "stdout",
          "output_type": "stream",
          "text": [
            "\titers: 5000, epoch: 4 | loss: 0.2065300\n",
            "\tspeed: 0.4039s/iter; left time: 3590.2626s\n"
          ]
        },
        {
          "metadata": {
            "tags": null
          },
          "name": "stderr",
          "output_type": "stream",
          "text": [
            "5099it [34:20,  2.43it/s]"
          ]
        },
        {
          "metadata": {
            "tags": null
          },
          "name": "stdout",
          "output_type": "stream",
          "text": [
            "\titers: 5100, epoch: 4 | loss: 0.2002141\n",
            "\tspeed: 0.4072s/iter; left time: 3579.0830s\n"
          ]
        },
        {
          "metadata": {
            "tags": null
          },
          "name": "stderr",
          "output_type": "stream",
          "text": [
            "5199it [35:01,  2.48it/s]"
          ]
        },
        {
          "metadata": {
            "tags": null
          },
          "name": "stdout",
          "output_type": "stream",
          "text": [
            "\titers: 5200, epoch: 4 | loss: 1.2170486\n",
            "\tspeed: 0.4025s/iter; left time: 3497.4563s\n"
          ]
        },
        {
          "metadata": {
            "tags": null
          },
          "name": "stderr",
          "output_type": "stream",
          "text": [
            "5299it [35:41,  2.48it/s]"
          ]
        },
        {
          "metadata": {
            "tags": null
          },
          "name": "stdout",
          "output_type": "stream",
          "text": [
            "\titers: 5300, epoch: 4 | loss: 0.1826786\n",
            "\tspeed: 0.4042s/iter; left time: 3471.6792s\n"
          ]
        },
        {
          "metadata": {
            "tags": null
          },
          "name": "stderr",
          "output_type": "stream",
          "text": [
            "5399it [36:21,  2.48it/s]"
          ]
        },
        {
          "metadata": {
            "tags": null
          },
          "name": "stdout",
          "output_type": "stream",
          "text": [
            "\titers: 5400, epoch: 4 | loss: 1.0126777\n",
            "\tspeed: 0.4039s/iter; left time: 3428.6304s\n"
          ]
        },
        {
          "metadata": {
            "tags": null
          },
          "name": "stderr",
          "output_type": "stream",
          "text": [
            "5499it [37:02,  2.48it/s]"
          ]
        },
        {
          "metadata": {
            "tags": null
          },
          "name": "stdout",
          "output_type": "stream",
          "text": [
            "\titers: 5500, epoch: 4 | loss: 0.3961521\n",
            "\tspeed: 0.4039s/iter; left time: 3387.9019s\n"
          ]
        },
        {
          "metadata": {
            "tags": null
          },
          "name": "stderr",
          "output_type": "stream",
          "text": [
            "5599it [37:42,  2.50it/s]"
          ]
        },
        {
          "metadata": {
            "tags": null
          },
          "name": "stdout",
          "output_type": "stream",
          "text": [
            "\titers: 5600, epoch: 4 | loss: 0.8493237\n",
            "\tspeed: 0.4037s/iter; left time: 3345.9415s\n"
          ]
        },
        {
          "metadata": {
            "tags": null
          },
          "name": "stderr",
          "output_type": "stream",
          "text": [
            "5699it [38:23,  2.48it/s]"
          ]
        },
        {
          "metadata": {
            "tags": null
          },
          "name": "stdout",
          "output_type": "stream",
          "text": [
            "\titers: 5700, epoch: 4 | loss: 0.2215250\n",
            "\tspeed: 0.4038s/iter; left time: 3307.0765s\n"
          ]
        },
        {
          "metadata": {
            "tags": null
          },
          "name": "stderr",
          "output_type": "stream",
          "text": [
            "5799it [39:03,  2.52it/s]"
          ]
        },
        {
          "metadata": {
            "tags": null
          },
          "name": "stdout",
          "output_type": "stream",
          "text": [
            "\titers: 5800, epoch: 4 | loss: 0.2441336\n",
            "\tspeed: 0.4040s/iter; left time: 3267.6143s\n"
          ]
        },
        {
          "metadata": {
            "tags": null
          },
          "name": "stderr",
          "output_type": "stream",
          "text": [
            "5899it [39:43,  2.44it/s]"
          ]
        },
        {
          "metadata": {
            "tags": null
          },
          "name": "stdout",
          "output_type": "stream",
          "text": [
            "\titers: 5900, epoch: 4 | loss: 0.5703896\n",
            "\tspeed: 0.4042s/iter; left time: 3229.2506s\n"
          ]
        },
        {
          "metadata": {
            "tags": null
          },
          "name": "stderr",
          "output_type": "stream",
          "text": [
            "5999it [40:24,  2.45it/s]"
          ]
        },
        {
          "metadata": {
            "tags": null
          },
          "name": "stdout",
          "output_type": "stream",
          "text": [
            "\titers: 6000, epoch: 4 | loss: 0.1616328\n",
            "\tspeed: 0.4041s/iter; left time: 3188.2994s\n"
          ]
        },
        {
          "metadata": {
            "tags": null
          },
          "name": "stderr",
          "output_type": "stream",
          "text": [
            "6099it [41:04,  2.48it/s]"
          ]
        },
        {
          "metadata": {
            "tags": null
          },
          "name": "stdout",
          "output_type": "stream",
          "text": [
            "\titers: 6100, epoch: 4 | loss: 0.9440373\n",
            "\tspeed: 0.4015s/iter; left time: 3127.4493s\n"
          ]
        },
        {
          "metadata": {
            "tags": null
          },
          "name": "stderr",
          "output_type": "stream",
          "text": [
            "6199it [41:44,  2.45it/s]"
          ]
        },
        {
          "metadata": {
            "tags": null
          },
          "name": "stdout",
          "output_type": "stream",
          "text": [
            "\titers: 6200, epoch: 4 | loss: 0.2502814\n",
            "\tspeed: 0.4040s/iter; left time: 3106.6721s\n"
          ]
        },
        {
          "metadata": {
            "tags": null
          },
          "name": "stderr",
          "output_type": "stream",
          "text": [
            "6299it [42:25,  2.49it/s]"
          ]
        },
        {
          "metadata": {
            "tags": null
          },
          "name": "stdout",
          "output_type": "stream",
          "text": [
            "\titers: 6300, epoch: 4 | loss: 0.5483679\n",
            "\tspeed: 0.4032s/iter; left time: 3059.7763s\n"
          ]
        },
        {
          "metadata": {
            "tags": null
          },
          "name": "stderr",
          "output_type": "stream",
          "text": [
            "6399it [43:05,  2.49it/s]"
          ]
        },
        {
          "metadata": {
            "tags": null
          },
          "name": "stdout",
          "output_type": "stream",
          "text": [
            "\titers: 6400, epoch: 4 | loss: 0.1567638\n",
            "\tspeed: 0.4063s/iter; left time: 3042.7973s\n"
          ]
        },
        {
          "metadata": {
            "tags": null
          },
          "name": "stderr",
          "output_type": "stream",
          "text": [
            "6499it [43:46,  2.45it/s]"
          ]
        },
        {
          "metadata": {
            "tags": null
          },
          "name": "stdout",
          "output_type": "stream",
          "text": [
            "\titers: 6500, epoch: 4 | loss: 0.4504017\n",
            "\tspeed: 0.4039s/iter; left time: 2984.4030s\n"
          ]
        },
        {
          "metadata": {
            "tags": null
          },
          "name": "stderr",
          "output_type": "stream",
          "text": [
            "6599it [44:26,  2.48it/s]"
          ]
        },
        {
          "metadata": {
            "tags": null
          },
          "name": "stdout",
          "output_type": "stream",
          "text": [
            "\titers: 6600, epoch: 4 | loss: 0.1336388\n",
            "\tspeed: 0.4051s/iter; left time: 2952.6963s\n"
          ]
        },
        {
          "metadata": {
            "tags": null
          },
          "name": "stderr",
          "output_type": "stream",
          "text": [
            "6699it [45:07,  2.50it/s]"
          ]
        },
        {
          "metadata": {
            "tags": null
          },
          "name": "stdout",
          "output_type": "stream",
          "text": [
            "\titers: 6700, epoch: 4 | loss: 0.2905756\n",
            "\tspeed: 0.4046s/iter; left time: 2908.7133s\n"
          ]
        },
        {
          "metadata": {
            "tags": null
          },
          "name": "stderr",
          "output_type": "stream",
          "text": [
            "6799it [45:47,  2.48it/s]"
          ]
        },
        {
          "metadata": {
            "tags": null
          },
          "name": "stdout",
          "output_type": "stream",
          "text": [
            "\titers: 6800, epoch: 4 | loss: 0.7037845\n",
            "\tspeed: 0.4040s/iter; left time: 2863.7506s\n"
          ]
        },
        {
          "metadata": {
            "tags": null
          },
          "name": "stderr",
          "output_type": "stream",
          "text": [
            "6899it [46:27,  2.50it/s]"
          ]
        },
        {
          "metadata": {
            "tags": null
          },
          "name": "stdout",
          "output_type": "stream",
          "text": [
            "\titers: 6900, epoch: 4 | loss: 0.3988033\n",
            "\tspeed: 0.4029s/iter; left time: 2816.0746s\n"
          ]
        },
        {
          "metadata": {
            "tags": null
          },
          "name": "stderr",
          "output_type": "stream",
          "text": [
            "6944it [46:46,  2.47it/s]\n"
          ]
        },
        {
          "metadata": {
            "tags": null
          },
          "name": "stdout",
          "output_type": "stream",
          "text": [
            "Epoch: 4 cost time: 2806.205602169037\n"
          ]
        },
        {
          "metadata": {
            "tags": null
          },
          "name": "stderr",
          "output_type": "stream",
          "text": [
            "2352it [07:15,  5.40it/s]\n",
            "2352it [07:09,  5.48it/s]\n"
          ]
        },
        {
          "metadata": {
            "tags": null
          },
          "name": "stdout",
          "output_type": "stream",
          "text": [
            "Epoch: 4 | Train Loss: 0.5199829 Vali Loss: 0.3081520 Test Loss: 0.3598046 MAE Loss: 0.3939525\n",
            "Drive already mounted at /content/gdrive; to attempt to forcibly remount, call drive.mount(\"/content/gdrive\", force_remount=True).\n",
            "/content/gdrive/MyDrive/TimeLLM\n",
            "EarlyStopping counter: 1 out of 10\n",
            "Updating learning rate to 9.999999999999983e-05\n"
          ]
        },
        {
          "metadata": {
            "tags": null
          },
          "name": "stderr",
          "output_type": "stream",
          "text": [
            "99it [00:40,  2.49it/s]"
          ]
        },
        {
          "metadata": {
            "tags": null
          },
          "name": "stdout",
          "output_type": "stream",
          "text": [
            "\titers: 100, epoch: 5 | loss: 0.3122911\n",
            "\tspeed: 10.4343s/iter; left time: 71423.0554s\n"
          ]
        },
        {
          "output_type": "stream",
          "name": "stderr",
          "text": [
            "199it [01:20,  2.51it/s]"
          ]
        },
        {
          "output_type": "stream",
          "name": "stdout",
          "text": [
            "\titers: 200, epoch: 5 | loss: 0.2341464\n",
            "\tspeed: 0.4010s/iter; left time: 2704.5951s\n"
          ]
        },
        {
          "output_type": "stream",
          "name": "stderr",
          "text": [
            "299it [02:00,  2.47it/s]"
          ]
        },
        {
          "output_type": "stream",
          "name": "stdout",
          "text": [
            "\titers: 300, epoch: 5 | loss: 0.3303978\n",
            "\tspeed: 0.4033s/iter; left time: 2679.9035s\n"
          ]
        },
        {
          "output_type": "stream",
          "name": "stderr",
          "text": [
            "399it [02:41,  2.44it/s]"
          ]
        },
        {
          "output_type": "stream",
          "name": "stdout",
          "text": [
            "\titers: 400, epoch: 5 | loss: 0.3215182\n",
            "\tspeed: 0.4048s/iter; left time: 2649.6690s\n"
          ]
        },
        {
          "output_type": "stream",
          "name": "stderr",
          "text": [
            "499it [03:21,  2.47it/s]"
          ]
        },
        {
          "output_type": "stream",
          "name": "stdout",
          "text": [
            "\titers: 500, epoch: 5 | loss: 0.3326752\n",
            "\tspeed: 0.4045s/iter; left time: 2606.9329s\n"
          ]
        },
        {
          "output_type": "stream",
          "name": "stderr",
          "text": [
            "599it [04:01,  2.51it/s]"
          ]
        },
        {
          "output_type": "stream",
          "name": "stdout",
          "text": [
            "\titers: 600, epoch: 5 | loss: 0.2172725\n",
            "\tspeed: 0.4034s/iter; left time: 2559.8133s\n"
          ]
        },
        {
          "output_type": "stream",
          "name": "stderr",
          "text": [
            "699it [04:42,  2.48it/s]"
          ]
        },
        {
          "output_type": "stream",
          "name": "stdout",
          "text": [
            "\titers: 700, epoch: 5 | loss: 0.1574042\n",
            "\tspeed: 0.4036s/iter; left time: 2520.4195s\n"
          ]
        },
        {
          "output_type": "stream",
          "name": "stderr",
          "text": [
            "799it [05:22,  2.46it/s]"
          ]
        },
        {
          "output_type": "stream",
          "name": "stdout",
          "text": [
            "\titers: 800, epoch: 5 | loss: 0.4052239\n",
            "\tspeed: 0.4038s/iter; left time: 2481.6560s\n"
          ]
        },
        {
          "output_type": "stream",
          "name": "stderr",
          "text": [
            "899it [06:03,  2.44it/s]"
          ]
        },
        {
          "output_type": "stream",
          "name": "stdout",
          "text": [
            "\titers: 900, epoch: 5 | loss: 0.7569225\n",
            "\tspeed: 0.4051s/iter; left time: 2448.8414s\n"
          ]
        },
        {
          "output_type": "stream",
          "name": "stderr",
          "text": [
            "999it [06:43,  2.49it/s]"
          ]
        },
        {
          "output_type": "stream",
          "name": "stdout",
          "text": [
            "\titers: 1000, epoch: 5 | loss: 0.1324711\n",
            "\tspeed: 0.4028s/iter; left time: 2394.9128s\n"
          ]
        },
        {
          "output_type": "stream",
          "name": "stderr",
          "text": [
            "1099it [07:23,  2.48it/s]"
          ]
        },
        {
          "output_type": "stream",
          "name": "stdout",
          "text": [
            "\titers: 1100, epoch: 5 | loss: 0.8865778\n",
            "\tspeed: 0.4027s/iter; left time: 2353.6504s\n"
          ]
        },
        {
          "output_type": "stream",
          "name": "stderr",
          "text": [
            "1199it [08:04,  2.44it/s]"
          ]
        },
        {
          "output_type": "stream",
          "name": "stdout",
          "text": [
            "\titers: 1200, epoch: 5 | loss: 0.3049063\n",
            "\tspeed: 0.4044s/iter; left time: 2323.2098s\n"
          ]
        },
        {
          "output_type": "stream",
          "name": "stderr",
          "text": [
            "1299it [08:44,  2.49it/s]"
          ]
        },
        {
          "output_type": "stream",
          "name": "stdout",
          "text": [
            "\titers: 1300, epoch: 5 | loss: 1.1417768\n",
            "\tspeed: 0.4044s/iter; left time: 2282.6361s\n"
          ]
        },
        {
          "output_type": "stream",
          "name": "stderr",
          "text": [
            "1399it [09:25,  2.45it/s]"
          ]
        },
        {
          "output_type": "stream",
          "name": "stdout",
          "text": [
            "\titers: 1400, epoch: 5 | loss: 0.3065259\n",
            "\tspeed: 0.4041s/iter; left time: 2240.6082s\n"
          ]
        },
        {
          "output_type": "stream",
          "name": "stderr",
          "text": [
            "1499it [10:05,  2.47it/s]"
          ]
        },
        {
          "output_type": "stream",
          "name": "stdout",
          "text": [
            "\titers: 1500, epoch: 5 | loss: 0.1001150\n",
            "\tspeed: 0.4038s/iter; left time: 2198.5709s\n"
          ]
        },
        {
          "output_type": "stream",
          "name": "stderr",
          "text": [
            "1599it [10:45,  2.46it/s]"
          ]
        },
        {
          "output_type": "stream",
          "name": "stdout",
          "text": [
            "\titers: 1600, epoch: 5 | loss: 1.5751531\n",
            "\tspeed: 0.4036s/iter; left time: 2157.2921s\n"
          ]
        },
        {
          "output_type": "stream",
          "name": "stderr",
          "text": [
            "1699it [11:26,  2.44it/s]"
          ]
        },
        {
          "output_type": "stream",
          "name": "stdout",
          "text": [
            "\titers: 1700, epoch: 5 | loss: 0.2613779\n",
            "\tspeed: 0.4038s/iter; left time: 2117.8618s\n"
          ]
        },
        {
          "output_type": "stream",
          "name": "stderr",
          "text": [
            "1799it [12:06,  2.45it/s]"
          ]
        },
        {
          "output_type": "stream",
          "name": "stdout",
          "text": [
            "\titers: 1800, epoch: 5 | loss: 0.3453295\n",
            "\tspeed: 0.4040s/iter; left time: 2078.4937s\n"
          ]
        },
        {
          "output_type": "stream",
          "name": "stderr",
          "text": [
            "1899it [12:47,  2.49it/s]"
          ]
        },
        {
          "output_type": "stream",
          "name": "stdout",
          "text": [
            "\titers: 1900, epoch: 5 | loss: 0.1580043\n",
            "\tspeed: 0.4057s/iter; left time: 2046.8502s\n"
          ]
        },
        {
          "output_type": "stream",
          "name": "stderr",
          "text": [
            "1999it [13:27,  2.47it/s]"
          ]
        },
        {
          "output_type": "stream",
          "name": "stdout",
          "text": [
            "\titers: 2000, epoch: 5 | loss: 0.4373916\n",
            "\tspeed: 0.4035s/iter; left time: 1995.4517s\n"
          ]
        },
        {
          "output_type": "stream",
          "name": "stderr",
          "text": [
            "2099it [14:07,  2.50it/s]"
          ]
        },
        {
          "output_type": "stream",
          "name": "stdout",
          "text": [
            "\titers: 2100, epoch: 5 | loss: 0.2501898\n",
            "\tspeed: 0.4040s/iter; left time: 1957.3743s\n"
          ]
        },
        {
          "output_type": "stream",
          "name": "stderr",
          "text": [
            "2199it [14:48,  2.45it/s]"
          ]
        },
        {
          "output_type": "stream",
          "name": "stdout",
          "text": [
            "\titers: 2200, epoch: 5 | loss: 0.3404554\n",
            "\tspeed: 0.4027s/iter; left time: 1910.8674s\n"
          ]
        },
        {
          "output_type": "stream",
          "name": "stderr",
          "text": [
            "2299it [15:28,  2.43it/s]"
          ]
        },
        {
          "output_type": "stream",
          "name": "stdout",
          "text": [
            "\titers: 2300, epoch: 5 | loss: 0.5931033\n",
            "\tspeed: 0.4031s/iter; left time: 1872.4049s\n"
          ]
        },
        {
          "output_type": "stream",
          "name": "stderr",
          "text": [
            "2399it [16:08,  2.44it/s]"
          ]
        },
        {
          "output_type": "stream",
          "name": "stdout",
          "text": [
            "\titers: 2400, epoch: 5 | loss: 0.1206907\n",
            "\tspeed: 0.4037s/iter; left time: 1835.0233s\n"
          ]
        },
        {
          "output_type": "stream",
          "name": "stderr",
          "text": [
            "2499it [16:49,  2.46it/s]"
          ]
        },
        {
          "output_type": "stream",
          "name": "stdout",
          "text": [
            "\titers: 2500, epoch: 5 | loss: 0.5462599\n",
            "\tspeed: 0.4024s/iter; left time: 1788.6293s\n"
          ]
        },
        {
          "output_type": "stream",
          "name": "stderr",
          "text": [
            "2599it [17:29,  2.47it/s]"
          ]
        },
        {
          "output_type": "stream",
          "name": "stdout",
          "text": [
            "\titers: 2600, epoch: 5 | loss: 0.1438272\n",
            "\tspeed: 0.4031s/iter; left time: 1751.2886s\n"
          ]
        },
        {
          "output_type": "stream",
          "name": "stderr",
          "text": [
            "2699it [18:09,  2.45it/s]"
          ]
        },
        {
          "output_type": "stream",
          "name": "stdout",
          "text": [
            "\titers: 2700, epoch: 5 | loss: 0.1213621\n",
            "\tspeed: 0.4028s/iter; left time: 1709.7283s\n"
          ]
        },
        {
          "output_type": "stream",
          "name": "stderr",
          "text": [
            "2799it [18:50,  2.53it/s]"
          ]
        },
        {
          "output_type": "stream",
          "name": "stdout",
          "text": [
            "\titers: 2800, epoch: 5 | loss: 0.6420681\n",
            "\tspeed: 0.4037s/iter; left time: 1673.2421s\n"
          ]
        },
        {
          "output_type": "stream",
          "name": "stderr",
          "text": [
            "2899it [19:30,  2.45it/s]"
          ]
        },
        {
          "output_type": "stream",
          "name": "stdout",
          "text": [
            "\titers: 2900, epoch: 5 | loss: 0.2514406\n",
            "\tspeed: 0.4032s/iter; left time: 1631.1181s\n"
          ]
        },
        {
          "output_type": "stream",
          "name": "stderr",
          "text": [
            "2999it [20:10,  2.48it/s]"
          ]
        },
        {
          "output_type": "stream",
          "name": "stdout",
          "text": [
            "\titers: 3000, epoch: 5 | loss: 0.4467729\n",
            "\tspeed: 0.4033s/iter; left time: 1591.1192s\n"
          ]
        },
        {
          "output_type": "stream",
          "name": "stderr",
          "text": [
            "3099it [20:51,  2.49it/s]"
          ]
        },
        {
          "output_type": "stream",
          "name": "stdout",
          "text": [
            "\titers: 3100, epoch: 5 | loss: 1.7656574\n",
            "\tspeed: 0.4035s/iter; left time: 1551.4547s\n"
          ]
        },
        {
          "output_type": "stream",
          "name": "stderr",
          "text": [
            "3199it [21:31,  2.47it/s]"
          ]
        },
        {
          "output_type": "stream",
          "name": "stdout",
          "text": [
            "\titers: 3200, epoch: 5 | loss: 0.1599858\n",
            "\tspeed: 0.4032s/iter; left time: 1510.1395s\n"
          ]
        },
        {
          "output_type": "stream",
          "name": "stderr",
          "text": [
            "3299it [22:11,  2.47it/s]"
          ]
        },
        {
          "output_type": "stream",
          "name": "stdout",
          "text": [
            "\titers: 3300, epoch: 5 | loss: 0.7455763\n",
            "\tspeed: 0.4038s/iter; left time: 1471.9386s\n"
          ]
        },
        {
          "output_type": "stream",
          "name": "stderr",
          "text": [
            "3399it [22:52,  2.48it/s]"
          ]
        },
        {
          "output_type": "stream",
          "name": "stdout",
          "text": [
            "\titers: 3400, epoch: 5 | loss: 1.5085359\n",
            "\tspeed: 0.4039s/iter; left time: 1431.8483s\n"
          ]
        },
        {
          "output_type": "stream",
          "name": "stderr",
          "text": [
            "3499it [23:32,  2.48it/s]"
          ]
        },
        {
          "output_type": "stream",
          "name": "stdout",
          "text": [
            "\titers: 3500, epoch: 5 | loss: 0.2088421\n",
            "\tspeed: 0.4026s/iter; left time: 1386.9583s\n"
          ]
        },
        {
          "output_type": "stream",
          "name": "stderr",
          "text": [
            "3599it [24:12,  2.49it/s]"
          ]
        },
        {
          "output_type": "stream",
          "name": "stdout",
          "text": [
            "\titers: 3600, epoch: 5 | loss: 0.2442486\n",
            "\tspeed: 0.4052s/iter; left time: 1355.4019s\n"
          ]
        },
        {
          "output_type": "stream",
          "name": "stderr",
          "text": [
            "3699it [24:53,  2.50it/s]"
          ]
        },
        {
          "output_type": "stream",
          "name": "stdout",
          "text": [
            "\titers: 3700, epoch: 5 | loss: 0.3275038\n",
            "\tspeed: 0.4024s/iter; left time: 1305.8859s\n"
          ]
        },
        {
          "output_type": "stream",
          "name": "stderr",
          "text": [
            "3799it [25:33,  2.48it/s]"
          ]
        },
        {
          "output_type": "stream",
          "name": "stdout",
          "text": [
            "\titers: 3800, epoch: 5 | loss: 0.2274876\n",
            "\tspeed: 0.4025s/iter; left time: 1266.0028s\n"
          ]
        },
        {
          "output_type": "stream",
          "name": "stderr",
          "text": [
            "3899it [26:13,  2.49it/s]"
          ]
        },
        {
          "output_type": "stream",
          "name": "stdout",
          "text": [
            "\titers: 3900, epoch: 5 | loss: 0.3503321\n",
            "\tspeed: 0.4033s/iter; left time: 1228.0337s\n"
          ]
        },
        {
          "output_type": "stream",
          "name": "stderr",
          "text": [
            "3999it [26:54,  2.47it/s]"
          ]
        },
        {
          "output_type": "stream",
          "name": "stdout",
          "text": [
            "\titers: 4000, epoch: 5 | loss: 0.3042973\n",
            "\tspeed: 0.4029s/iter; left time: 1186.5091s\n"
          ]
        },
        {
          "output_type": "stream",
          "name": "stderr",
          "text": [
            "4099it [27:34,  2.47it/s]"
          ]
        },
        {
          "output_type": "stream",
          "name": "stdout",
          "text": [
            "\titers: 4100, epoch: 5 | loss: 0.2506845\n",
            "\tspeed: 0.4042s/iter; left time: 1149.8527s\n"
          ]
        },
        {
          "output_type": "stream",
          "name": "stderr",
          "text": [
            "4199it [28:14,  2.50it/s]"
          ]
        },
        {
          "output_type": "stream",
          "name": "stdout",
          "text": [
            "\titers: 4200, epoch: 5 | loss: 0.3317701\n",
            "\tspeed: 0.4025s/iter; left time: 1104.8189s\n"
          ]
        },
        {
          "output_type": "stream",
          "name": "stderr",
          "text": [
            "4299it [28:55,  2.45it/s]"
          ]
        },
        {
          "output_type": "stream",
          "name": "stdout",
          "text": [
            "\titers: 4300, epoch: 5 | loss: 1.1815971\n",
            "\tspeed: 0.4042s/iter; left time: 1069.0195s\n"
          ]
        },
        {
          "output_type": "stream",
          "name": "stderr",
          "text": [
            "4399it [29:35,  2.49it/s]"
          ]
        },
        {
          "output_type": "stream",
          "name": "stdout",
          "text": [
            "\titers: 4400, epoch: 5 | loss: 0.2186664\n",
            "\tspeed: 0.4061s/iter; left time: 1033.4551s\n"
          ]
        },
        {
          "output_type": "stream",
          "name": "stderr",
          "text": [
            "4499it [30:16,  2.45it/s]"
          ]
        },
        {
          "output_type": "stream",
          "name": "stdout",
          "text": [
            "\titers: 4500, epoch: 5 | loss: 1.4107580\n",
            "\tspeed: 0.4044s/iter; left time: 988.6722s\n"
          ]
        },
        {
          "output_type": "stream",
          "name": "stderr",
          "text": [
            "4599it [30:56,  2.47it/s]"
          ]
        },
        {
          "output_type": "stream",
          "name": "stdout",
          "text": [
            "\titers: 4600, epoch: 5 | loss: 0.9664081\n",
            "\tspeed: 0.4040s/iter; left time: 947.3043s\n"
          ]
        },
        {
          "output_type": "stream",
          "name": "stderr",
          "text": [
            "4699it [31:37,  2.53it/s]"
          ]
        },
        {
          "output_type": "stream",
          "name": "stdout",
          "text": [
            "\titers: 4700, epoch: 5 | loss: 0.4820847\n",
            "\tspeed: 0.4046s/iter; left time: 908.2500s\n"
          ]
        },
        {
          "output_type": "stream",
          "name": "stderr",
          "text": [
            "4799it [32:17,  2.45it/s]"
          ]
        },
        {
          "output_type": "stream",
          "name": "stdout",
          "text": [
            "\titers: 4800, epoch: 5 | loss: 0.1563370\n",
            "\tspeed: 0.4057s/iter; left time: 870.2986s\n"
          ]
        },
        {
          "output_type": "stream",
          "name": "stderr",
          "text": [
            "4899it [32:58,  2.51it/s]"
          ]
        },
        {
          "output_type": "stream",
          "name": "stdout",
          "text": [
            "\titers: 4900, epoch: 5 | loss: 1.4903889\n",
            "\tspeed: 0.4042s/iter; left time: 826.5140s\n"
          ]
        },
        {
          "output_type": "stream",
          "name": "stderr",
          "text": [
            "4999it [33:38,  2.51it/s]"
          ]
        },
        {
          "output_type": "stream",
          "name": "stdout",
          "text": [
            "\titers: 5000, epoch: 5 | loss: 0.2470661\n",
            "\tspeed: 0.4033s/iter; left time: 784.4639s\n"
          ]
        },
        {
          "output_type": "stream",
          "name": "stderr",
          "text": [
            "5099it [34:18,  2.49it/s]"
          ]
        },
        {
          "output_type": "stream",
          "name": "stdout",
          "text": [
            "\titers: 5100, epoch: 5 | loss: 1.2927516\n",
            "\tspeed: 0.4043s/iter; left time: 745.9265s\n"
          ]
        },
        {
          "output_type": "stream",
          "name": "stderr",
          "text": [
            "5199it [34:59,  2.45it/s]"
          ]
        },
        {
          "output_type": "stream",
          "name": "stdout",
          "text": [
            "\titers: 5200, epoch: 5 | loss: 0.1787128\n",
            "\tspeed: 0.4045s/iter; left time: 705.8075s\n"
          ]
        },
        {
          "output_type": "stream",
          "name": "stderr",
          "text": [
            "5299it [35:39,  2.46it/s]"
          ]
        },
        {
          "output_type": "stream",
          "name": "stdout",
          "text": [
            "\titers: 5300, epoch: 5 | loss: 0.6369785\n",
            "\tspeed: 0.4032s/iter; left time: 663.1968s\n"
          ]
        },
        {
          "output_type": "stream",
          "name": "stderr",
          "text": [
            "5399it [36:19,  2.48it/s]"
          ]
        },
        {
          "output_type": "stream",
          "name": "stdout",
          "text": [
            "\titers: 5400, epoch: 5 | loss: 0.5410396\n",
            "\tspeed: 0.4034s/iter; left time: 623.2833s\n"
          ]
        },
        {
          "output_type": "stream",
          "name": "stderr",
          "text": [
            "5499it [37:00,  2.45it/s]"
          ]
        },
        {
          "output_type": "stream",
          "name": "stdout",
          "text": [
            "\titers: 5500, epoch: 5 | loss: 0.5798604\n",
            "\tspeed: 0.4034s/iter; left time: 582.9742s\n"
          ]
        },
        {
          "output_type": "stream",
          "name": "stderr",
          "text": [
            "5599it [37:40,  2.48it/s]"
          ]
        },
        {
          "output_type": "stream",
          "name": "stdout",
          "text": [
            "\titers: 5600, epoch: 5 | loss: 0.4418801\n",
            "\tspeed: 0.4043s/iter; left time: 543.8071s\n"
          ]
        },
        {
          "output_type": "stream",
          "name": "stderr",
          "text": [
            "5699it [38:21,  2.48it/s]"
          ]
        },
        {
          "output_type": "stream",
          "name": "stdout",
          "text": [
            "\titers: 5700, epoch: 5 | loss: 0.2867056\n",
            "\tspeed: 0.4042s/iter; left time: 503.1980s\n"
          ]
        },
        {
          "output_type": "stream",
          "name": "stderr",
          "text": [
            "5799it [39:01,  2.44it/s]"
          ]
        },
        {
          "output_type": "stream",
          "name": "stdout",
          "text": [
            "\titers: 5800, epoch: 5 | loss: 0.2284665\n",
            "\tspeed: 0.4043s/iter; left time: 462.9202s\n"
          ]
        },
        {
          "output_type": "stream",
          "name": "stderr",
          "text": [
            "5899it [39:41,  2.45it/s]"
          ]
        },
        {
          "output_type": "stream",
          "name": "stdout",
          "text": [
            "\titers: 5900, epoch: 5 | loss: 1.4473333\n",
            "\tspeed: 0.4038s/iter; left time: 422.0070s\n"
          ]
        },
        {
          "output_type": "stream",
          "name": "stderr",
          "text": [
            "5999it [40:22,  2.54it/s]"
          ]
        },
        {
          "output_type": "stream",
          "name": "stdout",
          "text": [
            "\titers: 6000, epoch: 5 | loss: 0.2081372\n",
            "\tspeed: 0.4028s/iter; left time: 380.6225s\n"
          ]
        },
        {
          "output_type": "stream",
          "name": "stderr",
          "text": [
            "6099it [41:02,  2.46it/s]"
          ]
        },
        {
          "output_type": "stream",
          "name": "stdout",
          "text": [
            "\titers: 6100, epoch: 5 | loss: 0.4542158\n",
            "\tspeed: 0.4032s/iter; left time: 340.6631s\n"
          ]
        },
        {
          "output_type": "stream",
          "name": "stderr",
          "text": [
            "6199it [41:42,  2.49it/s]"
          ]
        },
        {
          "output_type": "stream",
          "name": "stdout",
          "text": [
            "\titers: 6200, epoch: 5 | loss: 0.1991814\n",
            "\tspeed: 0.4025s/iter; left time: 299.8355s\n"
          ]
        },
        {
          "output_type": "stream",
          "name": "stderr",
          "text": [
            "6299it [42:23,  2.46it/s]"
          ]
        },
        {
          "output_type": "stream",
          "name": "stdout",
          "text": [
            "\titers: 6300, epoch: 5 | loss: 0.2220227\n",
            "\tspeed: 0.4032s/iter; left time: 260.0382s\n"
          ]
        },
        {
          "output_type": "stream",
          "name": "stderr",
          "text": [
            "6399it [43:03,  2.47it/s]"
          ]
        },
        {
          "output_type": "stream",
          "name": "stdout",
          "text": [
            "\titers: 6400, epoch: 5 | loss: 0.9301475\n",
            "\tspeed: 0.4046s/iter; left time: 220.5122s\n"
          ]
        },
        {
          "output_type": "stream",
          "name": "stderr",
          "text": [
            "6499it [43:43,  2.52it/s]"
          ]
        },
        {
          "output_type": "stream",
          "name": "stdout",
          "text": [
            "\titers: 6500, epoch: 5 | loss: 2.1179414\n",
            "\tspeed: 0.4043s/iter; left time: 179.9349s\n"
          ]
        },
        {
          "output_type": "stream",
          "name": "stderr",
          "text": [
            "6599it [44:24,  2.43it/s]"
          ]
        },
        {
          "output_type": "stream",
          "name": "stdout",
          "text": [
            "\titers: 6600, epoch: 5 | loss: 0.3389637\n",
            "\tspeed: 0.4045s/iter; left time: 139.5668s\n"
          ]
        },
        {
          "output_type": "stream",
          "name": "stderr",
          "text": [
            "6699it [45:04,  2.48it/s]"
          ]
        },
        {
          "output_type": "stream",
          "name": "stdout",
          "text": [
            "\titers: 6700, epoch: 5 | loss: 0.8452062\n",
            "\tspeed: 0.4034s/iter; left time: 98.8223s\n"
          ]
        },
        {
          "output_type": "stream",
          "name": "stderr",
          "text": [
            "6799it [45:45,  2.50it/s]"
          ]
        },
        {
          "output_type": "stream",
          "name": "stdout",
          "text": [
            "\titers: 6800, epoch: 5 | loss: 0.2001738\n",
            "\tspeed: 0.4040s/iter; left time: 58.5849s\n"
          ]
        },
        {
          "output_type": "stream",
          "name": "stderr",
          "text": [
            "6899it [46:25,  2.47it/s]"
          ]
        },
        {
          "output_type": "stream",
          "name": "stdout",
          "text": [
            "\titers: 6900, epoch: 5 | loss: 0.7630963\n",
            "\tspeed: 0.4034s/iter; left time: 18.1517s\n"
          ]
        },
        {
          "output_type": "stream",
          "name": "stderr",
          "text": [
            "6944it [46:43,  2.48it/s]\n"
          ]
        },
        {
          "output_type": "stream",
          "name": "stdout",
          "text": [
            "Epoch: 5 cost time: 2803.7430849075317\n"
          ]
        },
        {
          "output_type": "stream",
          "name": "stderr",
          "text": [
            "2352it [07:14,  5.41it/s]\n",
            "2352it [07:09,  5.48it/s]\n"
          ]
        },
        {
          "output_type": "stream",
          "name": "stdout",
          "text": [
            "Epoch: 5 | Train Loss: 0.5097959 Vali Loss: 0.3148789 Test Loss: 0.3713174 MAE Loss: 0.3995726\n",
            "Drive already mounted at /content/gdrive; to attempt to forcibly remount, call drive.mount(\"/content/gdrive\", force_remount=True).\n",
            "/content/gdrive/MyDrive/TimeLLM\n",
            "EarlyStopping counter: 2 out of 10\n",
            "Updating learning rate to 4.9999999999999914e-05\n",
            "Words: 32000\n",
            "Tokens: 1000\n",
            "Trained parameters: 13\n",
            "Total parameters: 6653542056\n",
            "Total parameters (trainable): 46198440\n",
            "Total parameters (non-trainable): 6607343616\n"
          ]
        }
      ],
      "source": [
        "# Run it\n",
        "train(args)"
      ]
    }
  ],
  "metadata": {
    "accelerator": "GPU",
    "colab": {
      "gpuType": "A100",
      "machine_shape": "hm",
      "provenance": [],
      "mount_file_id": "1VhWIfUWQxpNCVOd3LbJwKBfj0PUdI-uo",
      "authorship_tag": "ABX9TyNLUZG0WEf+5BVVcU9t/5+k",
      "include_colab_link": true
    },
    "kernelspec": {
      "display_name": "Python 3",
      "name": "python3"
    },
    "language_info": {
      "name": "python"
    },
    "widgets": {
      "application/vnd.jupyter.widget-state+json": {
        "2eaed3cff7a34431a692ccd0d991a55c": {
          "model_module": "@jupyter-widgets/controls",
          "model_module_version": "1.5.0",
          "model_name": "ProgressStyleModel",
          "state": {
            "_model_module": "@jupyter-widgets/controls",
            "_model_module_version": "1.5.0",
            "_model_name": "ProgressStyleModel",
            "_view_count": null,
            "_view_module": "@jupyter-widgets/base",
            "_view_module_version": "1.2.0",
            "_view_name": "StyleView",
            "bar_color": null,
            "description_width": ""
          }
        },
        "38f7e062767f4e40af14e4465dfa8fc1": {
          "model_module": "@jupyter-widgets/controls",
          "model_module_version": "1.5.0",
          "model_name": "DescriptionStyleModel",
          "state": {
            "_model_module": "@jupyter-widgets/controls",
            "_model_module_version": "1.5.0",
            "_model_name": "DescriptionStyleModel",
            "_view_count": null,
            "_view_module": "@jupyter-widgets/base",
            "_view_module_version": "1.2.0",
            "_view_name": "StyleView",
            "description_width": ""
          }
        },
        "4fb66bebfbca45ee99f2a47f31769b2d": {
          "model_module": "@jupyter-widgets/controls",
          "model_module_version": "1.5.0",
          "model_name": "HBoxModel",
          "state": {
            "_dom_classes": [],
            "_model_module": "@jupyter-widgets/controls",
            "_model_module_version": "1.5.0",
            "_model_name": "HBoxModel",
            "_view_count": null,
            "_view_module": "@jupyter-widgets/controls",
            "_view_module_version": "1.5.0",
            "_view_name": "HBoxView",
            "box_style": "",
            "children": [
              "IPY_MODEL_81bd14ab5f6f48fcabe7a0a3cb7339db",
              "IPY_MODEL_84352389df6742b6a6072152c30404a9",
              "IPY_MODEL_54061c85e6c34b0d9d8086f0edabaa06"
            ],
            "layout": "IPY_MODEL_8ed499d386bc4a0885a7a7469c451605"
          }
        },
        "54061c85e6c34b0d9d8086f0edabaa06": {
          "model_module": "@jupyter-widgets/controls",
          "model_module_version": "1.5.0",
          "model_name": "HTMLModel",
          "state": {
            "_dom_classes": [],
            "_model_module": "@jupyter-widgets/controls",
            "_model_module_version": "1.5.0",
            "_model_name": "HTMLModel",
            "_view_count": null,
            "_view_module": "@jupyter-widgets/controls",
            "_view_module_version": "1.5.0",
            "_view_name": "HTMLView",
            "description": "",
            "description_tooltip": null,
            "layout": "IPY_MODEL_54a3ad4afd35428a81ae42738565f829",
            "placeholder": "​",
            "style": "IPY_MODEL_906586626ce14718ba0758462da81ff3",
            "value": " 2/2 [00:05&lt;00:00,  2.36s/it]"
          }
        },
        "54a3ad4afd35428a81ae42738565f829": {
          "model_module": "@jupyter-widgets/base",
          "model_module_version": "1.2.0",
          "model_name": "LayoutModel",
          "state": {
            "_model_module": "@jupyter-widgets/base",
            "_model_module_version": "1.2.0",
            "_model_name": "LayoutModel",
            "_view_count": null,
            "_view_module": "@jupyter-widgets/base",
            "_view_module_version": "1.2.0",
            "_view_name": "LayoutView",
            "align_content": null,
            "align_items": null,
            "align_self": null,
            "border": null,
            "bottom": null,
            "display": null,
            "flex": null,
            "flex_flow": null,
            "grid_area": null,
            "grid_auto_columns": null,
            "grid_auto_flow": null,
            "grid_auto_rows": null,
            "grid_column": null,
            "grid_gap": null,
            "grid_row": null,
            "grid_template_areas": null,
            "grid_template_columns": null,
            "grid_template_rows": null,
            "height": null,
            "justify_content": null,
            "justify_items": null,
            "left": null,
            "margin": null,
            "max_height": null,
            "max_width": null,
            "min_height": null,
            "min_width": null,
            "object_fit": null,
            "object_position": null,
            "order": null,
            "overflow": null,
            "overflow_x": null,
            "overflow_y": null,
            "padding": null,
            "right": null,
            "top": null,
            "visibility": null,
            "width": null
          }
        },
        "7743a0abbb9b4066ae9eba5058330f69": {
          "model_module": "@jupyter-widgets/base",
          "model_module_version": "1.2.0",
          "model_name": "LayoutModel",
          "state": {
            "_model_module": "@jupyter-widgets/base",
            "_model_module_version": "1.2.0",
            "_model_name": "LayoutModel",
            "_view_count": null,
            "_view_module": "@jupyter-widgets/base",
            "_view_module_version": "1.2.0",
            "_view_name": "LayoutView",
            "align_content": null,
            "align_items": null,
            "align_self": null,
            "border": null,
            "bottom": null,
            "display": null,
            "flex": null,
            "flex_flow": null,
            "grid_area": null,
            "grid_auto_columns": null,
            "grid_auto_flow": null,
            "grid_auto_rows": null,
            "grid_column": null,
            "grid_gap": null,
            "grid_row": null,
            "grid_template_areas": null,
            "grid_template_columns": null,
            "grid_template_rows": null,
            "height": null,
            "justify_content": null,
            "justify_items": null,
            "left": null,
            "margin": null,
            "max_height": null,
            "max_width": null,
            "min_height": null,
            "min_width": null,
            "object_fit": null,
            "object_position": null,
            "order": null,
            "overflow": null,
            "overflow_x": null,
            "overflow_y": null,
            "padding": null,
            "right": null,
            "top": null,
            "visibility": null,
            "width": null
          }
        },
        "81bd14ab5f6f48fcabe7a0a3cb7339db": {
          "model_module": "@jupyter-widgets/controls",
          "model_module_version": "1.5.0",
          "model_name": "HTMLModel",
          "state": {
            "_dom_classes": [],
            "_model_module": "@jupyter-widgets/controls",
            "_model_module_version": "1.5.0",
            "_model_name": "HTMLModel",
            "_view_count": null,
            "_view_module": "@jupyter-widgets/controls",
            "_view_module_version": "1.5.0",
            "_view_name": "HTMLView",
            "description": "",
            "description_tooltip": null,
            "layout": "IPY_MODEL_7743a0abbb9b4066ae9eba5058330f69",
            "placeholder": "​",
            "style": "IPY_MODEL_38f7e062767f4e40af14e4465dfa8fc1",
            "value": "Loading checkpoint shards: 100%"
          }
        },
        "84352389df6742b6a6072152c30404a9": {
          "model_module": "@jupyter-widgets/controls",
          "model_module_version": "1.5.0",
          "model_name": "FloatProgressModel",
          "state": {
            "_dom_classes": [],
            "_model_module": "@jupyter-widgets/controls",
            "_model_module_version": "1.5.0",
            "_model_name": "FloatProgressModel",
            "_view_count": null,
            "_view_module": "@jupyter-widgets/controls",
            "_view_module_version": "1.5.0",
            "_view_name": "ProgressView",
            "bar_style": "success",
            "description": "",
            "description_tooltip": null,
            "layout": "IPY_MODEL_eb4fa631ff394ce4aaea031cffb65bcb",
            "max": 2,
            "min": 0,
            "orientation": "horizontal",
            "style": "IPY_MODEL_2eaed3cff7a34431a692ccd0d991a55c",
            "value": 2
          }
        },
        "8ed499d386bc4a0885a7a7469c451605": {
          "model_module": "@jupyter-widgets/base",
          "model_module_version": "1.2.0",
          "model_name": "LayoutModel",
          "state": {
            "_model_module": "@jupyter-widgets/base",
            "_model_module_version": "1.2.0",
            "_model_name": "LayoutModel",
            "_view_count": null,
            "_view_module": "@jupyter-widgets/base",
            "_view_module_version": "1.2.0",
            "_view_name": "LayoutView",
            "align_content": null,
            "align_items": null,
            "align_self": null,
            "border": null,
            "bottom": null,
            "display": null,
            "flex": null,
            "flex_flow": null,
            "grid_area": null,
            "grid_auto_columns": null,
            "grid_auto_flow": null,
            "grid_auto_rows": null,
            "grid_column": null,
            "grid_gap": null,
            "grid_row": null,
            "grid_template_areas": null,
            "grid_template_columns": null,
            "grid_template_rows": null,
            "height": null,
            "justify_content": null,
            "justify_items": null,
            "left": null,
            "margin": null,
            "max_height": null,
            "max_width": null,
            "min_height": null,
            "min_width": null,
            "object_fit": null,
            "object_position": null,
            "order": null,
            "overflow": null,
            "overflow_x": null,
            "overflow_y": null,
            "padding": null,
            "right": null,
            "top": null,
            "visibility": null,
            "width": null
          }
        },
        "906586626ce14718ba0758462da81ff3": {
          "model_module": "@jupyter-widgets/controls",
          "model_module_version": "1.5.0",
          "model_name": "DescriptionStyleModel",
          "state": {
            "_model_module": "@jupyter-widgets/controls",
            "_model_module_version": "1.5.0",
            "_model_name": "DescriptionStyleModel",
            "_view_count": null,
            "_view_module": "@jupyter-widgets/base",
            "_view_module_version": "1.2.0",
            "_view_name": "StyleView",
            "description_width": ""
          }
        },
        "eb4fa631ff394ce4aaea031cffb65bcb": {
          "model_module": "@jupyter-widgets/base",
          "model_module_version": "1.2.0",
          "model_name": "LayoutModel",
          "state": {
            "_model_module": "@jupyter-widgets/base",
            "_model_module_version": "1.2.0",
            "_model_name": "LayoutModel",
            "_view_count": null,
            "_view_module": "@jupyter-widgets/base",
            "_view_module_version": "1.2.0",
            "_view_name": "LayoutView",
            "align_content": null,
            "align_items": null,
            "align_self": null,
            "border": null,
            "bottom": null,
            "display": null,
            "flex": null,
            "flex_flow": null,
            "grid_area": null,
            "grid_auto_columns": null,
            "grid_auto_flow": null,
            "grid_auto_rows": null,
            "grid_column": null,
            "grid_gap": null,
            "grid_row": null,
            "grid_template_areas": null,
            "grid_template_columns": null,
            "grid_template_rows": null,
            "height": null,
            "justify_content": null,
            "justify_items": null,
            "left": null,
            "margin": null,
            "max_height": null,
            "max_width": null,
            "min_height": null,
            "min_width": null,
            "object_fit": null,
            "object_position": null,
            "order": null,
            "overflow": null,
            "overflow_x": null,
            "overflow_y": null,
            "padding": null,
            "right": null,
            "top": null,
            "visibility": null,
            "width": null
          }
        }
      }
    }
  },
  "nbformat": 4,
  "nbformat_minor": 0
}